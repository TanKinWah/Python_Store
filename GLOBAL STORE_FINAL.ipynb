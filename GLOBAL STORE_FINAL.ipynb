{
 "cells": [
  {
   "cell_type": "markdown",
   "metadata": {
    "slideshow": {
     "slide_type": "slide"
    }
   },
   "source": [
    "# _GLOBAL STORE_\n",
    "\n",
    "- ### Almir \n",
    "\n",
    "- ### Dani\n",
    "- ### Mariana \n",
    "- ### Tan"
   ]
  },
  {
   "cell_type": "code",
   "execution_count": null,
   "metadata": {
    "slideshow": {
     "slide_type": "skip"
    }
   },
   "outputs": [],
   "source": [
    "Instalação das bibliotecas\n",
    "pip install pandas\n",
    "pip install seaborn\n",
    "pip install plotly\n",
    "pip install jupyter-plotly-dash"
   ]
  },
  {
   "cell_type": "markdown",
   "metadata": {
    "slideshow": {
     "slide_type": "subslide"
    }
   },
   "source": [
    "# Bibliotecas utilizadas"
   ]
  },
  {
   "cell_type": "code",
   "execution_count": 1,
   "metadata": {
    "slideshow": {
     "slide_type": "fragment"
    }
   },
   "outputs": [],
   "source": [
    "import pandas as pd\n",
    "import numpy as np\n",
    "import matplotlib.pyplot as plt\n",
    "import seaborn as sns\n",
    "import plotly\n",
    "import plotly.offline as py\n",
    "import plotly.graph_objs as go\n",
    "\n",
    "from jupyter_plotly_dash import JupyterDash\n",
    "import dash\n",
    "import dash_html_components as html\n",
    "import dash_core_components as dcc\n",
    "from dash.dependencies import Input, Output"
   ]
  },
  {
   "cell_type": "code",
   "execution_count": 2,
   "metadata": {
    "slideshow": {
     "slide_type": "skip"
    }
   },
   "outputs": [],
   "source": [
    "from IPython.display import HTML\n",
    "import random\n",
    "\n",
    "def esconder(for_next=False):\n",
    "    this_cell = \"\"\"$('div.cell.code_cell.rendered.selected')\"\"\"\n",
    "    next_cell = this_cell + '.next()'\n",
    "\n",
    "    toggle_text = 'Abrir/Esconder'  # text shown on toggle link\n",
    "    target_cell = this_cell  # target cell to control with toggle\n",
    "    js_hide_current = ''  # bit of JS to permanently hide code in current cell (only when toggling next cell)\n",
    "\n",
    "    if for_next:\n",
    "        target_cell = next_cell\n",
    "        toggle_text += ' next cell'\n",
    "        js_hide_current = this_cell + '.find(\"div.input\").hide();'\n",
    "\n",
    "    js_f_name = 'code_toggle_{}'.format(str(random.randint(1,2**64)))\n",
    "\n",
    "    html = \"\"\"\n",
    "        <script>\n",
    "            function {f_name}() {{\n",
    "                {cell_selector}.find('div.input').toggle();\n",
    "            }}\n",
    "\n",
    "            {js_hide_current}\n",
    "        </script>\n",
    "\n",
    "        <form action=\"javascript:{f_name}()\"><input type=\"submit\" value=\"Mostrar / Esconder\"></form>\n",
    "        \n",
    "    \"\"\".format(\n",
    "        f_name=js_f_name,\n",
    "        cell_selector=target_cell,\n",
    "        js_hide_current=js_hide_current, \n",
    "        toggle_text=toggle_text\n",
    "    )\n",
    "\n",
    "    return HTML(html)"
   ]
  },
  {
   "cell_type": "markdown",
   "metadata": {
    "slideshow": {
     "slide_type": "subslide"
    }
   },
   "source": [
    "## Data Set"
   ]
  },
  {
   "cell_type": "code",
   "execution_count": 3,
   "metadata": {
    "slideshow": {
     "slide_type": "fragment"
    }
   },
   "outputs": [
    {
     "data": {
      "text/html": [
       "<div>\n",
       "<style scoped>\n",
       "    .dataframe tbody tr th:only-of-type {\n",
       "        vertical-align: middle;\n",
       "    }\n",
       "\n",
       "    .dataframe tbody tr th {\n",
       "        vertical-align: top;\n",
       "    }\n",
       "\n",
       "    .dataframe thead th {\n",
       "        text-align: right;\n",
       "    }\n",
       "</style>\n",
       "<table border=\"1\" class=\"dataframe\">\n",
       "  <thead>\n",
       "    <tr style=\"text-align: right;\">\n",
       "      <th></th>\n",
       "      <th>Row ID</th>\n",
       "      <th>Order ID</th>\n",
       "      <th>Order Date</th>\n",
       "      <th>Ship Date</th>\n",
       "      <th>Ship Mode</th>\n",
       "      <th>Customer ID</th>\n",
       "      <th>Customer Name</th>\n",
       "      <th>Segment</th>\n",
       "      <th>City</th>\n",
       "      <th>State</th>\n",
       "      <th>...</th>\n",
       "      <th>Product ID</th>\n",
       "      <th>Category</th>\n",
       "      <th>Sub-Category</th>\n",
       "      <th>Product Name</th>\n",
       "      <th>Sales</th>\n",
       "      <th>Quantity</th>\n",
       "      <th>Discount</th>\n",
       "      <th>Profit</th>\n",
       "      <th>Shipping Cost</th>\n",
       "      <th>Order Priority</th>\n",
       "    </tr>\n",
       "  </thead>\n",
       "  <tbody>\n",
       "    <tr>\n",
       "      <th>0</th>\n",
       "      <td>32298</td>\n",
       "      <td>CA-2012-124891</td>\n",
       "      <td>2012-07-31</td>\n",
       "      <td>2012-07-31</td>\n",
       "      <td>Same Day</td>\n",
       "      <td>RH-19495</td>\n",
       "      <td>Rick Hansen</td>\n",
       "      <td>Consumer</td>\n",
       "      <td>New York City</td>\n",
       "      <td>New York</td>\n",
       "      <td>...</td>\n",
       "      <td>TEC-AC-10003033</td>\n",
       "      <td>Technology</td>\n",
       "      <td>Accessories</td>\n",
       "      <td>Plantronics CS510 - Over-the-Head monaural Wir...</td>\n",
       "      <td>2309.650</td>\n",
       "      <td>7</td>\n",
       "      <td>0.0</td>\n",
       "      <td>762.1845</td>\n",
       "      <td>933.57</td>\n",
       "      <td>Critical</td>\n",
       "    </tr>\n",
       "    <tr>\n",
       "      <th>1</th>\n",
       "      <td>26341</td>\n",
       "      <td>IN-2013-77878</td>\n",
       "      <td>2013-02-05</td>\n",
       "      <td>2013-02-07</td>\n",
       "      <td>Second Class</td>\n",
       "      <td>JR-16210</td>\n",
       "      <td>Justin Ritter</td>\n",
       "      <td>Corporate</td>\n",
       "      <td>Wollongong</td>\n",
       "      <td>New South Wales</td>\n",
       "      <td>...</td>\n",
       "      <td>FUR-CH-10003950</td>\n",
       "      <td>Furniture</td>\n",
       "      <td>Chairs</td>\n",
       "      <td>Novimex Executive Leather Armchair, Black</td>\n",
       "      <td>3709.395</td>\n",
       "      <td>9</td>\n",
       "      <td>0.1</td>\n",
       "      <td>-288.7650</td>\n",
       "      <td>923.63</td>\n",
       "      <td>Critical</td>\n",
       "    </tr>\n",
       "    <tr>\n",
       "      <th>2</th>\n",
       "      <td>25330</td>\n",
       "      <td>IN-2013-71249</td>\n",
       "      <td>2013-10-17</td>\n",
       "      <td>2013-10-18</td>\n",
       "      <td>First Class</td>\n",
       "      <td>CR-12730</td>\n",
       "      <td>Craig Reiter</td>\n",
       "      <td>Consumer</td>\n",
       "      <td>Brisbane</td>\n",
       "      <td>Queensland</td>\n",
       "      <td>...</td>\n",
       "      <td>TEC-PH-10004664</td>\n",
       "      <td>Technology</td>\n",
       "      <td>Phones</td>\n",
       "      <td>Nokia Smart Phone, with Caller ID</td>\n",
       "      <td>5175.171</td>\n",
       "      <td>9</td>\n",
       "      <td>0.1</td>\n",
       "      <td>919.9710</td>\n",
       "      <td>915.49</td>\n",
       "      <td>Medium</td>\n",
       "    </tr>\n",
       "    <tr>\n",
       "      <th>3</th>\n",
       "      <td>13524</td>\n",
       "      <td>ES-2013-1579342</td>\n",
       "      <td>2013-01-28</td>\n",
       "      <td>2013-01-30</td>\n",
       "      <td>First Class</td>\n",
       "      <td>KM-16375</td>\n",
       "      <td>Katherine Murray</td>\n",
       "      <td>Home Office</td>\n",
       "      <td>Berlin</td>\n",
       "      <td>Berlin</td>\n",
       "      <td>...</td>\n",
       "      <td>TEC-PH-10004583</td>\n",
       "      <td>Technology</td>\n",
       "      <td>Phones</td>\n",
       "      <td>Motorola Smart Phone, Cordless</td>\n",
       "      <td>2892.510</td>\n",
       "      <td>5</td>\n",
       "      <td>0.1</td>\n",
       "      <td>-96.5400</td>\n",
       "      <td>910.16</td>\n",
       "      <td>Medium</td>\n",
       "    </tr>\n",
       "    <tr>\n",
       "      <th>4</th>\n",
       "      <td>47221</td>\n",
       "      <td>SG-2013-4320</td>\n",
       "      <td>2013-11-05</td>\n",
       "      <td>2013-11-06</td>\n",
       "      <td>Same Day</td>\n",
       "      <td>RH-9495</td>\n",
       "      <td>Rick Hansen</td>\n",
       "      <td>Consumer</td>\n",
       "      <td>Dakar</td>\n",
       "      <td>Dakar</td>\n",
       "      <td>...</td>\n",
       "      <td>TEC-SHA-10000501</td>\n",
       "      <td>Technology</td>\n",
       "      <td>Copiers</td>\n",
       "      <td>Sharp Wireless Fax, High-Speed</td>\n",
       "      <td>2832.960</td>\n",
       "      <td>8</td>\n",
       "      <td>0.0</td>\n",
       "      <td>311.5200</td>\n",
       "      <td>903.04</td>\n",
       "      <td>Critical</td>\n",
       "    </tr>\n",
       "  </tbody>\n",
       "</table>\n",
       "<p>5 rows × 24 columns</p>\n",
       "</div>"
      ],
      "text/plain": [
       "   Row ID         Order ID Order Date  Ship Date     Ship Mode Customer ID  \\\n",
       "0   32298   CA-2012-124891 2012-07-31 2012-07-31      Same Day    RH-19495   \n",
       "1   26341    IN-2013-77878 2013-02-05 2013-02-07  Second Class    JR-16210   \n",
       "2   25330    IN-2013-71249 2013-10-17 2013-10-18   First Class    CR-12730   \n",
       "3   13524  ES-2013-1579342 2013-01-28 2013-01-30   First Class    KM-16375   \n",
       "4   47221     SG-2013-4320 2013-11-05 2013-11-06      Same Day     RH-9495   \n",
       "\n",
       "      Customer Name      Segment           City            State  ...  \\\n",
       "0       Rick Hansen     Consumer  New York City         New York  ...   \n",
       "1     Justin Ritter    Corporate     Wollongong  New South Wales  ...   \n",
       "2      Craig Reiter     Consumer       Brisbane       Queensland  ...   \n",
       "3  Katherine Murray  Home Office         Berlin           Berlin  ...   \n",
       "4       Rick Hansen     Consumer          Dakar            Dakar  ...   \n",
       "\n",
       "         Product ID    Category Sub-Category  \\\n",
       "0   TEC-AC-10003033  Technology  Accessories   \n",
       "1   FUR-CH-10003950   Furniture       Chairs   \n",
       "2   TEC-PH-10004664  Technology       Phones   \n",
       "3   TEC-PH-10004583  Technology       Phones   \n",
       "4  TEC-SHA-10000501  Technology      Copiers   \n",
       "\n",
       "                                        Product Name     Sales Quantity  \\\n",
       "0  Plantronics CS510 - Over-the-Head monaural Wir...  2309.650        7   \n",
       "1          Novimex Executive Leather Armchair, Black  3709.395        9   \n",
       "2                  Nokia Smart Phone, with Caller ID  5175.171        9   \n",
       "3                     Motorola Smart Phone, Cordless  2892.510        5   \n",
       "4                     Sharp Wireless Fax, High-Speed  2832.960        8   \n",
       "\n",
       "  Discount    Profit  Shipping Cost  Order Priority  \n",
       "0      0.0  762.1845         933.57        Critical  \n",
       "1      0.1 -288.7650         923.63        Critical  \n",
       "2      0.1  919.9710         915.49          Medium  \n",
       "3      0.1  -96.5400         910.16          Medium  \n",
       "4      0.0  311.5200         903.04        Critical  \n",
       "\n",
       "[5 rows x 24 columns]"
      ]
     },
     "execution_count": 3,
     "metadata": {},
     "output_type": "execute_result"
    }
   ],
   "source": [
    "orders = pd.read_excel('Global Superstore.xls', sheet_name = 0 )\n",
    "#orders.dtypes\n",
    "orders.head(5)"
   ]
  },
  {
   "cell_type": "markdown",
   "metadata": {
    "slideshow": {
     "slide_type": "subslide"
    }
   },
   "source": [
    "# Sales and Profit by Year"
   ]
  },
  {
   "cell_type": "code",
   "execution_count": 4,
   "metadata": {
    "slideshow": {
     "slide_type": "fragment"
    }
   },
   "outputs": [
    {
     "data": {
      "text/html": [
       "<div>\n",
       "<style scoped>\n",
       "    .dataframe tbody tr th:only-of-type {\n",
       "        vertical-align: middle;\n",
       "    }\n",
       "\n",
       "    .dataframe tbody tr th {\n",
       "        vertical-align: top;\n",
       "    }\n",
       "\n",
       "    .dataframe thead th {\n",
       "        text-align: right;\n",
       "    }\n",
       "</style>\n",
       "<table border=\"1\" class=\"dataframe\">\n",
       "  <thead>\n",
       "    <tr style=\"text-align: right;\">\n",
       "      <th></th>\n",
       "      <th>Sales</th>\n",
       "      <th>Profit</th>\n",
       "    </tr>\n",
       "    <tr>\n",
       "      <th>Year</th>\n",
       "      <th></th>\n",
       "      <th></th>\n",
       "    </tr>\n",
       "  </thead>\n",
       "  <tbody>\n",
       "    <tr>\n",
       "      <th>2011</th>\n",
       "      <td>2.259451e+06</td>\n",
       "      <td>248940.81154</td>\n",
       "    </tr>\n",
       "    <tr>\n",
       "      <th>2012</th>\n",
       "      <td>2.677439e+06</td>\n",
       "      <td>307415.27910</td>\n",
       "    </tr>\n",
       "    <tr>\n",
       "      <th>2013</th>\n",
       "      <td>3.405746e+06</td>\n",
       "      <td>406935.23018</td>\n",
       "    </tr>\n",
       "    <tr>\n",
       "      <th>2014</th>\n",
       "      <td>4.299866e+06</td>\n",
       "      <td>504165.97046</td>\n",
       "    </tr>\n",
       "  </tbody>\n",
       "</table>\n",
       "</div>"
      ],
      "text/plain": [
       "             Sales        Profit\n",
       "Year                            \n",
       "2011  2.259451e+06  248940.81154\n",
       "2012  2.677439e+06  307415.27910\n",
       "2013  3.405746e+06  406935.23018\n",
       "2014  4.299866e+06  504165.97046"
      ]
     },
     "execution_count": 4,
     "metadata": {},
     "output_type": "execute_result"
    }
   ],
   "source": [
    "orders[\"Order_Year\"] = pd.to_datetime(orders[\"Order Date\"])\n",
    "orders[\"Year\"] = orders[\"Order_Year\"].dt.year\n",
    "year_sales_profit = orders.groupby(\"Year\").agg({\"Sales\":np.sum, \"Profit\": np.sum})\n",
    "year_sales_profit"
   ]
  },
  {
   "cell_type": "code",
   "execution_count": 5,
   "metadata": {
    "slideshow": {
     "slide_type": "subslide"
    }
   },
   "outputs": [
    {
     "data": {
      "text/html": [
       "\n",
       "        <script>\n",
       "            function code_toggle_2694079789448947915() {\n",
       "                $('div.cell.code_cell.rendered.selected').next().find('div.input').toggle();\n",
       "            }\n",
       "\n",
       "            $('div.cell.code_cell.rendered.selected').find(\"div.input\").hide();\n",
       "        </script>\n",
       "\n",
       "        <form action=\"javascript:code_toggle_2694079789448947915()\"><input type=\"submit\" value=\"Mostrar / Esconder\"></form>\n",
       "        \n",
       "    "
      ],
      "text/plain": [
       "<IPython.core.display.HTML object>"
      ]
     },
     "execution_count": 5,
     "metadata": {},
     "output_type": "execute_result"
    }
   ],
   "source": [
    "esconder(next)"
   ]
  },
  {
   "cell_type": "code",
   "execution_count": 44,
   "metadata": {},
   "outputs": [
    {
     "data": {
      "application/vnd.plotly.v1+json": {
       "config": {
        "plotlyServerURL": "https://plot.ly"
       },
       "data": [
        {
         "marker": {
          "color": "rgb(55, 83, 109)"
         },
         "name": "Sales by Year",
         "type": "bar",
         "x": [
          2011,
          2012,
          2013,
          2014
         ],
         "y": [
          2259450.8955399855,
          2677438.694399962,
          3405746.449379974,
          4299865.870559992
         ]
        },
        {
         "marker": {
          "color": "rgb(26, 118, 255)"
         },
         "name": "Profit by Year",
         "type": "bar",
         "x": [
          2011,
          2012,
          2013,
          2014
         ],
         "y": [
          248940.8115400002,
          307415.2790999977,
          406935.23018000065,
          504165.97045999794
         ]
        }
       ],
       "layout": {
        "bargap": 0.15,
        "bargroupgap": 0.1,
        "barmode": "group",
        "legend": {
         "bgcolor": "rgba(255, 255, 255, 0)",
         "bordercolor": "rgba(255, 255, 255, 0)",
         "x": 0,
         "y": 1
        },
        "template": {
         "data": {
          "bar": [
           {
            "error_x": {
             "color": "#2a3f5f"
            },
            "error_y": {
             "color": "#2a3f5f"
            },
            "marker": {
             "line": {
              "color": "#E5ECF6",
              "width": 0.5
             }
            },
            "type": "bar"
           }
          ],
          "barpolar": [
           {
            "marker": {
             "line": {
              "color": "#E5ECF6",
              "width": 0.5
             }
            },
            "type": "barpolar"
           }
          ],
          "carpet": [
           {
            "aaxis": {
             "endlinecolor": "#2a3f5f",
             "gridcolor": "white",
             "linecolor": "white",
             "minorgridcolor": "white",
             "startlinecolor": "#2a3f5f"
            },
            "baxis": {
             "endlinecolor": "#2a3f5f",
             "gridcolor": "white",
             "linecolor": "white",
             "minorgridcolor": "white",
             "startlinecolor": "#2a3f5f"
            },
            "type": "carpet"
           }
          ],
          "choropleth": [
           {
            "colorbar": {
             "outlinewidth": 0,
             "ticks": ""
            },
            "type": "choropleth"
           }
          ],
          "contour": [
           {
            "colorbar": {
             "outlinewidth": 0,
             "ticks": ""
            },
            "colorscale": [
             [
              0,
              "#0d0887"
             ],
             [
              0.1111111111111111,
              "#46039f"
             ],
             [
              0.2222222222222222,
              "#7201a8"
             ],
             [
              0.3333333333333333,
              "#9c179e"
             ],
             [
              0.4444444444444444,
              "#bd3786"
             ],
             [
              0.5555555555555556,
              "#d8576b"
             ],
             [
              0.6666666666666666,
              "#ed7953"
             ],
             [
              0.7777777777777778,
              "#fb9f3a"
             ],
             [
              0.8888888888888888,
              "#fdca26"
             ],
             [
              1,
              "#f0f921"
             ]
            ],
            "type": "contour"
           }
          ],
          "contourcarpet": [
           {
            "colorbar": {
             "outlinewidth": 0,
             "ticks": ""
            },
            "type": "contourcarpet"
           }
          ],
          "heatmap": [
           {
            "colorbar": {
             "outlinewidth": 0,
             "ticks": ""
            },
            "colorscale": [
             [
              0,
              "#0d0887"
             ],
             [
              0.1111111111111111,
              "#46039f"
             ],
             [
              0.2222222222222222,
              "#7201a8"
             ],
             [
              0.3333333333333333,
              "#9c179e"
             ],
             [
              0.4444444444444444,
              "#bd3786"
             ],
             [
              0.5555555555555556,
              "#d8576b"
             ],
             [
              0.6666666666666666,
              "#ed7953"
             ],
             [
              0.7777777777777778,
              "#fb9f3a"
             ],
             [
              0.8888888888888888,
              "#fdca26"
             ],
             [
              1,
              "#f0f921"
             ]
            ],
            "type": "heatmap"
           }
          ],
          "heatmapgl": [
           {
            "colorbar": {
             "outlinewidth": 0,
             "ticks": ""
            },
            "colorscale": [
             [
              0,
              "#0d0887"
             ],
             [
              0.1111111111111111,
              "#46039f"
             ],
             [
              0.2222222222222222,
              "#7201a8"
             ],
             [
              0.3333333333333333,
              "#9c179e"
             ],
             [
              0.4444444444444444,
              "#bd3786"
             ],
             [
              0.5555555555555556,
              "#d8576b"
             ],
             [
              0.6666666666666666,
              "#ed7953"
             ],
             [
              0.7777777777777778,
              "#fb9f3a"
             ],
             [
              0.8888888888888888,
              "#fdca26"
             ],
             [
              1,
              "#f0f921"
             ]
            ],
            "type": "heatmapgl"
           }
          ],
          "histogram": [
           {
            "marker": {
             "colorbar": {
              "outlinewidth": 0,
              "ticks": ""
             }
            },
            "type": "histogram"
           }
          ],
          "histogram2d": [
           {
            "colorbar": {
             "outlinewidth": 0,
             "ticks": ""
            },
            "colorscale": [
             [
              0,
              "#0d0887"
             ],
             [
              0.1111111111111111,
              "#46039f"
             ],
             [
              0.2222222222222222,
              "#7201a8"
             ],
             [
              0.3333333333333333,
              "#9c179e"
             ],
             [
              0.4444444444444444,
              "#bd3786"
             ],
             [
              0.5555555555555556,
              "#d8576b"
             ],
             [
              0.6666666666666666,
              "#ed7953"
             ],
             [
              0.7777777777777778,
              "#fb9f3a"
             ],
             [
              0.8888888888888888,
              "#fdca26"
             ],
             [
              1,
              "#f0f921"
             ]
            ],
            "type": "histogram2d"
           }
          ],
          "histogram2dcontour": [
           {
            "colorbar": {
             "outlinewidth": 0,
             "ticks": ""
            },
            "colorscale": [
             [
              0,
              "#0d0887"
             ],
             [
              0.1111111111111111,
              "#46039f"
             ],
             [
              0.2222222222222222,
              "#7201a8"
             ],
             [
              0.3333333333333333,
              "#9c179e"
             ],
             [
              0.4444444444444444,
              "#bd3786"
             ],
             [
              0.5555555555555556,
              "#d8576b"
             ],
             [
              0.6666666666666666,
              "#ed7953"
             ],
             [
              0.7777777777777778,
              "#fb9f3a"
             ],
             [
              0.8888888888888888,
              "#fdca26"
             ],
             [
              1,
              "#f0f921"
             ]
            ],
            "type": "histogram2dcontour"
           }
          ],
          "mesh3d": [
           {
            "colorbar": {
             "outlinewidth": 0,
             "ticks": ""
            },
            "type": "mesh3d"
           }
          ],
          "parcoords": [
           {
            "line": {
             "colorbar": {
              "outlinewidth": 0,
              "ticks": ""
             }
            },
            "type": "parcoords"
           }
          ],
          "pie": [
           {
            "automargin": true,
            "type": "pie"
           }
          ],
          "scatter": [
           {
            "marker": {
             "colorbar": {
              "outlinewidth": 0,
              "ticks": ""
             }
            },
            "type": "scatter"
           }
          ],
          "scatter3d": [
           {
            "line": {
             "colorbar": {
              "outlinewidth": 0,
              "ticks": ""
             }
            },
            "marker": {
             "colorbar": {
              "outlinewidth": 0,
              "ticks": ""
             }
            },
            "type": "scatter3d"
           }
          ],
          "scattercarpet": [
           {
            "marker": {
             "colorbar": {
              "outlinewidth": 0,
              "ticks": ""
             }
            },
            "type": "scattercarpet"
           }
          ],
          "scattergeo": [
           {
            "marker": {
             "colorbar": {
              "outlinewidth": 0,
              "ticks": ""
             }
            },
            "type": "scattergeo"
           }
          ],
          "scattergl": [
           {
            "marker": {
             "colorbar": {
              "outlinewidth": 0,
              "ticks": ""
             }
            },
            "type": "scattergl"
           }
          ],
          "scattermapbox": [
           {
            "marker": {
             "colorbar": {
              "outlinewidth": 0,
              "ticks": ""
             }
            },
            "type": "scattermapbox"
           }
          ],
          "scatterpolar": [
           {
            "marker": {
             "colorbar": {
              "outlinewidth": 0,
              "ticks": ""
             }
            },
            "type": "scatterpolar"
           }
          ],
          "scatterpolargl": [
           {
            "marker": {
             "colorbar": {
              "outlinewidth": 0,
              "ticks": ""
             }
            },
            "type": "scatterpolargl"
           }
          ],
          "scatterternary": [
           {
            "marker": {
             "colorbar": {
              "outlinewidth": 0,
              "ticks": ""
             }
            },
            "type": "scatterternary"
           }
          ],
          "surface": [
           {
            "colorbar": {
             "outlinewidth": 0,
             "ticks": ""
            },
            "colorscale": [
             [
              0,
              "#0d0887"
             ],
             [
              0.1111111111111111,
              "#46039f"
             ],
             [
              0.2222222222222222,
              "#7201a8"
             ],
             [
              0.3333333333333333,
              "#9c179e"
             ],
             [
              0.4444444444444444,
              "#bd3786"
             ],
             [
              0.5555555555555556,
              "#d8576b"
             ],
             [
              0.6666666666666666,
              "#ed7953"
             ],
             [
              0.7777777777777778,
              "#fb9f3a"
             ],
             [
              0.8888888888888888,
              "#fdca26"
             ],
             [
              1,
              "#f0f921"
             ]
            ],
            "type": "surface"
           }
          ],
          "table": [
           {
            "cells": {
             "fill": {
              "color": "#EBF0F8"
             },
             "line": {
              "color": "white"
             }
            },
            "header": {
             "fill": {
              "color": "#C8D4E3"
             },
             "line": {
              "color": "white"
             }
            },
            "type": "table"
           }
          ]
         },
         "layout": {
          "annotationdefaults": {
           "arrowcolor": "#2a3f5f",
           "arrowhead": 0,
           "arrowwidth": 1
          },
          "coloraxis": {
           "colorbar": {
            "outlinewidth": 0,
            "ticks": ""
           }
          },
          "colorscale": {
           "diverging": [
            [
             0,
             "#8e0152"
            ],
            [
             0.1,
             "#c51b7d"
            ],
            [
             0.2,
             "#de77ae"
            ],
            [
             0.3,
             "#f1b6da"
            ],
            [
             0.4,
             "#fde0ef"
            ],
            [
             0.5,
             "#f7f7f7"
            ],
            [
             0.6,
             "#e6f5d0"
            ],
            [
             0.7,
             "#b8e186"
            ],
            [
             0.8,
             "#7fbc41"
            ],
            [
             0.9,
             "#4d9221"
            ],
            [
             1,
             "#276419"
            ]
           ],
           "sequential": [
            [
             0,
             "#0d0887"
            ],
            [
             0.1111111111111111,
             "#46039f"
            ],
            [
             0.2222222222222222,
             "#7201a8"
            ],
            [
             0.3333333333333333,
             "#9c179e"
            ],
            [
             0.4444444444444444,
             "#bd3786"
            ],
            [
             0.5555555555555556,
             "#d8576b"
            ],
            [
             0.6666666666666666,
             "#ed7953"
            ],
            [
             0.7777777777777778,
             "#fb9f3a"
            ],
            [
             0.8888888888888888,
             "#fdca26"
            ],
            [
             1,
             "#f0f921"
            ]
           ],
           "sequentialminus": [
            [
             0,
             "#0d0887"
            ],
            [
             0.1111111111111111,
             "#46039f"
            ],
            [
             0.2222222222222222,
             "#7201a8"
            ],
            [
             0.3333333333333333,
             "#9c179e"
            ],
            [
             0.4444444444444444,
             "#bd3786"
            ],
            [
             0.5555555555555556,
             "#d8576b"
            ],
            [
             0.6666666666666666,
             "#ed7953"
            ],
            [
             0.7777777777777778,
             "#fb9f3a"
            ],
            [
             0.8888888888888888,
             "#fdca26"
            ],
            [
             1,
             "#f0f921"
            ]
           ]
          },
          "colorway": [
           "#636efa",
           "#EF553B",
           "#00cc96",
           "#ab63fa",
           "#FFA15A",
           "#19d3f3",
           "#FF6692",
           "#B6E880",
           "#FF97FF",
           "#FECB52"
          ],
          "font": {
           "color": "#2a3f5f"
          },
          "geo": {
           "bgcolor": "white",
           "lakecolor": "white",
           "landcolor": "#E5ECF6",
           "showlakes": true,
           "showland": true,
           "subunitcolor": "white"
          },
          "hoverlabel": {
           "align": "left"
          },
          "hovermode": "closest",
          "mapbox": {
           "style": "light"
          },
          "paper_bgcolor": "white",
          "plot_bgcolor": "#E5ECF6",
          "polar": {
           "angularaxis": {
            "gridcolor": "white",
            "linecolor": "white",
            "ticks": ""
           },
           "bgcolor": "#E5ECF6",
           "radialaxis": {
            "gridcolor": "white",
            "linecolor": "white",
            "ticks": ""
           }
          },
          "scene": {
           "xaxis": {
            "backgroundcolor": "#E5ECF6",
            "gridcolor": "white",
            "gridwidth": 2,
            "linecolor": "white",
            "showbackground": true,
            "ticks": "",
            "zerolinecolor": "white"
           },
           "yaxis": {
            "backgroundcolor": "#E5ECF6",
            "gridcolor": "white",
            "gridwidth": 2,
            "linecolor": "white",
            "showbackground": true,
            "ticks": "",
            "zerolinecolor": "white"
           },
           "zaxis": {
            "backgroundcolor": "#E5ECF6",
            "gridcolor": "white",
            "gridwidth": 2,
            "linecolor": "white",
            "showbackground": true,
            "ticks": "",
            "zerolinecolor": "white"
           }
          },
          "shapedefaults": {
           "line": {
            "color": "#2a3f5f"
           }
          },
          "ternary": {
           "aaxis": {
            "gridcolor": "white",
            "linecolor": "white",
            "ticks": ""
           },
           "baxis": {
            "gridcolor": "white",
            "linecolor": "white",
            "ticks": ""
           },
           "bgcolor": "#E5ECF6",
           "caxis": {
            "gridcolor": "white",
            "linecolor": "white",
            "ticks": ""
           }
          },
          "title": {
           "x": 0.05
          },
          "xaxis": {
           "automargin": true,
           "gridcolor": "white",
           "linecolor": "white",
           "ticks": "",
           "title": {
            "standoff": 15
           },
           "zerolinecolor": "white",
           "zerolinewidth": 2
          },
          "yaxis": {
           "automargin": true,
           "gridcolor": "white",
           "linecolor": "white",
           "ticks": "",
           "title": {
            "standoff": 15
           },
           "zerolinecolor": "white",
           "zerolinewidth": 2
          }
         }
        },
        "title": {
         "text": "Sales x Profit by Year"
        },
        "xaxis": {
         "tickfont": {
          "size": 14
         }
        },
        "yaxis": {
         "tickfont": {
          "size": 14
         },
         "title": {
          "font": {
           "size": 16
          },
          "text": "Total Sales and Profits"
         }
        }
       }
      },
      "text/html": [
       "<div>\n",
       "        \n",
       "        \n",
       "            <div id=\"4235a3c2-5adb-4a3e-bdc1-c664cf67b62f\" class=\"plotly-graph-div\" style=\"height:525px; width:100%;\"></div>\n",
       "            <script type=\"text/javascript\">\n",
       "                require([\"plotly\"], function(Plotly) {\n",
       "                    window.PLOTLYENV=window.PLOTLYENV || {};\n",
       "                    \n",
       "                if (document.getElementById(\"4235a3c2-5adb-4a3e-bdc1-c664cf67b62f\")) {\n",
       "                    Plotly.newPlot(\n",
       "                        '4235a3c2-5adb-4a3e-bdc1-c664cf67b62f',\n",
       "                        [{\"marker\": {\"color\": \"rgb(55, 83, 109)\"}, \"name\": \"Sales by Year\", \"type\": \"bar\", \"x\": [2011, 2012, 2013, 2014], \"y\": [2259450.8955399855, 2677438.694399962, 3405746.449379974, 4299865.870559992]}, {\"marker\": {\"color\": \"rgb(26, 118, 255)\"}, \"name\": \"Profit by Year\", \"type\": \"bar\", \"x\": [2011, 2012, 2013, 2014], \"y\": [248940.8115400002, 307415.2790999977, 406935.23018000065, 504165.97045999794]}],\n",
       "                        {\"bargap\": 0.15, \"bargroupgap\": 0.1, \"barmode\": \"group\", \"legend\": {\"bgcolor\": \"rgba(255, 255, 255, 0)\", \"bordercolor\": \"rgba(255, 255, 255, 0)\", \"x\": 0, \"y\": 1.0}, \"template\": {\"data\": {\"bar\": [{\"error_x\": {\"color\": \"#2a3f5f\"}, \"error_y\": {\"color\": \"#2a3f5f\"}, \"marker\": {\"line\": {\"color\": \"#E5ECF6\", \"width\": 0.5}}, \"type\": \"bar\"}], \"barpolar\": [{\"marker\": {\"line\": {\"color\": \"#E5ECF6\", \"width\": 0.5}}, \"type\": \"barpolar\"}], \"carpet\": [{\"aaxis\": {\"endlinecolor\": \"#2a3f5f\", \"gridcolor\": \"white\", \"linecolor\": \"white\", \"minorgridcolor\": \"white\", \"startlinecolor\": \"#2a3f5f\"}, \"baxis\": {\"endlinecolor\": \"#2a3f5f\", \"gridcolor\": \"white\", \"linecolor\": \"white\", \"minorgridcolor\": \"white\", \"startlinecolor\": \"#2a3f5f\"}, \"type\": \"carpet\"}], \"choropleth\": [{\"colorbar\": {\"outlinewidth\": 0, \"ticks\": \"\"}, \"type\": \"choropleth\"}], \"contour\": [{\"colorbar\": {\"outlinewidth\": 0, \"ticks\": \"\"}, \"colorscale\": [[0.0, \"#0d0887\"], [0.1111111111111111, \"#46039f\"], [0.2222222222222222, \"#7201a8\"], [0.3333333333333333, \"#9c179e\"], [0.4444444444444444, \"#bd3786\"], [0.5555555555555556, \"#d8576b\"], [0.6666666666666666, \"#ed7953\"], [0.7777777777777778, \"#fb9f3a\"], [0.8888888888888888, \"#fdca26\"], [1.0, \"#f0f921\"]], \"type\": \"contour\"}], \"contourcarpet\": [{\"colorbar\": {\"outlinewidth\": 0, \"ticks\": \"\"}, \"type\": \"contourcarpet\"}], \"heatmap\": [{\"colorbar\": {\"outlinewidth\": 0, \"ticks\": \"\"}, \"colorscale\": [[0.0, \"#0d0887\"], [0.1111111111111111, \"#46039f\"], [0.2222222222222222, \"#7201a8\"], [0.3333333333333333, \"#9c179e\"], [0.4444444444444444, \"#bd3786\"], [0.5555555555555556, \"#d8576b\"], [0.6666666666666666, \"#ed7953\"], [0.7777777777777778, \"#fb9f3a\"], [0.8888888888888888, \"#fdca26\"], [1.0, \"#f0f921\"]], \"type\": \"heatmap\"}], \"heatmapgl\": [{\"colorbar\": {\"outlinewidth\": 0, \"ticks\": \"\"}, \"colorscale\": [[0.0, \"#0d0887\"], [0.1111111111111111, \"#46039f\"], [0.2222222222222222, \"#7201a8\"], [0.3333333333333333, \"#9c179e\"], [0.4444444444444444, \"#bd3786\"], [0.5555555555555556, \"#d8576b\"], [0.6666666666666666, \"#ed7953\"], [0.7777777777777778, \"#fb9f3a\"], [0.8888888888888888, \"#fdca26\"], [1.0, \"#f0f921\"]], \"type\": \"heatmapgl\"}], \"histogram\": [{\"marker\": {\"colorbar\": {\"outlinewidth\": 0, \"ticks\": \"\"}}, \"type\": \"histogram\"}], \"histogram2d\": [{\"colorbar\": {\"outlinewidth\": 0, \"ticks\": \"\"}, \"colorscale\": [[0.0, \"#0d0887\"], [0.1111111111111111, \"#46039f\"], [0.2222222222222222, \"#7201a8\"], [0.3333333333333333, \"#9c179e\"], [0.4444444444444444, \"#bd3786\"], [0.5555555555555556, \"#d8576b\"], [0.6666666666666666, \"#ed7953\"], [0.7777777777777778, \"#fb9f3a\"], [0.8888888888888888, \"#fdca26\"], [1.0, \"#f0f921\"]], \"type\": \"histogram2d\"}], \"histogram2dcontour\": [{\"colorbar\": {\"outlinewidth\": 0, \"ticks\": \"\"}, \"colorscale\": [[0.0, \"#0d0887\"], [0.1111111111111111, \"#46039f\"], [0.2222222222222222, \"#7201a8\"], [0.3333333333333333, \"#9c179e\"], [0.4444444444444444, \"#bd3786\"], [0.5555555555555556, \"#d8576b\"], [0.6666666666666666, \"#ed7953\"], [0.7777777777777778, \"#fb9f3a\"], [0.8888888888888888, \"#fdca26\"], [1.0, \"#f0f921\"]], \"type\": \"histogram2dcontour\"}], \"mesh3d\": [{\"colorbar\": {\"outlinewidth\": 0, \"ticks\": \"\"}, \"type\": \"mesh3d\"}], \"parcoords\": [{\"line\": {\"colorbar\": {\"outlinewidth\": 0, \"ticks\": \"\"}}, \"type\": \"parcoords\"}], \"pie\": [{\"automargin\": true, \"type\": \"pie\"}], \"scatter\": [{\"marker\": {\"colorbar\": {\"outlinewidth\": 0, \"ticks\": \"\"}}, \"type\": \"scatter\"}], \"scatter3d\": [{\"line\": {\"colorbar\": {\"outlinewidth\": 0, \"ticks\": \"\"}}, \"marker\": {\"colorbar\": {\"outlinewidth\": 0, \"ticks\": \"\"}}, \"type\": \"scatter3d\"}], \"scattercarpet\": [{\"marker\": {\"colorbar\": {\"outlinewidth\": 0, \"ticks\": \"\"}}, \"type\": \"scattercarpet\"}], \"scattergeo\": [{\"marker\": {\"colorbar\": {\"outlinewidth\": 0, \"ticks\": \"\"}}, \"type\": \"scattergeo\"}], \"scattergl\": [{\"marker\": {\"colorbar\": {\"outlinewidth\": 0, \"ticks\": \"\"}}, \"type\": \"scattergl\"}], \"scattermapbox\": [{\"marker\": {\"colorbar\": {\"outlinewidth\": 0, \"ticks\": \"\"}}, \"type\": \"scattermapbox\"}], \"scatterpolar\": [{\"marker\": {\"colorbar\": {\"outlinewidth\": 0, \"ticks\": \"\"}}, \"type\": \"scatterpolar\"}], \"scatterpolargl\": [{\"marker\": {\"colorbar\": {\"outlinewidth\": 0, \"ticks\": \"\"}}, \"type\": \"scatterpolargl\"}], \"scatterternary\": [{\"marker\": {\"colorbar\": {\"outlinewidth\": 0, \"ticks\": \"\"}}, \"type\": \"scatterternary\"}], \"surface\": [{\"colorbar\": {\"outlinewidth\": 0, \"ticks\": \"\"}, \"colorscale\": [[0.0, \"#0d0887\"], [0.1111111111111111, \"#46039f\"], [0.2222222222222222, \"#7201a8\"], [0.3333333333333333, \"#9c179e\"], [0.4444444444444444, \"#bd3786\"], [0.5555555555555556, \"#d8576b\"], [0.6666666666666666, \"#ed7953\"], [0.7777777777777778, \"#fb9f3a\"], [0.8888888888888888, \"#fdca26\"], [1.0, \"#f0f921\"]], \"type\": \"surface\"}], \"table\": [{\"cells\": {\"fill\": {\"color\": \"#EBF0F8\"}, \"line\": {\"color\": \"white\"}}, \"header\": {\"fill\": {\"color\": \"#C8D4E3\"}, \"line\": {\"color\": \"white\"}}, \"type\": \"table\"}]}, \"layout\": {\"annotationdefaults\": {\"arrowcolor\": \"#2a3f5f\", \"arrowhead\": 0, \"arrowwidth\": 1}, \"coloraxis\": {\"colorbar\": {\"outlinewidth\": 0, \"ticks\": \"\"}}, \"colorscale\": {\"diverging\": [[0, \"#8e0152\"], [0.1, \"#c51b7d\"], [0.2, \"#de77ae\"], [0.3, \"#f1b6da\"], [0.4, \"#fde0ef\"], [0.5, \"#f7f7f7\"], [0.6, \"#e6f5d0\"], [0.7, \"#b8e186\"], [0.8, \"#7fbc41\"], [0.9, \"#4d9221\"], [1, \"#276419\"]], \"sequential\": [[0.0, \"#0d0887\"], [0.1111111111111111, \"#46039f\"], [0.2222222222222222, \"#7201a8\"], [0.3333333333333333, \"#9c179e\"], [0.4444444444444444, \"#bd3786\"], [0.5555555555555556, \"#d8576b\"], [0.6666666666666666, \"#ed7953\"], [0.7777777777777778, \"#fb9f3a\"], [0.8888888888888888, \"#fdca26\"], [1.0, \"#f0f921\"]], \"sequentialminus\": [[0.0, \"#0d0887\"], [0.1111111111111111, \"#46039f\"], [0.2222222222222222, \"#7201a8\"], [0.3333333333333333, \"#9c179e\"], [0.4444444444444444, \"#bd3786\"], [0.5555555555555556, \"#d8576b\"], [0.6666666666666666, \"#ed7953\"], [0.7777777777777778, \"#fb9f3a\"], [0.8888888888888888, \"#fdca26\"], [1.0, \"#f0f921\"]]}, \"colorway\": [\"#636efa\", \"#EF553B\", \"#00cc96\", \"#ab63fa\", \"#FFA15A\", \"#19d3f3\", \"#FF6692\", \"#B6E880\", \"#FF97FF\", \"#FECB52\"], \"font\": {\"color\": \"#2a3f5f\"}, \"geo\": {\"bgcolor\": \"white\", \"lakecolor\": \"white\", \"landcolor\": \"#E5ECF6\", \"showlakes\": true, \"showland\": true, \"subunitcolor\": \"white\"}, \"hoverlabel\": {\"align\": \"left\"}, \"hovermode\": \"closest\", \"mapbox\": {\"style\": \"light\"}, \"paper_bgcolor\": \"white\", \"plot_bgcolor\": \"#E5ECF6\", \"polar\": {\"angularaxis\": {\"gridcolor\": \"white\", \"linecolor\": \"white\", \"ticks\": \"\"}, \"bgcolor\": \"#E5ECF6\", \"radialaxis\": {\"gridcolor\": \"white\", \"linecolor\": \"white\", \"ticks\": \"\"}}, \"scene\": {\"xaxis\": {\"backgroundcolor\": \"#E5ECF6\", \"gridcolor\": \"white\", \"gridwidth\": 2, \"linecolor\": \"white\", \"showbackground\": true, \"ticks\": \"\", \"zerolinecolor\": \"white\"}, \"yaxis\": {\"backgroundcolor\": \"#E5ECF6\", \"gridcolor\": \"white\", \"gridwidth\": 2, \"linecolor\": \"white\", \"showbackground\": true, \"ticks\": \"\", \"zerolinecolor\": \"white\"}, \"zaxis\": {\"backgroundcolor\": \"#E5ECF6\", \"gridcolor\": \"white\", \"gridwidth\": 2, \"linecolor\": \"white\", \"showbackground\": true, \"ticks\": \"\", \"zerolinecolor\": \"white\"}}, \"shapedefaults\": {\"line\": {\"color\": \"#2a3f5f\"}}, \"ternary\": {\"aaxis\": {\"gridcolor\": \"white\", \"linecolor\": \"white\", \"ticks\": \"\"}, \"baxis\": {\"gridcolor\": \"white\", \"linecolor\": \"white\", \"ticks\": \"\"}, \"bgcolor\": \"#E5ECF6\", \"caxis\": {\"gridcolor\": \"white\", \"linecolor\": \"white\", \"ticks\": \"\"}}, \"title\": {\"x\": 0.05}, \"xaxis\": {\"automargin\": true, \"gridcolor\": \"white\", \"linecolor\": \"white\", \"ticks\": \"\", \"title\": {\"standoff\": 15}, \"zerolinecolor\": \"white\", \"zerolinewidth\": 2}, \"yaxis\": {\"automargin\": true, \"gridcolor\": \"white\", \"linecolor\": \"white\", \"ticks\": \"\", \"title\": {\"standoff\": 15}, \"zerolinecolor\": \"white\", \"zerolinewidth\": 2}}}, \"title\": {\"text\": \"Sales x Profit by Year\"}, \"xaxis\": {\"tickfont\": {\"size\": 14}}, \"yaxis\": {\"tickfont\": {\"size\": 14}, \"title\": {\"font\": {\"size\": 16}, \"text\": \"Total Sales and Profits\"}}},\n",
       "                        {\"responsive\": true}\n",
       "                    ).then(function(){\n",
       "                            \n",
       "var gd = document.getElementById('4235a3c2-5adb-4a3e-bdc1-c664cf67b62f');\n",
       "var x = new MutationObserver(function (mutations, observer) {{\n",
       "        var display = window.getComputedStyle(gd).display;\n",
       "        if (!display || display === 'none') {{\n",
       "            console.log([gd, 'removed!']);\n",
       "            Plotly.purge(gd);\n",
       "            observer.disconnect();\n",
       "        }}\n",
       "}});\n",
       "\n",
       "// Listen for the removal of the full notebook cells\n",
       "var notebookContainer = gd.closest('#notebook-container');\n",
       "if (notebookContainer) {{\n",
       "    x.observe(notebookContainer, {childList: true});\n",
       "}}\n",
       "\n",
       "// Listen for the clearing of the current output cell\n",
       "var outputEl = gd.closest('.output');\n",
       "if (outputEl) {{\n",
       "    x.observe(outputEl, {childList: true});\n",
       "}}\n",
       "\n",
       "                        })\n",
       "                };\n",
       "                });\n",
       "            </script>\n",
       "        </div>"
      ]
     },
     "metadata": {},
     "output_type": "display_data"
    }
   ],
   "source": [
    "years = year_sales_profit.index\n",
    "\n",
    "fig = go.Figure()\n",
    "fig.add_trace(go.Bar(x=years,\n",
    "                y=year_sales_profit['Sales'],\n",
    "                name='Sales by Year',\n",
    "                marker_color='rgb(55, 83, 109)'\n",
    "                ))\n",
    "fig.add_trace(go.Bar(x=years,\n",
    "                y=year_sales_profit['Profit'],\n",
    "                name='Profit by Year',\n",
    "                marker_color='rgb(26, 118, 255)'\n",
    "                ))\n",
    "\n",
    "fig.update_layout(\n",
    "    title='Sales x Profit by Year',\n",
    "    xaxis_tickfont_size=14,\n",
    "    yaxis=dict(\n",
    "        title='Total Sales and Profits',\n",
    "        titlefont_size=16,\n",
    "        tickfont_size=14,\n",
    "    ),\n",
    "    legend=dict(\n",
    "        x=0,\n",
    "        y=1.0,\n",
    "        bgcolor='rgba(255, 255, 255, 0)',\n",
    "        bordercolor='rgba(255, 255, 255, 0)'\n",
    "    ),\n",
    "    barmode='group',\n",
    "    bargap=0.15, \n",
    "    bargroupgap=0.1\n",
    ")\n",
    "fig.show()"
   ]
  },
  {
   "cell_type": "markdown",
   "metadata": {
    "slideshow": {
     "slide_type": "subslide"
    }
   },
   "source": [
    "## Sankey diagram - Flow from Market to Ship Mode"
   ]
  },
  {
   "cell_type": "code",
   "execution_count": 7,
   "metadata": {},
   "outputs": [
    {
     "data": {
      "text/html": [
       "<div>\n",
       "<style scoped>\n",
       "    .dataframe tbody tr th:only-of-type {\n",
       "        vertical-align: middle;\n",
       "    }\n",
       "\n",
       "    .dataframe tbody tr th {\n",
       "        vertical-align: top;\n",
       "    }\n",
       "\n",
       "    .dataframe thead th {\n",
       "        text-align: right;\n",
       "    }\n",
       "</style>\n",
       "<table border=\"1\" class=\"dataframe\">\n",
       "  <thead>\n",
       "    <tr style=\"text-align: right;\">\n",
       "      <th></th>\n",
       "      <th>Ship Mode</th>\n",
       "      <th>Segment</th>\n",
       "      <th>Market</th>\n",
       "      <th>Category</th>\n",
       "      <th>Sub-Category</th>\n",
       "      <th>Profit</th>\n",
       "    </tr>\n",
       "  </thead>\n",
       "  <tbody>\n",
       "    <tr>\n",
       "      <th>0</th>\n",
       "      <td>Same Day</td>\n",
       "      <td>Consumer</td>\n",
       "      <td>US</td>\n",
       "      <td>Technology</td>\n",
       "      <td>Accessories</td>\n",
       "      <td>762.1845</td>\n",
       "    </tr>\n",
       "    <tr>\n",
       "      <th>1</th>\n",
       "      <td>Second Class</td>\n",
       "      <td>Corporate</td>\n",
       "      <td>APAC</td>\n",
       "      <td>Furniture</td>\n",
       "      <td>Chairs</td>\n",
       "      <td>-288.7650</td>\n",
       "    </tr>\n",
       "    <tr>\n",
       "      <th>2</th>\n",
       "      <td>First Class</td>\n",
       "      <td>Consumer</td>\n",
       "      <td>APAC</td>\n",
       "      <td>Technology</td>\n",
       "      <td>Phones</td>\n",
       "      <td>919.9710</td>\n",
       "    </tr>\n",
       "    <tr>\n",
       "      <th>3</th>\n",
       "      <td>First Class</td>\n",
       "      <td>Home Office</td>\n",
       "      <td>EU</td>\n",
       "      <td>Technology</td>\n",
       "      <td>Phones</td>\n",
       "      <td>-96.5400</td>\n",
       "    </tr>\n",
       "    <tr>\n",
       "      <th>4</th>\n",
       "      <td>Same Day</td>\n",
       "      <td>Consumer</td>\n",
       "      <td>Africa</td>\n",
       "      <td>Technology</td>\n",
       "      <td>Copiers</td>\n",
       "      <td>311.5200</td>\n",
       "    </tr>\n",
       "  </tbody>\n",
       "</table>\n",
       "</div>"
      ],
      "text/plain": [
       "      Ship Mode      Segment  Market    Category Sub-Category    Profit\n",
       "0      Same Day     Consumer      US  Technology  Accessories  762.1845\n",
       "1  Second Class    Corporate    APAC   Furniture       Chairs -288.7650\n",
       "2   First Class     Consumer    APAC  Technology       Phones  919.9710\n",
       "3   First Class  Home Office      EU  Technology       Phones  -96.5400\n",
       "4      Same Day     Consumer  Africa  Technology      Copiers  311.5200"
      ]
     },
     "execution_count": 7,
     "metadata": {},
     "output_type": "execute_result"
    }
   ],
   "source": [
    "df1 = orders.filter(['Ship Mode','Segment','Market','Category','Sub-Category','Profit'], axis=1)\n",
    "df1.head()"
   ]
  },
  {
   "cell_type": "code",
   "execution_count": 8,
   "metadata": {},
   "outputs": [
    {
     "data": {
      "text/html": [
       "<div>\n",
       "<style scoped>\n",
       "    .dataframe tbody tr th:only-of-type {\n",
       "        vertical-align: middle;\n",
       "    }\n",
       "\n",
       "    .dataframe tbody tr th {\n",
       "        vertical-align: top;\n",
       "    }\n",
       "\n",
       "    .dataframe thead th {\n",
       "        text-align: right;\n",
       "    }\n",
       "</style>\n",
       "<table border=\"1\" class=\"dataframe\">\n",
       "  <thead>\n",
       "    <tr style=\"text-align: right;\">\n",
       "      <th></th>\n",
       "      <th>A</th>\n",
       "      <th>B</th>\n",
       "      <th>Quantity</th>\n",
       "    </tr>\n",
       "  </thead>\n",
       "  <tbody>\n",
       "    <tr>\n",
       "      <th>0</th>\n",
       "      <td>APAC</td>\n",
       "      <td>Consumer</td>\n",
       "      <td>5699</td>\n",
       "    </tr>\n",
       "    <tr>\n",
       "      <th>1</th>\n",
       "      <td>APAC</td>\n",
       "      <td>Corporate</td>\n",
       "      <td>3283</td>\n",
       "    </tr>\n",
       "    <tr>\n",
       "      <th>2</th>\n",
       "      <td>APAC</td>\n",
       "      <td>Home Office</td>\n",
       "      <td>2020</td>\n",
       "    </tr>\n",
       "    <tr>\n",
       "      <th>3</th>\n",
       "      <td>Africa</td>\n",
       "      <td>Consumer</td>\n",
       "      <td>2381</td>\n",
       "    </tr>\n",
       "    <tr>\n",
       "      <th>4</th>\n",
       "      <td>Africa</td>\n",
       "      <td>Corporate</td>\n",
       "      <td>1312</td>\n",
       "    </tr>\n",
       "    <tr>\n",
       "      <th>...</th>\n",
       "      <td>...</td>\n",
       "      <td>...</td>\n",
       "      <td>...</td>\n",
       "    </tr>\n",
       "    <tr>\n",
       "      <th>63</th>\n",
       "      <td>Supplies</td>\n",
       "      <td>Standard Class</td>\n",
       "      <td>1429</td>\n",
       "    </tr>\n",
       "    <tr>\n",
       "      <th>64</th>\n",
       "      <td>Tables</td>\n",
       "      <td>First Class</td>\n",
       "      <td>139</td>\n",
       "    </tr>\n",
       "    <tr>\n",
       "      <th>65</th>\n",
       "      <td>Tables</td>\n",
       "      <td>Same Day</td>\n",
       "      <td>34</td>\n",
       "    </tr>\n",
       "    <tr>\n",
       "      <th>66</th>\n",
       "      <td>Tables</td>\n",
       "      <td>Second Class</td>\n",
       "      <td>171</td>\n",
       "    </tr>\n",
       "    <tr>\n",
       "      <th>67</th>\n",
       "      <td>Tables</td>\n",
       "      <td>Standard Class</td>\n",
       "      <td>517</td>\n",
       "    </tr>\n",
       "  </tbody>\n",
       "</table>\n",
       "<p>115 rows × 3 columns</p>\n",
       "</div>"
      ],
      "text/plain": [
       "           A               B  Quantity\n",
       "0       APAC        Consumer      5699\n",
       "1       APAC       Corporate      3283\n",
       "2       APAC     Home Office      2020\n",
       "3     Africa        Consumer      2381\n",
       "4     Africa       Corporate      1312\n",
       "..       ...             ...       ...\n",
       "63  Supplies  Standard Class      1429\n",
       "64    Tables     First Class       139\n",
       "65    Tables        Same Day        34\n",
       "66    Tables    Second Class       171\n",
       "67    Tables  Standard Class       517\n",
       "\n",
       "[115 rows x 3 columns]"
      ]
     },
     "execution_count": 8,
     "metadata": {},
     "output_type": "execute_result"
    }
   ],
   "source": [
    "df2=df1.groupby(['Market', 'Segment'], as_index=False)['Profit'].count()\n",
    "df2.head()\n",
    "df3=df1.groupby(['Segment', 'Category'], as_index=False)['Profit'].count()\n",
    "df3.head()\n",
    "df4=df1.groupby(['Category','Sub-Category'], as_index=False)['Profit'].count()\n",
    "df4.head()\n",
    "df5=df1.groupby(['Sub-Category','Ship Mode'], as_index=False)['Profit'].count()\n",
    "df5.head()\n",
    "df2.columns = ['A', 'B', 'Quantity']\n",
    "df3.columns = ['A', 'B', 'Quantity']\n",
    "df4.columns = ['A', 'B', 'Quantity']\n",
    "df5.columns = ['A', 'B', 'Quantity']\n",
    "df6 = df2.append(df3)\n",
    "df7 = df6.append(df4)\n",
    "df8 = df7.append(df5)\n",
    "df8"
   ]
  },
  {
   "cell_type": "code",
   "execution_count": 9,
   "metadata": {
    "slideshow": {
     "slide_type": "subslide"
    }
   },
   "outputs": [
    {
     "data": {
      "text/html": [
       "\n",
       "        <script>\n",
       "            function code_toggle_11808565124601633386() {\n",
       "                $('div.cell.code_cell.rendered.selected').next().find('div.input').toggle();\n",
       "            }\n",
       "\n",
       "            $('div.cell.code_cell.rendered.selected').find(\"div.input\").hide();\n",
       "        </script>\n",
       "\n",
       "        <form action=\"javascript:code_toggle_11808565124601633386()\"><input type=\"submit\" value=\"Mostrar / Esconder\"></form>\n",
       "        \n",
       "    "
      ],
      "text/plain": [
       "<IPython.core.display.HTML object>"
      ]
     },
     "execution_count": 9,
     "metadata": {},
     "output_type": "execute_result"
    }
   ],
   "source": [
    "esconder(next)"
   ]
  },
  {
   "cell_type": "code",
   "execution_count": 42,
   "metadata": {
    "slideshow": {
     "slide_type": "-"
    }
   },
   "outputs": [
    {
     "data": {
      "application/vnd.plotly.v1+json": {
       "config": {
        "plotlyServerURL": "https://plot.ly"
       },
       "data": [
        {
         "link": {
          "source": [
           27,
           27,
           27,
           21,
           21,
           21,
           21,
           19,
           19,
           19,
           12,
           12,
           12,
           12,
           6,
           6,
           6,
           6,
           25,
           25,
           25,
           25,
           17,
           17,
           17,
           17,
           4,
           4,
           4,
           28,
           28,
           28,
           28,
           7,
           7,
           7,
           10,
           10,
           10,
           10,
           18,
           18,
           18,
           14,
           14,
           14,
           5,
           5,
           5,
           22,
           22,
           22,
           22,
           11,
           11,
           11,
           11,
           0,
           0,
           0,
           0,
           9,
           9,
           9,
           9,
           8,
           8,
           8,
           15,
           15,
           15,
           13,
           13,
           13,
           13,
           2,
           2,
           2,
           2,
           26,
           26,
           26,
           26,
           26,
           26,
           26,
           26,
           26,
           16,
           16,
           16,
           16,
           1,
           1,
           1,
           1,
           23,
           23,
           23,
           23,
           24,
           24,
           24,
           24,
           3,
           3,
           3,
           3,
           29,
           29,
           29,
           29,
           20,
           20,
           20
          ],
          "target": [
           7,
           18,
           8,
           30,
           32,
           33,
           31,
           7,
           18,
           8,
           30,
           32,
           33,
           31,
           30,
           32,
           33,
           31,
           30,
           32,
           33,
           31,
           30,
           32,
           33,
           31,
           7,
           18,
           8,
           30,
           32,
           33,
           31,
           9,
           26,
           29,
           30,
           32,
           33,
           31,
           9,
           26,
           29,
           7,
           18,
           8,
           7,
           18,
           8,
           30,
           32,
           33,
           31,
           30,
           32,
           33,
           31,
           30,
           32,
           33,
           31,
           17,
           28,
           0,
           3,
           9,
           26,
           29,
           7,
           18,
           8,
           30,
           32,
           33,
           31,
           30,
           32,
           33,
           31,
           12,
           6,
           25,
           22,
           11,
           13,
           16,
           23,
           24,
           30,
           32,
           33,
           31,
           30,
           32,
           33,
           31,
           30,
           32,
           33,
           31,
           30,
           32,
           33,
           31,
           30,
           32,
           33,
           31,
           21,
           10,
           2,
           1,
           7,
           18,
           8
          ],
          "value": [
           5699,
           3283,
           2020,
           457,
           163,
           638,
           1817,
           2381,
           1312,
           894,
           295,
           92,
           352,
           1016,
           705,
           259,
           1021,
           2898,
           913,
           339,
           1162,
           3738,
           372,
           128,
           455,
           1456,
           202,
           110,
           72,
           492,
           183,
           718,
           2041,
           5095,
           16151,
           5272,
           306,
           116,
           438,
           1363,
           3014,
           9364,
           3051,
           2538,
           1574,
           917,
           5186,
           3077,
           1737,
           337,
           140,
           512,
           1446,
           335,
           114,
           480,
           1491,
           428,
           163,
           624,
           1955,
           2411,
           3434,
           3170,
           861,
           1767,
           5758,
           1818,
           5321,
           3053,
           1920,
           394,
           133,
           518,
           1561,
           232,
           74,
           256,
           924,
           1755,
           4883,
           6152,
           2435,
           2420,
           2606,
           3538,
           5059,
           2425,
           548,
           211,
           730,
           2049,
           481,
           165,
           698,
           2013,
           707,
           277,
           1014,
           3061,
           364,
           110,
           522,
           1429,
           139,
           34,
           171,
           517,
           3075,
           2223,
           1486,
           3357,
           5191,
           3020,
           1783
          ]
         },
         "node": {
          "color": [
           "#00FF33",
           "#00FF33",
           "#00FF33",
           "#00FF33",
           "#00FF33",
           "#00FF33",
           "#00FF33",
           "#00FF33",
           "#00FF33",
           "#00FF33",
           "#00FF33",
           "#00FF33",
           "#00FF33",
           "#00FF33",
           "#00FF33",
           "#00FF33",
           "#00FF33",
           "#00FF33",
           "#00FF33",
           "#00FF33",
           "#00FF33",
           "#00FF33",
           "#00FF33",
           "#00FF33",
           "#00FF33",
           "#00FF33",
           "#00FF33",
           "#00FF33",
           "#00FF33",
           "#00FF33",
           "#646464",
           "#646464",
           "#646464",
           "#646464",
           "#646464",
           "#646464",
           "#646464",
           "#646464",
           "#646464",
           "#646464",
           "#646464",
           "#646464",
           "#646464",
           "#646464",
           "#646464",
           "#646464",
           "#646464",
           "#646464",
           "#646464",
           "#646464",
           "#646464",
           "#646464",
           "#646464",
           "#646464",
           "#646464",
           "#646464",
           "#646464"
          ],
          "label": [
           "Furnishings",
           "Phones",
           "Machines",
           "Tables",
           "Canada",
           "EU",
           "Art",
           "Consumer",
           "Home Office",
           "Furniture",
           "Copiers",
           "Fasteners",
           "Appliances",
           "Labels",
           "EMEA",
           "LATAM",
           "Paper",
           "Bookcases",
           "Corporate",
           "Africa",
           "US",
           "Accessories",
           "Envelopes",
           "Storage",
           "Supplies",
           "Binders",
           "Office Supplies",
           "APAC",
           "Chairs",
           "Technology",
           "First Class",
           "Standard Class",
           "Same Day",
           "Second Class"
          ],
          "line": {
           "color": "black",
           "width": 0.7
          },
          "pad": 30,
          "thickness": 15
         },
         "type": "sankey"
        }
       ],
       "layout": {
        "font": {
         "size": 14
        },
        "template": {
         "data": {
          "bar": [
           {
            "error_x": {
             "color": "#2a3f5f"
            },
            "error_y": {
             "color": "#2a3f5f"
            },
            "marker": {
             "line": {
              "color": "#E5ECF6",
              "width": 0.5
             }
            },
            "type": "bar"
           }
          ],
          "barpolar": [
           {
            "marker": {
             "line": {
              "color": "#E5ECF6",
              "width": 0.5
             }
            },
            "type": "barpolar"
           }
          ],
          "carpet": [
           {
            "aaxis": {
             "endlinecolor": "#2a3f5f",
             "gridcolor": "white",
             "linecolor": "white",
             "minorgridcolor": "white",
             "startlinecolor": "#2a3f5f"
            },
            "baxis": {
             "endlinecolor": "#2a3f5f",
             "gridcolor": "white",
             "linecolor": "white",
             "minorgridcolor": "white",
             "startlinecolor": "#2a3f5f"
            },
            "type": "carpet"
           }
          ],
          "choropleth": [
           {
            "colorbar": {
             "outlinewidth": 0,
             "ticks": ""
            },
            "type": "choropleth"
           }
          ],
          "contour": [
           {
            "colorbar": {
             "outlinewidth": 0,
             "ticks": ""
            },
            "colorscale": [
             [
              0,
              "#0d0887"
             ],
             [
              0.1111111111111111,
              "#46039f"
             ],
             [
              0.2222222222222222,
              "#7201a8"
             ],
             [
              0.3333333333333333,
              "#9c179e"
             ],
             [
              0.4444444444444444,
              "#bd3786"
             ],
             [
              0.5555555555555556,
              "#d8576b"
             ],
             [
              0.6666666666666666,
              "#ed7953"
             ],
             [
              0.7777777777777778,
              "#fb9f3a"
             ],
             [
              0.8888888888888888,
              "#fdca26"
             ],
             [
              1,
              "#f0f921"
             ]
            ],
            "type": "contour"
           }
          ],
          "contourcarpet": [
           {
            "colorbar": {
             "outlinewidth": 0,
             "ticks": ""
            },
            "type": "contourcarpet"
           }
          ],
          "heatmap": [
           {
            "colorbar": {
             "outlinewidth": 0,
             "ticks": ""
            },
            "colorscale": [
             [
              0,
              "#0d0887"
             ],
             [
              0.1111111111111111,
              "#46039f"
             ],
             [
              0.2222222222222222,
              "#7201a8"
             ],
             [
              0.3333333333333333,
              "#9c179e"
             ],
             [
              0.4444444444444444,
              "#bd3786"
             ],
             [
              0.5555555555555556,
              "#d8576b"
             ],
             [
              0.6666666666666666,
              "#ed7953"
             ],
             [
              0.7777777777777778,
              "#fb9f3a"
             ],
             [
              0.8888888888888888,
              "#fdca26"
             ],
             [
              1,
              "#f0f921"
             ]
            ],
            "type": "heatmap"
           }
          ],
          "heatmapgl": [
           {
            "colorbar": {
             "outlinewidth": 0,
             "ticks": ""
            },
            "colorscale": [
             [
              0,
              "#0d0887"
             ],
             [
              0.1111111111111111,
              "#46039f"
             ],
             [
              0.2222222222222222,
              "#7201a8"
             ],
             [
              0.3333333333333333,
              "#9c179e"
             ],
             [
              0.4444444444444444,
              "#bd3786"
             ],
             [
              0.5555555555555556,
              "#d8576b"
             ],
             [
              0.6666666666666666,
              "#ed7953"
             ],
             [
              0.7777777777777778,
              "#fb9f3a"
             ],
             [
              0.8888888888888888,
              "#fdca26"
             ],
             [
              1,
              "#f0f921"
             ]
            ],
            "type": "heatmapgl"
           }
          ],
          "histogram": [
           {
            "marker": {
             "colorbar": {
              "outlinewidth": 0,
              "ticks": ""
             }
            },
            "type": "histogram"
           }
          ],
          "histogram2d": [
           {
            "colorbar": {
             "outlinewidth": 0,
             "ticks": ""
            },
            "colorscale": [
             [
              0,
              "#0d0887"
             ],
             [
              0.1111111111111111,
              "#46039f"
             ],
             [
              0.2222222222222222,
              "#7201a8"
             ],
             [
              0.3333333333333333,
              "#9c179e"
             ],
             [
              0.4444444444444444,
              "#bd3786"
             ],
             [
              0.5555555555555556,
              "#d8576b"
             ],
             [
              0.6666666666666666,
              "#ed7953"
             ],
             [
              0.7777777777777778,
              "#fb9f3a"
             ],
             [
              0.8888888888888888,
              "#fdca26"
             ],
             [
              1,
              "#f0f921"
             ]
            ],
            "type": "histogram2d"
           }
          ],
          "histogram2dcontour": [
           {
            "colorbar": {
             "outlinewidth": 0,
             "ticks": ""
            },
            "colorscale": [
             [
              0,
              "#0d0887"
             ],
             [
              0.1111111111111111,
              "#46039f"
             ],
             [
              0.2222222222222222,
              "#7201a8"
             ],
             [
              0.3333333333333333,
              "#9c179e"
             ],
             [
              0.4444444444444444,
              "#bd3786"
             ],
             [
              0.5555555555555556,
              "#d8576b"
             ],
             [
              0.6666666666666666,
              "#ed7953"
             ],
             [
              0.7777777777777778,
              "#fb9f3a"
             ],
             [
              0.8888888888888888,
              "#fdca26"
             ],
             [
              1,
              "#f0f921"
             ]
            ],
            "type": "histogram2dcontour"
           }
          ],
          "mesh3d": [
           {
            "colorbar": {
             "outlinewidth": 0,
             "ticks": ""
            },
            "type": "mesh3d"
           }
          ],
          "parcoords": [
           {
            "line": {
             "colorbar": {
              "outlinewidth": 0,
              "ticks": ""
             }
            },
            "type": "parcoords"
           }
          ],
          "pie": [
           {
            "automargin": true,
            "type": "pie"
           }
          ],
          "scatter": [
           {
            "marker": {
             "colorbar": {
              "outlinewidth": 0,
              "ticks": ""
             }
            },
            "type": "scatter"
           }
          ],
          "scatter3d": [
           {
            "line": {
             "colorbar": {
              "outlinewidth": 0,
              "ticks": ""
             }
            },
            "marker": {
             "colorbar": {
              "outlinewidth": 0,
              "ticks": ""
             }
            },
            "type": "scatter3d"
           }
          ],
          "scattercarpet": [
           {
            "marker": {
             "colorbar": {
              "outlinewidth": 0,
              "ticks": ""
             }
            },
            "type": "scattercarpet"
           }
          ],
          "scattergeo": [
           {
            "marker": {
             "colorbar": {
              "outlinewidth": 0,
              "ticks": ""
             }
            },
            "type": "scattergeo"
           }
          ],
          "scattergl": [
           {
            "marker": {
             "colorbar": {
              "outlinewidth": 0,
              "ticks": ""
             }
            },
            "type": "scattergl"
           }
          ],
          "scattermapbox": [
           {
            "marker": {
             "colorbar": {
              "outlinewidth": 0,
              "ticks": ""
             }
            },
            "type": "scattermapbox"
           }
          ],
          "scatterpolar": [
           {
            "marker": {
             "colorbar": {
              "outlinewidth": 0,
              "ticks": ""
             }
            },
            "type": "scatterpolar"
           }
          ],
          "scatterpolargl": [
           {
            "marker": {
             "colorbar": {
              "outlinewidth": 0,
              "ticks": ""
             }
            },
            "type": "scatterpolargl"
           }
          ],
          "scatterternary": [
           {
            "marker": {
             "colorbar": {
              "outlinewidth": 0,
              "ticks": ""
             }
            },
            "type": "scatterternary"
           }
          ],
          "surface": [
           {
            "colorbar": {
             "outlinewidth": 0,
             "ticks": ""
            },
            "colorscale": [
             [
              0,
              "#0d0887"
             ],
             [
              0.1111111111111111,
              "#46039f"
             ],
             [
              0.2222222222222222,
              "#7201a8"
             ],
             [
              0.3333333333333333,
              "#9c179e"
             ],
             [
              0.4444444444444444,
              "#bd3786"
             ],
             [
              0.5555555555555556,
              "#d8576b"
             ],
             [
              0.6666666666666666,
              "#ed7953"
             ],
             [
              0.7777777777777778,
              "#fb9f3a"
             ],
             [
              0.8888888888888888,
              "#fdca26"
             ],
             [
              1,
              "#f0f921"
             ]
            ],
            "type": "surface"
           }
          ],
          "table": [
           {
            "cells": {
             "fill": {
              "color": "#EBF0F8"
             },
             "line": {
              "color": "white"
             }
            },
            "header": {
             "fill": {
              "color": "#C8D4E3"
             },
             "line": {
              "color": "white"
             }
            },
            "type": "table"
           }
          ]
         },
         "layout": {
          "annotationdefaults": {
           "arrowcolor": "#2a3f5f",
           "arrowhead": 0,
           "arrowwidth": 1
          },
          "coloraxis": {
           "colorbar": {
            "outlinewidth": 0,
            "ticks": ""
           }
          },
          "colorscale": {
           "diverging": [
            [
             0,
             "#8e0152"
            ],
            [
             0.1,
             "#c51b7d"
            ],
            [
             0.2,
             "#de77ae"
            ],
            [
             0.3,
             "#f1b6da"
            ],
            [
             0.4,
             "#fde0ef"
            ],
            [
             0.5,
             "#f7f7f7"
            ],
            [
             0.6,
             "#e6f5d0"
            ],
            [
             0.7,
             "#b8e186"
            ],
            [
             0.8,
             "#7fbc41"
            ],
            [
             0.9,
             "#4d9221"
            ],
            [
             1,
             "#276419"
            ]
           ],
           "sequential": [
            [
             0,
             "#0d0887"
            ],
            [
             0.1111111111111111,
             "#46039f"
            ],
            [
             0.2222222222222222,
             "#7201a8"
            ],
            [
             0.3333333333333333,
             "#9c179e"
            ],
            [
             0.4444444444444444,
             "#bd3786"
            ],
            [
             0.5555555555555556,
             "#d8576b"
            ],
            [
             0.6666666666666666,
             "#ed7953"
            ],
            [
             0.7777777777777778,
             "#fb9f3a"
            ],
            [
             0.8888888888888888,
             "#fdca26"
            ],
            [
             1,
             "#f0f921"
            ]
           ],
           "sequentialminus": [
            [
             0,
             "#0d0887"
            ],
            [
             0.1111111111111111,
             "#46039f"
            ],
            [
             0.2222222222222222,
             "#7201a8"
            ],
            [
             0.3333333333333333,
             "#9c179e"
            ],
            [
             0.4444444444444444,
             "#bd3786"
            ],
            [
             0.5555555555555556,
             "#d8576b"
            ],
            [
             0.6666666666666666,
             "#ed7953"
            ],
            [
             0.7777777777777778,
             "#fb9f3a"
            ],
            [
             0.8888888888888888,
             "#fdca26"
            ],
            [
             1,
             "#f0f921"
            ]
           ]
          },
          "colorway": [
           "#636efa",
           "#EF553B",
           "#00cc96",
           "#ab63fa",
           "#FFA15A",
           "#19d3f3",
           "#FF6692",
           "#B6E880",
           "#FF97FF",
           "#FECB52"
          ],
          "font": {
           "color": "#2a3f5f"
          },
          "geo": {
           "bgcolor": "white",
           "lakecolor": "white",
           "landcolor": "#E5ECF6",
           "showlakes": true,
           "showland": true,
           "subunitcolor": "white"
          },
          "hoverlabel": {
           "align": "left"
          },
          "hovermode": "closest",
          "mapbox": {
           "style": "light"
          },
          "paper_bgcolor": "white",
          "plot_bgcolor": "#E5ECF6",
          "polar": {
           "angularaxis": {
            "gridcolor": "white",
            "linecolor": "white",
            "ticks": ""
           },
           "bgcolor": "#E5ECF6",
           "radialaxis": {
            "gridcolor": "white",
            "linecolor": "white",
            "ticks": ""
           }
          },
          "scene": {
           "xaxis": {
            "backgroundcolor": "#E5ECF6",
            "gridcolor": "white",
            "gridwidth": 2,
            "linecolor": "white",
            "showbackground": true,
            "ticks": "",
            "zerolinecolor": "white"
           },
           "yaxis": {
            "backgroundcolor": "#E5ECF6",
            "gridcolor": "white",
            "gridwidth": 2,
            "linecolor": "white",
            "showbackground": true,
            "ticks": "",
            "zerolinecolor": "white"
           },
           "zaxis": {
            "backgroundcolor": "#E5ECF6",
            "gridcolor": "white",
            "gridwidth": 2,
            "linecolor": "white",
            "showbackground": true,
            "ticks": "",
            "zerolinecolor": "white"
           }
          },
          "shapedefaults": {
           "line": {
            "color": "#2a3f5f"
           }
          },
          "ternary": {
           "aaxis": {
            "gridcolor": "white",
            "linecolor": "white",
            "ticks": ""
           },
           "baxis": {
            "gridcolor": "white",
            "linecolor": "white",
            "ticks": ""
           },
           "bgcolor": "#E5ECF6",
           "caxis": {
            "gridcolor": "white",
            "linecolor": "white",
            "ticks": ""
           }
          },
          "title": {
           "x": 0.05
          },
          "xaxis": {
           "automargin": true,
           "gridcolor": "white",
           "linecolor": "white",
           "ticks": "",
           "title": {
            "standoff": 15
           },
           "zerolinecolor": "white",
           "zerolinewidth": 2
          },
          "yaxis": {
           "automargin": true,
           "gridcolor": "white",
           "linecolor": "white",
           "ticks": "",
           "title": {
            "standoff": 15
           },
           "zerolinecolor": "white",
           "zerolinewidth": 2
          }
         }
        },
        "title": {
         "text": "Sankey Diagram >> Sales"
        }
       }
      },
      "text/html": [
       "<div>\n",
       "        \n",
       "        \n",
       "            <div id=\"10525add-6b42-4ae0-a949-59068daf01a7\" class=\"plotly-graph-div\" style=\"height:525px; width:100%;\"></div>\n",
       "            <script type=\"text/javascript\">\n",
       "                require([\"plotly\"], function(Plotly) {\n",
       "                    window.PLOTLYENV=window.PLOTLYENV || {};\n",
       "                    \n",
       "                if (document.getElementById(\"10525add-6b42-4ae0-a949-59068daf01a7\")) {\n",
       "                    Plotly.newPlot(\n",
       "                        '10525add-6b42-4ae0-a949-59068daf01a7',\n",
       "                        [{\"link\": {\"source\": [27, 27, 27, 21, 21, 21, 21, 19, 19, 19, 12, 12, 12, 12, 6, 6, 6, 6, 25, 25, 25, 25, 17, 17, 17, 17, 4, 4, 4, 28, 28, 28, 28, 7, 7, 7, 10, 10, 10, 10, 18, 18, 18, 14, 14, 14, 5, 5, 5, 22, 22, 22, 22, 11, 11, 11, 11, 0, 0, 0, 0, 9, 9, 9, 9, 8, 8, 8, 15, 15, 15, 13, 13, 13, 13, 2, 2, 2, 2, 26, 26, 26, 26, 26, 26, 26, 26, 26, 16, 16, 16, 16, 1, 1, 1, 1, 23, 23, 23, 23, 24, 24, 24, 24, 3, 3, 3, 3, 29, 29, 29, 29, 20, 20, 20], \"target\": [7, 18, 8, 30, 32, 33, 31, 7, 18, 8, 30, 32, 33, 31, 30, 32, 33, 31, 30, 32, 33, 31, 30, 32, 33, 31, 7, 18, 8, 30, 32, 33, 31, 9, 26, 29, 30, 32, 33, 31, 9, 26, 29, 7, 18, 8, 7, 18, 8, 30, 32, 33, 31, 30, 32, 33, 31, 30, 32, 33, 31, 17, 28, 0, 3, 9, 26, 29, 7, 18, 8, 30, 32, 33, 31, 30, 32, 33, 31, 12, 6, 25, 22, 11, 13, 16, 23, 24, 30, 32, 33, 31, 30, 32, 33, 31, 30, 32, 33, 31, 30, 32, 33, 31, 30, 32, 33, 31, 21, 10, 2, 1, 7, 18, 8], \"value\": [5699, 3283, 2020, 457, 163, 638, 1817, 2381, 1312, 894, 295, 92, 352, 1016, 705, 259, 1021, 2898, 913, 339, 1162, 3738, 372, 128, 455, 1456, 202, 110, 72, 492, 183, 718, 2041, 5095, 16151, 5272, 306, 116, 438, 1363, 3014, 9364, 3051, 2538, 1574, 917, 5186, 3077, 1737, 337, 140, 512, 1446, 335, 114, 480, 1491, 428, 163, 624, 1955, 2411, 3434, 3170, 861, 1767, 5758, 1818, 5321, 3053, 1920, 394, 133, 518, 1561, 232, 74, 256, 924, 1755, 4883, 6152, 2435, 2420, 2606, 3538, 5059, 2425, 548, 211, 730, 2049, 481, 165, 698, 2013, 707, 277, 1014, 3061, 364, 110, 522, 1429, 139, 34, 171, 517, 3075, 2223, 1486, 3357, 5191, 3020, 1783]}, \"node\": {\"color\": [\"#00FF33\", \"#00FF33\", \"#00FF33\", \"#00FF33\", \"#00FF33\", \"#00FF33\", \"#00FF33\", \"#00FF33\", \"#00FF33\", \"#00FF33\", \"#00FF33\", \"#00FF33\", \"#00FF33\", \"#00FF33\", \"#00FF33\", \"#00FF33\", \"#00FF33\", \"#00FF33\", \"#00FF33\", \"#00FF33\", \"#00FF33\", \"#00FF33\", \"#00FF33\", \"#00FF33\", \"#00FF33\", \"#00FF33\", \"#00FF33\", \"#00FF33\", \"#00FF33\", \"#00FF33\", \"#646464\", \"#646464\", \"#646464\", \"#646464\", \"#646464\", \"#646464\", \"#646464\", \"#646464\", \"#646464\", \"#646464\", \"#646464\", \"#646464\", \"#646464\", \"#646464\", \"#646464\", \"#646464\", \"#646464\", \"#646464\", \"#646464\", \"#646464\", \"#646464\", \"#646464\", \"#646464\", \"#646464\", \"#646464\", \"#646464\", \"#646464\"], \"label\": [\"Furnishings\", \"Phones\", \"Machines\", \"Tables\", \"Canada\", \"EU\", \"Art\", \"Consumer\", \"Home Office\", \"Furniture\", \"Copiers\", \"Fasteners\", \"Appliances\", \"Labels\", \"EMEA\", \"LATAM\", \"Paper\", \"Bookcases\", \"Corporate\", \"Africa\", \"US\", \"Accessories\", \"Envelopes\", \"Storage\", \"Supplies\", \"Binders\", \"Office Supplies\", \"APAC\", \"Chairs\", \"Technology\", \"First Class\", \"Standard Class\", \"Same Day\", \"Second Class\"], \"line\": {\"color\": \"black\", \"width\": 0.7}, \"pad\": 30, \"thickness\": 15}, \"type\": \"sankey\"}],\n",
       "                        {\"font\": {\"size\": 14}, \"template\": {\"data\": {\"bar\": [{\"error_x\": {\"color\": \"#2a3f5f\"}, \"error_y\": {\"color\": \"#2a3f5f\"}, \"marker\": {\"line\": {\"color\": \"#E5ECF6\", \"width\": 0.5}}, \"type\": \"bar\"}], \"barpolar\": [{\"marker\": {\"line\": {\"color\": \"#E5ECF6\", \"width\": 0.5}}, \"type\": \"barpolar\"}], \"carpet\": [{\"aaxis\": {\"endlinecolor\": \"#2a3f5f\", \"gridcolor\": \"white\", \"linecolor\": \"white\", \"minorgridcolor\": \"white\", \"startlinecolor\": \"#2a3f5f\"}, \"baxis\": {\"endlinecolor\": \"#2a3f5f\", \"gridcolor\": \"white\", \"linecolor\": \"white\", \"minorgridcolor\": \"white\", \"startlinecolor\": \"#2a3f5f\"}, \"type\": \"carpet\"}], \"choropleth\": [{\"colorbar\": {\"outlinewidth\": 0, \"ticks\": \"\"}, \"type\": \"choropleth\"}], \"contour\": [{\"colorbar\": {\"outlinewidth\": 0, \"ticks\": \"\"}, \"colorscale\": [[0.0, \"#0d0887\"], [0.1111111111111111, \"#46039f\"], [0.2222222222222222, \"#7201a8\"], [0.3333333333333333, \"#9c179e\"], [0.4444444444444444, \"#bd3786\"], [0.5555555555555556, \"#d8576b\"], [0.6666666666666666, \"#ed7953\"], [0.7777777777777778, \"#fb9f3a\"], [0.8888888888888888, \"#fdca26\"], [1.0, \"#f0f921\"]], \"type\": \"contour\"}], \"contourcarpet\": [{\"colorbar\": {\"outlinewidth\": 0, \"ticks\": \"\"}, \"type\": \"contourcarpet\"}], \"heatmap\": [{\"colorbar\": {\"outlinewidth\": 0, \"ticks\": \"\"}, \"colorscale\": [[0.0, \"#0d0887\"], [0.1111111111111111, \"#46039f\"], [0.2222222222222222, \"#7201a8\"], [0.3333333333333333, \"#9c179e\"], [0.4444444444444444, \"#bd3786\"], [0.5555555555555556, \"#d8576b\"], [0.6666666666666666, \"#ed7953\"], [0.7777777777777778, \"#fb9f3a\"], [0.8888888888888888, \"#fdca26\"], [1.0, \"#f0f921\"]], \"type\": \"heatmap\"}], \"heatmapgl\": [{\"colorbar\": {\"outlinewidth\": 0, \"ticks\": \"\"}, \"colorscale\": [[0.0, \"#0d0887\"], [0.1111111111111111, \"#46039f\"], [0.2222222222222222, \"#7201a8\"], [0.3333333333333333, \"#9c179e\"], [0.4444444444444444, \"#bd3786\"], [0.5555555555555556, \"#d8576b\"], [0.6666666666666666, \"#ed7953\"], [0.7777777777777778, \"#fb9f3a\"], [0.8888888888888888, \"#fdca26\"], [1.0, \"#f0f921\"]], \"type\": \"heatmapgl\"}], \"histogram\": [{\"marker\": {\"colorbar\": {\"outlinewidth\": 0, \"ticks\": \"\"}}, \"type\": \"histogram\"}], \"histogram2d\": [{\"colorbar\": {\"outlinewidth\": 0, \"ticks\": \"\"}, \"colorscale\": [[0.0, \"#0d0887\"], [0.1111111111111111, \"#46039f\"], [0.2222222222222222, \"#7201a8\"], [0.3333333333333333, \"#9c179e\"], [0.4444444444444444, \"#bd3786\"], [0.5555555555555556, \"#d8576b\"], [0.6666666666666666, \"#ed7953\"], [0.7777777777777778, \"#fb9f3a\"], [0.8888888888888888, \"#fdca26\"], [1.0, \"#f0f921\"]], \"type\": \"histogram2d\"}], \"histogram2dcontour\": [{\"colorbar\": {\"outlinewidth\": 0, \"ticks\": \"\"}, \"colorscale\": [[0.0, \"#0d0887\"], [0.1111111111111111, \"#46039f\"], [0.2222222222222222, \"#7201a8\"], [0.3333333333333333, \"#9c179e\"], [0.4444444444444444, \"#bd3786\"], [0.5555555555555556, \"#d8576b\"], [0.6666666666666666, \"#ed7953\"], [0.7777777777777778, \"#fb9f3a\"], [0.8888888888888888, \"#fdca26\"], [1.0, \"#f0f921\"]], \"type\": \"histogram2dcontour\"}], \"mesh3d\": [{\"colorbar\": {\"outlinewidth\": 0, \"ticks\": \"\"}, \"type\": \"mesh3d\"}], \"parcoords\": [{\"line\": {\"colorbar\": {\"outlinewidth\": 0, \"ticks\": \"\"}}, \"type\": \"parcoords\"}], \"pie\": [{\"automargin\": true, \"type\": \"pie\"}], \"scatter\": [{\"marker\": {\"colorbar\": {\"outlinewidth\": 0, \"ticks\": \"\"}}, \"type\": \"scatter\"}], \"scatter3d\": [{\"line\": {\"colorbar\": {\"outlinewidth\": 0, \"ticks\": \"\"}}, \"marker\": {\"colorbar\": {\"outlinewidth\": 0, \"ticks\": \"\"}}, \"type\": \"scatter3d\"}], \"scattercarpet\": [{\"marker\": {\"colorbar\": {\"outlinewidth\": 0, \"ticks\": \"\"}}, \"type\": \"scattercarpet\"}], \"scattergeo\": [{\"marker\": {\"colorbar\": {\"outlinewidth\": 0, \"ticks\": \"\"}}, \"type\": \"scattergeo\"}], \"scattergl\": [{\"marker\": {\"colorbar\": {\"outlinewidth\": 0, \"ticks\": \"\"}}, \"type\": \"scattergl\"}], \"scattermapbox\": [{\"marker\": {\"colorbar\": {\"outlinewidth\": 0, \"ticks\": \"\"}}, \"type\": \"scattermapbox\"}], \"scatterpolar\": [{\"marker\": {\"colorbar\": {\"outlinewidth\": 0, \"ticks\": \"\"}}, \"type\": \"scatterpolar\"}], \"scatterpolargl\": [{\"marker\": {\"colorbar\": {\"outlinewidth\": 0, \"ticks\": \"\"}}, \"type\": \"scatterpolargl\"}], \"scatterternary\": [{\"marker\": {\"colorbar\": {\"outlinewidth\": 0, \"ticks\": \"\"}}, \"type\": \"scatterternary\"}], \"surface\": [{\"colorbar\": {\"outlinewidth\": 0, \"ticks\": \"\"}, \"colorscale\": [[0.0, \"#0d0887\"], [0.1111111111111111, \"#46039f\"], [0.2222222222222222, \"#7201a8\"], [0.3333333333333333, \"#9c179e\"], [0.4444444444444444, \"#bd3786\"], [0.5555555555555556, \"#d8576b\"], [0.6666666666666666, \"#ed7953\"], [0.7777777777777778, \"#fb9f3a\"], [0.8888888888888888, \"#fdca26\"], [1.0, \"#f0f921\"]], \"type\": \"surface\"}], \"table\": [{\"cells\": {\"fill\": {\"color\": \"#EBF0F8\"}, \"line\": {\"color\": \"white\"}}, \"header\": {\"fill\": {\"color\": \"#C8D4E3\"}, \"line\": {\"color\": \"white\"}}, \"type\": \"table\"}]}, \"layout\": {\"annotationdefaults\": {\"arrowcolor\": \"#2a3f5f\", \"arrowhead\": 0, \"arrowwidth\": 1}, \"coloraxis\": {\"colorbar\": {\"outlinewidth\": 0, \"ticks\": \"\"}}, \"colorscale\": {\"diverging\": [[0, \"#8e0152\"], [0.1, \"#c51b7d\"], [0.2, \"#de77ae\"], [0.3, \"#f1b6da\"], [0.4, \"#fde0ef\"], [0.5, \"#f7f7f7\"], [0.6, \"#e6f5d0\"], [0.7, \"#b8e186\"], [0.8, \"#7fbc41\"], [0.9, \"#4d9221\"], [1, \"#276419\"]], \"sequential\": [[0.0, \"#0d0887\"], [0.1111111111111111, \"#46039f\"], [0.2222222222222222, \"#7201a8\"], [0.3333333333333333, \"#9c179e\"], [0.4444444444444444, \"#bd3786\"], [0.5555555555555556, \"#d8576b\"], [0.6666666666666666, \"#ed7953\"], [0.7777777777777778, \"#fb9f3a\"], [0.8888888888888888, \"#fdca26\"], [1.0, \"#f0f921\"]], \"sequentialminus\": [[0.0, \"#0d0887\"], [0.1111111111111111, \"#46039f\"], [0.2222222222222222, \"#7201a8\"], [0.3333333333333333, \"#9c179e\"], [0.4444444444444444, \"#bd3786\"], [0.5555555555555556, \"#d8576b\"], [0.6666666666666666, \"#ed7953\"], [0.7777777777777778, \"#fb9f3a\"], [0.8888888888888888, \"#fdca26\"], [1.0, \"#f0f921\"]]}, \"colorway\": [\"#636efa\", \"#EF553B\", \"#00cc96\", \"#ab63fa\", \"#FFA15A\", \"#19d3f3\", \"#FF6692\", \"#B6E880\", \"#FF97FF\", \"#FECB52\"], \"font\": {\"color\": \"#2a3f5f\"}, \"geo\": {\"bgcolor\": \"white\", \"lakecolor\": \"white\", \"landcolor\": \"#E5ECF6\", \"showlakes\": true, \"showland\": true, \"subunitcolor\": \"white\"}, \"hoverlabel\": {\"align\": \"left\"}, \"hovermode\": \"closest\", \"mapbox\": {\"style\": \"light\"}, \"paper_bgcolor\": \"white\", \"plot_bgcolor\": \"#E5ECF6\", \"polar\": {\"angularaxis\": {\"gridcolor\": \"white\", \"linecolor\": \"white\", \"ticks\": \"\"}, \"bgcolor\": \"#E5ECF6\", \"radialaxis\": {\"gridcolor\": \"white\", \"linecolor\": \"white\", \"ticks\": \"\"}}, \"scene\": {\"xaxis\": {\"backgroundcolor\": \"#E5ECF6\", \"gridcolor\": \"white\", \"gridwidth\": 2, \"linecolor\": \"white\", \"showbackground\": true, \"ticks\": \"\", \"zerolinecolor\": \"white\"}, \"yaxis\": {\"backgroundcolor\": \"#E5ECF6\", \"gridcolor\": \"white\", \"gridwidth\": 2, \"linecolor\": \"white\", \"showbackground\": true, \"ticks\": \"\", \"zerolinecolor\": \"white\"}, \"zaxis\": {\"backgroundcolor\": \"#E5ECF6\", \"gridcolor\": \"white\", \"gridwidth\": 2, \"linecolor\": \"white\", \"showbackground\": true, \"ticks\": \"\", \"zerolinecolor\": \"white\"}}, \"shapedefaults\": {\"line\": {\"color\": \"#2a3f5f\"}}, \"ternary\": {\"aaxis\": {\"gridcolor\": \"white\", \"linecolor\": \"white\", \"ticks\": \"\"}, \"baxis\": {\"gridcolor\": \"white\", \"linecolor\": \"white\", \"ticks\": \"\"}, \"bgcolor\": \"#E5ECF6\", \"caxis\": {\"gridcolor\": \"white\", \"linecolor\": \"white\", \"ticks\": \"\"}}, \"title\": {\"x\": 0.05}, \"xaxis\": {\"automargin\": true, \"gridcolor\": \"white\", \"linecolor\": \"white\", \"ticks\": \"\", \"title\": {\"standoff\": 15}, \"zerolinecolor\": \"white\", \"zerolinewidth\": 2}, \"yaxis\": {\"automargin\": true, \"gridcolor\": \"white\", \"linecolor\": \"white\", \"ticks\": \"\", \"title\": {\"standoff\": 15}, \"zerolinecolor\": \"white\", \"zerolinewidth\": 2}}}, \"title\": {\"text\": \"Sankey Diagram >> Sales\"}},\n",
       "                        {\"responsive\": true}\n",
       "                    ).then(function(){\n",
       "                            \n",
       "var gd = document.getElementById('10525add-6b42-4ae0-a949-59068daf01a7');\n",
       "var x = new MutationObserver(function (mutations, observer) {{\n",
       "        var display = window.getComputedStyle(gd).display;\n",
       "        if (!display || display === 'none') {{\n",
       "            console.log([gd, 'removed!']);\n",
       "            Plotly.purge(gd);\n",
       "            observer.disconnect();\n",
       "        }}\n",
       "}});\n",
       "\n",
       "// Listen for the removal of the full notebook cells\n",
       "var notebookContainer = gd.closest('#notebook-container');\n",
       "if (notebookContainer) {{\n",
       "    x.observe(notebookContainer, {childList: true});\n",
       "}}\n",
       "\n",
       "// Listen for the clearing of the current output cell\n",
       "var outputEl = gd.closest('.output');\n",
       "if (outputEl) {{\n",
       "    x.observe(outputEl, {childList: true});\n",
       "}}\n",
       "\n",
       "                        })\n",
       "                };\n",
       "                });\n",
       "            </script>\n",
       "        </div>"
      ]
     },
     "metadata": {},
     "output_type": "display_data"
    }
   ],
   "source": [
    "def diagramSankey(df,cat_cols=[],value_cols='',title=''):\n",
    "    colorPalette = ['#00FF33','#646464','#FFD43B','#4B8BBE','#306998','#2980B9','#262C46',]\n",
    "    labelList = []\n",
    "    colorNumList = []\n",
    "    for catCol in cat_cols:\n",
    "        labelListTemp =  list(set(df[catCol].values))\n",
    "        colorNumList.append(len(labelListTemp))\n",
    "        labelList = labelList + labelListTemp\n",
    "        \n",
    "    # remove duplicates\n",
    "    labelList = list(dict.fromkeys(labelList))\n",
    "    \n",
    "    # define colors\n",
    "    colorList = []\n",
    "    for idx, colorNum in enumerate(colorNumList):\n",
    "        colorList = colorList + [colorPalette[idx]]*colorNum\n",
    "        \n",
    "    # transform df\n",
    "    for i in range(len(cat_cols)-1):\n",
    "        if i==0:\n",
    "            sourceTargetDf = df[[cat_cols[i],cat_cols[i+1],value_cols]]\n",
    "            sourceTargetDf.columns = ['source','target','count']\n",
    "        else:\n",
    "            tempDf = df[[cat_cols[i],cat_cols[i+1],value_cols]]\n",
    "            tempDf.columns = ['source','target','count']\n",
    "            sourceTargetDf = pd.concat([sourceTargetDf,tempDf])\n",
    "        sourceTargetDf = sourceTargetDf.groupby(['source','target']).agg({'count':'sum'}).reset_index()\n",
    "        \n",
    "    # add index\n",
    "    sourceTargetDf['sourceID'] = sourceTargetDf['source'].apply(lambda x: labelList.index(x))\n",
    "    sourceTargetDf['targetID'] = sourceTargetDf['target'].apply(lambda x: labelList.index(x))\n",
    "    \n",
    "    # creating the sankey diagram\n",
    "    fig = go.Figure(data=[go.Sankey(\n",
    "        node = dict(\n",
    "            pad = 30,\n",
    "            thickness = 15,\n",
    "            line = dict(\n",
    "                    color = \"black\",\n",
    "                    width = 0.7\n",
    "          ),\n",
    "          label = labelList,\n",
    "          color = colorList\n",
    "        ),\n",
    "        link = dict(\n",
    "          source = sourceTargetDf['sourceID'],\n",
    "          target = sourceTargetDf['targetID'],\n",
    "          value = sourceTargetDf['count']\n",
    "        )\n",
    "    )])\n",
    "    \n",
    "    layout =  dict(\n",
    "        title = title,\n",
    "        font = dict(\n",
    "          size = 10\n",
    "        )\n",
    "    )\n",
    "       \n",
    "    fig.update_layout(title='Sankey Diagram >> Sales', font_size=14)\n",
    "\n",
    "    return fig\n",
    "\n",
    "fig = diagramSankey(df8, cat_cols=['A','B'],value_cols='Quantity')\n",
    "fig.show()"
   ]
  },
  {
   "cell_type": "code",
   "execution_count": 11,
   "metadata": {
    "slideshow": {
     "slide_type": "slide"
    }
   },
   "outputs": [
    {
     "name": "stderr",
     "output_type": "stream",
     "text": [
      "C:\\ProgramData\\Anaconda3\\lib\\site-packages\\ipykernel_launcher.py:5: FutureWarning:\n",
      "\n",
      "Interpreting tuple 'by' as a list of keys, rather than a single key. Use 'by=[...]' instead of 'by=(...)'. In the future, a tuple will always mean a single key.\n",
      "\n"
     ]
    },
    {
     "data": {
      "text/html": [
       "<div>\n",
       "<style scoped>\n",
       "    .dataframe tbody tr th:only-of-type {\n",
       "        vertical-align: middle;\n",
       "    }\n",
       "\n",
       "    .dataframe tbody tr th {\n",
       "        vertical-align: top;\n",
       "    }\n",
       "\n",
       "    .dataframe thead th {\n",
       "        text-align: right;\n",
       "    }\n",
       "</style>\n",
       "<table border=\"1\" class=\"dataframe\">\n",
       "  <thead>\n",
       "    <tr style=\"text-align: right;\">\n",
       "      <th></th>\n",
       "      <th>Year</th>\n",
       "      <th>Market</th>\n",
       "      <th>Sales</th>\n",
       "    </tr>\n",
       "  </thead>\n",
       "  <tbody>\n",
       "    <tr>\n",
       "      <th>0</th>\n",
       "      <td>2011</td>\n",
       "      <td>APAC</td>\n",
       "      <td>6.392453e+05</td>\n",
       "    </tr>\n",
       "    <tr>\n",
       "      <th>1</th>\n",
       "      <td>2011</td>\n",
       "      <td>Africa</td>\n",
       "      <td>1.271873e+05</td>\n",
       "    </tr>\n",
       "    <tr>\n",
       "      <th>2</th>\n",
       "      <td>2011</td>\n",
       "      <td>Canada</td>\n",
       "      <td>8.509110e+03</td>\n",
       "    </tr>\n",
       "    <tr>\n",
       "      <th>3</th>\n",
       "      <td>2011</td>\n",
       "      <td>EMEA</td>\n",
       "      <td>1.364203e+05</td>\n",
       "    </tr>\n",
       "    <tr>\n",
       "      <th>4</th>\n",
       "      <td>2011</td>\n",
       "      <td>EU</td>\n",
       "      <td>4.787433e+05</td>\n",
       "    </tr>\n",
       "    <tr>\n",
       "      <th>5</th>\n",
       "      <td>2011</td>\n",
       "      <td>LATAM</td>\n",
       "      <td>3.850982e+05</td>\n",
       "    </tr>\n",
       "    <tr>\n",
       "      <th>6</th>\n",
       "      <td>2011</td>\n",
       "      <td>US</td>\n",
       "      <td>4.842475e+05</td>\n",
       "    </tr>\n",
       "    <tr>\n",
       "      <th>7</th>\n",
       "      <td>2012</td>\n",
       "      <td>APAC</td>\n",
       "      <td>7.627193e+05</td>\n",
       "    </tr>\n",
       "    <tr>\n",
       "      <th>8</th>\n",
       "      <td>2012</td>\n",
       "      <td>Africa</td>\n",
       "      <td>1.444807e+05</td>\n",
       "    </tr>\n",
       "    <tr>\n",
       "      <th>9</th>\n",
       "      <td>2012</td>\n",
       "      <td>Canada</td>\n",
       "      <td>1.609680e+04</td>\n",
       "    </tr>\n",
       "    <tr>\n",
       "      <th>10</th>\n",
       "      <td>2012</td>\n",
       "      <td>EMEA</td>\n",
       "      <td>1.634144e+05</td>\n",
       "    </tr>\n",
       "    <tr>\n",
       "      <th>11</th>\n",
       "      <td>2012</td>\n",
       "      <td>EU</td>\n",
       "      <td>6.554617e+05</td>\n",
       "    </tr>\n",
       "    <tr>\n",
       "      <th>12</th>\n",
       "      <td>2012</td>\n",
       "      <td>LATAM</td>\n",
       "      <td>4.647333e+05</td>\n",
       "    </tr>\n",
       "    <tr>\n",
       "      <th>13</th>\n",
       "      <td>2012</td>\n",
       "      <td>US</td>\n",
       "      <td>4.705325e+05</td>\n",
       "    </tr>\n",
       "    <tr>\n",
       "      <th>14</th>\n",
       "      <td>2013</td>\n",
       "      <td>APAC</td>\n",
       "      <td>9.745809e+05</td>\n",
       "    </tr>\n",
       "    <tr>\n",
       "      <th>15</th>\n",
       "      <td>2013</td>\n",
       "      <td>Africa</td>\n",
       "      <td>2.290688e+05</td>\n",
       "    </tr>\n",
       "    <tr>\n",
       "      <th>16</th>\n",
       "      <td>2013</td>\n",
       "      <td>Canada</td>\n",
       "      <td>1.916115e+04</td>\n",
       "    </tr>\n",
       "    <tr>\n",
       "      <th>17</th>\n",
       "      <td>2013</td>\n",
       "      <td>EMEA</td>\n",
       "      <td>2.046407e+05</td>\n",
       "    </tr>\n",
       "    <tr>\n",
       "      <th>18</th>\n",
       "      <td>2013</td>\n",
       "      <td>EU</td>\n",
       "      <td>7.616804e+05</td>\n",
       "    </tr>\n",
       "    <tr>\n",
       "      <th>19</th>\n",
       "      <td>2013</td>\n",
       "      <td>LATAM</td>\n",
       "      <td>6.081408e+05</td>\n",
       "    </tr>\n",
       "    <tr>\n",
       "      <th>20</th>\n",
       "      <td>2013</td>\n",
       "      <td>US</td>\n",
       "      <td>6.084738e+05</td>\n",
       "    </tr>\n",
       "    <tr>\n",
       "      <th>21</th>\n",
       "      <td>2014</td>\n",
       "      <td>APAC</td>\n",
       "      <td>1.209199e+06</td>\n",
       "    </tr>\n",
       "    <tr>\n",
       "      <th>22</th>\n",
       "      <td>2014</td>\n",
       "      <td>Africa</td>\n",
       "      <td>2.830364e+05</td>\n",
       "    </tr>\n",
       "    <tr>\n",
       "      <th>23</th>\n",
       "      <td>2014</td>\n",
       "      <td>Canada</td>\n",
       "      <td>2.316111e+04</td>\n",
       "    </tr>\n",
       "    <tr>\n",
       "      <th>24</th>\n",
       "      <td>2014</td>\n",
       "      <td>EMEA</td>\n",
       "      <td>3.016859e+05</td>\n",
       "    </tr>\n",
       "    <tr>\n",
       "      <th>25</th>\n",
       "      <td>2014</td>\n",
       "      <td>EU</td>\n",
       "      <td>1.042204e+06</td>\n",
       "    </tr>\n",
       "    <tr>\n",
       "      <th>26</th>\n",
       "      <td>2014</td>\n",
       "      <td>LATAM</td>\n",
       "      <td>7.066329e+05</td>\n",
       "    </tr>\n",
       "    <tr>\n",
       "      <th>27</th>\n",
       "      <td>2014</td>\n",
       "      <td>US</td>\n",
       "      <td>7.339470e+05</td>\n",
       "    </tr>\n",
       "  </tbody>\n",
       "</table>\n",
       "</div>"
      ],
      "text/plain": [
       "    Year  Market         Sales\n",
       "0   2011    APAC  6.392453e+05\n",
       "1   2011  Africa  1.271873e+05\n",
       "2   2011  Canada  8.509110e+03\n",
       "3   2011    EMEA  1.364203e+05\n",
       "4   2011      EU  4.787433e+05\n",
       "5   2011   LATAM  3.850982e+05\n",
       "6   2011      US  4.842475e+05\n",
       "7   2012    APAC  7.627193e+05\n",
       "8   2012  Africa  1.444807e+05\n",
       "9   2012  Canada  1.609680e+04\n",
       "10  2012    EMEA  1.634144e+05\n",
       "11  2012      EU  6.554617e+05\n",
       "12  2012   LATAM  4.647333e+05\n",
       "13  2012      US  4.705325e+05\n",
       "14  2013    APAC  9.745809e+05\n",
       "15  2013  Africa  2.290688e+05\n",
       "16  2013  Canada  1.916115e+04\n",
       "17  2013    EMEA  2.046407e+05\n",
       "18  2013      EU  7.616804e+05\n",
       "19  2013   LATAM  6.081408e+05\n",
       "20  2013      US  6.084738e+05\n",
       "21  2014    APAC  1.209199e+06\n",
       "22  2014  Africa  2.830364e+05\n",
       "23  2014  Canada  2.316111e+04\n",
       "24  2014    EMEA  3.016859e+05\n",
       "25  2014      EU  1.042204e+06\n",
       "26  2014   LATAM  7.066329e+05\n",
       "27  2014      US  7.339470e+05"
      ]
     },
     "execution_count": 11,
     "metadata": {},
     "output_type": "execute_result"
    }
   ],
   "source": [
    "orders = pd.read_excel('Global Superstore.xls', sheet_name = 0 )\n",
    "#cria coluna \"Year\"\n",
    "orders[\"Year\"] = orders[\"Order Date\"].apply(lambda x: (str(x))[0:4])\n",
    "#Sales by Market\n",
    "sales_by_market = orders.groupby(by = (orders[\"Year\"], orders[\"Market\"]))[\"Sales\"].sum()\n",
    "sales_Year_Market = sales_by_market.reset_index()\n",
    "sales_Year_Market"
   ]
  },
  {
   "cell_type": "code",
   "execution_count": 12,
   "metadata": {},
   "outputs": [
    {
     "name": "stderr",
     "output_type": "stream",
     "text": [
      "C:\\ProgramData\\Anaconda3\\lib\\site-packages\\ipykernel_launcher.py:2: FutureWarning:\n",
      "\n",
      "Interpreting tuple 'by' as a list of keys, rather than a single key. Use 'by=[...]' instead of 'by=(...)'. In the future, a tuple will always mean a single key.\n",
      "\n"
     ]
    },
    {
     "data": {
      "text/html": [
       "<div>\n",
       "<style scoped>\n",
       "    .dataframe tbody tr th:only-of-type {\n",
       "        vertical-align: middle;\n",
       "    }\n",
       "\n",
       "    .dataframe tbody tr th {\n",
       "        vertical-align: top;\n",
       "    }\n",
       "\n",
       "    .dataframe thead th {\n",
       "        text-align: right;\n",
       "    }\n",
       "</style>\n",
       "<table border=\"1\" class=\"dataframe\">\n",
       "  <thead>\n",
       "    <tr style=\"text-align: right;\">\n",
       "      <th></th>\n",
       "      <th>Year</th>\n",
       "      <th>Market</th>\n",
       "      <th>Profit</th>\n",
       "    </tr>\n",
       "  </thead>\n",
       "  <tbody>\n",
       "    <tr>\n",
       "      <th>0</th>\n",
       "      <td>2011</td>\n",
       "      <td>APAC</td>\n",
       "      <td>83031.57540</td>\n",
       "    </tr>\n",
       "    <tr>\n",
       "      <th>1</th>\n",
       "      <td>2011</td>\n",
       "      <td>Africa</td>\n",
       "      <td>10944.11400</td>\n",
       "    </tr>\n",
       "    <tr>\n",
       "      <th>2</th>\n",
       "      <td>2011</td>\n",
       "      <td>Canada</td>\n",
       "      <td>1807.08000</td>\n",
       "    </tr>\n",
       "    <tr>\n",
       "      <th>3</th>\n",
       "      <td>2011</td>\n",
       "      <td>EMEA</td>\n",
       "      <td>5280.03000</td>\n",
       "    </tr>\n",
       "    <tr>\n",
       "      <th>4</th>\n",
       "      <td>2011</td>\n",
       "      <td>EU</td>\n",
       "      <td>61625.62200</td>\n",
       "    </tr>\n",
       "    <tr>\n",
       "      <th>5</th>\n",
       "      <td>2011</td>\n",
       "      <td>LATAM</td>\n",
       "      <td>36708.41604</td>\n",
       "    </tr>\n",
       "    <tr>\n",
       "      <th>6</th>\n",
       "      <td>2011</td>\n",
       "      <td>US</td>\n",
       "      <td>49543.97410</td>\n",
       "    </tr>\n",
       "    <tr>\n",
       "      <th>7</th>\n",
       "      <td>2012</td>\n",
       "      <td>APAC</td>\n",
       "      <td>89410.85040</td>\n",
       "    </tr>\n",
       "    <tr>\n",
       "      <th>8</th>\n",
       "      <td>2012</td>\n",
       "      <td>Africa</td>\n",
       "      <td>11908.93500</td>\n",
       "    </tr>\n",
       "    <tr>\n",
       "      <th>9</th>\n",
       "      <td>2012</td>\n",
       "      <td>Canada</td>\n",
       "      <td>4887.84000</td>\n",
       "    </tr>\n",
       "    <tr>\n",
       "      <th>10</th>\n",
       "      <td>2012</td>\n",
       "      <td>EMEA</td>\n",
       "      <td>5419.57500</td>\n",
       "    </tr>\n",
       "    <tr>\n",
       "      <th>11</th>\n",
       "      <td>2012</td>\n",
       "      <td>EU</td>\n",
       "      <td>83984.57700</td>\n",
       "    </tr>\n",
       "    <tr>\n",
       "      <th>12</th>\n",
       "      <td>2012</td>\n",
       "      <td>LATAM</td>\n",
       "      <td>50184.89800</td>\n",
       "    </tr>\n",
       "    <tr>\n",
       "      <th>13</th>\n",
       "      <td>2012</td>\n",
       "      <td>US</td>\n",
       "      <td>61618.60370</td>\n",
       "    </tr>\n",
       "    <tr>\n",
       "      <th>14</th>\n",
       "      <td>2013</td>\n",
       "      <td>APAC</td>\n",
       "      <td>123103.12590</td>\n",
       "    </tr>\n",
       "    <tr>\n",
       "      <th>15</th>\n",
       "      <td>2013</td>\n",
       "      <td>Africa</td>\n",
       "      <td>26687.11200</td>\n",
       "    </tr>\n",
       "    <tr>\n",
       "      <th>16</th>\n",
       "      <td>2013</td>\n",
       "      <td>Canada</td>\n",
       "      <td>5129.46000</td>\n",
       "    </tr>\n",
       "    <tr>\n",
       "      <th>17</th>\n",
       "      <td>2013</td>\n",
       "      <td>EMEA</td>\n",
       "      <td>10598.04300</td>\n",
       "    </tr>\n",
       "    <tr>\n",
       "      <th>18</th>\n",
       "      <td>2013</td>\n",
       "      <td>EU</td>\n",
       "      <td>98275.18500</td>\n",
       "    </tr>\n",
       "    <tr>\n",
       "      <th>19</th>\n",
       "      <td>2013</td>\n",
       "      <td>LATAM</td>\n",
       "      <td>61415.37348</td>\n",
       "    </tr>\n",
       "    <tr>\n",
       "      <th>20</th>\n",
       "      <td>2013</td>\n",
       "      <td>US</td>\n",
       "      <td>81726.93080</td>\n",
       "    </tr>\n",
       "    <tr>\n",
       "      <th>21</th>\n",
       "      <td>2014</td>\n",
       "      <td>APAC</td>\n",
       "      <td>140454.49730</td>\n",
       "    </tr>\n",
       "    <tr>\n",
       "      <th>22</th>\n",
       "      <td>2014</td>\n",
       "      <td>Africa</td>\n",
       "      <td>39331.47000</td>\n",
       "    </tr>\n",
       "    <tr>\n",
       "      <th>23</th>\n",
       "      <td>2014</td>\n",
       "      <td>Canada</td>\n",
       "      <td>5993.01000</td>\n",
       "    </tr>\n",
       "    <tr>\n",
       "      <th>24</th>\n",
       "      <td>2014</td>\n",
       "      <td>EMEA</td>\n",
       "      <td>22600.32300</td>\n",
       "    </tr>\n",
       "    <tr>\n",
       "      <th>25</th>\n",
       "      <td>2014</td>\n",
       "      <td>EU</td>\n",
       "      <td>128944.35750</td>\n",
       "    </tr>\n",
       "    <tr>\n",
       "      <th>26</th>\n",
       "      <td>2014</td>\n",
       "      <td>LATAM</td>\n",
       "      <td>73334.79956</td>\n",
       "    </tr>\n",
       "    <tr>\n",
       "      <th>27</th>\n",
       "      <td>2014</td>\n",
       "      <td>US</td>\n",
       "      <td>93507.51310</td>\n",
       "    </tr>\n",
       "  </tbody>\n",
       "</table>\n",
       "</div>"
      ],
      "text/plain": [
       "    Year  Market        Profit\n",
       "0   2011    APAC   83031.57540\n",
       "1   2011  Africa   10944.11400\n",
       "2   2011  Canada    1807.08000\n",
       "3   2011    EMEA    5280.03000\n",
       "4   2011      EU   61625.62200\n",
       "5   2011   LATAM   36708.41604\n",
       "6   2011      US   49543.97410\n",
       "7   2012    APAC   89410.85040\n",
       "8   2012  Africa   11908.93500\n",
       "9   2012  Canada    4887.84000\n",
       "10  2012    EMEA    5419.57500\n",
       "11  2012      EU   83984.57700\n",
       "12  2012   LATAM   50184.89800\n",
       "13  2012      US   61618.60370\n",
       "14  2013    APAC  123103.12590\n",
       "15  2013  Africa   26687.11200\n",
       "16  2013  Canada    5129.46000\n",
       "17  2013    EMEA   10598.04300\n",
       "18  2013      EU   98275.18500\n",
       "19  2013   LATAM   61415.37348\n",
       "20  2013      US   81726.93080\n",
       "21  2014    APAC  140454.49730\n",
       "22  2014  Africa   39331.47000\n",
       "23  2014  Canada    5993.01000\n",
       "24  2014    EMEA   22600.32300\n",
       "25  2014      EU  128944.35750\n",
       "26  2014   LATAM   73334.79956\n",
       "27  2014      US   93507.51310"
      ]
     },
     "execution_count": 12,
     "metadata": {},
     "output_type": "execute_result"
    }
   ],
   "source": [
    "#Profit by Market\n",
    "profit_by_market = orders.groupby(by = (orders[\"Year\"], orders[\"Market\"]))[\"Profit\"].sum()\n",
    "profit_Year_Market = profit_by_market.reset_index()\n",
    "profit_Year_Market"
   ]
  },
  {
   "cell_type": "markdown",
   "metadata": {
    "slideshow": {
     "slide_type": "subslide"
    }
   },
   "source": [
    "#### Gráfico de linha Sales By Market "
   ]
  },
  {
   "cell_type": "code",
   "execution_count": 13,
   "metadata": {
    "slideshow": {
     "slide_type": "fragment"
    }
   },
   "outputs": [
    {
     "data": {
      "text/html": [
       "\n",
       "        <script>\n",
       "            function code_toggle_10231600021544385269() {\n",
       "                $('div.cell.code_cell.rendered.selected').next().find('div.input').toggle();\n",
       "            }\n",
       "\n",
       "            $('div.cell.code_cell.rendered.selected').find(\"div.input\").hide();\n",
       "        </script>\n",
       "\n",
       "        <form action=\"javascript:code_toggle_10231600021544385269()\"><input type=\"submit\" value=\"Mostrar / Esconder\"></form>\n",
       "        \n",
       "    "
      ],
      "text/plain": [
       "<IPython.core.display.HTML object>"
      ]
     },
     "execution_count": 13,
     "metadata": {},
     "output_type": "execute_result"
    }
   ],
   "source": [
    "esconder(next)"
   ]
  },
  {
   "cell_type": "code",
   "execution_count": 14,
   "metadata": {
    "slideshow": {
     "slide_type": "-"
    }
   },
   "outputs": [
    {
     "data": {
      "image/png": "[encoded data removed]",
      "text/plain": [
       "<Figure size 1080x504 with 2 Axes>"
      ]
     },
     "metadata": {
      "needs_background": "light"
     },
     "output_type": "display_data"
    }
   ],
   "source": [
    "#Gráfico de linha Sales By Market \n",
    "plt.figure(figsize = (15, 7))\n",
    "plt.subplot(2, 2, 1)\n",
    "plt.title(\"Evolution of Sales by Market\")\n",
    "ax = sns.lineplot(x = \"Year\", y = \"Sales\", hue = \"Market\", data = sales_Year_Market) #evolution of sales by market\n",
    "plt.legend(bbox_to_anchor=(1.05, 1), loc='upper left', borderaxespad=0.)\n",
    "\n",
    "#Gráfico de linha Profit By Market\n",
    "plt.subplot(2, 2, 3)\n",
    "plt.title(\"Evolution of Profit by Market\")\n",
    "ax = sns.lineplot(x = \"Year\", y = \"Profit\", hue = \"Market\", data = profit_Year_Market) #evolution of profit by market\n",
    "plt.legend(bbox_to_anchor=(1.05, 1), loc='upper left', borderaxespad=0.)\n",
    "\n",
    "plt.tight_layout()"
   ]
  },
  {
   "cell_type": "code",
   "execution_count": 15,
   "metadata": {
    "slideshow": {
     "slide_type": "skip"
    }
   },
   "outputs": [
    {
     "name": "stderr",
     "output_type": "stream",
     "text": [
      "C:\\ProgramData\\Anaconda3\\lib\\site-packages\\ipykernel_launcher.py:1: FutureWarning:\n",
      "\n",
      "Interpreting tuple 'by' as a list of keys, rather than a single key. Use 'by=[...]' instead of 'by=(...)'. In the future, a tuple will always mean a single key.\n",
      "\n"
     ]
    },
    {
     "data": {
      "text/html": [
       "<div>\n",
       "<style scoped>\n",
       "    .dataframe tbody tr th:only-of-type {\n",
       "        vertical-align: middle;\n",
       "    }\n",
       "\n",
       "    .dataframe tbody tr th {\n",
       "        vertical-align: top;\n",
       "    }\n",
       "\n",
       "    .dataframe thead th {\n",
       "        text-align: right;\n",
       "    }\n",
       "</style>\n",
       "<table border=\"1\" class=\"dataframe\">\n",
       "  <thead>\n",
       "    <tr style=\"text-align: right;\">\n",
       "      <th></th>\n",
       "      <th>Year</th>\n",
       "      <th>Country</th>\n",
       "      <th>Sales</th>\n",
       "    </tr>\n",
       "  </thead>\n",
       "  <tbody>\n",
       "    <tr>\n",
       "      <th>0</th>\n",
       "      <td>2011</td>\n",
       "      <td>Afghanistan</td>\n",
       "      <td>1729.41000</td>\n",
       "    </tr>\n",
       "    <tr>\n",
       "      <th>1</th>\n",
       "      <td>2011</td>\n",
       "      <td>Albania</td>\n",
       "      <td>1707.54000</td>\n",
       "    </tr>\n",
       "    <tr>\n",
       "      <th>2</th>\n",
       "      <td>2011</td>\n",
       "      <td>Algeria</td>\n",
       "      <td>8539.80000</td>\n",
       "    </tr>\n",
       "    <tr>\n",
       "      <th>3</th>\n",
       "      <td>2011</td>\n",
       "      <td>Angola</td>\n",
       "      <td>6416.91000</td>\n",
       "    </tr>\n",
       "    <tr>\n",
       "      <th>4</th>\n",
       "      <td>2011</td>\n",
       "      <td>Argentina</td>\n",
       "      <td>8739.30512</td>\n",
       "    </tr>\n",
       "    <tr>\n",
       "      <th>...</th>\n",
       "      <td>...</td>\n",
       "      <td>...</td>\n",
       "      <td>...</td>\n",
       "    </tr>\n",
       "    <tr>\n",
       "      <th>532</th>\n",
       "      <td>2014</td>\n",
       "      <td>Venezuela</td>\n",
       "      <td>10059.60312</td>\n",
       "    </tr>\n",
       "    <tr>\n",
       "      <th>533</th>\n",
       "      <td>2014</td>\n",
       "      <td>Vietnam</td>\n",
       "      <td>19246.86390</td>\n",
       "    </tr>\n",
       "    <tr>\n",
       "      <th>534</th>\n",
       "      <td>2014</td>\n",
       "      <td>Yemen</td>\n",
       "      <td>448.71300</td>\n",
       "    </tr>\n",
       "    <tr>\n",
       "      <th>535</th>\n",
       "      <td>2014</td>\n",
       "      <td>Zambia</td>\n",
       "      <td>5398.62000</td>\n",
       "    </tr>\n",
       "    <tr>\n",
       "      <th>536</th>\n",
       "      <td>2014</td>\n",
       "      <td>Zimbabwe</td>\n",
       "      <td>1440.88200</td>\n",
       "    </tr>\n",
       "  </tbody>\n",
       "</table>\n",
       "<p>537 rows × 3 columns</p>\n",
       "</div>"
      ],
      "text/plain": [
       "     Year      Country        Sales\n",
       "0    2011  Afghanistan   1729.41000\n",
       "1    2011      Albania   1707.54000\n",
       "2    2011      Algeria   8539.80000\n",
       "3    2011       Angola   6416.91000\n",
       "4    2011    Argentina   8739.30512\n",
       "..    ...          ...          ...\n",
       "532  2014    Venezuela  10059.60312\n",
       "533  2014      Vietnam  19246.86390\n",
       "534  2014        Yemen    448.71300\n",
       "535  2014       Zambia   5398.62000\n",
       "536  2014     Zimbabwe   1440.88200\n",
       "\n",
       "[537 rows x 3 columns]"
      ]
     },
     "execution_count": 15,
     "metadata": {},
     "output_type": "execute_result"
    }
   ],
   "source": [
    "temp = orders.groupby(by = (\"Year\", \"Country\"))[\"Sales\"].sum()\n",
    "annual_sales_country = temp.reset_index()\n",
    "annual_sales_country"
   ]
  },
  {
   "cell_type": "code",
   "execution_count": 16,
   "metadata": {
    "slideshow": {
     "slide_type": "skip"
    }
   },
   "outputs": [
    {
     "data": {
      "text/html": [
       "<div>\n",
       "<style scoped>\n",
       "    .dataframe tbody tr th:only-of-type {\n",
       "        vertical-align: middle;\n",
       "    }\n",
       "\n",
       "    .dataframe tbody tr th {\n",
       "        vertical-align: top;\n",
       "    }\n",
       "\n",
       "    .dataframe thead th {\n",
       "        text-align: right;\n",
       "    }\n",
       "</style>\n",
       "<table border=\"1\" class=\"dataframe\">\n",
       "  <thead>\n",
       "    <tr style=\"text-align: right;\">\n",
       "      <th></th>\n",
       "      <th>Year</th>\n",
       "      <th>Country</th>\n",
       "      <th>Sales</th>\n",
       "    </tr>\n",
       "  </thead>\n",
       "  <tbody>\n",
       "    <tr>\n",
       "      <th>125</th>\n",
       "      <td>2011</td>\n",
       "      <td>United States</td>\n",
       "      <td>484247.49810</td>\n",
       "    </tr>\n",
       "    <tr>\n",
       "      <th>24</th>\n",
       "      <td>2011</td>\n",
       "      <td>China</td>\n",
       "      <td>155693.61300</td>\n",
       "    </tr>\n",
       "    <tr>\n",
       "      <th>6</th>\n",
       "      <td>2011</td>\n",
       "      <td>Australia</td>\n",
       "      <td>137580.06000</td>\n",
       "    </tr>\n",
       "    <tr>\n",
       "      <th>40</th>\n",
       "      <td>2011</td>\n",
       "      <td>France</td>\n",
       "      <td>128194.51500</td>\n",
       "    </tr>\n",
       "    <tr>\n",
       "      <th>73</th>\n",
       "      <td>2011</td>\n",
       "      <td>Mexico</td>\n",
       "      <td>111361.04820</td>\n",
       "    </tr>\n",
       "    <tr>\n",
       "      <th>42</th>\n",
       "      <td>2011</td>\n",
       "      <td>Germany</td>\n",
       "      <td>110006.78100</td>\n",
       "    </tr>\n",
       "    <tr>\n",
       "      <th>51</th>\n",
       "      <td>2011</td>\n",
       "      <td>India</td>\n",
       "      <td>91396.00500</td>\n",
       "    </tr>\n",
       "    <tr>\n",
       "      <th>124</th>\n",
       "      <td>2011</td>\n",
       "      <td>United Kingdom</td>\n",
       "      <td>86188.55100</td>\n",
       "    </tr>\n",
       "    <tr>\n",
       "      <th>52</th>\n",
       "      <td>2011</td>\n",
       "      <td>Indonesia</td>\n",
       "      <td>62253.48210</td>\n",
       "    </tr>\n",
       "    <tr>\n",
       "      <th>16</th>\n",
       "      <td>2011</td>\n",
       "      <td>Brazil</td>\n",
       "      <td>57019.66100</td>\n",
       "    </tr>\n",
       "    <tr>\n",
       "      <th>254</th>\n",
       "      <td>2012</td>\n",
       "      <td>United States</td>\n",
       "      <td>470532.50900</td>\n",
       "    </tr>\n",
       "    <tr>\n",
       "      <th>138</th>\n",
       "      <td>2012</td>\n",
       "      <td>Australia</td>\n",
       "      <td>203950.84200</td>\n",
       "    </tr>\n",
       "    <tr>\n",
       "      <th>170</th>\n",
       "      <td>2012</td>\n",
       "      <td>France</td>\n",
       "      <td>192184.58100</td>\n",
       "    </tr>\n",
       "    <tr>\n",
       "      <th>204</th>\n",
       "      <td>2012</td>\n",
       "      <td>Mexico</td>\n",
       "      <td>156964.97000</td>\n",
       "    </tr>\n",
       "    <tr>\n",
       "      <th>173</th>\n",
       "      <td>2012</td>\n",
       "      <td>Germany</td>\n",
       "      <td>154835.14800</td>\n",
       "    </tr>\n",
       "    <tr>\n",
       "      <th>181</th>\n",
       "      <td>2012</td>\n",
       "      <td>India</td>\n",
       "      <td>141493.03500</td>\n",
       "    </tr>\n",
       "    <tr>\n",
       "      <th>156</th>\n",
       "      <td>2012</td>\n",
       "      <td>China</td>\n",
       "      <td>130224.87300</td>\n",
       "    </tr>\n",
       "    <tr>\n",
       "      <th>253</th>\n",
       "      <td>2012</td>\n",
       "      <td>United Kingdom</td>\n",
       "      <td>124335.90600</td>\n",
       "    </tr>\n",
       "    <tr>\n",
       "      <th>182</th>\n",
       "      <td>2012</td>\n",
       "      <td>Indonesia</td>\n",
       "      <td>93407.41170</td>\n",
       "    </tr>\n",
       "    <tr>\n",
       "      <th>148</th>\n",
       "      <td>2012</td>\n",
       "      <td>Brazil</td>\n",
       "      <td>91609.38864</td>\n",
       "    </tr>\n",
       "    <tr>\n",
       "      <th>391</th>\n",
       "      <td>2013</td>\n",
       "      <td>United States</td>\n",
       "      <td>608473.83000</td>\n",
       "    </tr>\n",
       "    <tr>\n",
       "      <th>268</th>\n",
       "      <td>2013</td>\n",
       "      <td>Australia</td>\n",
       "      <td>268971.84900</td>\n",
       "    </tr>\n",
       "    <tr>\n",
       "      <th>305</th>\n",
       "      <td>2013</td>\n",
       "      <td>France</td>\n",
       "      <td>230114.67750</td>\n",
       "    </tr>\n",
       "    <tr>\n",
       "      <th>287</th>\n",
       "      <td>2013</td>\n",
       "      <td>China</td>\n",
       "      <td>195664.24500</td>\n",
       "    </tr>\n",
       "    <tr>\n",
       "      <th>340</th>\n",
       "      <td>2013</td>\n",
       "      <td>Mexico</td>\n",
       "      <td>158784.90380</td>\n",
       "    </tr>\n",
       "    <tr>\n",
       "      <th>317</th>\n",
       "      <td>2013</td>\n",
       "      <td>India</td>\n",
       "      <td>151729.08000</td>\n",
       "    </tr>\n",
       "    <tr>\n",
       "      <th>307</th>\n",
       "      <td>2013</td>\n",
       "      <td>Germany</td>\n",
       "      <td>147461.07450</td>\n",
       "    </tr>\n",
       "    <tr>\n",
       "      <th>390</th>\n",
       "      <td>2013</td>\n",
       "      <td>United Kingdom</td>\n",
       "      <td>124046.80200</td>\n",
       "    </tr>\n",
       "    <tr>\n",
       "      <th>318</th>\n",
       "      <td>2013</td>\n",
       "      <td>Indonesia</td>\n",
       "      <td>103891.82310</td>\n",
       "    </tr>\n",
       "    <tr>\n",
       "      <th>279</th>\n",
       "      <td>2013</td>\n",
       "      <td>Brazil</td>\n",
       "      <td>92705.25600</td>\n",
       "    </tr>\n",
       "    <tr>\n",
       "      <th>529</th>\n",
       "      <td>2014</td>\n",
       "      <td>United States</td>\n",
       "      <td>733947.02320</td>\n",
       "    </tr>\n",
       "    <tr>\n",
       "      <th>404</th>\n",
       "      <td>2014</td>\n",
       "      <td>Australia</td>\n",
       "      <td>314733.10200</td>\n",
       "    </tr>\n",
       "    <tr>\n",
       "      <th>436</th>\n",
       "      <td>2014</td>\n",
       "      <td>France</td>\n",
       "      <td>308437.30950</td>\n",
       "    </tr>\n",
       "    <tr>\n",
       "      <th>421</th>\n",
       "      <td>2014</td>\n",
       "      <td>China</td>\n",
       "      <td>218979.29400</td>\n",
       "    </tr>\n",
       "    <tr>\n",
       "      <th>439</th>\n",
       "      <td>2014</td>\n",
       "      <td>Germany</td>\n",
       "      <td>216537.02700</td>\n",
       "    </tr>\n",
       "    <tr>\n",
       "      <th>448</th>\n",
       "      <td>2014</td>\n",
       "      <td>India</td>\n",
       "      <td>205031.98500</td>\n",
       "    </tr>\n",
       "    <tr>\n",
       "      <th>471</th>\n",
       "      <td>2014</td>\n",
       "      <td>Mexico</td>\n",
       "      <td>195479.69552</td>\n",
       "    </tr>\n",
       "    <tr>\n",
       "      <th>528</th>\n",
       "      <td>2014</td>\n",
       "      <td>United Kingdom</td>\n",
       "      <td>194005.04100</td>\n",
       "    </tr>\n",
       "    <tr>\n",
       "      <th>449</th>\n",
       "      <td>2014</td>\n",
       "      <td>Indonesia</td>\n",
       "      <td>145334.78100</td>\n",
       "    </tr>\n",
       "    <tr>\n",
       "      <th>414</th>\n",
       "      <td>2014</td>\n",
       "      <td>Brazil</td>\n",
       "      <td>119772.11332</td>\n",
       "    </tr>\n",
       "  </tbody>\n",
       "</table>\n",
       "</div>"
      ],
      "text/plain": [
       "     Year         Country         Sales\n",
       "125  2011   United States  484247.49810\n",
       "24   2011           China  155693.61300\n",
       "6    2011       Australia  137580.06000\n",
       "40   2011          France  128194.51500\n",
       "73   2011          Mexico  111361.04820\n",
       "42   2011         Germany  110006.78100\n",
       "51   2011           India   91396.00500\n",
       "124  2011  United Kingdom   86188.55100\n",
       "52   2011       Indonesia   62253.48210\n",
       "16   2011          Brazil   57019.66100\n",
       "254  2012   United States  470532.50900\n",
       "138  2012       Australia  203950.84200\n",
       "170  2012          France  192184.58100\n",
       "204  2012          Mexico  156964.97000\n",
       "173  2012         Germany  154835.14800\n",
       "181  2012           India  141493.03500\n",
       "156  2012           China  130224.87300\n",
       "253  2012  United Kingdom  124335.90600\n",
       "182  2012       Indonesia   93407.41170\n",
       "148  2012          Brazil   91609.38864\n",
       "391  2013   United States  608473.83000\n",
       "268  2013       Australia  268971.84900\n",
       "305  2013          France  230114.67750\n",
       "287  2013           China  195664.24500\n",
       "340  2013          Mexico  158784.90380\n",
       "317  2013           India  151729.08000\n",
       "307  2013         Germany  147461.07450\n",
       "390  2013  United Kingdom  124046.80200\n",
       "318  2013       Indonesia  103891.82310\n",
       "279  2013          Brazil   92705.25600\n",
       "529  2014   United States  733947.02320\n",
       "404  2014       Australia  314733.10200\n",
       "436  2014          France  308437.30950\n",
       "421  2014           China  218979.29400\n",
       "439  2014         Germany  216537.02700\n",
       "448  2014           India  205031.98500\n",
       "471  2014          Mexico  195479.69552\n",
       "528  2014  United Kingdom  194005.04100\n",
       "449  2014       Indonesia  145334.78100\n",
       "414  2014          Brazil  119772.11332"
      ]
     },
     "execution_count": 16,
     "metadata": {},
     "output_type": "execute_result"
    }
   ],
   "source": [
    "#filtrando apenas os top10 de cada ano\n",
    "sales_2011 = annual_sales_country[annual_sales_country[\"Year\"] == \"2011\"]\n",
    "top10_2011 = sales_2011.sort_values(['Sales'], ascending=False).head(10)\n",
    "\n",
    "sales_2012 = annual_sales_country[annual_sales_country[\"Year\"] == \"2012\"]\n",
    "top10_2012 = sales_2012.sort_values(['Sales'], ascending=False).head(10)\n",
    "\n",
    "sales_2013 = annual_sales_country[annual_sales_country[\"Year\"] == \"2013\"]\n",
    "top10_2013 = sales_2013.sort_values(['Sales'], ascending=False).head(10)\n",
    "\n",
    "sales_2014 = annual_sales_country[annual_sales_country[\"Year\"] == \"2014\"]\n",
    "top10_2014 = sales_2014.sort_values(['Sales'], ascending=False).head(10)\n",
    "#planilha completa com os top10\n",
    "top10_sales = pd.concat([top10_2011, top10_2012, top10_2013, top10_2014])\n",
    "top10_sales"
   ]
  },
  {
   "cell_type": "markdown",
   "metadata": {
    "slideshow": {
     "slide_type": "subslide"
    }
   },
   "source": [
    "#### Top10"
   ]
  },
  {
   "cell_type": "code",
   "execution_count": 17,
   "metadata": {
    "slideshow": {
     "slide_type": "fragment"
    }
   },
   "outputs": [
    {
     "data": {
      "text/plain": [
       "<matplotlib.legend.Legend at 0x20275080>"
      ]
     },
     "execution_count": 17,
     "metadata": {},
     "output_type": "execute_result"
    },
    {
     "data": {
      "image/png": "[encoded data removed]",
      "text/plain": [
       "<Figure size 720x504 with 1 Axes>"
      ]
     },
     "metadata": {
      "needs_background": "light"
     },
     "output_type": "display_data"
    }
   ],
   "source": [
    "plt.figure(figsize = (10, 7))\n",
    "plt.subplot(1, 1, 1)\n",
    "plt.title(\"Evolution of Sales - Top 10 Countries\")\n",
    "ax = sns.lineplot(x = \"Year\", y = \"Sales\", hue = \"Country\", data = top10_sales) #evolution of sales - top 10 countries\n",
    "plt.legend(bbox_to_anchor=(1.05, 1), loc='upper left', borderaxespad=0.)\n"
   ]
  },
  {
   "cell_type": "markdown",
   "metadata": {
    "slideshow": {
     "slide_type": "subslide"
    }
   },
   "source": [
    "## Distribuição de Sales por País por Ano - Com Outliers"
   ]
  },
  {
   "cell_type": "code",
   "execution_count": 18,
   "metadata": {
    "slideshow": {
     "slide_type": "skip"
    }
   },
   "outputs": [
    {
     "data": {
      "text/html": [
       "\n",
       "        <script>\n",
       "            function code_toggle_8497779068301892161() {\n",
       "                $('div.cell.code_cell.rendered.selected').next().find('div.input').toggle();\n",
       "            }\n",
       "\n",
       "            $('div.cell.code_cell.rendered.selected').find(\"div.input\").hide();\n",
       "        </script>\n",
       "\n",
       "        <form action=\"javascript:code_toggle_8497779068301892161()\"><input type=\"submit\" value=\"Mostrar / Esconder\"></form>\n",
       "        \n",
       "    "
      ],
      "text/plain": [
       "<IPython.core.display.HTML object>"
      ]
     },
     "execution_count": 18,
     "metadata": {},
     "output_type": "execute_result"
    }
   ],
   "source": [
    "esconder(next)"
   ]
  },
  {
   "cell_type": "code",
   "execution_count": 19,
   "metadata": {
    "slideshow": {
     "slide_type": "-"
    }
   },
   "outputs": [
    {
     "data": {
      "image/png": "[encoded data removed]",
      "text/plain": [
       "<Figure size 720x432 with 2 Axes>"
      ]
     },
     "metadata": {
      "needs_background": "light"
     },
     "output_type": "display_data"
    }
   ],
   "source": [
    "plt.figure(figsize = (10, 6))\n",
    "plt.subplot(2, 1, 1)\n",
    "ax1 = sns.boxplot(x = \"Year\", y = \"Sales\", data = annual_sales_country)\n",
    "plt.title(\"Distribuição de Sales por País por Ano - Com Outliers\")\n",
    "\n",
    "plt.subplot(2, 1, 2)\n",
    "ax2 = sns.boxplot(x = \"Year\", y = \"Sales\", data = annual_sales_country, showfliers = False)\n",
    "plt.title(\"Distribuição de Sales por País por Ano - Sem Outliers\")\n",
    "plt.tight_layout()"
   ]
  },
  {
   "cell_type": "code",
   "execution_count": 20,
   "metadata": {
    "slideshow": {
     "slide_type": "skip"
    }
   },
   "outputs": [
    {
     "name": "stderr",
     "output_type": "stream",
     "text": [
      "C:\\ProgramData\\Anaconda3\\lib\\site-packages\\ipykernel_launcher.py:1: FutureWarning:\n",
      "\n",
      "Interpreting tuple 'by' as a list of keys, rather than a single key. Use 'by=[...]' instead of 'by=(...)'. In the future, a tuple will always mean a single key.\n",
      "\n"
     ]
    },
    {
     "data": {
      "text/html": [
       "<div>\n",
       "<style scoped>\n",
       "    .dataframe tbody tr th:only-of-type {\n",
       "        vertical-align: middle;\n",
       "    }\n",
       "\n",
       "    .dataframe tbody tr th {\n",
       "        vertical-align: top;\n",
       "    }\n",
       "\n",
       "    .dataframe thead th {\n",
       "        text-align: right;\n",
       "    }\n",
       "</style>\n",
       "<table border=\"1\" class=\"dataframe\">\n",
       "  <thead>\n",
       "    <tr style=\"text-align: right;\">\n",
       "      <th></th>\n",
       "      <th>Year</th>\n",
       "      <th>Country</th>\n",
       "      <th>Profit</th>\n",
       "    </tr>\n",
       "  </thead>\n",
       "  <tbody>\n",
       "    <tr>\n",
       "      <th>0</th>\n",
       "      <td>2011</td>\n",
       "      <td>Afghanistan</td>\n",
       "      <td>293.94000</td>\n",
       "    </tr>\n",
       "    <tr>\n",
       "      <th>1</th>\n",
       "      <td>2011</td>\n",
       "      <td>Albania</td>\n",
       "      <td>267.54000</td>\n",
       "    </tr>\n",
       "    <tr>\n",
       "      <th>2</th>\n",
       "      <td>2011</td>\n",
       "      <td>Algeria</td>\n",
       "      <td>1736.31000</td>\n",
       "    </tr>\n",
       "    <tr>\n",
       "      <th>3</th>\n",
       "      <td>2011</td>\n",
       "      <td>Angola</td>\n",
       "      <td>1015.71000</td>\n",
       "    </tr>\n",
       "    <tr>\n",
       "      <th>4</th>\n",
       "      <td>2011</td>\n",
       "      <td>Argentina</td>\n",
       "      <td>-2468.73488</td>\n",
       "    </tr>\n",
       "    <tr>\n",
       "      <th>...</th>\n",
       "      <td>...</td>\n",
       "      <td>...</td>\n",
       "      <td>...</td>\n",
       "    </tr>\n",
       "    <tr>\n",
       "      <th>532</th>\n",
       "      <td>2014</td>\n",
       "      <td>Venezuela</td>\n",
       "      <td>-3753.15688</td>\n",
       "    </tr>\n",
       "    <tr>\n",
       "      <th>533</th>\n",
       "      <td>2014</td>\n",
       "      <td>Vietnam</td>\n",
       "      <td>-488.99610</td>\n",
       "    </tr>\n",
       "    <tr>\n",
       "      <th>534</th>\n",
       "      <td>2014</td>\n",
       "      <td>Yemen</td>\n",
       "      <td>-730.10700</td>\n",
       "    </tr>\n",
       "    <tr>\n",
       "      <th>535</th>\n",
       "      <td>2014</td>\n",
       "      <td>Zambia</td>\n",
       "      <td>1665.78000</td>\n",
       "    </tr>\n",
       "    <tr>\n",
       "      <th>536</th>\n",
       "      <td>2014</td>\n",
       "      <td>Zimbabwe</td>\n",
       "      <td>-2218.57800</td>\n",
       "    </tr>\n",
       "  </tbody>\n",
       "</table>\n",
       "<p>537 rows × 3 columns</p>\n",
       "</div>"
      ],
      "text/plain": [
       "     Year      Country      Profit\n",
       "0    2011  Afghanistan   293.94000\n",
       "1    2011      Albania   267.54000\n",
       "2    2011      Algeria  1736.31000\n",
       "3    2011       Angola  1015.71000\n",
       "4    2011    Argentina -2468.73488\n",
       "..    ...          ...         ...\n",
       "532  2014    Venezuela -3753.15688\n",
       "533  2014      Vietnam  -488.99610\n",
       "534  2014        Yemen  -730.10700\n",
       "535  2014       Zambia  1665.78000\n",
       "536  2014     Zimbabwe -2218.57800\n",
       "\n",
       "[537 rows x 3 columns]"
      ]
     },
     "execution_count": 20,
     "metadata": {},
     "output_type": "execute_result"
    }
   ],
   "source": [
    "temp = orders.groupby(by = (\"Year\", \"Country\"))[\"Profit\"].sum()\n",
    "annual_profit_country = temp.reset_index()\n",
    "annual_profit_country"
   ]
  },
  {
   "cell_type": "code",
   "execution_count": 21,
   "metadata": {
    "slideshow": {
     "slide_type": "skip"
    }
   },
   "outputs": [],
   "source": [
    "#filtrando apenas os top10 de cada ano\n",
    "profit_2011 = annual_profit_country[annual_profit_country[\"Year\"] == \"2011\"]\n",
    "ptop10_2011 = profit_2011.sort_values(['Profit'], ascending=False).head(10)\n",
    "\n",
    "profit_2012 = annual_profit_country[annual_profit_country[\"Year\"] == \"2012\"]\n",
    "ptop10_2012 = profit_2012.sort_values(['Profit'], ascending=False).head(10)\n",
    "\n",
    "profit_2013 = annual_profit_country[annual_profit_country[\"Year\"] == \"2013\"]\n",
    "ptop10_2013 = profit_2013.sort_values(['Profit'], ascending=False).head(10)\n",
    "\n",
    "profit_2014 = annual_profit_country[annual_profit_country[\"Year\"] == \"2014\"]\n",
    "ptop10_2014 = profit_2014.sort_values(['Profit'], ascending=False).head(10)"
   ]
  },
  {
   "cell_type": "code",
   "execution_count": 22,
   "metadata": {
    "slideshow": {
     "slide_type": "skip"
    }
   },
   "outputs": [
    {
     "data": {
      "text/html": [
       "<div>\n",
       "<style scoped>\n",
       "    .dataframe tbody tr th:only-of-type {\n",
       "        vertical-align: middle;\n",
       "    }\n",
       "\n",
       "    .dataframe tbody tr th {\n",
       "        vertical-align: top;\n",
       "    }\n",
       "\n",
       "    .dataframe thead th {\n",
       "        text-align: right;\n",
       "    }\n",
       "</style>\n",
       "<table border=\"1\" class=\"dataframe\">\n",
       "  <thead>\n",
       "    <tr style=\"text-align: right;\">\n",
       "      <th></th>\n",
       "      <th>Year</th>\n",
       "      <th>Country</th>\n",
       "      <th>Profit</th>\n",
       "    </tr>\n",
       "  </thead>\n",
       "  <tbody>\n",
       "    <tr>\n",
       "      <th>125</th>\n",
       "      <td>2011</td>\n",
       "      <td>United States</td>\n",
       "      <td>49543.97410</td>\n",
       "    </tr>\n",
       "    <tr>\n",
       "      <th>24</th>\n",
       "      <td>2011</td>\n",
       "      <td>China</td>\n",
       "      <td>33181.38300</td>\n",
       "    </tr>\n",
       "    <tr>\n",
       "      <th>124</th>\n",
       "      <td>2011</td>\n",
       "      <td>United Kingdom</td>\n",
       "      <td>20080.22100</td>\n",
       "    </tr>\n",
       "    <tr>\n",
       "      <th>51</th>\n",
       "      <td>2011</td>\n",
       "      <td>India</td>\n",
       "      <td>19928.50500</td>\n",
       "    </tr>\n",
       "    <tr>\n",
       "      <th>42</th>\n",
       "      <td>2011</td>\n",
       "      <td>Germany</td>\n",
       "      <td>19554.86100</td>\n",
       "    </tr>\n",
       "    <tr>\n",
       "      <th>73</th>\n",
       "      <td>2011</td>\n",
       "      <td>Mexico</td>\n",
       "      <td>18521.74820</td>\n",
       "    </tr>\n",
       "    <tr>\n",
       "      <th>40</th>\n",
       "      <td>2011</td>\n",
       "      <td>France</td>\n",
       "      <td>18435.67500</td>\n",
       "    </tr>\n",
       "    <tr>\n",
       "      <th>6</th>\n",
       "      <td>2011</td>\n",
       "      <td>Australia</td>\n",
       "      <td>17516.73000</td>\n",
       "    </tr>\n",
       "    <tr>\n",
       "      <th>36</th>\n",
       "      <td>2011</td>\n",
       "      <td>El Salvador</td>\n",
       "      <td>9168.00024</td>\n",
       "    </tr>\n",
       "    <tr>\n",
       "      <th>107</th>\n",
       "      <td>2011</td>\n",
       "      <td>Spain</td>\n",
       "      <td>8644.84500</td>\n",
       "    </tr>\n",
       "    <tr>\n",
       "      <th>254</th>\n",
       "      <td>2012</td>\n",
       "      <td>United States</td>\n",
       "      <td>61618.60370</td>\n",
       "    </tr>\n",
       "    <tr>\n",
       "      <th>181</th>\n",
       "      <td>2012</td>\n",
       "      <td>India</td>\n",
       "      <td>27438.79500</td>\n",
       "    </tr>\n",
       "    <tr>\n",
       "      <th>253</th>\n",
       "      <td>2012</td>\n",
       "      <td>United Kingdom</td>\n",
       "      <td>27365.88600</td>\n",
       "    </tr>\n",
       "    <tr>\n",
       "      <th>156</th>\n",
       "      <td>2012</td>\n",
       "      <td>China</td>\n",
       "      <td>26233.77300</td>\n",
       "    </tr>\n",
       "    <tr>\n",
       "      <th>138</th>\n",
       "      <td>2012</td>\n",
       "      <td>Australia</td>\n",
       "      <td>25528.72200</td>\n",
       "    </tr>\n",
       "    <tr>\n",
       "      <th>204</th>\n",
       "      <td>2012</td>\n",
       "      <td>Mexico</td>\n",
       "      <td>24955.27000</td>\n",
       "    </tr>\n",
       "    <tr>\n",
       "      <th>173</th>\n",
       "      <td>2012</td>\n",
       "      <td>Germany</td>\n",
       "      <td>24867.43800</td>\n",
       "    </tr>\n",
       "    <tr>\n",
       "      <th>170</th>\n",
       "      <td>2012</td>\n",
       "      <td>France</td>\n",
       "      <td>23034.74100</td>\n",
       "    </tr>\n",
       "    <tr>\n",
       "      <th>148</th>\n",
       "      <td>2012</td>\n",
       "      <td>Brazil</td>\n",
       "      <td>9643.80864</td>\n",
       "    </tr>\n",
       "    <tr>\n",
       "      <th>238</th>\n",
       "      <td>2012</td>\n",
       "      <td>Spain</td>\n",
       "      <td>8953.46100</td>\n",
       "    </tr>\n",
       "    <tr>\n",
       "      <th>391</th>\n",
       "      <td>2013</td>\n",
       "      <td>United States</td>\n",
       "      <td>81726.93080</td>\n",
       "    </tr>\n",
       "    <tr>\n",
       "      <th>287</th>\n",
       "      <td>2013</td>\n",
       "      <td>China</td>\n",
       "      <td>44473.93500</td>\n",
       "    </tr>\n",
       "    <tr>\n",
       "      <th>317</th>\n",
       "      <td>2013</td>\n",
       "      <td>India</td>\n",
       "      <td>32896.86000</td>\n",
       "    </tr>\n",
       "    <tr>\n",
       "      <th>305</th>\n",
       "      <td>2013</td>\n",
       "      <td>France</td>\n",
       "      <td>32416.47750</td>\n",
       "    </tr>\n",
       "    <tr>\n",
       "      <th>268</th>\n",
       "      <td>2013</td>\n",
       "      <td>Australia</td>\n",
       "      <td>28831.77900</td>\n",
       "    </tr>\n",
       "    <tr>\n",
       "      <th>340</th>\n",
       "      <td>2013</td>\n",
       "      <td>Mexico</td>\n",
       "      <td>28010.26380</td>\n",
       "    </tr>\n",
       "    <tr>\n",
       "      <th>390</th>\n",
       "      <td>2013</td>\n",
       "      <td>United Kingdom</td>\n",
       "      <td>27698.44200</td>\n",
       "    </tr>\n",
       "    <tr>\n",
       "      <th>307</th>\n",
       "      <td>2013</td>\n",
       "      <td>Germany</td>\n",
       "      <td>26944.47450</td>\n",
       "    </tr>\n",
       "    <tr>\n",
       "      <th>373</th>\n",
       "      <td>2013</td>\n",
       "      <td>Spain</td>\n",
       "      <td>16198.00500</td>\n",
       "    </tr>\n",
       "    <tr>\n",
       "      <th>299</th>\n",
       "      <td>2013</td>\n",
       "      <td>El Salvador</td>\n",
       "      <td>13165.81124</td>\n",
       "    </tr>\n",
       "    <tr>\n",
       "      <th>529</th>\n",
       "      <td>2014</td>\n",
       "      <td>United States</td>\n",
       "      <td>93507.51310</td>\n",
       "    </tr>\n",
       "    <tr>\n",
       "      <th>448</th>\n",
       "      <td>2014</td>\n",
       "      <td>India</td>\n",
       "      <td>48807.67500</td>\n",
       "    </tr>\n",
       "    <tr>\n",
       "      <th>421</th>\n",
       "      <td>2014</td>\n",
       "      <td>China</td>\n",
       "      <td>46793.99400</td>\n",
       "    </tr>\n",
       "    <tr>\n",
       "      <th>528</th>\n",
       "      <td>2014</td>\n",
       "      <td>United Kingdom</td>\n",
       "      <td>36755.60100</td>\n",
       "    </tr>\n",
       "    <tr>\n",
       "      <th>439</th>\n",
       "      <td>2014</td>\n",
       "      <td>Germany</td>\n",
       "      <td>35956.04700</td>\n",
       "    </tr>\n",
       "    <tr>\n",
       "      <th>436</th>\n",
       "      <td>2014</td>\n",
       "      <td>France</td>\n",
       "      <td>35142.10950</td>\n",
       "    </tr>\n",
       "    <tr>\n",
       "      <th>404</th>\n",
       "      <td>2014</td>\n",
       "      <td>Australia</td>\n",
       "      <td>32030.20200</td>\n",
       "    </tr>\n",
       "    <tr>\n",
       "      <th>471</th>\n",
       "      <td>2014</td>\n",
       "      <td>Mexico</td>\n",
       "      <td>31330.81552</td>\n",
       "    </tr>\n",
       "    <tr>\n",
       "      <th>509</th>\n",
       "      <td>2014</td>\n",
       "      <td>Spain</td>\n",
       "      <td>20593.80900</td>\n",
       "    </tr>\n",
       "    <tr>\n",
       "      <th>414</th>\n",
       "      <td>2014</td>\n",
       "      <td>Brazil</td>\n",
       "      <td>15422.75332</td>\n",
       "    </tr>\n",
       "  </tbody>\n",
       "</table>\n",
       "</div>"
      ],
      "text/plain": [
       "     Year         Country       Profit\n",
       "125  2011   United States  49543.97410\n",
       "24   2011           China  33181.38300\n",
       "124  2011  United Kingdom  20080.22100\n",
       "51   2011           India  19928.50500\n",
       "42   2011         Germany  19554.86100\n",
       "73   2011          Mexico  18521.74820\n",
       "40   2011          France  18435.67500\n",
       "6    2011       Australia  17516.73000\n",
       "36   2011     El Salvador   9168.00024\n",
       "107  2011           Spain   8644.84500\n",
       "254  2012   United States  61618.60370\n",
       "181  2012           India  27438.79500\n",
       "253  2012  United Kingdom  27365.88600\n",
       "156  2012           China  26233.77300\n",
       "138  2012       Australia  25528.72200\n",
       "204  2012          Mexico  24955.27000\n",
       "173  2012         Germany  24867.43800\n",
       "170  2012          France  23034.74100\n",
       "148  2012          Brazil   9643.80864\n",
       "238  2012           Spain   8953.46100\n",
       "391  2013   United States  81726.93080\n",
       "287  2013           China  44473.93500\n",
       "317  2013           India  32896.86000\n",
       "305  2013          France  32416.47750\n",
       "268  2013       Australia  28831.77900\n",
       "340  2013          Mexico  28010.26380\n",
       "390  2013  United Kingdom  27698.44200\n",
       "307  2013         Germany  26944.47450\n",
       "373  2013           Spain  16198.00500\n",
       "299  2013     El Salvador  13165.81124\n",
       "529  2014   United States  93507.51310\n",
       "448  2014           India  48807.67500\n",
       "421  2014           China  46793.99400\n",
       "528  2014  United Kingdom  36755.60100\n",
       "439  2014         Germany  35956.04700\n",
       "436  2014          France  35142.10950\n",
       "404  2014       Australia  32030.20200\n",
       "471  2014          Mexico  31330.81552\n",
       "509  2014           Spain  20593.80900\n",
       "414  2014          Brazil  15422.75332"
      ]
     },
     "execution_count": 22,
     "metadata": {},
     "output_type": "execute_result"
    }
   ],
   "source": [
    "#planilha completa com os top10\n",
    "top10_profit = pd.concat([ptop10_2011, ptop10_2012, ptop10_2013, ptop10_2014])\n",
    "top10_profit"
   ]
  },
  {
   "cell_type": "code",
   "execution_count": 23,
   "metadata": {
    "slideshow": {
     "slide_type": "subslide"
    }
   },
   "outputs": [
    {
     "data": {
      "text/plain": [
       "<matplotlib.legend.Legend at 0x1dd98320>"
      ]
     },
     "execution_count": 23,
     "metadata": {},
     "output_type": "execute_result"
    },
    {
     "data": {
      "image/png": "[encoded data removed]",
      "text/plain": [
       "<Figure size 720x504 with 1 Axes>"
      ]
     },
     "metadata": {
      "needs_background": "light"
     },
     "output_type": "display_data"
    }
   ],
   "source": [
    "plt.figure(figsize = (10, 7))\n",
    "plt.subplot(1, 1, 1)\n",
    "plt.title(\"Evolution of Profit - Top 10 Countries\")\n",
    "ax = sns.lineplot(x = \"Year\", y = \"Profit\", hue = \"Country\", data = top10_profit) #evolution of sales - top 10 countries\n",
    "plt.legend(bbox_to_anchor=(1.05, 1), loc='upper left', borderaxespad=0.)"
   ]
  },
  {
   "cell_type": "code",
   "execution_count": 24,
   "metadata": {
    "slideshow": {
     "slide_type": "skip"
    }
   },
   "outputs": [
    {
     "data": {
      "text/html": [
       "\n",
       "        <script>\n",
       "            function code_toggle_7275322953219599233() {\n",
       "                $('div.cell.code_cell.rendered.selected').next().find('div.input').toggle();\n",
       "            }\n",
       "\n",
       "            $('div.cell.code_cell.rendered.selected').find(\"div.input\").hide();\n",
       "        </script>\n",
       "\n",
       "        <form action=\"javascript:code_toggle_7275322953219599233()\"><input type=\"submit\" value=\"Mostrar / Esconder\"></form>\n",
       "        \n",
       "    "
      ],
      "text/plain": [
       "<IPython.core.display.HTML object>"
      ]
     },
     "execution_count": 24,
     "metadata": {},
     "output_type": "execute_result"
    }
   ],
   "source": [
    "esconder(next)"
   ]
  },
  {
   "cell_type": "code",
   "execution_count": 25,
   "metadata": {
    "slideshow": {
     "slide_type": "subslide"
    }
   },
   "outputs": [
    {
     "data": {
      "image/png": "[encoded data removed]",
      "text/plain": [
       "<Figure size 720x432 with 2 Axes>"
      ]
     },
     "metadata": {
      "needs_background": "light"
     },
     "output_type": "display_data"
    }
   ],
   "source": [
    "plt.figure(figsize = (10, 6))\n",
    "plt.subplot(2, 1, 1)\n",
    "ax1 = sns.boxplot(x = \"Year\", y = \"Profit\", data = annual_profit_country)\n",
    "plt.title(\"Distribuição de Profit por País por Ano - Com Outliers\")\n",
    "\n",
    "plt.subplot(2, 1, 2)\n",
    "ax2 = sns.boxplot(x = \"Year\", y = \"Profit\", data = annual_profit_country, showfliers = False)\n",
    "plt.title(\"Distribuição de Profit por País por Ano - Sem Outliers\")\n",
    "plt.tight_layout()"
   ]
  },
  {
   "cell_type": "code",
   "execution_count": 26,
   "metadata": {
    "slideshow": {
     "slide_type": "skip"
    }
   },
   "outputs": [],
   "source": [
    "orders = pd.read_excel('Global Superstore.xls', sheet_name = 0 )"
   ]
  },
  {
   "cell_type": "code",
   "execution_count": 27,
   "metadata": {
    "slideshow": {
     "slide_type": "skip"
    }
   },
   "outputs": [],
   "source": [
    "import pycountry\n",
    "\n",
    "countries = {}\n",
    "for country in pycountry.countries:\n",
    "    countries[country.name] = country.alpha_3\n",
    "\n",
    "orders['Sigla'] = [countries.get(country, 'Desconhecido') for country in orders['Country']]\n",
    "orders['Ano'] = pd.to_datetime(orders['Order Date'], format='%d/%m/%Y').dt.year\n",
    "ordersgroup=orders.groupby(['Ano','Sigla','Country']).sum().reset_index()"
   ]
  },
  {
   "cell_type": "code",
   "execution_count": 45,
   "metadata": {
    "slideshow": {
     "slide_type": "slide"
    }
   },
   "outputs": [
    {
     "data": {
      "application/vnd.plotly.v1+json": {
       "config": {
        "plotlyServerURL": "https://plot.ly"
       },
       "data": [
        {
         "coloraxis": "coloraxis",
         "geo": "geo",
         "hoverlabel": {
          "namelength": 0
         },
         "hovertemplate": "<b>%{hovertext}</b><br><br>Ano=2011<br>Sigla=%{location}<br>Profit=%{z}",
         "hovertext": [
          "Afghanistan",
          "Angola",
          "Albania",
          "United Arab Emirates",
          "Argentina",
          "Armenia",
          "Australia",
          "Austria",
          "Azerbaijan",
          "Burundi",
          "Belgium",
          "Benin",
          "Bangladesh",
          "Bulgaria",
          "Bosnia and Herzegovina",
          "Belarus",
          "Brazil",
          "Barbados",
          "Central African Republic",
          "Canada",
          "Switzerland",
          "Chile",
          "China",
          "Cameroon",
          "Colombia",
          "Cuba",
          "Germany",
          "Djibouti",
          "Denmark",
          "Dominican Republic",
          "Algeria",
          "Bolivia",
          "Cote d'Ivoire",
          "Czech Republic",
          "Democratic Republic of the Congo",
          "Iran",
          "Moldova",
          "Myanmar (Burma)",
          "Republic of the Congo",
          "Russia",
          "South Korea",
          "Swaziland",
          "Syria",
          "Taiwan",
          "Tanzania",
          "Venezuela",
          "Vietnam",
          "Ecuador",
          "Egypt",
          "Spain",
          "Estonia",
          "Ethiopia",
          "Finland",
          "France",
          "United Kingdom",
          "Georgia",
          "Ghana",
          "Guinea",
          "Guinea-Bissau",
          "Guatemala",
          "Hong Kong",
          "Honduras",
          "Croatia",
          "Haiti",
          "Hungary",
          "Indonesia",
          "India",
          "Ireland",
          "Iraq",
          "Israel",
          "Italy",
          "Jamaica",
          "Jordan",
          "Japan",
          "Kazakhstan",
          "Kenya",
          "Kyrgyzstan",
          "Cambodia",
          "Lebanon",
          "Liberia",
          "Libya",
          "Lesotho",
          "Lithuania",
          "Morocco",
          "Madagascar",
          "Mexico",
          "Mali",
          "Mongolia",
          "Mozambique",
          "Martinique",
          "Malaysia",
          "Niger",
          "Nigeria",
          "Nicaragua",
          "Netherlands",
          "Norway",
          "New Zealand",
          "Pakistan",
          "Panama",
          "Peru",
          "Philippines",
          "Papua New Guinea",
          "Poland",
          "Portugal",
          "Paraguay",
          "Qatar",
          "Romania",
          "Rwanda",
          "Saudi Arabia",
          "Sudan",
          "Senegal",
          "Singapore",
          "Sierra Leone",
          "El Salvador",
          "Somalia",
          "South Sudan",
          "Slovakia",
          "Sweden",
          "Togo",
          "Thailand",
          "Tajikistan",
          "Turkmenistan",
          "Tunisia",
          "Turkey",
          "Uganda",
          "Ukraine",
          "Uruguay",
          "United States",
          "Uzbekistan",
          "Yemen",
          "South Africa",
          "Zambia",
          "Zimbabwe"
         ],
         "locations": [
          "AFG",
          "AGO",
          "ALB",
          "ARE",
          "ARG",
          "ARM",
          "AUS",
          "AUT",
          "AZE",
          "BDI",
          "BEL",
          "BEN",
          "BGD",
          "BGR",
          "BIH",
          "BLR",
          "BRA",
          "BRB",
          "CAF",
          "CAN",
          "CHE",
          "CHL",
          "CHN",
          "CMR",
          "COL",
          "CUB",
          "DEU",
          "DJI",
          "DNK",
          "DOM",
          "DZA",
          "Desconhecido",
          "Desconhecido",
          "Desconhecido",
          "Desconhecido",
          "Desconhecido",
          "Desconhecido",
          "Desconhecido",
          "Desconhecido",
          "Desconhecido",
          "Desconhecido",
          "Desconhecido",
          "Desconhecido",
          "Desconhecido",
          "Desconhecido",
          "Desconhecido",
          "Desconhecido",
          "ECU",
          "EGY",
          "ESP",
          "EST",
          "ETH",
          "FIN",
          "FRA",
          "GBR",
          "GEO",
          "GHA",
          "GIN",
          "GNB",
          "GTM",
          "HKG",
          "HND",
          "HRV",
          "HTI",
          "HUN",
          "IDN",
          "IND",
          "IRL",
          "IRQ",
          "ISR",
          "ITA",
          "JAM",
          "JOR",
          "JPN",
          "KAZ",
          "KEN",
          "KGZ",
          "KHM",
          "LBN",
          "LBR",
          "LBY",
          "LSO",
          "LTU",
          "MAR",
          "MDG",
          "MEX",
          "MLI",
          "MNG",
          "MOZ",
          "MTQ",
          "MYS",
          "NER",
          "NGA",
          "NIC",
          "NLD",
          "NOR",
          "NZL",
          "PAK",
          "PAN",
          "PER",
          "PHL",
          "PNG",
          "POL",
          "PRT",
          "PRY",
          "QAT",
          "ROU",
          "RWA",
          "SAU",
          "SDN",
          "SEN",
          "SGP",
          "SLE",
          "SLV",
          "SOM",
          "SSD",
          "SVK",
          "SWE",
          "TGO",
          "THA",
          "TJK",
          "TKM",
          "TUN",
          "TUR",
          "UGA",
          "UKR",
          "URY",
          "USA",
          "UZB",
          "YEM",
          "ZAF",
          "ZMB",
          "ZWE"
         ],
         "name": "",
         "type": "choropleth",
         "z": [
          293.93999999999994,
          1015.71,
          267.53999999999996,
          -246.078,
          -2468.7348799999995,
          66.24000000000001,
          17516.730000000014,
          5582.610000000004,
          151.95,
          22.799999999999997,
          2766.4799999999996,
          607.59,
          5813.280000000001,
          776.16,
          108.24,
          79.86,
          3050.180999999995,
          332.55992,
          20.580000000000002,
          1807.0800000000004,
          555.6600000000001,
          435.02,
          33181.38300000003,
          1386.8100000000002,
          2708.9309200000002,
          6005.208199999997,
          19554.860999999986,
          130.98,
          -961.0799999999998,
          -1631.861160000001,
          1736.3099999999997,
          534.8800000000001,
          2157.87,
          126.78000000000002,
          3201.09,
          3846.2099999999978,
          169.74,
          -181.32539999999997,
          167.76,
          5865.659999999999,
          -5823.06,
          59.16,
          13.595999999999997,
          1557.3899999999999,
          816.0090000000005,
          -4381.803960000001,
          976.7222999999999,
          224.9,
          2978.8199999999997,
          8644.844999999994,
          412.11,
          173.19,
          840.2700000000001,
          18435.675000000003,
          20080.220999999994,
          101.22000000000001,
          395.40000000000003,
          319.02000000000004,
          28.950000000000003,
          4491.345920000002,
          199.95,
          -5053.08888,
          1.26,
          -772.7580000000002,
          650.6099999999999,
          2427.3620999999976,
          19928.505000000016,
          -1566.7799999999997,
          2293.2300000000005,
          593.13,
          -429.6629999999986,
          367.47999999999996,
          164.01000000000002,
          6397.710000000002,
          -2426.817000000001,
          853.5000000000001,
          8.16,
          631.41,
          271.29,
          214.53,
          54.48,
          942.4499999999999,
          -711.7919999999999,
          3572.669999999999,
          104.46,
          18521.74819999999,
          8.850000000000001,
          437.76,
          715.5600000000001,
          58.279999999999994,
          2904.63,
          382.17,
          -15205.901999999998,
          8510.321319999995,
          -9137.775000000003,
          425.64000000000016,
          3949.4700000000016,
          -3189.2790000000005,
          -2320.24024,
          -1104.1125599999996,
          -4482.686999999996,
          -37.44,
          1620.3899999999999,
          -1276.6200000000001,
          26.04,
          89.1,
          1773.0000000000002,
          137.64000000000001,
          4564.8899999999985,
          218.76000000000005,
          794.28,
          1949.9400000000007,
          59.760000000000005,
          9168.000239999996,
          54.750000000000014,
          19.919999999999998,
          53.1,
          -1473.7919999999997,
          16.71,
          -983.0556,
          -3.845999999999999,
          -706.3679999999998,
          7.74,
          -18985.973999999987,
          -516.126,
          3432.690000000001,
          6.12,
          49543.97409999998,
          96.69000000000001,
          -88.64099999999998,
          2956.650000000001,
          1421.49,
          -1088.2769999999996
         ]
        }
       ],
       "frames": [
        {
         "data": [
          {
           "coloraxis": "coloraxis",
           "geo": "geo",
           "hoverlabel": {
            "namelength": 0
           },
           "hovertemplate": "<b>%{hovertext}</b><br><br>Ano=2011<br>Sigla=%{location}<br>Profit=%{z}",
           "hovertext": [
            "Afghanistan",
            "Angola",
            "Albania",
            "United Arab Emirates",
            "Argentina",
            "Armenia",
            "Australia",
            "Austria",
            "Azerbaijan",
            "Burundi",
            "Belgium",
            "Benin",
            "Bangladesh",
            "Bulgaria",
            "Bosnia and Herzegovina",
            "Belarus",
            "Brazil",
            "Barbados",
            "Central African Republic",
            "Canada",
            "Switzerland",
            "Chile",
            "China",
            "Cameroon",
            "Colombia",
            "Cuba",
            "Germany",
            "Djibouti",
            "Denmark",
            "Dominican Republic",
            "Algeria",
            "Bolivia",
            "Cote d'Ivoire",
            "Czech Republic",
            "Democratic Republic of the Congo",
            "Iran",
            "Moldova",
            "Myanmar (Burma)",
            "Republic of the Congo",
            "Russia",
            "South Korea",
            "Swaziland",
            "Syria",
            "Taiwan",
            "Tanzania",
            "Venezuela",
            "Vietnam",
            "Ecuador",
            "Egypt",
            "Spain",
            "Estonia",
            "Ethiopia",
            "Finland",
            "France",
            "United Kingdom",
            "Georgia",
            "Ghana",
            "Guinea",
            "Guinea-Bissau",
            "Guatemala",
            "Hong Kong",
            "Honduras",
            "Croatia",
            "Haiti",
            "Hungary",
            "Indonesia",
            "India",
            "Ireland",
            "Iraq",
            "Israel",
            "Italy",
            "Jamaica",
            "Jordan",
            "Japan",
            "Kazakhstan",
            "Kenya",
            "Kyrgyzstan",
            "Cambodia",
            "Lebanon",
            "Liberia",
            "Libya",
            "Lesotho",
            "Lithuania",
            "Morocco",
            "Madagascar",
            "Mexico",
            "Mali",
            "Mongolia",
            "Mozambique",
            "Martinique",
            "Malaysia",
            "Niger",
            "Nigeria",
            "Nicaragua",
            "Netherlands",
            "Norway",
            "New Zealand",
            "Pakistan",
            "Panama",
            "Peru",
            "Philippines",
            "Papua New Guinea",
            "Poland",
            "Portugal",
            "Paraguay",
            "Qatar",
            "Romania",
            "Rwanda",
            "Saudi Arabia",
            "Sudan",
            "Senegal",
            "Singapore",
            "Sierra Leone",
            "El Salvador",
            "Somalia",
            "South Sudan",
            "Slovakia",
            "Sweden",
            "Togo",
            "Thailand",
            "Tajikistan",
            "Turkmenistan",
            "Tunisia",
            "Turkey",
            "Uganda",
            "Ukraine",
            "Uruguay",
            "United States",
            "Uzbekistan",
            "Yemen",
            "South Africa",
            "Zambia",
            "Zimbabwe"
           ],
           "locations": [
            "AFG",
            "AGO",
            "ALB",
            "ARE",
            "ARG",
            "ARM",
            "AUS",
            "AUT",
            "AZE",
            "BDI",
            "BEL",
            "BEN",
            "BGD",
            "BGR",
            "BIH",
            "BLR",
            "BRA",
            "BRB",
            "CAF",
            "CAN",
            "CHE",
            "CHL",
            "CHN",
            "CMR",
            "COL",
            "CUB",
            "DEU",
            "DJI",
            "DNK",
            "DOM",
            "DZA",
            "Desconhecido",
            "Desconhecido",
            "Desconhecido",
            "Desconhecido",
            "Desconhecido",
            "Desconhecido",
            "Desconhecido",
            "Desconhecido",
            "Desconhecido",
            "Desconhecido",
            "Desconhecido",
            "Desconhecido",
            "Desconhecido",
            "Desconhecido",
            "Desconhecido",
            "Desconhecido",
            "ECU",
            "EGY",
            "ESP",
            "EST",
            "ETH",
            "FIN",
            "FRA",
            "GBR",
            "GEO",
            "GHA",
            "GIN",
            "GNB",
            "GTM",
            "HKG",
            "HND",
            "HRV",
            "HTI",
            "HUN",
            "IDN",
            "IND",
            "IRL",
            "IRQ",
            "ISR",
            "ITA",
            "JAM",
            "JOR",
            "JPN",
            "KAZ",
            "KEN",
            "KGZ",
            "KHM",
            "LBN",
            "LBR",
            "LBY",
            "LSO",
            "LTU",
            "MAR",
            "MDG",
            "MEX",
            "MLI",
            "MNG",
            "MOZ",
            "MTQ",
            "MYS",
            "NER",
            "NGA",
            "NIC",
            "NLD",
            "NOR",
            "NZL",
            "PAK",
            "PAN",
            "PER",
            "PHL",
            "PNG",
            "POL",
            "PRT",
            "PRY",
            "QAT",
            "ROU",
            "RWA",
            "SAU",
            "SDN",
            "SEN",
            "SGP",
            "SLE",
            "SLV",
            "SOM",
            "SSD",
            "SVK",
            "SWE",
            "TGO",
            "THA",
            "TJK",
            "TKM",
            "TUN",
            "TUR",
            "UGA",
            "UKR",
            "URY",
            "USA",
            "UZB",
            "YEM",
            "ZAF",
            "ZMB",
            "ZWE"
           ],
           "name": "",
           "type": "choropleth",
           "z": [
            293.93999999999994,
            1015.71,
            267.53999999999996,
            -246.078,
            -2468.7348799999995,
            66.24000000000001,
            17516.730000000014,
            5582.610000000004,
            151.95,
            22.799999999999997,
            2766.4799999999996,
            607.59,
            5813.280000000001,
            776.16,
            108.24,
            79.86,
            3050.180999999995,
            332.55992,
            20.580000000000002,
            1807.0800000000004,
            555.6600000000001,
            435.02,
            33181.38300000003,
            1386.8100000000002,
            2708.9309200000002,
            6005.208199999997,
            19554.860999999986,
            130.98,
            -961.0799999999998,
            -1631.861160000001,
            1736.3099999999997,
            534.8800000000001,
            2157.87,
            126.78000000000002,
            3201.09,
            3846.2099999999978,
            169.74,
            -181.32539999999997,
            167.76,
            5865.659999999999,
            -5823.06,
            59.16,
            13.595999999999997,
            1557.3899999999999,
            816.0090000000005,
            -4381.803960000001,
            976.7222999999999,
            224.9,
            2978.8199999999997,
            8644.844999999994,
            412.11,
            173.19,
            840.2700000000001,
            18435.675000000003,
            20080.220999999994,
            101.22000000000001,
            395.40000000000003,
            319.02000000000004,
            28.950000000000003,
            4491.345920000002,
            199.95,
            -5053.08888,
            1.26,
            -772.7580000000002,
            650.6099999999999,
            2427.3620999999976,
            19928.505000000016,
            -1566.7799999999997,
            2293.2300000000005,
            593.13,
            -429.6629999999986,
            367.47999999999996,
            164.01000000000002,
            6397.710000000002,
            -2426.817000000001,
            853.5000000000001,
            8.16,
            631.41,
            271.29,
            214.53,
            54.48,
            942.4499999999999,
            -711.7919999999999,
            3572.669999999999,
            104.46,
            18521.74819999999,
            8.850000000000001,
            437.76,
            715.5600000000001,
            58.279999999999994,
            2904.63,
            382.17,
            -15205.901999999998,
            8510.321319999995,
            -9137.775000000003,
            425.64000000000016,
            3949.4700000000016,
            -3189.2790000000005,
            -2320.24024,
            -1104.1125599999996,
            -4482.686999999996,
            -37.44,
            1620.3899999999999,
            -1276.6200000000001,
            26.04,
            89.1,
            1773.0000000000002,
            137.64000000000001,
            4564.8899999999985,
            218.76000000000005,
            794.28,
            1949.9400000000007,
            59.760000000000005,
            9168.000239999996,
            54.750000000000014,
            19.919999999999998,
            53.1,
            -1473.7919999999997,
            16.71,
            -983.0556,
            -3.845999999999999,
            -706.3679999999998,
            7.74,
            -18985.973999999987,
            -516.126,
            3432.690000000001,
            6.12,
            49543.97409999998,
            96.69000000000001,
            -88.64099999999998,
            2956.650000000001,
            1421.49,
            -1088.2769999999996
           ]
          }
         ],
         "name": "2011"
        },
        {
         "data": [
          {
           "coloraxis": "coloraxis",
           "geo": "geo",
           "hoverlabel": {
            "namelength": 0
           },
           "hovertemplate": "<b>%{hovertext}</b><br><br>Ano=2012<br>Sigla=%{location}<br>Profit=%{z}",
           "hovertext": [
            "Afghanistan",
            "Angola",
            "Albania",
            "Argentina",
            "Australia",
            "Austria",
            "Azerbaijan",
            "Burundi",
            "Belgium",
            "Benin",
            "Bangladesh",
            "Bulgaria",
            "Bosnia and Herzegovina",
            "Belarus",
            "Brazil",
            "Barbados",
            "Central African Republic",
            "Canada",
            "Switzerland",
            "Chile",
            "China",
            "Cameroon",
            "Colombia",
            "Cuba",
            "Germany",
            "Denmark",
            "Dominican Republic",
            "Algeria",
            "Bolivia",
            "Cote d'Ivoire",
            "Czech Republic",
            "Democratic Republic of the Congo",
            "Iran",
            "Macedonia",
            "Moldova",
            "Myanmar (Burma)",
            "Russia",
            "South Korea",
            "Syria",
            "Tanzania",
            "Venezuela",
            "Vietnam",
            "Ecuador",
            "Egypt",
            "Spain",
            "Estonia",
            "Finland",
            "France",
            "Gabon",
            "United Kingdom",
            "Georgia",
            "Ghana",
            "Guinea",
            "Guadeloupe",
            "Guatemala",
            "Honduras",
            "Croatia",
            "Haiti",
            "Hungary",
            "Indonesia",
            "India",
            "Ireland",
            "Iraq",
            "Israel",
            "Italy",
            "Jamaica",
            "Jordan",
            "Japan",
            "Kazakhstan",
            "Kenya",
            "Kyrgyzstan",
            "Cambodia",
            "Lebanon",
            "Liberia",
            "Libya",
            "Sri Lanka",
            "Lithuania",
            "Morocco",
            "Madagascar",
            "Mexico",
            "Mali",
            "Mongolia",
            "Mozambique",
            "Mauritania",
            "Martinique",
            "Malaysia",
            "Namibia",
            "Niger",
            "Nigeria",
            "Nicaragua",
            "Netherlands",
            "Norway",
            "Nepal",
            "New Zealand",
            "Pakistan",
            "Panama",
            "Peru",
            "Philippines",
            "Papua New Guinea",
            "Poland",
            "Portugal",
            "Paraguay",
            "Qatar",
            "Romania",
            "Rwanda",
            "Saudi Arabia",
            "Sudan",
            "Senegal",
            "Singapore",
            "Sierra Leone",
            "El Salvador",
            "Somalia",
            "Slovakia",
            "Sweden",
            "Togo",
            "Thailand",
            "Turkmenistan",
            "Trinidad and Tobago",
            "Tunisia",
            "Turkey",
            "Uganda",
            "Ukraine",
            "Uruguay",
            "United States",
            "Uzbekistan",
            "Yemen",
            "South Africa",
            "Zambia",
            "Zimbabwe"
           ],
           "locations": [
            "AFG",
            "AGO",
            "ALB",
            "ARG",
            "AUS",
            "AUT",
            "AZE",
            "BDI",
            "BEL",
            "BEN",
            "BGD",
            "BGR",
            "BIH",
            "BLR",
            "BRA",
            "BRB",
            "CAF",
            "CAN",
            "CHE",
            "CHL",
            "CHN",
            "CMR",
            "COL",
            "CUB",
            "DEU",
            "DNK",
            "DOM",
            "DZA",
            "Desconhecido",
            "Desconhecido",
            "Desconhecido",
            "Desconhecido",
            "Desconhecido",
            "Desconhecido",
            "Desconhecido",
            "Desconhecido",
            "Desconhecido",
            "Desconhecido",
            "Desconhecido",
            "Desconhecido",
            "Desconhecido",
            "Desconhecido",
            "ECU",
            "EGY",
            "ESP",
            "EST",
            "FIN",
            "FRA",
            "GAB",
            "GBR",
            "GEO",
            "GHA",
            "GIN",
            "GLP",
            "GTM",
            "HND",
            "HRV",
            "HTI",
            "HUN",
            "IDN",
            "IND",
            "IRL",
            "IRQ",
            "ISR",
            "ITA",
            "JAM",
            "JOR",
            "JPN",
            "KAZ",
            "KEN",
            "KGZ",
            "KHM",
            "LBN",
            "LBR",
            "LBY",
            "LKA",
            "LTU",
            "MAR",
            "MDG",
            "MEX",
            "MLI",
            "MNG",
            "MOZ",
            "MRT",
            "MTQ",
            "MYS",
            "NAM",
            "NER",
            "NGA",
            "NIC",
            "NLD",
            "NOR",
            "NPL",
            "NZL",
            "PAK",
            "PAN",
            "PER",
            "PHL",
            "PNG",
            "POL",
            "PRT",
            "PRY",
            "QAT",
            "ROU",
            "RWA",
            "SAU",
            "SDN",
            "SEN",
            "SGP",
            "SLE",
            "SLV",
            "SOM",
            "SVK",
            "SWE",
            "TGO",
            "THA",
            "TKM",
            "TTO",
            "TUN",
            "TUR",
            "UGA",
            "UKR",
            "URY",
            "USA",
            "UZB",
            "YEM",
            "ZAF",
            "ZMB",
            "ZWE"
           ],
           "name": "",
           "type": "choropleth",
           "z": [
            1924.1399999999999,
            943.9200000000002,
            291.3,
            -1781.6750000000015,
            25528.721999999987,
            4159.41,
            157.79999999999998,
            80.28,
            2656.4700000000003,
            24.419999999999998,
            2240.85,
            1063.7400000000002,
            333.05999999999995,
            1322.4900000000002,
            9643.808639999985,
            800.99832,
            304.19999999999993,
            4887.839999999997,
            1492.3500000000001,
            1964.60896,
            26233.773000000016,
            2001.06,
            3293.9217600000015,
            7321.168080000001,
            24867.43799999995,
            -342.61199999999985,
            -1472.3573199999998,
            2218.05,
            114.77,
            225.68999999999997,
            318.6599999999999,
            4945.5599999999995,
            5000.670000000001,
            4.5,
            424.62,
            -25.33590000000005,
            2846.61,
            -1454.2170000000003,
            374.39400000000006,
            475.581,
            -1572.1652800000004,
            -1332.152400000001,
            693.108,
            4280.49,
            8953.461,
            490.19999999999993,
            1154.9399999999998,
            23034.741000000005,
            415.53000000000003,
            27365.886000000028,
            745.9499999999999,
            1950.1499999999999,
            385.14,
            117.78,
            5613.633520000001,
            -5722.582880000002,
            170.99999999999997,
            -93.02800000000003,
            181.67999999999998,
            1793.8016999999988,
            27438.795000000006,
            -386.38500000000005,
            5105.6399999999985,
            666.8100000000001,
            2996.9789999999994,
            165.86584,
            347.37,
            3240.7649999999985,
            -786.1199999999997,
            1065.54,
            803.8199999999998,
            429.15,
            183.14999999999998,
            134.07000000000002,
            124.95,
            31.44,
            -2959.2509999999997,
            4105.230000000001,
            470.78999999999996,
            24955.269999999946,
            222.78,
            567.6899999999998,
            619.08,
            4.11,
            276.28000000000003,
            4201.140000000001,
            47.4,
            259.95000000000005,
            -17303.937,
            4355.675840000002,
            -8527.104,
            683.64,
            391.65,
            4114.997999999999,
            -3049.7939999999994,
            -5039.799359999998,
            -1187.35612,
            -3789.8385,
            31.601999999999986,
            1369.44,
            -828.6900000000002,
            2.48,
            325.83,
            1470.6599999999999,
            328.77,
            4615.440000000001,
            300.12,
            558.33,
            2889.12,
            324.29999999999995,
            5781.4230000000025,
            39.78,
            18.840000000000003,
            -2524.7969999999996,
            193.53,
            -1427.7585000000013,
            -1027.5749999999998,
            1589.5499999999997,
            166.04999999999998,
            -21884.909999999996,
            -646.9739999999999,
            4459.0799999999945,
            363.52000000000004,
            61618.60370000016,
            123.47999999999999,
            -2477.6430000000005,
            2812.3499999999967,
            1307.9699999999996,
            -1475.325
           ]
          }
         ],
         "name": "2012"
        },
        {
         "data": [
          {
           "coloraxis": "coloraxis",
           "geo": "geo",
           "hoverlabel": {
            "namelength": 0
           },
           "hovertemplate": "<b>%{hovertext}</b><br><br>Ano=2013<br>Sigla=%{location}<br>Profit=%{z}",
           "hovertext": [
            "Afghanistan",
            "Angola",
            "Albania",
            "United Arab Emirates",
            "Argentina",
            "Armenia",
            "Australia",
            "Austria",
            "Azerbaijan",
            "Belgium",
            "Benin",
            "Bangladesh",
            "Bulgaria",
            "Bahrain",
            "Bosnia and Herzegovina",
            "Belarus",
            "Brazil",
            "Barbados",
            "Central African Republic",
            "Canada",
            "Switzerland",
            "Chile",
            "China",
            "Cameroon",
            "Colombia",
            "Cuba",
            "Germany",
            "Djibouti",
            "Denmark",
            "Dominican Republic",
            "Algeria",
            "Bolivia",
            "Cote d'Ivoire",
            "Czech Republic",
            "Democratic Republic of the Congo",
            "Iran",
            "Macedonia",
            "Moldova",
            "Myanmar (Burma)",
            "Russia",
            "South Korea",
            "Syria",
            "Taiwan",
            "Tanzania",
            "Venezuela",
            "Vietnam",
            "Ecuador",
            "Egypt",
            "Eritrea",
            "Spain",
            "Estonia",
            "Ethiopia",
            "Finland",
            "France",
            "United Kingdom",
            "Georgia",
            "Ghana",
            "Guinea",
            "Guadeloupe",
            "Guinea-Bissau",
            "Equatorial Guinea",
            "Guatemala",
            "Hong Kong",
            "Honduras",
            "Croatia",
            "Haiti",
            "Hungary",
            "Indonesia",
            "India",
            "Ireland",
            "Iraq",
            "Israel",
            "Italy",
            "Jamaica",
            "Jordan",
            "Japan",
            "Kazakhstan",
            "Kenya",
            "Kyrgyzstan",
            "Cambodia",
            "Lebanon",
            "Libya",
            "Sri Lanka",
            "Lesotho",
            "Lithuania",
            "Morocco",
            "Madagascar",
            "Mexico",
            "Mali",
            "Mongolia",
            "Mozambique",
            "Mauritania",
            "Martinique",
            "Malaysia",
            "Namibia",
            "Niger",
            "Nigeria",
            "Nicaragua",
            "Netherlands",
            "Norway",
            "Nepal",
            "New Zealand",
            "Pakistan",
            "Panama",
            "Peru",
            "Philippines",
            "Papua New Guinea",
            "Poland",
            "Portugal",
            "Paraguay",
            "Qatar",
            "Romania",
            "Rwanda",
            "Saudi Arabia",
            "Sudan",
            "Senegal",
            "Singapore",
            "El Salvador",
            "Somalia",
            "Slovenia",
            "Sweden",
            "Chad",
            "Togo",
            "Thailand",
            "Turkmenistan",
            "Trinidad and Tobago",
            "Tunisia",
            "Turkey",
            "Uganda",
            "Ukraine",
            "Uruguay",
            "United States",
            "Uzbekistan",
            "Yemen",
            "South Africa",
            "Zambia",
            "Zimbabwe"
           ],
           "locations": [
            "AFG",
            "AGO",
            "ALB",
            "ARE",
            "ARG",
            "ARM",
            "AUS",
            "AUT",
            "AZE",
            "BEL",
            "BEN",
            "BGD",
            "BGR",
            "BHR",
            "BIH",
            "BLR",
            "BRA",
            "BRB",
            "CAF",
            "CAN",
            "CHE",
            "CHL",
            "CHN",
            "CMR",
            "COL",
            "CUB",
            "DEU",
            "DJI",
            "DNK",
            "DOM",
            "DZA",
            "Desconhecido",
            "Desconhecido",
            "Desconhecido",
            "Desconhecido",
            "Desconhecido",
            "Desconhecido",
            "Desconhecido",
            "Desconhecido",
            "Desconhecido",
            "Desconhecido",
            "Desconhecido",
            "Desconhecido",
            "Desconhecido",
            "Desconhecido",
            "Desconhecido",
            "ECU",
            "EGY",
            "ERI",
            "ESP",
            "EST",
            "ETH",
            "FIN",
            "FRA",
            "GBR",
            "GEO",
            "GHA",
            "GIN",
            "GLP",
            "GNB",
            "GNQ",
            "GTM",
            "HKG",
            "HND",
            "HRV",
            "HTI",
            "HUN",
            "IDN",
            "IND",
            "IRL",
            "IRQ",
            "ISR",
            "ITA",
            "JAM",
            "JOR",
            "JPN",
            "KAZ",
            "KEN",
            "KGZ",
            "KHM",
            "LBN",
            "LBY",
            "LKA",
            "LSO",
            "LTU",
            "MAR",
            "MDG",
            "MEX",
            "MLI",
            "MNG",
            "MOZ",
            "MRT",
            "MTQ",
            "MYS",
            "NAM",
            "NER",
            "NGA",
            "NIC",
            "NLD",
            "NOR",
            "NPL",
            "NZL",
            "PAK",
            "PAN",
            "PER",
            "PHL",
            "PNG",
            "POL",
            "PRT",
            "PRY",
            "QAT",
            "ROU",
            "RWA",
            "SAU",
            "SDN",
            "SEN",
            "SGP",
            "SLV",
            "SOM",
            "SVN",
            "SWE",
            "TCD",
            "TGO",
            "THA",
            "TKM",
            "TTO",
            "TUN",
            "TUR",
            "UGA",
            "UKR",
            "URY",
            "USA",
            "UZB",
            "YEM",
            "ZAF",
            "ZMB",
            "ZWE"
           ],
           "name": "",
           "type": "choropleth",
           "z": [
            1148.9399999999998,
            2230.8300000000004,
            62.97,
            -275.0399999999999,
            -6568.571960000002,
            2.8499999999999996,
            28831.779000000046,
            5741.370000000005,
            1042.83,
            1929.8099999999995,
            200.91000000000003,
            5497.17,
            1204.7100000000007,
            12.84,
            72.17999999999999,
            216.84,
            1973.7560000000017,
            74,
            7.949999999999999,
            5129.460000000002,
            3036.2700000000004,
            3674.1827200000002,
            44473.93499999996,
            988.86,
            7275.39844,
            11920.934840000013,
            26944.474499999993,
            673.1099999999999,
            -1681.9380000000003,
            -2479.2972799999993,
            1722.9599999999998,
            1087.3400000000001,
            1509.3899999999996,
            376.47,
            7880.129999999999,
            9550.289999999997,
            21.66,
            55.10999999999999,
            293.64390000000003,
            5637.270000000003,
            -1312.6409999999998,
            115.72800000000001,
            259.77000000000004,
            1520.4179999999994,
            -1515.5843200000008,
            -1025.8044,
            643.692,
            5949.869999999996,
            76.2,
            16198.004999999996,
            140.07000000000002,
            53.43,
            1678.3799999999999,
            32416.477499999994,
            27698.442000000014,
            114.14999999999999,
            447.93000000000006,
            52.98,
            358.41999999999996,
            9.48,
            44.46000000000001,
            8789.400439999996,
            475.11000000000007,
            -9488.638119999994,
            342.09000000000003,
            -1808.1062800000002,
            823.71,
            860.3330999999977,
            32896.85999999999,
            -1543.1159999999998,
            3506.2200000000007,
            1393.9799999999996,
            6701.712000000002,
            547.9399999999999,
            364.5,
            5395.121999999994,
            -1311.1289999999995,
            834.99,
            475.53000000000003,
            755.7300000000001,
            297.3,
            1314.3899999999999,
            50.370000000000005,
            455.76000000000005,
            -726.4289999999999,
            6639.089999999996,
            1389.9599999999998,
            28010.2638,
            1387.1700000000003,
            232.23000000000002,
            2160.3599999999997,
            638.2200000000001,
            241.83104,
            3243.93,
            8.850000000000001,
            588.5699999999999,
            -24955.68900000001,
            9906.6688,
            -11851.185000000003,
            1118.6399999999999,
            316.74,
            9040.212000000007,
            -6800.898000000003,
            -2715.2021199999986,
            -1973.4428000000003,
            -4117.613999999997,
            -318.5369999999998,
            4310.280000000001,
            -5609.13,
            115.46,
            8.64,
            1339.8,
            336.87,
            2137.92,
            328.89,
            2496.6899999999996,
            2663.49,
            13165.811239999995,
            431.58,
            50.58,
            -4113.237000000001,
            90,
            200.85,
            492.49530000000027,
            -886.974,
            117.81704,
            377.25,
            -27076.806000000004,
            -169.87199999999996,
            6576.900000000004,
            61.3,
            81726.93080000013,
            392.04,
            -410.06699999999995,
            6804.390000000002,
            2606.4900000000002,
            -646.605
           ]
          }
         ],
         "name": "2013"
        },
        {
         "data": [
          {
           "coloraxis": "coloraxis",
           "geo": "geo",
           "hoverlabel": {
            "namelength": 0
           },
           "hovertemplate": "<b>%{hovertext}</b><br><br>Ano=2014<br>Sigla=%{location}<br>Profit=%{z}",
           "hovertext": [
            "Afghanistan",
            "Angola",
            "Albania",
            "United Arab Emirates",
            "Argentina",
            "Australia",
            "Austria",
            "Azerbaijan",
            "Belgium",
            "Benin",
            "Bangladesh",
            "Bulgaria",
            "Bosnia and Herzegovina",
            "Belarus",
            "Brazil",
            "Barbados",
            "Central African Republic",
            "Canada",
            "Switzerland",
            "Chile",
            "China",
            "Cameroon",
            "Colombia",
            "Cuba",
            "Germany",
            "Denmark",
            "Dominican Republic",
            "Algeria",
            "Bolivia",
            "Cote d'Ivoire",
            "Czech Republic",
            "Democratic Republic of the Congo",
            "Iran",
            "Macedonia",
            "Moldova",
            "Myanmar (Burma)",
            "Republic of the Congo",
            "Russia",
            "South Korea",
            "Swaziland",
            "Syria",
            "Taiwan",
            "Tanzania",
            "Venezuela",
            "Vietnam",
            "Ecuador",
            "Egypt",
            "Spain",
            "Estonia",
            "Ethiopia",
            "Finland",
            "France",
            "Gabon",
            "United Kingdom",
            "Georgia",
            "Ghana",
            "Guinea",
            "Guinea-Bissau",
            "Guatemala",
            "Hong Kong",
            "Honduras",
            "Croatia",
            "Haiti",
            "Hungary",
            "Indonesia",
            "India",
            "Ireland",
            "Iraq",
            "Israel",
            "Italy",
            "Jamaica",
            "Jordan",
            "Japan",
            "Kazakhstan",
            "Kenya",
            "Kyrgyzstan",
            "Cambodia",
            "Lebanon",
            "Liberia",
            "Libya",
            "Sri Lanka",
            "Lithuania",
            "Morocco",
            "Madagascar",
            "Mexico",
            "Mali",
            "Montenegro",
            "Mongolia",
            "Mozambique",
            "Mauritania",
            "Martinique",
            "Malaysia",
            "Namibia",
            "Niger",
            "Nigeria",
            "Nicaragua",
            "Netherlands",
            "Norway",
            "Nepal",
            "New Zealand",
            "Pakistan",
            "Panama",
            "Peru",
            "Philippines",
            "Papua New Guinea",
            "Poland",
            "Portugal",
            "Paraguay",
            "Qatar",
            "Romania",
            "Rwanda",
            "Saudi Arabia",
            "Sudan",
            "Senegal",
            "Singapore",
            "Sierra Leone",
            "El Salvador",
            "Somalia",
            "South Sudan",
            "Slovakia",
            "Slovenia",
            "Sweden",
            "Togo",
            "Thailand",
            "Tajikistan",
            "Turkmenistan",
            "Trinidad and Tobago",
            "Tunisia",
            "Turkey",
            "Uganda",
            "Ukraine",
            "Uruguay",
            "United States",
            "Uzbekistan",
            "Yemen",
            "South Africa",
            "Zambia",
            "Zimbabwe"
           ],
           "locations": [
            "AFG",
            "AGO",
            "ALB",
            "ARE",
            "ARG",
            "AUS",
            "AUT",
            "AZE",
            "BEL",
            "BEN",
            "BGD",
            "BGR",
            "BIH",
            "BLR",
            "BRA",
            "BRB",
            "CAF",
            "CAN",
            "CHE",
            "CHL",
            "CHN",
            "CMR",
            "COL",
            "CUB",
            "DEU",
            "DNK",
            "DOM",
            "DZA",
            "Desconhecido",
            "Desconhecido",
            "Desconhecido",
            "Desconhecido",
            "Desconhecido",
            "Desconhecido",
            "Desconhecido",
            "Desconhecido",
            "Desconhecido",
            "Desconhecido",
            "Desconhecido",
            "Desconhecido",
            "Desconhecido",
            "Desconhecido",
            "Desconhecido",
            "Desconhecido",
            "Desconhecido",
            "ECU",
            "EGY",
            "ESP",
            "EST",
            "ETH",
            "FIN",
            "FRA",
            "GAB",
            "GBR",
            "GEO",
            "GHA",
            "GIN",
            "GNB",
            "GTM",
            "HKG",
            "HND",
            "HRV",
            "HTI",
            "HUN",
            "IDN",
            "IND",
            "IRL",
            "IRQ",
            "ISR",
            "ITA",
            "JAM",
            "JOR",
            "JPN",
            "KAZ",
            "KEN",
            "KGZ",
            "KHM",
            "LBN",
            "LBR",
            "LBY",
            "LKA",
            "LTU",
            "MAR",
            "MDG",
            "MEX",
            "MLI",
            "MNE",
            "MNG",
            "MOZ",
            "MRT",
            "MTQ",
            "MYS",
            "NAM",
            "NER",
            "NGA",
            "NIC",
            "NLD",
            "NOR",
            "NPL",
            "NZL",
            "PAK",
            "PAN",
            "PER",
            "PHL",
            "PNG",
            "POL",
            "PRT",
            "PRY",
            "QAT",
            "ROU",
            "RWA",
            "SAU",
            "SDN",
            "SEN",
            "SGP",
            "SLE",
            "SLV",
            "SOM",
            "SSD",
            "SVK",
            "SVN",
            "SWE",
            "TGO",
            "THA",
            "TJK",
            "TKM",
            "TTO",
            "TUN",
            "TUR",
            "UGA",
            "UKR",
            "URY",
            "USA",
            "UZB",
            "YEM",
            "ZAF",
            "ZMB",
            "ZWE"
           ],
           "name": "",
           "type": "choropleth",
           "z": [
            2093.2799999999997,
            2304.5099999999993,
            87.51,
            -515.742,
            -7874.814880000001,
            32030.202000000005,
            8858.310000000005,
            478.46999999999997,
            4219.830000000002,
            516.27,
            5879.589999999997,
            877.9800000000002,
            146.69999999999996,
            2915.0700000000015,
            15422.753319999996,
            992.2356800000001,
            135.81,
            5993.009999999998,
            2153.189999999999,
            1670.5190400000001,
            46793.993999999926,
            1288.0199999999998,
            5519.798640000003,
            13641.904359999999,
            35956.04699999998,
            -1296.4170000000001,
            -2029.9829599999991,
            3429.1799999999994,
            492.36,
            2537.669999999999,
            1271.6399999999999,
            5833.799999999999,
            8459.069999999996,
            17.22,
            477.75,
            -2196.2409000000007,
            112.97999999999999,
            8186.910000000004,
            -4202.913000000001,
            27.599999999999998,
            189.49199999999993,
            1.44,
            2915.961000000001,
            -3753.156879999999,
            -488.99610000000007,
            986.4003600000002,
            6493.049999999996,
            20593.808999999983,
            67.80000000000001,
            63.54,
            232.14000000000001,
            35142.10949999996,
            64.14,
            36755.60100000003,
            324.36,
            2775.0600000000004,
            194.10000000000002,
            372.96000000000004,
            9050.30688,
            883.0500000000001,
            -9218.061520000005,
            789.5699999999996,
            -1513.41872,
            1545.93,
            10527.180999999991,
            48807.675000000054,
            -3896.0999999999995,
            7338.1200000000035,
            905.3099999999998,
            10559.729999999989,
            310.94,
            947.82,
            9294.869999999999,
            -2575.830000000001,
            1238.0699999999995,
            447.81,
            2660.2500000000005,
            156.66,
            696.3,
            550.6800000000002,
            4.5600000000000005,
            -4568.645999999998,
            8444.430000000004,
            1331.37,
            31330.815519999946,
            672.7500000000002,
            1286.76,
            268.74,
            2440.799999999999,
            1033.6200000000001,
            537.8199999999999,
            5980.259999999999,
            680.6999999999998,
            589.0799999999999,
            -23285.19000000002,
            10628.778599999994,
            -11554.011000000008,
            2939.8500000000004,
            169.04999999999998,
            -504.3960000000004,
            -9406.67700000001,
            -7648.210760000005,
            -1242.9647999999995,
            -3738.0854999999997,
            -94.22999999999998,
            3683.0099999999993,
            -988.6199999999999,
            271.24752,
            1079.3100000000002,
            3042.8100000000013,
            533.16,
            8021.34,
            2771.73,
            3661.8599999999997,
            1350.51,
            87.69000000000003,
            13908.008720000007,
            479.16,
            166.44,
            43.32,
            539.46,
            -9407.541000000001,
            405.78,
            -5389.876200000004,
            -259.02000000000004,
            -681.7919999999999,
            593.1174400000001,
            51.06000000000001,
            -30499.542000000005,
            -1093.113,
            6475.559999999998,
            1258.404,
            93507.51309999992,
            1035.9299999999998,
            -730.107,
            9363.239999999998,
            1665.7800000000002,
            -2218.5779999999995
           ]
          }
         ],
         "name": "2014"
        }
       ],
       "layout": {
        "coloraxis": {
         "cmax": 5000,
         "cmin": -1000,
         "colorbar": {
          "title": {
           "text": "Profit"
          }
         },
         "colorscale": [
          [
           0,
           "rgb(255,255,229)"
          ],
          [
           0.125,
           "rgb(255,247,188)"
          ],
          [
           0.25,
           "rgb(254,227,145)"
          ],
          [
           0.375,
           "rgb(254,196,79)"
          ],
          [
           0.5,
           "rgb(254,153,41)"
          ],
          [
           0.625,
           "rgb(236,112,20)"
          ],
          [
           0.75,
           "rgb(204,76,2)"
          ],
          [
           0.875,
           "rgb(153,52,4)"
          ],
          [
           1,
           "rgb(102,37,6)"
          ]
         ]
        },
        "geo": {
         "center": {},
         "domain": {
          "x": [
           0,
           1
          ],
          "y": [
           0,
           1
          ]
         }
        },
        "height": 600,
        "legend": {
         "tracegroupgap": 0
        },
        "margin": {
         "t": 60
        },
        "sliders": [
         {
          "active": 0,
          "currentvalue": {
           "prefix": "Ano="
          },
          "len": 0.9,
          "pad": {
           "b": 10,
           "t": 60
          },
          "steps": [
           {
            "args": [
             [
              "2011"
             ],
             {
              "frame": {
               "duration": 0,
               "redraw": true
              },
              "fromcurrent": true,
              "mode": "immediate",
              "transition": {
               "duration": 0,
               "easing": "linear"
              }
             }
            ],
            "label": "2011",
            "method": "animate"
           },
           {
            "args": [
             [
              "2012"
             ],
             {
              "frame": {
               "duration": 0,
               "redraw": true
              },
              "fromcurrent": true,
              "mode": "immediate",
              "transition": {
               "duration": 0,
               "easing": "linear"
              }
             }
            ],
            "label": "2012",
            "method": "animate"
           },
           {
            "args": [
             [
              "2013"
             ],
             {
              "frame": {
               "duration": 0,
               "redraw": true
              },
              "fromcurrent": true,
              "mode": "immediate",
              "transition": {
               "duration": 0,
               "easing": "linear"
              }
             }
            ],
            "label": "2013",
            "method": "animate"
           },
           {
            "args": [
             [
              "2014"
             ],
             {
              "frame": {
               "duration": 0,
               "redraw": true
              },
              "fromcurrent": true,
              "mode": "immediate",
              "transition": {
               "duration": 0,
               "easing": "linear"
              }
             }
            ],
            "label": "2014",
            "method": "animate"
           }
          ],
          "x": 0.1,
          "xanchor": "left",
          "y": 0,
          "yanchor": "top"
         }
        ],
        "template": {
         "data": {
          "bar": [
           {
            "error_x": {
             "color": "#2a3f5f"
            },
            "error_y": {
             "color": "#2a3f5f"
            },
            "marker": {
             "line": {
              "color": "#E5ECF6",
              "width": 0.5
             }
            },
            "type": "bar"
           }
          ],
          "barpolar": [
           {
            "marker": {
             "line": {
              "color": "#E5ECF6",
              "width": 0.5
             }
            },
            "type": "barpolar"
           }
          ],
          "carpet": [
           {
            "aaxis": {
             "endlinecolor": "#2a3f5f",
             "gridcolor": "white",
             "linecolor": "white",
             "minorgridcolor": "white",
             "startlinecolor": "#2a3f5f"
            },
            "baxis": {
             "endlinecolor": "#2a3f5f",
             "gridcolor": "white",
             "linecolor": "white",
             "minorgridcolor": "white",
             "startlinecolor": "#2a3f5f"
            },
            "type": "carpet"
           }
          ],
          "choropleth": [
           {
            "colorbar": {
             "outlinewidth": 0,
             "ticks": ""
            },
            "type": "choropleth"
           }
          ],
          "contour": [
           {
            "colorbar": {
             "outlinewidth": 0,
             "ticks": ""
            },
            "colorscale": [
             [
              0,
              "#0d0887"
             ],
             [
              0.1111111111111111,
              "#46039f"
             ],
             [
              0.2222222222222222,
              "#7201a8"
             ],
             [
              0.3333333333333333,
              "#9c179e"
             ],
             [
              0.4444444444444444,
              "#bd3786"
             ],
             [
              0.5555555555555556,
              "#d8576b"
             ],
             [
              0.6666666666666666,
              "#ed7953"
             ],
             [
              0.7777777777777778,
              "#fb9f3a"
             ],
             [
              0.8888888888888888,
              "#fdca26"
             ],
             [
              1,
              "#f0f921"
             ]
            ],
            "type": "contour"
           }
          ],
          "contourcarpet": [
           {
            "colorbar": {
             "outlinewidth": 0,
             "ticks": ""
            },
            "type": "contourcarpet"
           }
          ],
          "heatmap": [
           {
            "colorbar": {
             "outlinewidth": 0,
             "ticks": ""
            },
            "colorscale": [
             [
              0,
              "#0d0887"
             ],
             [
              0.1111111111111111,
              "#46039f"
             ],
             [
              0.2222222222222222,
              "#7201a8"
             ],
             [
              0.3333333333333333,
              "#9c179e"
             ],
             [
              0.4444444444444444,
              "#bd3786"
             ],
             [
              0.5555555555555556,
              "#d8576b"
             ],
             [
              0.6666666666666666,
              "#ed7953"
             ],
             [
              0.7777777777777778,
              "#fb9f3a"
             ],
             [
              0.8888888888888888,
              "#fdca26"
             ],
             [
              1,
              "#f0f921"
             ]
            ],
            "type": "heatmap"
           }
          ],
          "heatmapgl": [
           {
            "colorbar": {
             "outlinewidth": 0,
             "ticks": ""
            },
            "colorscale": [
             [
              0,
              "#0d0887"
             ],
             [
              0.1111111111111111,
              "#46039f"
             ],
             [
              0.2222222222222222,
              "#7201a8"
             ],
             [
              0.3333333333333333,
              "#9c179e"
             ],
             [
              0.4444444444444444,
              "#bd3786"
             ],
             [
              0.5555555555555556,
              "#d8576b"
             ],
             [
              0.6666666666666666,
              "#ed7953"
             ],
             [
              0.7777777777777778,
              "#fb9f3a"
             ],
             [
              0.8888888888888888,
              "#fdca26"
             ],
             [
              1,
              "#f0f921"
             ]
            ],
            "type": "heatmapgl"
           }
          ],
          "histogram": [
           {
            "marker": {
             "colorbar": {
              "outlinewidth": 0,
              "ticks": ""
             }
            },
            "type": "histogram"
           }
          ],
          "histogram2d": [
           {
            "colorbar": {
             "outlinewidth": 0,
             "ticks": ""
            },
            "colorscale": [
             [
              0,
              "#0d0887"
             ],
             [
              0.1111111111111111,
              "#46039f"
             ],
             [
              0.2222222222222222,
              "#7201a8"
             ],
             [
              0.3333333333333333,
              "#9c179e"
             ],
             [
              0.4444444444444444,
              "#bd3786"
             ],
             [
              0.5555555555555556,
              "#d8576b"
             ],
             [
              0.6666666666666666,
              "#ed7953"
             ],
             [
              0.7777777777777778,
              "#fb9f3a"
             ],
             [
              0.8888888888888888,
              "#fdca26"
             ],
             [
              1,
              "#f0f921"
             ]
            ],
            "type": "histogram2d"
           }
          ],
          "histogram2dcontour": [
           {
            "colorbar": {
             "outlinewidth": 0,
             "ticks": ""
            },
            "colorscale": [
             [
              0,
              "#0d0887"
             ],
             [
              0.1111111111111111,
              "#46039f"
             ],
             [
              0.2222222222222222,
              "#7201a8"
             ],
             [
              0.3333333333333333,
              "#9c179e"
             ],
             [
              0.4444444444444444,
              "#bd3786"
             ],
             [
              0.5555555555555556,
              "#d8576b"
             ],
             [
              0.6666666666666666,
              "#ed7953"
             ],
             [
              0.7777777777777778,
              "#fb9f3a"
             ],
             [
              0.8888888888888888,
              "#fdca26"
             ],
             [
              1,
              "#f0f921"
             ]
            ],
            "type": "histogram2dcontour"
           }
          ],
          "mesh3d": [
           {
            "colorbar": {
             "outlinewidth": 0,
             "ticks": ""
            },
            "type": "mesh3d"
           }
          ],
          "parcoords": [
           {
            "line": {
             "colorbar": {
              "outlinewidth": 0,
              "ticks": ""
             }
            },
            "type": "parcoords"
           }
          ],
          "pie": [
           {
            "automargin": true,
            "type": "pie"
           }
          ],
          "scatter": [
           {
            "marker": {
             "colorbar": {
              "outlinewidth": 0,
              "ticks": ""
             }
            },
            "type": "scatter"
           }
          ],
          "scatter3d": [
           {
            "line": {
             "colorbar": {
              "outlinewidth": 0,
              "ticks": ""
             }
            },
            "marker": {
             "colorbar": {
              "outlinewidth": 0,
              "ticks": ""
             }
            },
            "type": "scatter3d"
           }
          ],
          "scattercarpet": [
           {
            "marker": {
             "colorbar": {
              "outlinewidth": 0,
              "ticks": ""
             }
            },
            "type": "scattercarpet"
           }
          ],
          "scattergeo": [
           {
            "marker": {
             "colorbar": {
              "outlinewidth": 0,
              "ticks": ""
             }
            },
            "type": "scattergeo"
           }
          ],
          "scattergl": [
           {
            "marker": {
             "colorbar": {
              "outlinewidth": 0,
              "ticks": ""
             }
            },
            "type": "scattergl"
           }
          ],
          "scattermapbox": [
           {
            "marker": {
             "colorbar": {
              "outlinewidth": 0,
              "ticks": ""
             }
            },
            "type": "scattermapbox"
           }
          ],
          "scatterpolar": [
           {
            "marker": {
             "colorbar": {
              "outlinewidth": 0,
              "ticks": ""
             }
            },
            "type": "scatterpolar"
           }
          ],
          "scatterpolargl": [
           {
            "marker": {
             "colorbar": {
              "outlinewidth": 0,
              "ticks": ""
             }
            },
            "type": "scatterpolargl"
           }
          ],
          "scatterternary": [
           {
            "marker": {
             "colorbar": {
              "outlinewidth": 0,
              "ticks": ""
             }
            },
            "type": "scatterternary"
           }
          ],
          "surface": [
           {
            "colorbar": {
             "outlinewidth": 0,
             "ticks": ""
            },
            "colorscale": [
             [
              0,
              "#0d0887"
             ],
             [
              0.1111111111111111,
              "#46039f"
             ],
             [
              0.2222222222222222,
              "#7201a8"
             ],
             [
              0.3333333333333333,
              "#9c179e"
             ],
             [
              0.4444444444444444,
              "#bd3786"
             ],
             [
              0.5555555555555556,
              "#d8576b"
             ],
             [
              0.6666666666666666,
              "#ed7953"
             ],
             [
              0.7777777777777778,
              "#fb9f3a"
             ],
             [
              0.8888888888888888,
              "#fdca26"
             ],
             [
              1,
              "#f0f921"
             ]
            ],
            "type": "surface"
           }
          ],
          "table": [
           {
            "cells": {
             "fill": {
              "color": "#EBF0F8"
             },
             "line": {
              "color": "white"
             }
            },
            "header": {
             "fill": {
              "color": "#C8D4E3"
             },
             "line": {
              "color": "white"
             }
            },
            "type": "table"
           }
          ]
         },
         "layout": {
          "annotationdefaults": {
           "arrowcolor": "#2a3f5f",
           "arrowhead": 0,
           "arrowwidth": 1
          },
          "coloraxis": {
           "colorbar": {
            "outlinewidth": 0,
            "ticks": ""
           }
          },
          "colorscale": {
           "diverging": [
            [
             0,
             "#8e0152"
            ],
            [
             0.1,
             "#c51b7d"
            ],
            [
             0.2,
             "#de77ae"
            ],
            [
             0.3,
             "#f1b6da"
            ],
            [
             0.4,
             "#fde0ef"
            ],
            [
             0.5,
             "#f7f7f7"
            ],
            [
             0.6,
             "#e6f5d0"
            ],
            [
             0.7,
             "#b8e186"
            ],
            [
             0.8,
             "#7fbc41"
            ],
            [
             0.9,
             "#4d9221"
            ],
            [
             1,
             "#276419"
            ]
           ],
           "sequential": [
            [
             0,
             "#0d0887"
            ],
            [
             0.1111111111111111,
             "#46039f"
            ],
            [
             0.2222222222222222,
             "#7201a8"
            ],
            [
             0.3333333333333333,
             "#9c179e"
            ],
            [
             0.4444444444444444,
             "#bd3786"
            ],
            [
             0.5555555555555556,
             "#d8576b"
            ],
            [
             0.6666666666666666,
             "#ed7953"
            ],
            [
             0.7777777777777778,
             "#fb9f3a"
            ],
            [
             0.8888888888888888,
             "#fdca26"
            ],
            [
             1,
             "#f0f921"
            ]
           ],
           "sequentialminus": [
            [
             0,
             "#0d0887"
            ],
            [
             0.1111111111111111,
             "#46039f"
            ],
            [
             0.2222222222222222,
             "#7201a8"
            ],
            [
             0.3333333333333333,
             "#9c179e"
            ],
            [
             0.4444444444444444,
             "#bd3786"
            ],
            [
             0.5555555555555556,
             "#d8576b"
            ],
            [
             0.6666666666666666,
             "#ed7953"
            ],
            [
             0.7777777777777778,
             "#fb9f3a"
            ],
            [
             0.8888888888888888,
             "#fdca26"
            ],
            [
             1,
             "#f0f921"
            ]
           ]
          },
          "colorway": [
           "#636efa",
           "#EF553B",
           "#00cc96",
           "#ab63fa",
           "#FFA15A",
           "#19d3f3",
           "#FF6692",
           "#B6E880",
           "#FF97FF",
           "#FECB52"
          ],
          "font": {
           "color": "#2a3f5f"
          },
          "geo": {
           "bgcolor": "white",
           "lakecolor": "white",
           "landcolor": "#E5ECF6",
           "showlakes": true,
           "showland": true,
           "subunitcolor": "white"
          },
          "hoverlabel": {
           "align": "left"
          },
          "hovermode": "closest",
          "mapbox": {
           "style": "light"
          },
          "paper_bgcolor": "white",
          "plot_bgcolor": "#E5ECF6",
          "polar": {
           "angularaxis": {
            "gridcolor": "white",
            "linecolor": "white",
            "ticks": ""
           },
           "bgcolor": "#E5ECF6",
           "radialaxis": {
            "gridcolor": "white",
            "linecolor": "white",
            "ticks": ""
           }
          },
          "scene": {
           "xaxis": {
            "backgroundcolor": "#E5ECF6",
            "gridcolor": "white",
            "gridwidth": 2,
            "linecolor": "white",
            "showbackground": true,
            "ticks": "",
            "zerolinecolor": "white"
           },
           "yaxis": {
            "backgroundcolor": "#E5ECF6",
            "gridcolor": "white",
            "gridwidth": 2,
            "linecolor": "white",
            "showbackground": true,
            "ticks": "",
            "zerolinecolor": "white"
           },
           "zaxis": {
            "backgroundcolor": "#E5ECF6",
            "gridcolor": "white",
            "gridwidth": 2,
            "linecolor": "white",
            "showbackground": true,
            "ticks": "",
            "zerolinecolor": "white"
           }
          },
          "shapedefaults": {
           "line": {
            "color": "#2a3f5f"
           }
          },
          "ternary": {
           "aaxis": {
            "gridcolor": "white",
            "linecolor": "white",
            "ticks": ""
           },
           "baxis": {
            "gridcolor": "white",
            "linecolor": "white",
            "ticks": ""
           },
           "bgcolor": "#E5ECF6",
           "caxis": {
            "gridcolor": "white",
            "linecolor": "white",
            "ticks": ""
           }
          },
          "title": {
           "x": 0.05
          },
          "xaxis": {
           "automargin": true,
           "gridcolor": "white",
           "linecolor": "white",
           "ticks": "",
           "title": {
            "standoff": 15
           },
           "zerolinecolor": "white",
           "zerolinewidth": 2
          },
          "yaxis": {
           "automargin": true,
           "gridcolor": "white",
           "linecolor": "white",
           "ticks": "",
           "title": {
            "standoff": 15
           },
           "zerolinecolor": "white",
           "zerolinewidth": 2
          }
         }
        },
        "title": {
         "text": "Lucro por País (em geral de 2011 a 2014)"
        },
        "updatemenus": [
         {
          "buttons": [
           {
            "args": [
             null,
             {
              "frame": {
               "duration": 500,
               "redraw": true
              },
              "fromcurrent": true,
              "mode": "immediate",
              "transition": {
               "duration": 500,
               "easing": "linear"
              }
             }
            ],
            "label": "&#9654;",
            "method": "animate"
           },
           {
            "args": [
             [
              null
             ],
             {
              "frame": {
               "duration": 0,
               "redraw": true
              },
              "fromcurrent": true,
              "mode": "immediate",
              "transition": {
               "duration": 0,
               "easing": "linear"
              }
             }
            ],
            "label": "&#9724;",
            "method": "animate"
           }
          ],
          "direction": "left",
          "pad": {
           "r": 10,
           "t": 70
          },
          "showactive": false,
          "type": "buttons",
          "x": 0.1,
          "xanchor": "right",
          "y": 0,
          "yanchor": "top"
         }
        ]
       }
      },
      "text/html": [
       "<div>\n",
       "        \n",
       "        \n",
       "            <div id=\"8581c05f-5ab0-4abe-a2e7-33f20e157202\" class=\"plotly-graph-div\" style=\"height:600px; width:100%;\"></div>\n",
       "            <script type=\"text/javascript\">\n",
       "                require([\"plotly\"], function(Plotly) {\n",
       "                    window.PLOTLYENV=window.PLOTLYENV || {};\n",
       "                    \n",
       "                if (document.getElementById(\"8581c05f-5ab0-4abe-a2e7-33f20e157202\")) {\n",
       "                    Plotly.newPlot(\n",
       "                        '8581c05f-5ab0-4abe-a2e7-33f20e157202',\n",
       "                        [{\"coloraxis\": \"coloraxis\", \"geo\": \"geo\", \"hoverlabel\": {\"namelength\": 0}, \"hovertemplate\": \"<b>%{hovertext}</b><br><br>Ano=2011<br>Sigla=%{location}<br>Profit=%{z}\", \"hovertext\": [\"Afghanistan\", \"Angola\", \"Albania\", \"United Arab Emirates\", \"Argentina\", \"Armenia\", \"Australia\", \"Austria\", \"Azerbaijan\", \"Burundi\", \"Belgium\", \"Benin\", \"Bangladesh\", \"Bulgaria\", \"Bosnia and Herzegovina\", \"Belarus\", \"Brazil\", \"Barbados\", \"Central African Republic\", \"Canada\", \"Switzerland\", \"Chile\", \"China\", \"Cameroon\", \"Colombia\", \"Cuba\", \"Germany\", \"Djibouti\", \"Denmark\", \"Dominican Republic\", \"Algeria\", \"Bolivia\", \"Cote d'Ivoire\", \"Czech Republic\", \"Democratic Republic of the Congo\", \"Iran\", \"Moldova\", \"Myanmar (Burma)\", \"Republic of the Congo\", \"Russia\", \"South Korea\", \"Swaziland\", \"Syria\", \"Taiwan\", \"Tanzania\", \"Venezuela\", \"Vietnam\", \"Ecuador\", \"Egypt\", \"Spain\", \"Estonia\", \"Ethiopia\", \"Finland\", \"France\", \"United Kingdom\", \"Georgia\", \"Ghana\", \"Guinea\", \"Guinea-Bissau\", \"Guatemala\", \"Hong Kong\", \"Honduras\", \"Croatia\", \"Haiti\", \"Hungary\", \"Indonesia\", \"India\", \"Ireland\", \"Iraq\", \"Israel\", \"Italy\", \"Jamaica\", \"Jordan\", \"Japan\", \"Kazakhstan\", \"Kenya\", \"Kyrgyzstan\", \"Cambodia\", \"Lebanon\", \"Liberia\", \"Libya\", \"Lesotho\", \"Lithuania\", \"Morocco\", \"Madagascar\", \"Mexico\", \"Mali\", \"Mongolia\", \"Mozambique\", \"Martinique\", \"Malaysia\", \"Niger\", \"Nigeria\", \"Nicaragua\", \"Netherlands\", \"Norway\", \"New Zealand\", \"Pakistan\", \"Panama\", \"Peru\", \"Philippines\", \"Papua New Guinea\", \"Poland\", \"Portugal\", \"Paraguay\", \"Qatar\", \"Romania\", \"Rwanda\", \"Saudi Arabia\", \"Sudan\", \"Senegal\", \"Singapore\", \"Sierra Leone\", \"El Salvador\", \"Somalia\", \"South Sudan\", \"Slovakia\", \"Sweden\", \"Togo\", \"Thailand\", \"Tajikistan\", \"Turkmenistan\", \"Tunisia\", \"Turkey\", \"Uganda\", \"Ukraine\", \"Uruguay\", \"United States\", \"Uzbekistan\", \"Yemen\", \"South Africa\", \"Zambia\", \"Zimbabwe\"], \"locations\": [\"AFG\", \"AGO\", \"ALB\", \"ARE\", \"ARG\", \"ARM\", \"AUS\", \"AUT\", \"AZE\", \"BDI\", \"BEL\", \"BEN\", \"BGD\", \"BGR\", \"BIH\", \"BLR\", \"BRA\", \"BRB\", \"CAF\", \"CAN\", \"CHE\", \"CHL\", \"CHN\", \"CMR\", \"COL\", \"CUB\", \"DEU\", \"DJI\", \"DNK\", \"DOM\", \"DZA\", \"Desconhecido\", \"Desconhecido\", \"Desconhecido\", \"Desconhecido\", \"Desconhecido\", \"Desconhecido\", \"Desconhecido\", \"Desconhecido\", \"Desconhecido\", \"Desconhecido\", \"Desconhecido\", \"Desconhecido\", \"Desconhecido\", \"Desconhecido\", \"Desconhecido\", \"Desconhecido\", \"ECU\", \"EGY\", \"ESP\", \"EST\", \"ETH\", \"FIN\", \"FRA\", \"GBR\", \"GEO\", \"GHA\", \"GIN\", \"GNB\", \"GTM\", \"HKG\", \"HND\", \"HRV\", \"HTI\", \"HUN\", \"IDN\", \"IND\", \"IRL\", \"IRQ\", \"ISR\", \"ITA\", \"JAM\", \"JOR\", \"JPN\", \"KAZ\", \"KEN\", \"KGZ\", \"KHM\", \"LBN\", \"LBR\", \"LBY\", \"LSO\", \"LTU\", \"MAR\", \"MDG\", \"MEX\", \"MLI\", \"MNG\", \"MOZ\", \"MTQ\", \"MYS\", \"NER\", \"NGA\", \"NIC\", \"NLD\", \"NOR\", \"NZL\", \"PAK\", \"PAN\", \"PER\", \"PHL\", \"PNG\", \"POL\", \"PRT\", \"PRY\", \"QAT\", \"ROU\", \"RWA\", \"SAU\", \"SDN\", \"SEN\", \"SGP\", \"SLE\", \"SLV\", \"SOM\", \"SSD\", \"SVK\", \"SWE\", \"TGO\", \"THA\", \"TJK\", \"TKM\", \"TUN\", \"TUR\", \"UGA\", \"UKR\", \"URY\", \"USA\", \"UZB\", \"YEM\", \"ZAF\", \"ZMB\", \"ZWE\"], \"name\": \"\", \"type\": \"choropleth\", \"z\": [293.93999999999994, 1015.71, 267.53999999999996, -246.078, -2468.7348799999995, 66.24000000000001, 17516.730000000014, 5582.610000000004, 151.95, 22.799999999999997, 2766.4799999999996, 607.59, 5813.280000000001, 776.16, 108.24, 79.86, 3050.180999999995, 332.55992, 20.580000000000002, 1807.0800000000004, 555.6600000000001, 435.02, 33181.38300000003, 1386.8100000000002, 2708.9309200000002, 6005.208199999997, 19554.860999999986, 130.98, -961.0799999999998, -1631.861160000001, 1736.3099999999997, 534.8800000000001, 2157.87, 126.78000000000002, 3201.09, 3846.2099999999978, 169.74, -181.32539999999997, 167.76, 5865.659999999999, -5823.06, 59.16, 13.595999999999997, 1557.3899999999999, 816.0090000000005, -4381.803960000001, 976.7222999999999, 224.9, 2978.8199999999997, 8644.844999999994, 412.11, 173.19, 840.2700000000001, 18435.675000000003, 20080.220999999994, 101.22000000000001, 395.40000000000003, 319.02000000000004, 28.950000000000003, 4491.345920000002, 199.95, -5053.08888, 1.26, -772.7580000000002, 650.6099999999999, 2427.3620999999976, 19928.505000000016, -1566.7799999999997, 2293.2300000000005, 593.13, -429.6629999999986, 367.47999999999996, 164.01000000000002, 6397.710000000002, -2426.817000000001, 853.5000000000001, 8.16, 631.41, 271.29, 214.53, 54.48, 942.4499999999999, -711.7919999999999, 3572.669999999999, 104.46, 18521.74819999999, 8.850000000000001, 437.76, 715.5600000000001, 58.279999999999994, 2904.63, 382.17, -15205.901999999998, 8510.321319999995, -9137.775000000003, 425.64000000000016, 3949.4700000000016, -3189.2790000000005, -2320.24024, -1104.1125599999996, -4482.686999999996, -37.44, 1620.3899999999999, -1276.6200000000001, 26.04, 89.1, 1773.0000000000002, 137.64000000000001, 4564.8899999999985, 218.76000000000005, 794.28, 1949.9400000000007, 59.760000000000005, 9168.000239999996, 54.750000000000014, 19.919999999999998, 53.1, -1473.7919999999997, 16.71, -983.0556, -3.845999999999999, -706.3679999999998, 7.74, -18985.973999999987, -516.126, 3432.690000000001, 6.12, 49543.97409999998, 96.69000000000001, -88.64099999999998, 2956.650000000001, 1421.49, -1088.2769999999996]}],\n",
       "                        {\"coloraxis\": {\"cmax\": 5000, \"cmin\": -1000, \"colorbar\": {\"title\": {\"text\": \"Profit\"}}, \"colorscale\": [[0.0, \"rgb(255,255,229)\"], [0.125, \"rgb(255,247,188)\"], [0.25, \"rgb(254,227,145)\"], [0.375, \"rgb(254,196,79)\"], [0.5, \"rgb(254,153,41)\"], [0.625, \"rgb(236,112,20)\"], [0.75, \"rgb(204,76,2)\"], [0.875, \"rgb(153,52,4)\"], [1.0, \"rgb(102,37,6)\"]]}, \"geo\": {\"center\": {}, \"domain\": {\"x\": [0.0, 1.0], \"y\": [0.0, 1.0]}}, \"height\": 600, \"legend\": {\"tracegroupgap\": 0}, \"margin\": {\"t\": 60}, \"sliders\": [{\"active\": 0, \"currentvalue\": {\"prefix\": \"Ano=\"}, \"len\": 0.9, \"pad\": {\"b\": 10, \"t\": 60}, \"steps\": [{\"args\": [[\"2011\"], {\"frame\": {\"duration\": 0, \"redraw\": true}, \"fromcurrent\": true, \"mode\": \"immediate\", \"transition\": {\"duration\": 0, \"easing\": \"linear\"}}], \"label\": \"2011\", \"method\": \"animate\"}, {\"args\": [[\"2012\"], {\"frame\": {\"duration\": 0, \"redraw\": true}, \"fromcurrent\": true, \"mode\": \"immediate\", \"transition\": {\"duration\": 0, \"easing\": \"linear\"}}], \"label\": \"2012\", \"method\": \"animate\"}, {\"args\": [[\"2013\"], {\"frame\": {\"duration\": 0, \"redraw\": true}, \"fromcurrent\": true, \"mode\": \"immediate\", \"transition\": {\"duration\": 0, \"easing\": \"linear\"}}], \"label\": \"2013\", \"method\": \"animate\"}, {\"args\": [[\"2014\"], {\"frame\": {\"duration\": 0, \"redraw\": true}, \"fromcurrent\": true, \"mode\": \"immediate\", \"transition\": {\"duration\": 0, \"easing\": \"linear\"}}], \"label\": \"2014\", \"method\": \"animate\"}], \"x\": 0.1, \"xanchor\": \"left\", \"y\": 0, \"yanchor\": \"top\"}], \"template\": {\"data\": {\"bar\": [{\"error_x\": {\"color\": \"#2a3f5f\"}, \"error_y\": {\"color\": \"#2a3f5f\"}, \"marker\": {\"line\": {\"color\": \"#E5ECF6\", \"width\": 0.5}}, \"type\": \"bar\"}], \"barpolar\": [{\"marker\": {\"line\": {\"color\": \"#E5ECF6\", \"width\": 0.5}}, \"type\": \"barpolar\"}], \"carpet\": [{\"aaxis\": {\"endlinecolor\": \"#2a3f5f\", \"gridcolor\": \"white\", \"linecolor\": \"white\", \"minorgridcolor\": \"white\", \"startlinecolor\": \"#2a3f5f\"}, \"baxis\": {\"endlinecolor\": \"#2a3f5f\", \"gridcolor\": \"white\", \"linecolor\": \"white\", \"minorgridcolor\": \"white\", \"startlinecolor\": \"#2a3f5f\"}, \"type\": \"carpet\"}], \"choropleth\": [{\"colorbar\": {\"outlinewidth\": 0, \"ticks\": \"\"}, \"type\": \"choropleth\"}], \"contour\": [{\"colorbar\": {\"outlinewidth\": 0, \"ticks\": \"\"}, \"colorscale\": [[0.0, \"#0d0887\"], [0.1111111111111111, \"#46039f\"], [0.2222222222222222, \"#7201a8\"], [0.3333333333333333, \"#9c179e\"], [0.4444444444444444, \"#bd3786\"], [0.5555555555555556, \"#d8576b\"], [0.6666666666666666, \"#ed7953\"], [0.7777777777777778, \"#fb9f3a\"], [0.8888888888888888, \"#fdca26\"], [1.0, \"#f0f921\"]], \"type\": \"contour\"}], \"contourcarpet\": [{\"colorbar\": {\"outlinewidth\": 0, \"ticks\": \"\"}, \"type\": \"contourcarpet\"}], \"heatmap\": [{\"colorbar\": {\"outlinewidth\": 0, \"ticks\": \"\"}, \"colorscale\": [[0.0, \"#0d0887\"], [0.1111111111111111, \"#46039f\"], [0.2222222222222222, \"#7201a8\"], [0.3333333333333333, \"#9c179e\"], [0.4444444444444444, \"#bd3786\"], [0.5555555555555556, \"#d8576b\"], [0.6666666666666666, \"#ed7953\"], [0.7777777777777778, \"#fb9f3a\"], [0.8888888888888888, \"#fdca26\"], [1.0, \"#f0f921\"]], \"type\": \"heatmap\"}], \"heatmapgl\": [{\"colorbar\": {\"outlinewidth\": 0, \"ticks\": \"\"}, \"colorscale\": [[0.0, \"#0d0887\"], [0.1111111111111111, \"#46039f\"], [0.2222222222222222, \"#7201a8\"], [0.3333333333333333, \"#9c179e\"], [0.4444444444444444, \"#bd3786\"], [0.5555555555555556, \"#d8576b\"], [0.6666666666666666, \"#ed7953\"], [0.7777777777777778, \"#fb9f3a\"], [0.8888888888888888, \"#fdca26\"], [1.0, \"#f0f921\"]], \"type\": \"heatmapgl\"}], \"histogram\": [{\"marker\": {\"colorbar\": {\"outlinewidth\": 0, \"ticks\": \"\"}}, \"type\": \"histogram\"}], \"histogram2d\": [{\"colorbar\": {\"outlinewidth\": 0, \"ticks\": \"\"}, \"colorscale\": [[0.0, \"#0d0887\"], [0.1111111111111111, \"#46039f\"], [0.2222222222222222, \"#7201a8\"], [0.3333333333333333, \"#9c179e\"], [0.4444444444444444, \"#bd3786\"], [0.5555555555555556, \"#d8576b\"], [0.6666666666666666, \"#ed7953\"], [0.7777777777777778, \"#fb9f3a\"], [0.8888888888888888, \"#fdca26\"], [1.0, \"#f0f921\"]], \"type\": \"histogram2d\"}], \"histogram2dcontour\": [{\"colorbar\": {\"outlinewidth\": 0, \"ticks\": \"\"}, \"colorscale\": [[0.0, \"#0d0887\"], [0.1111111111111111, \"#46039f\"], [0.2222222222222222, \"#7201a8\"], [0.3333333333333333, \"#9c179e\"], [0.4444444444444444, \"#bd3786\"], [0.5555555555555556, \"#d8576b\"], [0.6666666666666666, \"#ed7953\"], [0.7777777777777778, \"#fb9f3a\"], [0.8888888888888888, \"#fdca26\"], [1.0, \"#f0f921\"]], \"type\": \"histogram2dcontour\"}], \"mesh3d\": [{\"colorbar\": {\"outlinewidth\": 0, \"ticks\": \"\"}, \"type\": \"mesh3d\"}], \"parcoords\": [{\"line\": {\"colorbar\": {\"outlinewidth\": 0, \"ticks\": \"\"}}, \"type\": \"parcoords\"}], \"pie\": [{\"automargin\": true, \"type\": \"pie\"}], \"scatter\": [{\"marker\": {\"colorbar\": {\"outlinewidth\": 0, \"ticks\": \"\"}}, \"type\": \"scatter\"}], \"scatter3d\": [{\"line\": {\"colorbar\": {\"outlinewidth\": 0, \"ticks\": \"\"}}, \"marker\": {\"colorbar\": {\"outlinewidth\": 0, \"ticks\": \"\"}}, \"type\": \"scatter3d\"}], \"scattercarpet\": [{\"marker\": {\"colorbar\": {\"outlinewidth\": 0, \"ticks\": \"\"}}, \"type\": \"scattercarpet\"}], \"scattergeo\": [{\"marker\": {\"colorbar\": {\"outlinewidth\": 0, \"ticks\": \"\"}}, \"type\": \"scattergeo\"}], \"scattergl\": [{\"marker\": {\"colorbar\": {\"outlinewidth\": 0, \"ticks\": \"\"}}, \"type\": \"scattergl\"}], \"scattermapbox\": [{\"marker\": {\"colorbar\": {\"outlinewidth\": 0, \"ticks\": \"\"}}, \"type\": \"scattermapbox\"}], \"scatterpolar\": [{\"marker\": {\"colorbar\": {\"outlinewidth\": 0, \"ticks\": \"\"}}, \"type\": \"scatterpolar\"}], \"scatterpolargl\": [{\"marker\": {\"colorbar\": {\"outlinewidth\": 0, \"ticks\": \"\"}}, \"type\": \"scatterpolargl\"}], \"scatterternary\": [{\"marker\": {\"colorbar\": {\"outlinewidth\": 0, \"ticks\": \"\"}}, \"type\": \"scatterternary\"}], \"surface\": [{\"colorbar\": {\"outlinewidth\": 0, \"ticks\": \"\"}, \"colorscale\": [[0.0, \"#0d0887\"], [0.1111111111111111, \"#46039f\"], [0.2222222222222222, \"#7201a8\"], [0.3333333333333333, \"#9c179e\"], [0.4444444444444444, \"#bd3786\"], [0.5555555555555556, \"#d8576b\"], [0.6666666666666666, \"#ed7953\"], [0.7777777777777778, \"#fb9f3a\"], [0.8888888888888888, \"#fdca26\"], [1.0, \"#f0f921\"]], \"type\": \"surface\"}], \"table\": [{\"cells\": {\"fill\": {\"color\": \"#EBF0F8\"}, \"line\": {\"color\": \"white\"}}, \"header\": {\"fill\": {\"color\": \"#C8D4E3\"}, \"line\": {\"color\": \"white\"}}, \"type\": \"table\"}]}, \"layout\": {\"annotationdefaults\": {\"arrowcolor\": \"#2a3f5f\", \"arrowhead\": 0, \"arrowwidth\": 1}, \"coloraxis\": {\"colorbar\": {\"outlinewidth\": 0, \"ticks\": \"\"}}, \"colorscale\": {\"diverging\": [[0, \"#8e0152\"], [0.1, \"#c51b7d\"], [0.2, \"#de77ae\"], [0.3, \"#f1b6da\"], [0.4, \"#fde0ef\"], [0.5, \"#f7f7f7\"], [0.6, \"#e6f5d0\"], [0.7, \"#b8e186\"], [0.8, \"#7fbc41\"], [0.9, \"#4d9221\"], [1, \"#276419\"]], \"sequential\": [[0.0, \"#0d0887\"], [0.1111111111111111, \"#46039f\"], [0.2222222222222222, \"#7201a8\"], [0.3333333333333333, \"#9c179e\"], [0.4444444444444444, \"#bd3786\"], [0.5555555555555556, \"#d8576b\"], [0.6666666666666666, \"#ed7953\"], [0.7777777777777778, \"#fb9f3a\"], [0.8888888888888888, \"#fdca26\"], [1.0, \"#f0f921\"]], \"sequentialminus\": [[0.0, \"#0d0887\"], [0.1111111111111111, \"#46039f\"], [0.2222222222222222, \"#7201a8\"], [0.3333333333333333, \"#9c179e\"], [0.4444444444444444, \"#bd3786\"], [0.5555555555555556, \"#d8576b\"], [0.6666666666666666, \"#ed7953\"], [0.7777777777777778, \"#fb9f3a\"], [0.8888888888888888, \"#fdca26\"], [1.0, \"#f0f921\"]]}, \"colorway\": [\"#636efa\", \"#EF553B\", \"#00cc96\", \"#ab63fa\", \"#FFA15A\", \"#19d3f3\", \"#FF6692\", \"#B6E880\", \"#FF97FF\", \"#FECB52\"], \"font\": {\"color\": \"#2a3f5f\"}, \"geo\": {\"bgcolor\": \"white\", \"lakecolor\": \"white\", \"landcolor\": \"#E5ECF6\", \"showlakes\": true, \"showland\": true, \"subunitcolor\": \"white\"}, \"hoverlabel\": {\"align\": \"left\"}, \"hovermode\": \"closest\", \"mapbox\": {\"style\": \"light\"}, \"paper_bgcolor\": \"white\", \"plot_bgcolor\": \"#E5ECF6\", \"polar\": {\"angularaxis\": {\"gridcolor\": \"white\", \"linecolor\": \"white\", \"ticks\": \"\"}, \"bgcolor\": \"#E5ECF6\", \"radialaxis\": {\"gridcolor\": \"white\", \"linecolor\": \"white\", \"ticks\": \"\"}}, \"scene\": {\"xaxis\": {\"backgroundcolor\": \"#E5ECF6\", \"gridcolor\": \"white\", \"gridwidth\": 2, \"linecolor\": \"white\", \"showbackground\": true, \"ticks\": \"\", \"zerolinecolor\": \"white\"}, \"yaxis\": {\"backgroundcolor\": \"#E5ECF6\", \"gridcolor\": \"white\", \"gridwidth\": 2, \"linecolor\": \"white\", \"showbackground\": true, \"ticks\": \"\", \"zerolinecolor\": \"white\"}, \"zaxis\": {\"backgroundcolor\": \"#E5ECF6\", \"gridcolor\": \"white\", \"gridwidth\": 2, \"linecolor\": \"white\", \"showbackground\": true, \"ticks\": \"\", \"zerolinecolor\": \"white\"}}, \"shapedefaults\": {\"line\": {\"color\": \"#2a3f5f\"}}, \"ternary\": {\"aaxis\": {\"gridcolor\": \"white\", \"linecolor\": \"white\", \"ticks\": \"\"}, \"baxis\": {\"gridcolor\": \"white\", \"linecolor\": \"white\", \"ticks\": \"\"}, \"bgcolor\": \"#E5ECF6\", \"caxis\": {\"gridcolor\": \"white\", \"linecolor\": \"white\", \"ticks\": \"\"}}, \"title\": {\"x\": 0.05}, \"xaxis\": {\"automargin\": true, \"gridcolor\": \"white\", \"linecolor\": \"white\", \"ticks\": \"\", \"title\": {\"standoff\": 15}, \"zerolinecolor\": \"white\", \"zerolinewidth\": 2}, \"yaxis\": {\"automargin\": true, \"gridcolor\": \"white\", \"linecolor\": \"white\", \"ticks\": \"\", \"title\": {\"standoff\": 15}, \"zerolinecolor\": \"white\", \"zerolinewidth\": 2}}}, \"title\": {\"text\": \"Lucro por Pa\\u00eds (em geral de 2011 a 2014)\"}, \"updatemenus\": [{\"buttons\": [{\"args\": [null, {\"frame\": {\"duration\": 500, \"redraw\": true}, \"fromcurrent\": true, \"mode\": \"immediate\", \"transition\": {\"duration\": 500, \"easing\": \"linear\"}}], \"label\": \"&#9654;\", \"method\": \"animate\"}, {\"args\": [[null], {\"frame\": {\"duration\": 0, \"redraw\": true}, \"fromcurrent\": true, \"mode\": \"immediate\", \"transition\": {\"duration\": 0, \"easing\": \"linear\"}}], \"label\": \"&#9724;\", \"method\": \"animate\"}], \"direction\": \"left\", \"pad\": {\"r\": 10, \"t\": 70}, \"showactive\": false, \"type\": \"buttons\", \"x\": 0.1, \"xanchor\": \"right\", \"y\": 0, \"yanchor\": \"top\"}]},\n",
       "                        {\"responsive\": true}\n",
       "                    ).then(function(){\n",
       "                            Plotly.addFrames('8581c05f-5ab0-4abe-a2e7-33f20e157202', [{\"data\": [{\"coloraxis\": \"coloraxis\", \"geo\": \"geo\", \"hoverlabel\": {\"namelength\": 0}, \"hovertemplate\": \"<b>%{hovertext}</b><br><br>Ano=2011<br>Sigla=%{location}<br>Profit=%{z}\", \"hovertext\": [\"Afghanistan\", \"Angola\", \"Albania\", \"United Arab Emirates\", \"Argentina\", \"Armenia\", \"Australia\", \"Austria\", \"Azerbaijan\", \"Burundi\", \"Belgium\", \"Benin\", \"Bangladesh\", \"Bulgaria\", \"Bosnia and Herzegovina\", \"Belarus\", \"Brazil\", \"Barbados\", \"Central African Republic\", \"Canada\", \"Switzerland\", \"Chile\", \"China\", \"Cameroon\", \"Colombia\", \"Cuba\", \"Germany\", \"Djibouti\", \"Denmark\", \"Dominican Republic\", \"Algeria\", \"Bolivia\", \"Cote d'Ivoire\", \"Czech Republic\", \"Democratic Republic of the Congo\", \"Iran\", \"Moldova\", \"Myanmar (Burma)\", \"Republic of the Congo\", \"Russia\", \"South Korea\", \"Swaziland\", \"Syria\", \"Taiwan\", \"Tanzania\", \"Venezuela\", \"Vietnam\", \"Ecuador\", \"Egypt\", \"Spain\", \"Estonia\", \"Ethiopia\", \"Finland\", \"France\", \"United Kingdom\", \"Georgia\", \"Ghana\", \"Guinea\", \"Guinea-Bissau\", \"Guatemala\", \"Hong Kong\", \"Honduras\", \"Croatia\", \"Haiti\", \"Hungary\", \"Indonesia\", \"India\", \"Ireland\", \"Iraq\", \"Israel\", \"Italy\", \"Jamaica\", \"Jordan\", \"Japan\", \"Kazakhstan\", \"Kenya\", \"Kyrgyzstan\", \"Cambodia\", \"Lebanon\", \"Liberia\", \"Libya\", \"Lesotho\", \"Lithuania\", \"Morocco\", \"Madagascar\", \"Mexico\", \"Mali\", \"Mongolia\", \"Mozambique\", \"Martinique\", \"Malaysia\", \"Niger\", \"Nigeria\", \"Nicaragua\", \"Netherlands\", \"Norway\", \"New Zealand\", \"Pakistan\", \"Panama\", \"Peru\", \"Philippines\", \"Papua New Guinea\", \"Poland\", \"Portugal\", \"Paraguay\", \"Qatar\", \"Romania\", \"Rwanda\", \"Saudi Arabia\", \"Sudan\", \"Senegal\", \"Singapore\", \"Sierra Leone\", \"El Salvador\", \"Somalia\", \"South Sudan\", \"Slovakia\", \"Sweden\", \"Togo\", \"Thailand\", \"Tajikistan\", \"Turkmenistan\", \"Tunisia\", \"Turkey\", \"Uganda\", \"Ukraine\", \"Uruguay\", \"United States\", \"Uzbekistan\", \"Yemen\", \"South Africa\", \"Zambia\", \"Zimbabwe\"], \"locations\": [\"AFG\", \"AGO\", \"ALB\", \"ARE\", \"ARG\", \"ARM\", \"AUS\", \"AUT\", \"AZE\", \"BDI\", \"BEL\", \"BEN\", \"BGD\", \"BGR\", \"BIH\", \"BLR\", \"BRA\", \"BRB\", \"CAF\", \"CAN\", \"CHE\", \"CHL\", \"CHN\", \"CMR\", \"COL\", \"CUB\", \"DEU\", \"DJI\", \"DNK\", \"DOM\", \"DZA\", \"Desconhecido\", \"Desconhecido\", \"Desconhecido\", \"Desconhecido\", \"Desconhecido\", \"Desconhecido\", \"Desconhecido\", \"Desconhecido\", \"Desconhecido\", \"Desconhecido\", \"Desconhecido\", \"Desconhecido\", \"Desconhecido\", \"Desconhecido\", \"Desconhecido\", \"Desconhecido\", \"ECU\", \"EGY\", \"ESP\", \"EST\", \"ETH\", \"FIN\", \"FRA\", \"GBR\", \"GEO\", \"GHA\", \"GIN\", \"GNB\", \"GTM\", \"HKG\", \"HND\", \"HRV\", \"HTI\", \"HUN\", \"IDN\", \"IND\", \"IRL\", \"IRQ\", \"ISR\", \"ITA\", \"JAM\", \"JOR\", \"JPN\", \"KAZ\", \"KEN\", \"KGZ\", \"KHM\", \"LBN\", \"LBR\", \"LBY\", \"LSO\", \"LTU\", \"MAR\", \"MDG\", \"MEX\", \"MLI\", \"MNG\", \"MOZ\", \"MTQ\", \"MYS\", \"NER\", \"NGA\", \"NIC\", \"NLD\", \"NOR\", \"NZL\", \"PAK\", \"PAN\", \"PER\", \"PHL\", \"PNG\", \"POL\", \"PRT\", \"PRY\", \"QAT\", \"ROU\", \"RWA\", \"SAU\", \"SDN\", \"SEN\", \"SGP\", \"SLE\", \"SLV\", \"SOM\", \"SSD\", \"SVK\", \"SWE\", \"TGO\", \"THA\", \"TJK\", \"TKM\", \"TUN\", \"TUR\", \"UGA\", \"UKR\", \"URY\", \"USA\", \"UZB\", \"YEM\", \"ZAF\", \"ZMB\", \"ZWE\"], \"name\": \"\", \"z\": [293.93999999999994, 1015.71, 267.53999999999996, -246.078, -2468.7348799999995, 66.24000000000001, 17516.730000000014, 5582.610000000004, 151.95, 22.799999999999997, 2766.4799999999996, 607.59, 5813.280000000001, 776.16, 108.24, 79.86, 3050.180999999995, 332.55992, 20.580000000000002, 1807.0800000000004, 555.6600000000001, 435.02, 33181.38300000003, 1386.8100000000002, 2708.9309200000002, 6005.208199999997, 19554.860999999986, 130.98, -961.0799999999998, -1631.861160000001, 1736.3099999999997, 534.8800000000001, 2157.87, 126.78000000000002, 3201.09, 3846.2099999999978, 169.74, -181.32539999999997, 167.76, 5865.659999999999, -5823.06, 59.16, 13.595999999999997, 1557.3899999999999, 816.0090000000005, -4381.803960000001, 976.7222999999999, 224.9, 2978.8199999999997, 8644.844999999994, 412.11, 173.19, 840.2700000000001, 18435.675000000003, 20080.220999999994, 101.22000000000001, 395.40000000000003, 319.02000000000004, 28.950000000000003, 4491.345920000002, 199.95, -5053.08888, 1.26, -772.7580000000002, 650.6099999999999, 2427.3620999999976, 19928.505000000016, -1566.7799999999997, 2293.2300000000005, 593.13, -429.6629999999986, 367.47999999999996, 164.01000000000002, 6397.710000000002, -2426.817000000001, 853.5000000000001, 8.16, 631.41, 271.29, 214.53, 54.48, 942.4499999999999, -711.7919999999999, 3572.669999999999, 104.46, 18521.74819999999, 8.850000000000001, 437.76, 715.5600000000001, 58.279999999999994, 2904.63, 382.17, -15205.901999999998, 8510.321319999995, -9137.775000000003, 425.64000000000016, 3949.4700000000016, -3189.2790000000005, -2320.24024, -1104.1125599999996, -4482.686999999996, -37.44, 1620.3899999999999, -1276.6200000000001, 26.04, 89.1, 1773.0000000000002, 137.64000000000001, 4564.8899999999985, 218.76000000000005, 794.28, 1949.9400000000007, 59.760000000000005, 9168.000239999996, 54.750000000000014, 19.919999999999998, 53.1, -1473.7919999999997, 16.71, -983.0556, -3.845999999999999, -706.3679999999998, 7.74, -18985.973999999987, -516.126, 3432.690000000001, 6.12, 49543.97409999998, 96.69000000000001, -88.64099999999998, 2956.650000000001, 1421.49, -1088.2769999999996], \"type\": \"choropleth\"}], \"name\": \"2011\"}, {\"data\": [{\"coloraxis\": \"coloraxis\", \"geo\": \"geo\", \"hoverlabel\": {\"namelength\": 0}, \"hovertemplate\": \"<b>%{hovertext}</b><br><br>Ano=2012<br>Sigla=%{location}<br>Profit=%{z}\", \"hovertext\": [\"Afghanistan\", \"Angola\", \"Albania\", \"Argentina\", \"Australia\", \"Austria\", \"Azerbaijan\", \"Burundi\", \"Belgium\", \"Benin\", \"Bangladesh\", \"Bulgaria\", \"Bosnia and Herzegovina\", \"Belarus\", \"Brazil\", \"Barbados\", \"Central African Republic\", \"Canada\", \"Switzerland\", \"Chile\", \"China\", \"Cameroon\", \"Colombia\", \"Cuba\", \"Germany\", \"Denmark\", \"Dominican Republic\", \"Algeria\", \"Bolivia\", \"Cote d'Ivoire\", \"Czech Republic\", \"Democratic Republic of the Congo\", \"Iran\", \"Macedonia\", \"Moldova\", \"Myanmar (Burma)\", \"Russia\", \"South Korea\", \"Syria\", \"Tanzania\", \"Venezuela\", \"Vietnam\", \"Ecuador\", \"Egypt\", \"Spain\", \"Estonia\", \"Finland\", \"France\", \"Gabon\", \"United Kingdom\", \"Georgia\", \"Ghana\", \"Guinea\", \"Guadeloupe\", \"Guatemala\", \"Honduras\", \"Croatia\", \"Haiti\", \"Hungary\", \"Indonesia\", \"India\", \"Ireland\", \"Iraq\", \"Israel\", \"Italy\", \"Jamaica\", \"Jordan\", \"Japan\", \"Kazakhstan\", \"Kenya\", \"Kyrgyzstan\", \"Cambodia\", \"Lebanon\", \"Liberia\", \"Libya\", \"Sri Lanka\", \"Lithuania\", \"Morocco\", \"Madagascar\", \"Mexico\", \"Mali\", \"Mongolia\", \"Mozambique\", \"Mauritania\", \"Martinique\", \"Malaysia\", \"Namibia\", \"Niger\", \"Nigeria\", \"Nicaragua\", \"Netherlands\", \"Norway\", \"Nepal\", \"New Zealand\", \"Pakistan\", \"Panama\", \"Peru\", \"Philippines\", \"Papua New Guinea\", \"Poland\", \"Portugal\", \"Paraguay\", \"Qatar\", \"Romania\", \"Rwanda\", \"Saudi Arabia\", \"Sudan\", \"Senegal\", \"Singapore\", \"Sierra Leone\", \"El Salvador\", \"Somalia\", \"Slovakia\", \"Sweden\", \"Togo\", \"Thailand\", \"Turkmenistan\", \"Trinidad and Tobago\", \"Tunisia\", \"Turkey\", \"Uganda\", \"Ukraine\", \"Uruguay\", \"United States\", \"Uzbekistan\", \"Yemen\", \"South Africa\", \"Zambia\", \"Zimbabwe\"], \"locations\": [\"AFG\", \"AGO\", \"ALB\", \"ARG\", \"AUS\", \"AUT\", \"AZE\", \"BDI\", \"BEL\", \"BEN\", \"BGD\", \"BGR\", \"BIH\", \"BLR\", \"BRA\", \"BRB\", \"CAF\", \"CAN\", \"CHE\", \"CHL\", \"CHN\", \"CMR\", \"COL\", \"CUB\", \"DEU\", \"DNK\", \"DOM\", \"DZA\", \"Desconhecido\", \"Desconhecido\", \"Desconhecido\", \"Desconhecido\", \"Desconhecido\", \"Desconhecido\", \"Desconhecido\", \"Desconhecido\", \"Desconhecido\", \"Desconhecido\", \"Desconhecido\", \"Desconhecido\", \"Desconhecido\", \"Desconhecido\", \"ECU\", \"EGY\", \"ESP\", \"EST\", \"FIN\", \"FRA\", \"GAB\", \"GBR\", \"GEO\", \"GHA\", \"GIN\", \"GLP\", \"GTM\", \"HND\", \"HRV\", \"HTI\", \"HUN\", \"IDN\", \"IND\", \"IRL\", \"IRQ\", \"ISR\", \"ITA\", \"JAM\", \"JOR\", \"JPN\", \"KAZ\", \"KEN\", \"KGZ\", \"KHM\", \"LBN\", \"LBR\", \"LBY\", \"LKA\", \"LTU\", \"MAR\", \"MDG\", \"MEX\", \"MLI\", \"MNG\", \"MOZ\", \"MRT\", \"MTQ\", \"MYS\", \"NAM\", \"NER\", \"NGA\", \"NIC\", \"NLD\", \"NOR\", \"NPL\", \"NZL\", \"PAK\", \"PAN\", \"PER\", \"PHL\", \"PNG\", \"POL\", \"PRT\", \"PRY\", \"QAT\", \"ROU\", \"RWA\", \"SAU\", \"SDN\", \"SEN\", \"SGP\", \"SLE\", \"SLV\", \"SOM\", \"SVK\", \"SWE\", \"TGO\", \"THA\", \"TKM\", \"TTO\", \"TUN\", \"TUR\", \"UGA\", \"UKR\", \"URY\", \"USA\", \"UZB\", \"YEM\", \"ZAF\", \"ZMB\", \"ZWE\"], \"name\": \"\", \"z\": [1924.1399999999999, 943.9200000000002, 291.3, -1781.6750000000015, 25528.721999999987, 4159.41, 157.79999999999998, 80.28, 2656.4700000000003, 24.419999999999998, 2240.85, 1063.7400000000002, 333.05999999999995, 1322.4900000000002, 9643.808639999985, 800.99832, 304.19999999999993, 4887.839999999997, 1492.3500000000001, 1964.60896, 26233.773000000016, 2001.06, 3293.9217600000015, 7321.168080000001, 24867.43799999995, -342.61199999999985, -1472.3573199999998, 2218.05, 114.77, 225.68999999999997, 318.6599999999999, 4945.5599999999995, 5000.670000000001, 4.5, 424.62, -25.33590000000005, 2846.61, -1454.2170000000003, 374.39400000000006, 475.581, -1572.1652800000004, -1332.152400000001, 693.108, 4280.49, 8953.461, 490.19999999999993, 1154.9399999999998, 23034.741000000005, 415.53000000000003, 27365.886000000028, 745.9499999999999, 1950.1499999999999, 385.14, 117.78, 5613.633520000001, -5722.582880000002, 170.99999999999997, -93.02800000000003, 181.67999999999998, 1793.8016999999988, 27438.795000000006, -386.38500000000005, 5105.6399999999985, 666.8100000000001, 2996.9789999999994, 165.86584, 347.37, 3240.7649999999985, -786.1199999999997, 1065.54, 803.8199999999998, 429.15, 183.14999999999998, 134.07000000000002, 124.95, 31.44, -2959.2509999999997, 4105.230000000001, 470.78999999999996, 24955.269999999946, 222.78, 567.6899999999998, 619.08, 4.11, 276.28000000000003, 4201.140000000001, 47.4, 259.95000000000005, -17303.937, 4355.675840000002, -8527.104, 683.64, 391.65, 4114.997999999999, -3049.7939999999994, -5039.799359999998, -1187.35612, -3789.8385, 31.601999999999986, 1369.44, -828.6900000000002, 2.48, 325.83, 1470.6599999999999, 328.77, 4615.440000000001, 300.12, 558.33, 2889.12, 324.29999999999995, 5781.4230000000025, 39.78, 18.840000000000003, -2524.7969999999996, 193.53, -1427.7585000000013, -1027.5749999999998, 1589.5499999999997, 166.04999999999998, -21884.909999999996, -646.9739999999999, 4459.0799999999945, 363.52000000000004, 61618.60370000016, 123.47999999999999, -2477.6430000000005, 2812.3499999999967, 1307.9699999999996, -1475.325], \"type\": \"choropleth\"}], \"name\": \"2012\"}, {\"data\": [{\"coloraxis\": \"coloraxis\", \"geo\": \"geo\", \"hoverlabel\": {\"namelength\": 0}, \"hovertemplate\": \"<b>%{hovertext}</b><br><br>Ano=2013<br>Sigla=%{location}<br>Profit=%{z}\", \"hovertext\": [\"Afghanistan\", \"Angola\", \"Albania\", \"United Arab Emirates\", \"Argentina\", \"Armenia\", \"Australia\", \"Austria\", \"Azerbaijan\", \"Belgium\", \"Benin\", \"Bangladesh\", \"Bulgaria\", \"Bahrain\", \"Bosnia and Herzegovina\", \"Belarus\", \"Brazil\", \"Barbados\", \"Central African Republic\", \"Canada\", \"Switzerland\", \"Chile\", \"China\", \"Cameroon\", \"Colombia\", \"Cuba\", \"Germany\", \"Djibouti\", \"Denmark\", \"Dominican Republic\", \"Algeria\", \"Bolivia\", \"Cote d'Ivoire\", \"Czech Republic\", \"Democratic Republic of the Congo\", \"Iran\", \"Macedonia\", \"Moldova\", \"Myanmar (Burma)\", \"Russia\", \"South Korea\", \"Syria\", \"Taiwan\", \"Tanzania\", \"Venezuela\", \"Vietnam\", \"Ecuador\", \"Egypt\", \"Eritrea\", \"Spain\", \"Estonia\", \"Ethiopia\", \"Finland\", \"France\", \"United Kingdom\", \"Georgia\", \"Ghana\", \"Guinea\", \"Guadeloupe\", \"Guinea-Bissau\", \"Equatorial Guinea\", \"Guatemala\", \"Hong Kong\", \"Honduras\", \"Croatia\", \"Haiti\", \"Hungary\", \"Indonesia\", \"India\", \"Ireland\", \"Iraq\", \"Israel\", \"Italy\", \"Jamaica\", \"Jordan\", \"Japan\", \"Kazakhstan\", \"Kenya\", \"Kyrgyzstan\", \"Cambodia\", \"Lebanon\", \"Libya\", \"Sri Lanka\", \"Lesotho\", \"Lithuania\", \"Morocco\", \"Madagascar\", \"Mexico\", \"Mali\", \"Mongolia\", \"Mozambique\", \"Mauritania\", \"Martinique\", \"Malaysia\", \"Namibia\", \"Niger\", \"Nigeria\", \"Nicaragua\", \"Netherlands\", \"Norway\", \"Nepal\", \"New Zealand\", \"Pakistan\", \"Panama\", \"Peru\", \"Philippines\", \"Papua New Guinea\", \"Poland\", \"Portugal\", \"Paraguay\", \"Qatar\", \"Romania\", \"Rwanda\", \"Saudi Arabia\", \"Sudan\", \"Senegal\", \"Singapore\", \"El Salvador\", \"Somalia\", \"Slovenia\", \"Sweden\", \"Chad\", \"Togo\", \"Thailand\", \"Turkmenistan\", \"Trinidad and Tobago\", \"Tunisia\", \"Turkey\", \"Uganda\", \"Ukraine\", \"Uruguay\", \"United States\", \"Uzbekistan\", \"Yemen\", \"South Africa\", \"Zambia\", \"Zimbabwe\"], \"locations\": [\"AFG\", \"AGO\", \"ALB\", \"ARE\", \"ARG\", \"ARM\", \"AUS\", \"AUT\", \"AZE\", \"BEL\", \"BEN\", \"BGD\", \"BGR\", \"BHR\", \"BIH\", \"BLR\", \"BRA\", \"BRB\", \"CAF\", \"CAN\", \"CHE\", \"CHL\", \"CHN\", \"CMR\", \"COL\", \"CUB\", \"DEU\", \"DJI\", \"DNK\", \"DOM\", \"DZA\", \"Desconhecido\", \"Desconhecido\", \"Desconhecido\", \"Desconhecido\", \"Desconhecido\", \"Desconhecido\", \"Desconhecido\", \"Desconhecido\", \"Desconhecido\", \"Desconhecido\", \"Desconhecido\", \"Desconhecido\", \"Desconhecido\", \"Desconhecido\", \"Desconhecido\", \"ECU\", \"EGY\", \"ERI\", \"ESP\", \"EST\", \"ETH\", \"FIN\", \"FRA\", \"GBR\", \"GEO\", \"GHA\", \"GIN\", \"GLP\", \"GNB\", \"GNQ\", \"GTM\", \"HKG\", \"HND\", \"HRV\", \"HTI\", \"HUN\", \"IDN\", \"IND\", \"IRL\", \"IRQ\", \"ISR\", \"ITA\", \"JAM\", \"JOR\", \"JPN\", \"KAZ\", \"KEN\", \"KGZ\", \"KHM\", \"LBN\", \"LBY\", \"LKA\", \"LSO\", \"LTU\", \"MAR\", \"MDG\", \"MEX\", \"MLI\", \"MNG\", \"MOZ\", \"MRT\", \"MTQ\", \"MYS\", \"NAM\", \"NER\", \"NGA\", \"NIC\", \"NLD\", \"NOR\", \"NPL\", \"NZL\", \"PAK\", \"PAN\", \"PER\", \"PHL\", \"PNG\", \"POL\", \"PRT\", \"PRY\", \"QAT\", \"ROU\", \"RWA\", \"SAU\", \"SDN\", \"SEN\", \"SGP\", \"SLV\", \"SOM\", \"SVN\", \"SWE\", \"TCD\", \"TGO\", \"THA\", \"TKM\", \"TTO\", \"TUN\", \"TUR\", \"UGA\", \"UKR\", \"URY\", \"USA\", \"UZB\", \"YEM\", \"ZAF\", \"ZMB\", \"ZWE\"], \"name\": \"\", \"z\": [1148.9399999999998, 2230.8300000000004, 62.97, -275.0399999999999, -6568.571960000002, 2.8499999999999996, 28831.779000000046, 5741.370000000005, 1042.83, 1929.8099999999995, 200.91000000000003, 5497.17, 1204.7100000000007, 12.84, 72.17999999999999, 216.84, 1973.7560000000017, 74.0, 7.949999999999999, 5129.460000000002, 3036.2700000000004, 3674.1827200000002, 44473.93499999996, 988.86, 7275.39844, 11920.934840000013, 26944.474499999993, 673.1099999999999, -1681.9380000000003, -2479.2972799999993, 1722.9599999999998, 1087.3400000000001, 1509.3899999999996, 376.47, 7880.129999999999, 9550.289999999997, 21.66, 55.10999999999999, 293.64390000000003, 5637.270000000003, -1312.6409999999998, 115.72800000000001, 259.77000000000004, 1520.4179999999994, -1515.5843200000008, -1025.8044, 643.692, 5949.869999999996, 76.2, 16198.004999999996, 140.07000000000002, 53.43, 1678.3799999999999, 32416.477499999994, 27698.442000000014, 114.14999999999999, 447.93000000000006, 52.98, 358.41999999999996, 9.48, 44.46000000000001, 8789.400439999996, 475.11000000000007, -9488.638119999994, 342.09000000000003, -1808.1062800000002, 823.71, 860.3330999999977, 32896.85999999999, -1543.1159999999998, 3506.2200000000007, 1393.9799999999996, 6701.712000000002, 547.9399999999999, 364.5, 5395.121999999994, -1311.1289999999995, 834.99, 475.53000000000003, 755.7300000000001, 297.3, 1314.3899999999999, 50.370000000000005, 455.76000000000005, -726.4289999999999, 6639.089999999996, 1389.9599999999998, 28010.2638, 1387.1700000000003, 232.23000000000002, 2160.3599999999997, 638.2200000000001, 241.83104, 3243.93, 8.850000000000001, 588.5699999999999, -24955.68900000001, 9906.6688, -11851.185000000003, 1118.6399999999999, 316.74, 9040.212000000007, -6800.898000000003, -2715.2021199999986, -1973.4428000000003, -4117.613999999997, -318.5369999999998, 4310.280000000001, -5609.13, 115.46, 8.64, 1339.8, 336.87, 2137.92, 328.89, 2496.6899999999996, 2663.49, 13165.811239999995, 431.58, 50.58, -4113.237000000001, 90.0, 200.85, 492.49530000000027, -886.974, 117.81704, 377.25, -27076.806000000004, -169.87199999999996, 6576.900000000004, 61.3, 81726.93080000013, 392.04, -410.06699999999995, 6804.390000000002, 2606.4900000000002, -646.605], \"type\": \"choropleth\"}], \"name\": \"2013\"}, {\"data\": [{\"coloraxis\": \"coloraxis\", \"geo\": \"geo\", \"hoverlabel\": {\"namelength\": 0}, \"hovertemplate\": \"<b>%{hovertext}</b><br><br>Ano=2014<br>Sigla=%{location}<br>Profit=%{z}\", \"hovertext\": [\"Afghanistan\", \"Angola\", \"Albania\", \"United Arab Emirates\", \"Argentina\", \"Australia\", \"Austria\", \"Azerbaijan\", \"Belgium\", \"Benin\", \"Bangladesh\", \"Bulgaria\", \"Bosnia and Herzegovina\", \"Belarus\", \"Brazil\", \"Barbados\", \"Central African Republic\", \"Canada\", \"Switzerland\", \"Chile\", \"China\", \"Cameroon\", \"Colombia\", \"Cuba\", \"Germany\", \"Denmark\", \"Dominican Republic\", \"Algeria\", \"Bolivia\", \"Cote d'Ivoire\", \"Czech Republic\", \"Democratic Republic of the Congo\", \"Iran\", \"Macedonia\", \"Moldova\", \"Myanmar (Burma)\", \"Republic of the Congo\", \"Russia\", \"South Korea\", \"Swaziland\", \"Syria\", \"Taiwan\", \"Tanzania\", \"Venezuela\", \"Vietnam\", \"Ecuador\", \"Egypt\", \"Spain\", \"Estonia\", \"Ethiopia\", \"Finland\", \"France\", \"Gabon\", \"United Kingdom\", \"Georgia\", \"Ghana\", \"Guinea\", \"Guinea-Bissau\", \"Guatemala\", \"Hong Kong\", \"Honduras\", \"Croatia\", \"Haiti\", \"Hungary\", \"Indonesia\", \"India\", \"Ireland\", \"Iraq\", \"Israel\", \"Italy\", \"Jamaica\", \"Jordan\", \"Japan\", \"Kazakhstan\", \"Kenya\", \"Kyrgyzstan\", \"Cambodia\", \"Lebanon\", \"Liberia\", \"Libya\", \"Sri Lanka\", \"Lithuania\", \"Morocco\", \"Madagascar\", \"Mexico\", \"Mali\", \"Montenegro\", \"Mongolia\", \"Mozambique\", \"Mauritania\", \"Martinique\", \"Malaysia\", \"Namibia\", \"Niger\", \"Nigeria\", \"Nicaragua\", \"Netherlands\", \"Norway\", \"Nepal\", \"New Zealand\", \"Pakistan\", \"Panama\", \"Peru\", \"Philippines\", \"Papua New Guinea\", \"Poland\", \"Portugal\", \"Paraguay\", \"Qatar\", \"Romania\", \"Rwanda\", \"Saudi Arabia\", \"Sudan\", \"Senegal\", \"Singapore\", \"Sierra Leone\", \"El Salvador\", \"Somalia\", \"South Sudan\", \"Slovakia\", \"Slovenia\", \"Sweden\", \"Togo\", \"Thailand\", \"Tajikistan\", \"Turkmenistan\", \"Trinidad and Tobago\", \"Tunisia\", \"Turkey\", \"Uganda\", \"Ukraine\", \"Uruguay\", \"United States\", \"Uzbekistan\", \"Yemen\", \"South Africa\", \"Zambia\", \"Zimbabwe\"], \"locations\": [\"AFG\", \"AGO\", \"ALB\", \"ARE\", \"ARG\", \"AUS\", \"AUT\", \"AZE\", \"BEL\", \"BEN\", \"BGD\", \"BGR\", \"BIH\", \"BLR\", \"BRA\", \"BRB\", \"CAF\", \"CAN\", \"CHE\", \"CHL\", \"CHN\", \"CMR\", \"COL\", \"CUB\", \"DEU\", \"DNK\", \"DOM\", \"DZA\", \"Desconhecido\", \"Desconhecido\", \"Desconhecido\", \"Desconhecido\", \"Desconhecido\", \"Desconhecido\", \"Desconhecido\", \"Desconhecido\", \"Desconhecido\", \"Desconhecido\", \"Desconhecido\", \"Desconhecido\", \"Desconhecido\", \"Desconhecido\", \"Desconhecido\", \"Desconhecido\", \"Desconhecido\", \"ECU\", \"EGY\", \"ESP\", \"EST\", \"ETH\", \"FIN\", \"FRA\", \"GAB\", \"GBR\", \"GEO\", \"GHA\", \"GIN\", \"GNB\", \"GTM\", \"HKG\", \"HND\", \"HRV\", \"HTI\", \"HUN\", \"IDN\", \"IND\", \"IRL\", \"IRQ\", \"ISR\", \"ITA\", \"JAM\", \"JOR\", \"JPN\", \"KAZ\", \"KEN\", \"KGZ\", \"KHM\", \"LBN\", \"LBR\", \"LBY\", \"LKA\", \"LTU\", \"MAR\", \"MDG\", \"MEX\", \"MLI\", \"MNE\", \"MNG\", \"MOZ\", \"MRT\", \"MTQ\", \"MYS\", \"NAM\", \"NER\", \"NGA\", \"NIC\", \"NLD\", \"NOR\", \"NPL\", \"NZL\", \"PAK\", \"PAN\", \"PER\", \"PHL\", \"PNG\", \"POL\", \"PRT\", \"PRY\", \"QAT\", \"ROU\", \"RWA\", \"SAU\", \"SDN\", \"SEN\", \"SGP\", \"SLE\", \"SLV\", \"SOM\", \"SSD\", \"SVK\", \"SVN\", \"SWE\", \"TGO\", \"THA\", \"TJK\", \"TKM\", \"TTO\", \"TUN\", \"TUR\", \"UGA\", \"UKR\", \"URY\", \"USA\", \"UZB\", \"YEM\", \"ZAF\", \"ZMB\", \"ZWE\"], \"name\": \"\", \"z\": [2093.2799999999997, 2304.5099999999993, 87.51, -515.742, -7874.814880000001, 32030.202000000005, 8858.310000000005, 478.46999999999997, 4219.830000000002, 516.27, 5879.589999999997, 877.9800000000002, 146.69999999999996, 2915.0700000000015, 15422.753319999996, 992.2356800000001, 135.81, 5993.009999999998, 2153.189999999999, 1670.5190400000001, 46793.993999999926, 1288.0199999999998, 5519.798640000003, 13641.904359999999, 35956.04699999998, -1296.4170000000001, -2029.9829599999991, 3429.1799999999994, 492.36, 2537.669999999999, 1271.6399999999999, 5833.799999999999, 8459.069999999996, 17.22, 477.75, -2196.2409000000007, 112.97999999999999, 8186.910000000004, -4202.913000000001, 27.599999999999998, 189.49199999999993, 1.44, 2915.961000000001, -3753.156879999999, -488.99610000000007, 986.4003600000002, 6493.049999999996, 20593.808999999983, 67.80000000000001, 63.54, 232.14000000000001, 35142.10949999996, 64.14, 36755.60100000003, 324.36, 2775.0600000000004, 194.10000000000002, 372.96000000000004, 9050.30688, 883.0500000000001, -9218.061520000005, 789.5699999999996, -1513.41872, 1545.93, 10527.180999999991, 48807.675000000054, -3896.0999999999995, 7338.1200000000035, 905.3099999999998, 10559.729999999989, 310.94, 947.82, 9294.869999999999, -2575.830000000001, 1238.0699999999995, 447.81, 2660.2500000000005, 156.66, 696.3, 550.6800000000002, 4.5600000000000005, -4568.645999999998, 8444.430000000004, 1331.37, 31330.815519999946, 672.7500000000002, 1286.76, 268.74, 2440.799999999999, 1033.6200000000001, 537.8199999999999, 5980.259999999999, 680.6999999999998, 589.0799999999999, -23285.19000000002, 10628.778599999994, -11554.011000000008, 2939.8500000000004, 169.04999999999998, -504.3960000000004, -9406.67700000001, -7648.210760000005, -1242.9647999999995, -3738.0854999999997, -94.22999999999998, 3683.0099999999993, -988.6199999999999, 271.24752, 1079.3100000000002, 3042.8100000000013, 533.16, 8021.34, 2771.73, 3661.8599999999997, 1350.51, 87.69000000000003, 13908.008720000007, 479.16, 166.44, 43.32, 539.46, -9407.541000000001, 405.78, -5389.876200000004, -259.02000000000004, -681.7919999999999, 593.1174400000001, 51.06000000000001, -30499.542000000005, -1093.113, 6475.559999999998, 1258.404, 93507.51309999992, 1035.9299999999998, -730.107, 9363.239999999998, 1665.7800000000002, -2218.5779999999995], \"type\": \"choropleth\"}], \"name\": \"2014\"}]);\n",
       "                        }).then(function(){\n",
       "                            \n",
       "var gd = document.getElementById('8581c05f-5ab0-4abe-a2e7-33f20e157202');\n",
       "var x = new MutationObserver(function (mutations, observer) {{\n",
       "        var display = window.getComputedStyle(gd).display;\n",
       "        if (!display || display === 'none') {{\n",
       "            console.log([gd, 'removed!']);\n",
       "            Plotly.purge(gd);\n",
       "            observer.disconnect();\n",
       "        }}\n",
       "}});\n",
       "\n",
       "// Listen for the removal of the full notebook cells\n",
       "var notebookContainer = gd.closest('#notebook-container');\n",
       "if (notebookContainer) {{\n",
       "    x.observe(notebookContainer, {childList: true});\n",
       "}}\n",
       "\n",
       "// Listen for the clearing of the current output cell\n",
       "var outputEl = gd.closest('.output');\n",
       "if (outputEl) {{\n",
       "    x.observe(outputEl, {childList: true});\n",
       "}}\n",
       "\n",
       "                        })\n",
       "                };\n",
       "                });\n",
       "            </script>\n",
       "        </div>"
      ]
     },
     "metadata": {},
     "output_type": "display_data"
    }
   ],
   "source": [
    "import plotly.express as px\n",
    "orders2= orders.query(\"Ano==2014\")\n",
    "fig = px.choropleth(ordersgroup, locations=\"Sigla\", color=\"Profit\", hover_name=\"Country\", \n",
    "                    animation_frame=\"Ano\", range_color=[-1000,5000],color_continuous_scale='ylorbr')\n",
    "fig.update_layout(\n",
    "    title_text='Lucro por País (em geral de 2011 a 2014)')\n",
    "fig.show()"
   ]
  },
  {
   "cell_type": "code",
   "execution_count": 29,
   "metadata": {
    "slideshow": {
     "slide_type": "skip"
    }
   },
   "outputs": [
    {
     "data": {
      "text/plain": [
       "733947.0231999967"
      ]
     },
     "execution_count": 29,
     "metadata": {},
     "output_type": "execute_result"
    }
   ],
   "source": [
    "ordersgroup['Sales'].max()"
   ]
  },
  {
   "cell_type": "code",
   "execution_count": 46,
   "metadata": {
    "slideshow": {
     "slide_type": "subslide"
    }
   },
   "outputs": [
    {
     "data": {
      "application/vnd.plotly.v1+json": {
       "config": {
        "plotlyServerURL": "https://plot.ly"
       },
       "data": [
        {
         "coloraxis": "coloraxis",
         "geo": "geo",
         "hoverlabel": {
          "namelength": 0
         },
         "hovertemplate": "<b>%{hovertext}</b><br><br>Ano=2011<br>Sigla=%{location}<br>Sales=%{z}",
         "hovertext": [
          "Afghanistan",
          "Angola",
          "Albania",
          "United Arab Emirates",
          "Argentina",
          "Armenia",
          "Australia",
          "Austria",
          "Azerbaijan",
          "Burundi",
          "Belgium",
          "Benin",
          "Bangladesh",
          "Bulgaria",
          "Bosnia and Herzegovina",
          "Belarus",
          "Brazil",
          "Barbados",
          "Central African Republic",
          "Canada",
          "Switzerland",
          "Chile",
          "China",
          "Cameroon",
          "Colombia",
          "Cuba",
          "Germany",
          "Djibouti",
          "Denmark",
          "Dominican Republic",
          "Algeria",
          "Bolivia",
          "Cote d'Ivoire",
          "Czech Republic",
          "Democratic Republic of the Congo",
          "Iran",
          "Moldova",
          "Myanmar (Burma)",
          "Republic of the Congo",
          "Russia",
          "South Korea",
          "Swaziland",
          "Syria",
          "Taiwan",
          "Tanzania",
          "Venezuela",
          "Vietnam",
          "Ecuador",
          "Egypt",
          "Spain",
          "Estonia",
          "Ethiopia",
          "Finland",
          "France",
          "United Kingdom",
          "Georgia",
          "Ghana",
          "Guinea",
          "Guinea-Bissau",
          "Guatemala",
          "Hong Kong",
          "Honduras",
          "Croatia",
          "Haiti",
          "Hungary",
          "Indonesia",
          "India",
          "Ireland",
          "Iraq",
          "Israel",
          "Italy",
          "Jamaica",
          "Jordan",
          "Japan",
          "Kazakhstan",
          "Kenya",
          "Kyrgyzstan",
          "Cambodia",
          "Lebanon",
          "Liberia",
          "Libya",
          "Lesotho",
          "Lithuania",
          "Morocco",
          "Madagascar",
          "Mexico",
          "Mali",
          "Mongolia",
          "Mozambique",
          "Martinique",
          "Malaysia",
          "Niger",
          "Nigeria",
          "Nicaragua",
          "Netherlands",
          "Norway",
          "New Zealand",
          "Pakistan",
          "Panama",
          "Peru",
          "Philippines",
          "Papua New Guinea",
          "Poland",
          "Portugal",
          "Paraguay",
          "Qatar",
          "Romania",
          "Rwanda",
          "Saudi Arabia",
          "Sudan",
          "Senegal",
          "Singapore",
          "Sierra Leone",
          "El Salvador",
          "Somalia",
          "South Sudan",
          "Slovakia",
          "Sweden",
          "Togo",
          "Thailand",
          "Tajikistan",
          "Turkmenistan",
          "Tunisia",
          "Turkey",
          "Uganda",
          "Ukraine",
          "Uruguay",
          "United States",
          "Uzbekistan",
          "Yemen",
          "South Africa",
          "Zambia",
          "Zimbabwe"
         ],
         "locations": [
          "AFG",
          "AGO",
          "ALB",
          "ARE",
          "ARG",
          "ARM",
          "AUS",
          "AUT",
          "AZE",
          "BDI",
          "BEL",
          "BEN",
          "BGD",
          "BGR",
          "BIH",
          "BLR",
          "BRA",
          "BRB",
          "CAF",
          "CAN",
          "CHE",
          "CHL",
          "CHN",
          "CMR",
          "COL",
          "CUB",
          "DEU",
          "DJI",
          "DNK",
          "DOM",
          "DZA",
          "Desconhecido",
          "Desconhecido",
          "Desconhecido",
          "Desconhecido",
          "Desconhecido",
          "Desconhecido",
          "Desconhecido",
          "Desconhecido",
          "Desconhecido",
          "Desconhecido",
          "Desconhecido",
          "Desconhecido",
          "Desconhecido",
          "Desconhecido",
          "Desconhecido",
          "Desconhecido",
          "ECU",
          "EGY",
          "ESP",
          "EST",
          "ETH",
          "FIN",
          "FRA",
          "GBR",
          "GEO",
          "GHA",
          "GIN",
          "GNB",
          "GTM",
          "HKG",
          "HND",
          "HRV",
          "HTI",
          "HUN",
          "IDN",
          "IND",
          "IRL",
          "IRQ",
          "ISR",
          "ITA",
          "JAM",
          "JOR",
          "JPN",
          "KAZ",
          "KEN",
          "KGZ",
          "KHM",
          "LBN",
          "LBR",
          "LBY",
          "LSO",
          "LTU",
          "MAR",
          "MDG",
          "MEX",
          "MLI",
          "MNG",
          "MOZ",
          "MTQ",
          "MYS",
          "NER",
          "NGA",
          "NIC",
          "NLD",
          "NOR",
          "NZL",
          "PAK",
          "PAN",
          "PER",
          "PHL",
          "PNG",
          "POL",
          "PRT",
          "PRY",
          "QAT",
          "ROU",
          "RWA",
          "SAU",
          "SDN",
          "SEN",
          "SGP",
          "SLE",
          "SLV",
          "SOM",
          "SSD",
          "SVK",
          "SWE",
          "TGO",
          "THA",
          "TJK",
          "TKM",
          "TUN",
          "TUR",
          "UGA",
          "UKR",
          "URY",
          "USA",
          "UZB",
          "YEM",
          "ZAF",
          "ZMB",
          "ZWE"
         ],
         "name": "",
         "type": "choropleth",
         "z": [
          1729.41,
          6416.91,
          1707.5400000000004,
          161.08200000000005,
          8739.305120000006,
          136.26,
          137580.06000000014,
          21734.489999999994,
          802.9200000000001,
          50.699999999999996,
          12002.520000000004,
          2656.8300000000004,
          22899.329999999998,
          2704.3499999999995,
          349.20000000000005,
          318.9,
          57019.661,
          931.8999200000001,
          76.26,
          8509.109999999999,
          2929.17,
          2363.2400000000002,
          155693.61300000016,
          4927.170000000001,
          10469.530920000001,
          23260.208199999997,
          110006.78099999994,
          418.10999999999996,
          1233.0600000000002,
          28948.79884,
          8539.800000000001,
          2775.5399999999995,
          8245.23,
          1185.24,
          13927.409999999994,
          13594.13999999999,
          808.95,
          4027.9746,
          2339.2799999999997,
          17981.40000000001,
          13387.650000000009,
          204.36,
          81.75599999999999,
          6817.71,
          4047.9989999999993,
          7056.59604,
          12856.6923,
          1202.8999999999999,
          11744.550000000007,
          41864.954999999965,
          1996.8600000000001,
          428.15999999999997,
          4096.08,
          128194.51500000012,
          86188.551,
          331.5,
          1580.46,
          792.6899999999999,
          72.17999999999999,
          22772.805920000013,
          650.4,
          15097.091120000005,
          25.29,
          2113.662,
          1761.33,
          62253.48209999998,
          91396.00499999993,
          4857.899999999999,
          9018.419999999998,
          2501.9700000000003,
          41266.52699999999,
          1608.0599999999993,
          628.56,
          17977.290000000008,
          1392.3630000000003,
          2831.2799999999993,
          34.440000000000005,
          2419.7699999999995,
          714.8099999999997,
          680.8799999999999,
          230.09999999999997,
          2912.9100000000003,
          435.88800000000003,
          13276.170000000004,
          440.67,
          111361.04819999998,
          55.35000000000001,
          2409.7799999999997,
          2988,
          180.79999999999998,
          11781.12,
          1353.66,
          10423.458000000004,
          38582.52132000001,
          17647.365000000013,
          1380.3300000000004,
          33786.539999999964,
          7213.281,
          8677.079759999999,
          4050.1874399999997,
          35093.31300000001,
          51.96,
          6482.910000000001,
          3266.0699999999997,
          60.56,
          187.31999999999996,
          9357.66,
          886.1400000000001,
          20173.499999999993,
          1715.7,
          2864.1599999999994,
          8311.919999999998,
          284.88,
          37765.38023999998,
          754.3799999999999,
          667.3199999999999,
          699.4799999999999,
          3820.9079999999994,
          64.14000000000001,
          13317.734399999996,
          3.0240000000000005,
          493.6320000000001,
          25.139999999999997,
          21363.815999999977,
          368.2440000000001,
          14446.410000000003,
          61.279999999999994,
          484247.4981000023,
          345.15000000000003,
          38.528999999999996,
          12655.889999999998,
          4355.849999999999,
          884.8530000000001
         ]
        }
       ],
       "frames": [
        {
         "data": [
          {
           "coloraxis": "coloraxis",
           "geo": "geo",
           "hoverlabel": {
            "namelength": 0
           },
           "hovertemplate": "<b>%{hovertext}</b><br><br>Ano=2011<br>Sigla=%{location}<br>Sales=%{z}",
           "hovertext": [
            "Afghanistan",
            "Angola",
            "Albania",
            "United Arab Emirates",
            "Argentina",
            "Armenia",
            "Australia",
            "Austria",
            "Azerbaijan",
            "Burundi",
            "Belgium",
            "Benin",
            "Bangladesh",
            "Bulgaria",
            "Bosnia and Herzegovina",
            "Belarus",
            "Brazil",
            "Barbados",
            "Central African Republic",
            "Canada",
            "Switzerland",
            "Chile",
            "China",
            "Cameroon",
            "Colombia",
            "Cuba",
            "Germany",
            "Djibouti",
            "Denmark",
            "Dominican Republic",
            "Algeria",
            "Bolivia",
            "Cote d'Ivoire",
            "Czech Republic",
            "Democratic Republic of the Congo",
            "Iran",
            "Moldova",
            "Myanmar (Burma)",
            "Republic of the Congo",
            "Russia",
            "South Korea",
            "Swaziland",
            "Syria",
            "Taiwan",
            "Tanzania",
            "Venezuela",
            "Vietnam",
            "Ecuador",
            "Egypt",
            "Spain",
            "Estonia",
            "Ethiopia",
            "Finland",
            "France",
            "United Kingdom",
            "Georgia",
            "Ghana",
            "Guinea",
            "Guinea-Bissau",
            "Guatemala",
            "Hong Kong",
            "Honduras",
            "Croatia",
            "Haiti",
            "Hungary",
            "Indonesia",
            "India",
            "Ireland",
            "Iraq",
            "Israel",
            "Italy",
            "Jamaica",
            "Jordan",
            "Japan",
            "Kazakhstan",
            "Kenya",
            "Kyrgyzstan",
            "Cambodia",
            "Lebanon",
            "Liberia",
            "Libya",
            "Lesotho",
            "Lithuania",
            "Morocco",
            "Madagascar",
            "Mexico",
            "Mali",
            "Mongolia",
            "Mozambique",
            "Martinique",
            "Malaysia",
            "Niger",
            "Nigeria",
            "Nicaragua",
            "Netherlands",
            "Norway",
            "New Zealand",
            "Pakistan",
            "Panama",
            "Peru",
            "Philippines",
            "Papua New Guinea",
            "Poland",
            "Portugal",
            "Paraguay",
            "Qatar",
            "Romania",
            "Rwanda",
            "Saudi Arabia",
            "Sudan",
            "Senegal",
            "Singapore",
            "Sierra Leone",
            "El Salvador",
            "Somalia",
            "South Sudan",
            "Slovakia",
            "Sweden",
            "Togo",
            "Thailand",
            "Tajikistan",
            "Turkmenistan",
            "Tunisia",
            "Turkey",
            "Uganda",
            "Ukraine",
            "Uruguay",
            "United States",
            "Uzbekistan",
            "Yemen",
            "South Africa",
            "Zambia",
            "Zimbabwe"
           ],
           "locations": [
            "AFG",
            "AGO",
            "ALB",
            "ARE",
            "ARG",
            "ARM",
            "AUS",
            "AUT",
            "AZE",
            "BDI",
            "BEL",
            "BEN",
            "BGD",
            "BGR",
            "BIH",
            "BLR",
            "BRA",
            "BRB",
            "CAF",
            "CAN",
            "CHE",
            "CHL",
            "CHN",
            "CMR",
            "COL",
            "CUB",
            "DEU",
            "DJI",
            "DNK",
            "DOM",
            "DZA",
            "Desconhecido",
            "Desconhecido",
            "Desconhecido",
            "Desconhecido",
            "Desconhecido",
            "Desconhecido",
            "Desconhecido",
            "Desconhecido",
            "Desconhecido",
            "Desconhecido",
            "Desconhecido",
            "Desconhecido",
            "Desconhecido",
            "Desconhecido",
            "Desconhecido",
            "Desconhecido",
            "ECU",
            "EGY",
            "ESP",
            "EST",
            "ETH",
            "FIN",
            "FRA",
            "GBR",
            "GEO",
            "GHA",
            "GIN",
            "GNB",
            "GTM",
            "HKG",
            "HND",
            "HRV",
            "HTI",
            "HUN",
            "IDN",
            "IND",
            "IRL",
            "IRQ",
            "ISR",
            "ITA",
            "JAM",
            "JOR",
            "JPN",
            "KAZ",
            "KEN",
            "KGZ",
            "KHM",
            "LBN",
            "LBR",
            "LBY",
            "LSO",
            "LTU",
            "MAR",
            "MDG",
            "MEX",
            "MLI",
            "MNG",
            "MOZ",
            "MTQ",
            "MYS",
            "NER",
            "NGA",
            "NIC",
            "NLD",
            "NOR",
            "NZL",
            "PAK",
            "PAN",
            "PER",
            "PHL",
            "PNG",
            "POL",
            "PRT",
            "PRY",
            "QAT",
            "ROU",
            "RWA",
            "SAU",
            "SDN",
            "SEN",
            "SGP",
            "SLE",
            "SLV",
            "SOM",
            "SSD",
            "SVK",
            "SWE",
            "TGO",
            "THA",
            "TJK",
            "TKM",
            "TUN",
            "TUR",
            "UGA",
            "UKR",
            "URY",
            "USA",
            "UZB",
            "YEM",
            "ZAF",
            "ZMB",
            "ZWE"
           ],
           "name": "",
           "type": "choropleth",
           "z": [
            1729.41,
            6416.91,
            1707.5400000000004,
            161.08200000000005,
            8739.305120000006,
            136.26,
            137580.06000000014,
            21734.489999999994,
            802.9200000000001,
            50.699999999999996,
            12002.520000000004,
            2656.8300000000004,
            22899.329999999998,
            2704.3499999999995,
            349.20000000000005,
            318.9,
            57019.661,
            931.8999200000001,
            76.26,
            8509.109999999999,
            2929.17,
            2363.2400000000002,
            155693.61300000016,
            4927.170000000001,
            10469.530920000001,
            23260.208199999997,
            110006.78099999994,
            418.10999999999996,
            1233.0600000000002,
            28948.79884,
            8539.800000000001,
            2775.5399999999995,
            8245.23,
            1185.24,
            13927.409999999994,
            13594.13999999999,
            808.95,
            4027.9746,
            2339.2799999999997,
            17981.40000000001,
            13387.650000000009,
            204.36,
            81.75599999999999,
            6817.71,
            4047.9989999999993,
            7056.59604,
            12856.6923,
            1202.8999999999999,
            11744.550000000007,
            41864.954999999965,
            1996.8600000000001,
            428.15999999999997,
            4096.08,
            128194.51500000012,
            86188.551,
            331.5,
            1580.46,
            792.6899999999999,
            72.17999999999999,
            22772.805920000013,
            650.4,
            15097.091120000005,
            25.29,
            2113.662,
            1761.33,
            62253.48209999998,
            91396.00499999993,
            4857.899999999999,
            9018.419999999998,
            2501.9700000000003,
            41266.52699999999,
            1608.0599999999993,
            628.56,
            17977.290000000008,
            1392.3630000000003,
            2831.2799999999993,
            34.440000000000005,
            2419.7699999999995,
            714.8099999999997,
            680.8799999999999,
            230.09999999999997,
            2912.9100000000003,
            435.88800000000003,
            13276.170000000004,
            440.67,
            111361.04819999998,
            55.35000000000001,
            2409.7799999999997,
            2988,
            180.79999999999998,
            11781.12,
            1353.66,
            10423.458000000004,
            38582.52132000001,
            17647.365000000013,
            1380.3300000000004,
            33786.539999999964,
            7213.281,
            8677.079759999999,
            4050.1874399999997,
            35093.31300000001,
            51.96,
            6482.910000000001,
            3266.0699999999997,
            60.56,
            187.31999999999996,
            9357.66,
            886.1400000000001,
            20173.499999999993,
            1715.7,
            2864.1599999999994,
            8311.919999999998,
            284.88,
            37765.38023999998,
            754.3799999999999,
            667.3199999999999,
            699.4799999999999,
            3820.9079999999994,
            64.14000000000001,
            13317.734399999996,
            3.0240000000000005,
            493.6320000000001,
            25.139999999999997,
            21363.815999999977,
            368.2440000000001,
            14446.410000000003,
            61.279999999999994,
            484247.4981000023,
            345.15000000000003,
            38.528999999999996,
            12655.889999999998,
            4355.849999999999,
            884.8530000000001
           ]
          }
         ],
         "name": "2011"
        },
        {
         "data": [
          {
           "coloraxis": "coloraxis",
           "geo": "geo",
           "hoverlabel": {
            "namelength": 0
           },
           "hovertemplate": "<b>%{hovertext}</b><br><br>Ano=2012<br>Sigla=%{location}<br>Sales=%{z}",
           "hovertext": [
            "Afghanistan",
            "Angola",
            "Albania",
            "Argentina",
            "Australia",
            "Austria",
            "Azerbaijan",
            "Burundi",
            "Belgium",
            "Benin",
            "Bangladesh",
            "Bulgaria",
            "Bosnia and Herzegovina",
            "Belarus",
            "Brazil",
            "Barbados",
            "Central African Republic",
            "Canada",
            "Switzerland",
            "Chile",
            "China",
            "Cameroon",
            "Colombia",
            "Cuba",
            "Germany",
            "Denmark",
            "Dominican Republic",
            "Algeria",
            "Bolivia",
            "Cote d'Ivoire",
            "Czech Republic",
            "Democratic Republic of the Congo",
            "Iran",
            "Macedonia",
            "Moldova",
            "Myanmar (Burma)",
            "Russia",
            "South Korea",
            "Syria",
            "Tanzania",
            "Venezuela",
            "Vietnam",
            "Ecuador",
            "Egypt",
            "Spain",
            "Estonia",
            "Finland",
            "France",
            "Gabon",
            "United Kingdom",
            "Georgia",
            "Ghana",
            "Guinea",
            "Guadeloupe",
            "Guatemala",
            "Honduras",
            "Croatia",
            "Haiti",
            "Hungary",
            "Indonesia",
            "India",
            "Ireland",
            "Iraq",
            "Israel",
            "Italy",
            "Jamaica",
            "Jordan",
            "Japan",
            "Kazakhstan",
            "Kenya",
            "Kyrgyzstan",
            "Cambodia",
            "Lebanon",
            "Liberia",
            "Libya",
            "Sri Lanka",
            "Lithuania",
            "Morocco",
            "Madagascar",
            "Mexico",
            "Mali",
            "Mongolia",
            "Mozambique",
            "Mauritania",
            "Martinique",
            "Malaysia",
            "Namibia",
            "Niger",
            "Nigeria",
            "Nicaragua",
            "Netherlands",
            "Norway",
            "Nepal",
            "New Zealand",
            "Pakistan",
            "Panama",
            "Peru",
            "Philippines",
            "Papua New Guinea",
            "Poland",
            "Portugal",
            "Paraguay",
            "Qatar",
            "Romania",
            "Rwanda",
            "Saudi Arabia",
            "Sudan",
            "Senegal",
            "Singapore",
            "Sierra Leone",
            "El Salvador",
            "Somalia",
            "Slovakia",
            "Sweden",
            "Togo",
            "Thailand",
            "Turkmenistan",
            "Trinidad and Tobago",
            "Tunisia",
            "Turkey",
            "Uganda",
            "Ukraine",
            "Uruguay",
            "United States",
            "Uzbekistan",
            "Yemen",
            "South Africa",
            "Zambia",
            "Zimbabwe"
           ],
           "locations": [
            "AFG",
            "AGO",
            "ALB",
            "ARG",
            "AUS",
            "AUT",
            "AZE",
            "BDI",
            "BEL",
            "BEN",
            "BGD",
            "BGR",
            "BIH",
            "BLR",
            "BRA",
            "BRB",
            "CAF",
            "CAN",
            "CHE",
            "CHL",
            "CHN",
            "CMR",
            "COL",
            "CUB",
            "DEU",
            "DNK",
            "DOM",
            "DZA",
            "Desconhecido",
            "Desconhecido",
            "Desconhecido",
            "Desconhecido",
            "Desconhecido",
            "Desconhecido",
            "Desconhecido",
            "Desconhecido",
            "Desconhecido",
            "Desconhecido",
            "Desconhecido",
            "Desconhecido",
            "Desconhecido",
            "Desconhecido",
            "ECU",
            "EGY",
            "ESP",
            "EST",
            "FIN",
            "FRA",
            "GAB",
            "GBR",
            "GEO",
            "GHA",
            "GIN",
            "GLP",
            "GTM",
            "HND",
            "HRV",
            "HTI",
            "HUN",
            "IDN",
            "IND",
            "IRL",
            "IRQ",
            "ISR",
            "ITA",
            "JAM",
            "JOR",
            "JPN",
            "KAZ",
            "KEN",
            "KGZ",
            "KHM",
            "LBN",
            "LBR",
            "LBY",
            "LKA",
            "LTU",
            "MAR",
            "MDG",
            "MEX",
            "MLI",
            "MNG",
            "MOZ",
            "MRT",
            "MTQ",
            "MYS",
            "NAM",
            "NER",
            "NGA",
            "NIC",
            "NLD",
            "NOR",
            "NPL",
            "NZL",
            "PAK",
            "PAN",
            "PER",
            "PHL",
            "PNG",
            "POL",
            "PRT",
            "PRY",
            "QAT",
            "ROU",
            "RWA",
            "SAU",
            "SDN",
            "SEN",
            "SGP",
            "SLE",
            "SLV",
            "SOM",
            "SVK",
            "SWE",
            "TGO",
            "THA",
            "TKM",
            "TTO",
            "TUN",
            "TUR",
            "UGA",
            "UKR",
            "URY",
            "USA",
            "UZB",
            "YEM",
            "ZAF",
            "ZMB",
            "ZWE"
           ],
           "name": "",
           "type": "choropleth",
           "z": [
            9071.819999999998,
            3172.9799999999996,
            948.12,
            7037.005000000004,
            203950.84199999977,
            18104.99999999999,
            479.64,
            217.02,
            12164.729999999998,
            139.53,
            13089.539999999999,
            3817.74,
            990.4500000000002,
            3303.9300000000007,
            91609.38863999999,
            2322.57832,
            1101.36,
            16096.800000000001,
            4811.189999999998,
            9881.028960000003,
            130224.87300000007,
            7924.4699999999975,
            12675.94176,
            30248.448080000002,
            154835.14800000025,
            947.4479999999999,
            24384.222680000017,
            9288.99,
            2578.5299999999997,
            1092.57,
            1117.2600000000002,
            17312.19,
            21720.36,
            10.98,
            1829.1599999999999,
            2444.1740999999997,
            9894.149999999998,
            5533.383,
            2828.124,
            2159.781,
            4632.174720000002,
            14585.607600000005,
            3696.9480000000003,
            22219.230000000003,
            58372.04100000002,
            1882.56,
            9382.919999999998,
            192184.581,
            1375.59,
            124335.90599999992,
            3270.9,
            7405.289999999999,
            960.8699999999999,
            373.4799999999999,
            20790.053519999987,
            18458.47712,
            637.2300000000001,
            440.532,
            973.2299999999999,
            93407.41170000001,
            141493.03500000012,
            977.805,
            20012.76,
            3127.9500000000003,
            58823.31899999996,
            1551.08584,
            1296.3600000000001,
            16599.075,
            568.35,
            4872.33,
            2425.83,
            1419.51,
            469.67999999999995,
            461.13000000000005,
            1445.3999999999999,
            95.28,
            2313.9990000000003,
            12295.470000000001,
            1839.8999999999999,
            156964.96999999956,
            2364.24,
            1994.9099999999999,
            3402.66,
            16.5,
            1313.3800000000003,
            14132.789999999995,
            502.8,
            746.49,
            11396.672999999995,
            23519.59584000001,
            15074.766,
            2360.9999999999995,
            1015.5,
            45945.94799999996,
            9368.226000000002,
            10601.400639999994,
            4918.703879999999,
            28224.541500000003,
            168.882,
            7082.939999999999,
            1255.71,
            19.24,
            1060.3799999999999,
            7859.250000000002,
            1085.0700000000002,
            16071.360000000006,
            1192.4099999999996,
            2027.4300000000003,
            13839.029999999995,
            1671.66,
            32056.76300000003,
            235.29000000000002,
            60.12,
            5260.922999999999,
            583.1099999999999,
            18109.8615,
            641.7450000000001,
            3513.850000000001,
            522.15,
            23184.360000000022,
            467.67600000000004,
            15997.800000000005,
            1145.4999999999998,
            470532.50900000177,
            318.38999999999993,
            1793.5470000000003,
            14998.380000000001,
            6958.199999999999,
            1025.865
           ]
          }
         ],
         "name": "2012"
        },
        {
         "data": [
          {
           "coloraxis": "coloraxis",
           "geo": "geo",
           "hoverlabel": {
            "namelength": 0
           },
           "hovertemplate": "<b>%{hovertext}</b><br><br>Ano=2013<br>Sigla=%{location}<br>Sales=%{z}",
           "hovertext": [
            "Afghanistan",
            "Angola",
            "Albania",
            "United Arab Emirates",
            "Argentina",
            "Armenia",
            "Australia",
            "Austria",
            "Azerbaijan",
            "Belgium",
            "Benin",
            "Bangladesh",
            "Bulgaria",
            "Bahrain",
            "Bosnia and Herzegovina",
            "Belarus",
            "Brazil",
            "Barbados",
            "Central African Republic",
            "Canada",
            "Switzerland",
            "Chile",
            "China",
            "Cameroon",
            "Colombia",
            "Cuba",
            "Germany",
            "Djibouti",
            "Denmark",
            "Dominican Republic",
            "Algeria",
            "Bolivia",
            "Cote d'Ivoire",
            "Czech Republic",
            "Democratic Republic of the Congo",
            "Iran",
            "Macedonia",
            "Moldova",
            "Myanmar (Burma)",
            "Russia",
            "South Korea",
            "Syria",
            "Taiwan",
            "Tanzania",
            "Venezuela",
            "Vietnam",
            "Ecuador",
            "Egypt",
            "Eritrea",
            "Spain",
            "Estonia",
            "Ethiopia",
            "Finland",
            "France",
            "United Kingdom",
            "Georgia",
            "Ghana",
            "Guinea",
            "Guadeloupe",
            "Guinea-Bissau",
            "Equatorial Guinea",
            "Guatemala",
            "Hong Kong",
            "Honduras",
            "Croatia",
            "Haiti",
            "Hungary",
            "Indonesia",
            "India",
            "Ireland",
            "Iraq",
            "Israel",
            "Italy",
            "Jamaica",
            "Jordan",
            "Japan",
            "Kazakhstan",
            "Kenya",
            "Kyrgyzstan",
            "Cambodia",
            "Lebanon",
            "Libya",
            "Sri Lanka",
            "Lesotho",
            "Lithuania",
            "Morocco",
            "Madagascar",
            "Mexico",
            "Mali",
            "Mongolia",
            "Mozambique",
            "Mauritania",
            "Martinique",
            "Malaysia",
            "Namibia",
            "Niger",
            "Nigeria",
            "Nicaragua",
            "Netherlands",
            "Norway",
            "Nepal",
            "New Zealand",
            "Pakistan",
            "Panama",
            "Peru",
            "Philippines",
            "Papua New Guinea",
            "Poland",
            "Portugal",
            "Paraguay",
            "Qatar",
            "Romania",
            "Rwanda",
            "Saudi Arabia",
            "Sudan",
            "Senegal",
            "Singapore",
            "El Salvador",
            "Somalia",
            "Slovenia",
            "Sweden",
            "Chad",
            "Togo",
            "Thailand",
            "Turkmenistan",
            "Trinidad and Tobago",
            "Tunisia",
            "Turkey",
            "Uganda",
            "Ukraine",
            "Uruguay",
            "United States",
            "Uzbekistan",
            "Yemen",
            "South Africa",
            "Zambia",
            "Zimbabwe"
           ],
           "locations": [
            "AFG",
            "AGO",
            "ALB",
            "ARE",
            "ARG",
            "ARM",
            "AUS",
            "AUT",
            "AZE",
            "BEL",
            "BEN",
            "BGD",
            "BGR",
            "BHR",
            "BIH",
            "BLR",
            "BRA",
            "BRB",
            "CAF",
            "CAN",
            "CHE",
            "CHL",
            "CHN",
            "CMR",
            "COL",
            "CUB",
            "DEU",
            "DJI",
            "DNK",
            "DOM",
            "DZA",
            "Desconhecido",
            "Desconhecido",
            "Desconhecido",
            "Desconhecido",
            "Desconhecido",
            "Desconhecido",
            "Desconhecido",
            "Desconhecido",
            "Desconhecido",
            "Desconhecido",
            "Desconhecido",
            "Desconhecido",
            "Desconhecido",
            "Desconhecido",
            "Desconhecido",
            "ECU",
            "EGY",
            "ERI",
            "ESP",
            "EST",
            "ETH",
            "FIN",
            "FRA",
            "GBR",
            "GEO",
            "GHA",
            "GIN",
            "GLP",
            "GNB",
            "GNQ",
            "GTM",
            "HKG",
            "HND",
            "HRV",
            "HTI",
            "HUN",
            "IDN",
            "IND",
            "IRL",
            "IRQ",
            "ISR",
            "ITA",
            "JAM",
            "JOR",
            "JPN",
            "KAZ",
            "KEN",
            "KGZ",
            "KHM",
            "LBN",
            "LBY",
            "LKA",
            "LSO",
            "LTU",
            "MAR",
            "MDG",
            "MEX",
            "MLI",
            "MNG",
            "MOZ",
            "MRT",
            "MTQ",
            "MYS",
            "NAM",
            "NER",
            "NGA",
            "NIC",
            "NLD",
            "NOR",
            "NPL",
            "NZL",
            "PAK",
            "PAN",
            "PER",
            "PHL",
            "PNG",
            "POL",
            "PRT",
            "PRY",
            "QAT",
            "ROU",
            "RWA",
            "SAU",
            "SDN",
            "SEN",
            "SGP",
            "SLV",
            "SOM",
            "SVN",
            "SWE",
            "TCD",
            "TGO",
            "THA",
            "TKM",
            "TTO",
            "TUN",
            "TUR",
            "UGA",
            "UKR",
            "URY",
            "USA",
            "UZB",
            "YEM",
            "ZAF",
            "ZMB",
            "ZWE"
           ],
           "name": "",
           "type": "choropleth",
           "z": [
            4242.8099999999995,
            7919.549999999998,
            821.25,
            252.63,
            17955.928040000003,
            20.49,
            268971.8490000001,
            23178.000000000004,
            2692.98,
            7733.039999999999,
            1394.3100000000002,
            20209.530000000002,
            4093.8,
            669.1800000000001,
            331.08,
            906.75,
            92705.25599999996,
            168.2,
            23.459999999999997,
            19161.15000000001,
            9826.020000000002,
            15183.322719999995,
            195664.2450000001,
            4424.49,
            30293.958439999995,
            52656.41483999996,
            147461.07450000013,
            1974.8399999999997,
            3610.1820000000007,
            33491.40271999998,
            5478.599999999998,
            4136.599999999999,
            5752.619999999998,
            1978.0499999999997,
            30058.530000000006,
            40208.70000000004,
            52.85999999999999,
            177.18,
            8488.773899999997,
            22555.07999999999,
            3871.4790000000007,
            681.3179999999999,
            780.42,
            7163.777999999998,
            4839.455680000002,
            19111.035600000003,
            3766.5719999999997,
            22456.949999999997,
            187.74,
            87802.09500000007,
            394.95000000000005,
            251.88000000000002,
            6089.969999999998,
            230114.6774999999,
            124046.80200000004,
            353.1,
            1912.68,
            917.34,
            1088.1599999999999,
            95.16,
            150.51,
            42486.02043999999,
            2859.1800000000003,
            31306.701880000008,
            1420.41,
            4751.67372,
            3040.5600000000004,
            103891.82310000004,
            151729.08000000016,
            3582.6540000000005,
            15663.390000000009,
            7128.450000000003,
            79930.99200000011,
            2684.1199999999994,
            1586.73,
            33649.902,
            859.4909999999999,
            4390.320000000001,
            1431.9600000000003,
            4762.53,
            1094.64,
            3767.94,
            703.5000000000001,
            3799.0800000000004,
            431.09100000000007,
            25304.370000000003,
            5677.1100000000015,
            158784.9037999998,
            4376.280000000002,
            797.3100000000001,
            6945.479999999998,
            1512.8999999999999,
            1514.9710400000001,
            13071.63,
            55.35000000000001,
            2866.470000000001,
            17158.49099999999,
            40912.38879999998,
            21065.655000000006,
            3896.22,
            1345.2300000000002,
            44741.83199999999,
            18084.731999999996,
            10880.897879999995,
            4031.1571999999996,
            42824.01600000001,
            2556.813,
            14477.28,
            8759.04,
            415.4,
            26.25,
            6956.5199999999995,
            1184.1000000000001,
            10776.3,
            2321.4599999999996,
            12663.899999999996,
            12440.069999999998,
            52559.59124000003,
            2004.18,
            153.42000000000002,
            5822.253000000001,
            1317.03,
            1285.5300000000002,
            20540.14529999999,
            494.2260000000001,
            1243.3570399999999,
            989.28,
            30338.66399999999,
            177.22800000000004,
            27961.289999999994,
            284.32,
            608473.8299999996,
            2430.3,
            184.92300000000003,
            31373.519999999997,
            9322.83,
            413.50500000000005
           ]
          }
         ],
         "name": "2013"
        },
        {
         "data": [
          {
           "coloraxis": "coloraxis",
           "geo": "geo",
           "hoverlabel": {
            "namelength": 0
           },
           "hovertemplate": "<b>%{hovertext}</b><br><br>Ano=2014<br>Sigla=%{location}<br>Sales=%{z}",
           "hovertext": [
            "Afghanistan",
            "Angola",
            "Albania",
            "United Arab Emirates",
            "Argentina",
            "Australia",
            "Austria",
            "Azerbaijan",
            "Belgium",
            "Benin",
            "Bangladesh",
            "Bulgaria",
            "Bosnia and Herzegovina",
            "Belarus",
            "Brazil",
            "Barbados",
            "Central African Republic",
            "Canada",
            "Switzerland",
            "Chile",
            "China",
            "Cameroon",
            "Colombia",
            "Cuba",
            "Germany",
            "Denmark",
            "Dominican Republic",
            "Algeria",
            "Bolivia",
            "Cote d'Ivoire",
            "Czech Republic",
            "Democratic Republic of the Congo",
            "Iran",
            "Macedonia",
            "Moldova",
            "Myanmar (Burma)",
            "Republic of the Congo",
            "Russia",
            "South Korea",
            "Swaziland",
            "Syria",
            "Taiwan",
            "Tanzania",
            "Venezuela",
            "Vietnam",
            "Ecuador",
            "Egypt",
            "Spain",
            "Estonia",
            "Ethiopia",
            "Finland",
            "France",
            "Gabon",
            "United Kingdom",
            "Georgia",
            "Ghana",
            "Guinea",
            "Guinea-Bissau",
            "Guatemala",
            "Hong Kong",
            "Honduras",
            "Croatia",
            "Haiti",
            "Hungary",
            "Indonesia",
            "India",
            "Ireland",
            "Iraq",
            "Israel",
            "Italy",
            "Jamaica",
            "Jordan",
            "Japan",
            "Kazakhstan",
            "Kenya",
            "Kyrgyzstan",
            "Cambodia",
            "Lebanon",
            "Liberia",
            "Libya",
            "Sri Lanka",
            "Lithuania",
            "Morocco",
            "Madagascar",
            "Mexico",
            "Mali",
            "Montenegro",
            "Mongolia",
            "Mozambique",
            "Mauritania",
            "Martinique",
            "Malaysia",
            "Namibia",
            "Niger",
            "Nigeria",
            "Nicaragua",
            "Netherlands",
            "Norway",
            "Nepal",
            "New Zealand",
            "Pakistan",
            "Panama",
            "Peru",
            "Philippines",
            "Papua New Guinea",
            "Poland",
            "Portugal",
            "Paraguay",
            "Qatar",
            "Romania",
            "Rwanda",
            "Saudi Arabia",
            "Sudan",
            "Senegal",
            "Singapore",
            "Sierra Leone",
            "El Salvador",
            "Somalia",
            "South Sudan",
            "Slovakia",
            "Slovenia",
            "Sweden",
            "Togo",
            "Thailand",
            "Tajikistan",
            "Turkmenistan",
            "Trinidad and Tobago",
            "Tunisia",
            "Turkey",
            "Uganda",
            "Ukraine",
            "Uruguay",
            "United States",
            "Uzbekistan",
            "Yemen",
            "South Africa",
            "Zambia",
            "Zimbabwe"
           ],
           "locations": [
            "AFG",
            "AGO",
            "ALB",
            "ARE",
            "ARG",
            "AUS",
            "AUT",
            "AZE",
            "BEL",
            "BEN",
            "BGD",
            "BGR",
            "BIH",
            "BLR",
            "BRA",
            "BRB",
            "CAF",
            "CAN",
            "CHE",
            "CHL",
            "CHN",
            "CMR",
            "COL",
            "CUB",
            "DEU",
            "DNK",
            "DOM",
            "DZA",
            "Desconhecido",
            "Desconhecido",
            "Desconhecido",
            "Desconhecido",
            "Desconhecido",
            "Desconhecido",
            "Desconhecido",
            "Desconhecido",
            "Desconhecido",
            "Desconhecido",
            "Desconhecido",
            "Desconhecido",
            "Desconhecido",
            "Desconhecido",
            "Desconhecido",
            "Desconhecido",
            "Desconhecido",
            "ECU",
            "EGY",
            "ESP",
            "EST",
            "ETH",
            "FIN",
            "FRA",
            "GAB",
            "GBR",
            "GEO",
            "GHA",
            "GIN",
            "GNB",
            "GTM",
            "HKG",
            "HND",
            "HRV",
            "HTI",
            "HUN",
            "IDN",
            "IND",
            "IRL",
            "IRQ",
            "ISR",
            "ITA",
            "JAM",
            "JOR",
            "JPN",
            "KAZ",
            "KEN",
            "KGZ",
            "KHM",
            "LBN",
            "LBR",
            "LBY",
            "LKA",
            "LTU",
            "MAR",
            "MDG",
            "MEX",
            "MLI",
            "MNE",
            "MNG",
            "MOZ",
            "MRT",
            "MTQ",
            "MYS",
            "NAM",
            "NER",
            "NGA",
            "NIC",
            "NLD",
            "NOR",
            "NPL",
            "NZL",
            "PAK",
            "PAN",
            "PER",
            "PHL",
            "PNG",
            "POL",
            "PRT",
            "PRY",
            "QAT",
            "ROU",
            "RWA",
            "SAU",
            "SDN",
            "SEN",
            "SGP",
            "SLE",
            "SLV",
            "SOM",
            "SSD",
            "SVK",
            "SVN",
            "SWE",
            "TGO",
            "THA",
            "TJK",
            "TKM",
            "TTO",
            "TUN",
            "TUR",
            "UGA",
            "UKR",
            "URY",
            "USA",
            "UZB",
            "YEM",
            "ZAF",
            "ZMB",
            "ZWE"
           ],
           "name": "",
           "type": "choropleth",
           "z": [
            6629.280000000001,
            8044.560000000001,
            411.21000000000004,
            330.40799999999996,
            23779.54512000002,
            314733.10199999966,
            29521.55999999999,
            1655.97,
            17326.410000000003,
            2021.3999999999999,
            22058.069999999992,
            4941.75,
            928.53,
            8856.51,
            119772.11331999997,
            3751.5956800000004,
            1176.4799999999998,
            23161.110000000004,
            7311.479999999996,
            8019.479039999998,
            218979.294,
            5073.240000000002,
            28063.098639999986,
            52689.86435999998,
            216537.02699999994,
            2847.3630000000007,
            39316.15704000002,
            12784.199999999999,
            2098.2999999999997,
            10527.749999999998,
            5293.380000000001,
            26118.45,
            38222.90999999999,
            145.8,
            2324.64,
            19177.949099999987,
            373.95000000000005,
            32483.249999999993,
            10332.866999999998,
            83.67,
            1719.4320000000002,
            49.5,
            13444.581000000002,
            10059.603120000002,
            19246.863900000004,
            4676.56036,
            27718.590000000015,
            99107.58899999999,
            205.46999999999997,
            170.58,
            1135.38,
            308437.3095000003,
            376.14,
            194005.04100000008,
            1471.9200000000003,
            12373.83,
            827.3700000000001,
            1898.1000000000001,
            45553.586880000024,
            2637.4199999999996,
            25263.378479999985,
            2378.2499999999995,
            3732.4612800000004,
            8478.929999999997,
            145334.78099999996,
            205031.98499999972,
            7221.15,
            26020.229999999985,
            6535.709999999997,
            109688.81999999999,
            918.5200000000001,
            3814.5,
            32561.250000000007,
            1785.2400000000011,
            5479.200000000003,
            1214.07,
            8874.209999999997,
            517.5299999999999,
            2418.8699999999994,
            2364.96,
            53.04,
            3543.3540000000007,
            36201.93000000001,
            4659.870000000001,
            195479.69551999986,
            2118.6000000000004,
            4004.37,
            1587.84,
            7966.739999999999,
            2491.5299999999993,
            2958.999999999999,
            22376.670000000002,
            2341.32,
            1956.3600000000001,
            15371.729999999987,
            46672.55860000002,
            23727.158999999974,
            12887.819999999998,
            1161.51,
            47546.303999999975,
            24206.372999999992,
            21380.54924000001,
            4833.1352,
            77278.29449999999,
            150.48,
            16185.720000000001,
            1824.3000000000004,
            2095.1675200000004,
            4775.849999999999,
            13083.150000000007,
            2038.7699999999995,
            34991.04000000001,
            11109,
            11293.409999999998,
            5695.2300000000005,
            491.1300000000001,
            55173.16871999995,
            5191.200000000002,
            378.3,
            105.71999999999998,
            1316.52,
            15587.319,
            2213.64,
            25084.213799999994,
            239.76000000000005,
            397.4580000000001,
            2123.95744,
            224.22,
            33621.10799999996,
            608.787,
            28451.670000000013,
            8221.444,
            733947.0231999967,
            4236.03,
            448.713,
            36264.48000000001,
            5398.62,
            1440.882
           ]
          }
         ],
         "name": "2014"
        }
       ],
       "layout": {
        "coloraxis": {
         "cmax": 400000,
         "cmin": 0,
         "colorbar": {
          "title": {
           "text": "Sales"
          }
         },
         "colorscale": [
          [
           0,
           "rgb(165,0,38)"
          ],
          [
           0.1,
           "rgb(215,48,39)"
          ],
          [
           0.2,
           "rgb(244,109,67)"
          ],
          [
           0.3,
           "rgb(253,174,97)"
          ],
          [
           0.4,
           "rgb(254,224,139)"
          ],
          [
           0.5,
           "rgb(255,255,191)"
          ],
          [
           0.6,
           "rgb(217,239,139)"
          ],
          [
           0.7,
           "rgb(166,217,106)"
          ],
          [
           0.8,
           "rgb(102,189,99)"
          ],
          [
           0.9,
           "rgb(26,152,80)"
          ],
          [
           1,
           "rgb(0,104,55)"
          ]
         ]
        },
        "geo": {
         "center": {},
         "domain": {
          "x": [
           0,
           1
          ],
          "y": [
           0,
           1
          ]
         }
        },
        "height": 600,
        "legend": {
         "tracegroupgap": 0
        },
        "margin": {
         "t": 60
        },
        "sliders": [
         {
          "active": 0,
          "currentvalue": {
           "prefix": "Ano="
          },
          "len": 0.9,
          "pad": {
           "b": 10,
           "t": 60
          },
          "steps": [
           {
            "args": [
             [
              "2011"
             ],
             {
              "frame": {
               "duration": 0,
               "redraw": true
              },
              "fromcurrent": true,
              "mode": "immediate",
              "transition": {
               "duration": 0,
               "easing": "linear"
              }
             }
            ],
            "label": "2011",
            "method": "animate"
           },
           {
            "args": [
             [
              "2012"
             ],
             {
              "frame": {
               "duration": 0,
               "redraw": true
              },
              "fromcurrent": true,
              "mode": "immediate",
              "transition": {
               "duration": 0,
               "easing": "linear"
              }
             }
            ],
            "label": "2012",
            "method": "animate"
           },
           {
            "args": [
             [
              "2013"
             ],
             {
              "frame": {
               "duration": 0,
               "redraw": true
              },
              "fromcurrent": true,
              "mode": "immediate",
              "transition": {
               "duration": 0,
               "easing": "linear"
              }
             }
            ],
            "label": "2013",
            "method": "animate"
           },
           {
            "args": [
             [
              "2014"
             ],
             {
              "frame": {
               "duration": 0,
               "redraw": true
              },
              "fromcurrent": true,
              "mode": "immediate",
              "transition": {
               "duration": 0,
               "easing": "linear"
              }
             }
            ],
            "label": "2014",
            "method": "animate"
           }
          ],
          "x": 0.1,
          "xanchor": "left",
          "y": 0,
          "yanchor": "top"
         }
        ],
        "template": {
         "data": {
          "bar": [
           {
            "error_x": {
             "color": "#2a3f5f"
            },
            "error_y": {
             "color": "#2a3f5f"
            },
            "marker": {
             "line": {
              "color": "#E5ECF6",
              "width": 0.5
             }
            },
            "type": "bar"
           }
          ],
          "barpolar": [
           {
            "marker": {
             "line": {
              "color": "#E5ECF6",
              "width": 0.5
             }
            },
            "type": "barpolar"
           }
          ],
          "carpet": [
           {
            "aaxis": {
             "endlinecolor": "#2a3f5f",
             "gridcolor": "white",
             "linecolor": "white",
             "minorgridcolor": "white",
             "startlinecolor": "#2a3f5f"
            },
            "baxis": {
             "endlinecolor": "#2a3f5f",
             "gridcolor": "white",
             "linecolor": "white",
             "minorgridcolor": "white",
             "startlinecolor": "#2a3f5f"
            },
            "type": "carpet"
           }
          ],
          "choropleth": [
           {
            "colorbar": {
             "outlinewidth": 0,
             "ticks": ""
            },
            "type": "choropleth"
           }
          ],
          "contour": [
           {
            "colorbar": {
             "outlinewidth": 0,
             "ticks": ""
            },
            "colorscale": [
             [
              0,
              "#0d0887"
             ],
             [
              0.1111111111111111,
              "#46039f"
             ],
             [
              0.2222222222222222,
              "#7201a8"
             ],
             [
              0.3333333333333333,
              "#9c179e"
             ],
             [
              0.4444444444444444,
              "#bd3786"
             ],
             [
              0.5555555555555556,
              "#d8576b"
             ],
             [
              0.6666666666666666,
              "#ed7953"
             ],
             [
              0.7777777777777778,
              "#fb9f3a"
             ],
             [
              0.8888888888888888,
              "#fdca26"
             ],
             [
              1,
              "#f0f921"
             ]
            ],
            "type": "contour"
           }
          ],
          "contourcarpet": [
           {
            "colorbar": {
             "outlinewidth": 0,
             "ticks": ""
            },
            "type": "contourcarpet"
           }
          ],
          "heatmap": [
           {
            "colorbar": {
             "outlinewidth": 0,
             "ticks": ""
            },
            "colorscale": [
             [
              0,
              "#0d0887"
             ],
             [
              0.1111111111111111,
              "#46039f"
             ],
             [
              0.2222222222222222,
              "#7201a8"
             ],
             [
              0.3333333333333333,
              "#9c179e"
             ],
             [
              0.4444444444444444,
              "#bd3786"
             ],
             [
              0.5555555555555556,
              "#d8576b"
             ],
             [
              0.6666666666666666,
              "#ed7953"
             ],
             [
              0.7777777777777778,
              "#fb9f3a"
             ],
             [
              0.8888888888888888,
              "#fdca26"
             ],
             [
              1,
              "#f0f921"
             ]
            ],
            "type": "heatmap"
           }
          ],
          "heatmapgl": [
           {
            "colorbar": {
             "outlinewidth": 0,
             "ticks": ""
            },
            "colorscale": [
             [
              0,
              "#0d0887"
             ],
             [
              0.1111111111111111,
              "#46039f"
             ],
             [
              0.2222222222222222,
              "#7201a8"
             ],
             [
              0.3333333333333333,
              "#9c179e"
             ],
             [
              0.4444444444444444,
              "#bd3786"
             ],
             [
              0.5555555555555556,
              "#d8576b"
             ],
             [
              0.6666666666666666,
              "#ed7953"
             ],
             [
              0.7777777777777778,
              "#fb9f3a"
             ],
             [
              0.8888888888888888,
              "#fdca26"
             ],
             [
              1,
              "#f0f921"
             ]
            ],
            "type": "heatmapgl"
           }
          ],
          "histogram": [
           {
            "marker": {
             "colorbar": {
              "outlinewidth": 0,
              "ticks": ""
             }
            },
            "type": "histogram"
           }
          ],
          "histogram2d": [
           {
            "colorbar": {
             "outlinewidth": 0,
             "ticks": ""
            },
            "colorscale": [
             [
              0,
              "#0d0887"
             ],
             [
              0.1111111111111111,
              "#46039f"
             ],
             [
              0.2222222222222222,
              "#7201a8"
             ],
             [
              0.3333333333333333,
              "#9c179e"
             ],
             [
              0.4444444444444444,
              "#bd3786"
             ],
             [
              0.5555555555555556,
              "#d8576b"
             ],
             [
              0.6666666666666666,
              "#ed7953"
             ],
             [
              0.7777777777777778,
              "#fb9f3a"
             ],
             [
              0.8888888888888888,
              "#fdca26"
             ],
             [
              1,
              "#f0f921"
             ]
            ],
            "type": "histogram2d"
           }
          ],
          "histogram2dcontour": [
           {
            "colorbar": {
             "outlinewidth": 0,
             "ticks": ""
            },
            "colorscale": [
             [
              0,
              "#0d0887"
             ],
             [
              0.1111111111111111,
              "#46039f"
             ],
             [
              0.2222222222222222,
              "#7201a8"
             ],
             [
              0.3333333333333333,
              "#9c179e"
             ],
             [
              0.4444444444444444,
              "#bd3786"
             ],
             [
              0.5555555555555556,
              "#d8576b"
             ],
             [
              0.6666666666666666,
              "#ed7953"
             ],
             [
              0.7777777777777778,
              "#fb9f3a"
             ],
             [
              0.8888888888888888,
              "#fdca26"
             ],
             [
              1,
              "#f0f921"
             ]
            ],
            "type": "histogram2dcontour"
           }
          ],
          "mesh3d": [
           {
            "colorbar": {
             "outlinewidth": 0,
             "ticks": ""
            },
            "type": "mesh3d"
           }
          ],
          "parcoords": [
           {
            "line": {
             "colorbar": {
              "outlinewidth": 0,
              "ticks": ""
             }
            },
            "type": "parcoords"
           }
          ],
          "pie": [
           {
            "automargin": true,
            "type": "pie"
           }
          ],
          "scatter": [
           {
            "marker": {
             "colorbar": {
              "outlinewidth": 0,
              "ticks": ""
             }
            },
            "type": "scatter"
           }
          ],
          "scatter3d": [
           {
            "line": {
             "colorbar": {
              "outlinewidth": 0,
              "ticks": ""
             }
            },
            "marker": {
             "colorbar": {
              "outlinewidth": 0,
              "ticks": ""
             }
            },
            "type": "scatter3d"
           }
          ],
          "scattercarpet": [
           {
            "marker": {
             "colorbar": {
              "outlinewidth": 0,
              "ticks": ""
             }
            },
            "type": "scattercarpet"
           }
          ],
          "scattergeo": [
           {
            "marker": {
             "colorbar": {
              "outlinewidth": 0,
              "ticks": ""
             }
            },
            "type": "scattergeo"
           }
          ],
          "scattergl": [
           {
            "marker": {
             "colorbar": {
              "outlinewidth": 0,
              "ticks": ""
             }
            },
            "type": "scattergl"
           }
          ],
          "scattermapbox": [
           {
            "marker": {
             "colorbar": {
              "outlinewidth": 0,
              "ticks": ""
             }
            },
            "type": "scattermapbox"
           }
          ],
          "scatterpolar": [
           {
            "marker": {
             "colorbar": {
              "outlinewidth": 0,
              "ticks": ""
             }
            },
            "type": "scatterpolar"
           }
          ],
          "scatterpolargl": [
           {
            "marker": {
             "colorbar": {
              "outlinewidth": 0,
              "ticks": ""
             }
            },
            "type": "scatterpolargl"
           }
          ],
          "scatterternary": [
           {
            "marker": {
             "colorbar": {
              "outlinewidth": 0,
              "ticks": ""
             }
            },
            "type": "scatterternary"
           }
          ],
          "surface": [
           {
            "colorbar": {
             "outlinewidth": 0,
             "ticks": ""
            },
            "colorscale": [
             [
              0,
              "#0d0887"
             ],
             [
              0.1111111111111111,
              "#46039f"
             ],
             [
              0.2222222222222222,
              "#7201a8"
             ],
             [
              0.3333333333333333,
              "#9c179e"
             ],
             [
              0.4444444444444444,
              "#bd3786"
             ],
             [
              0.5555555555555556,
              "#d8576b"
             ],
             [
              0.6666666666666666,
              "#ed7953"
             ],
             [
              0.7777777777777778,
              "#fb9f3a"
             ],
             [
              0.8888888888888888,
              "#fdca26"
             ],
             [
              1,
              "#f0f921"
             ]
            ],
            "type": "surface"
           }
          ],
          "table": [
           {
            "cells": {
             "fill": {
              "color": "#EBF0F8"
             },
             "line": {
              "color": "white"
             }
            },
            "header": {
             "fill": {
              "color": "#C8D4E3"
             },
             "line": {
              "color": "white"
             }
            },
            "type": "table"
           }
          ]
         },
         "layout": {
          "annotationdefaults": {
           "arrowcolor": "#2a3f5f",
           "arrowhead": 0,
           "arrowwidth": 1
          },
          "coloraxis": {
           "colorbar": {
            "outlinewidth": 0,
            "ticks": ""
           }
          },
          "colorscale": {
           "diverging": [
            [
             0,
             "#8e0152"
            ],
            [
             0.1,
             "#c51b7d"
            ],
            [
             0.2,
             "#de77ae"
            ],
            [
             0.3,
             "#f1b6da"
            ],
            [
             0.4,
             "#fde0ef"
            ],
            [
             0.5,
             "#f7f7f7"
            ],
            [
             0.6,
             "#e6f5d0"
            ],
            [
             0.7,
             "#b8e186"
            ],
            [
             0.8,
             "#7fbc41"
            ],
            [
             0.9,
             "#4d9221"
            ],
            [
             1,
             "#276419"
            ]
           ],
           "sequential": [
            [
             0,
             "#0d0887"
            ],
            [
             0.1111111111111111,
             "#46039f"
            ],
            [
             0.2222222222222222,
             "#7201a8"
            ],
            [
             0.3333333333333333,
             "#9c179e"
            ],
            [
             0.4444444444444444,
             "#bd3786"
            ],
            [
             0.5555555555555556,
             "#d8576b"
            ],
            [
             0.6666666666666666,
             "#ed7953"
            ],
            [
             0.7777777777777778,
             "#fb9f3a"
            ],
            [
             0.8888888888888888,
             "#fdca26"
            ],
            [
             1,
             "#f0f921"
            ]
           ],
           "sequentialminus": [
            [
             0,
             "#0d0887"
            ],
            [
             0.1111111111111111,
             "#46039f"
            ],
            [
             0.2222222222222222,
             "#7201a8"
            ],
            [
             0.3333333333333333,
             "#9c179e"
            ],
            [
             0.4444444444444444,
             "#bd3786"
            ],
            [
             0.5555555555555556,
             "#d8576b"
            ],
            [
             0.6666666666666666,
             "#ed7953"
            ],
            [
             0.7777777777777778,
             "#fb9f3a"
            ],
            [
             0.8888888888888888,
             "#fdca26"
            ],
            [
             1,
             "#f0f921"
            ]
           ]
          },
          "colorway": [
           "#636efa",
           "#EF553B",
           "#00cc96",
           "#ab63fa",
           "#FFA15A",
           "#19d3f3",
           "#FF6692",
           "#B6E880",
           "#FF97FF",
           "#FECB52"
          ],
          "font": {
           "color": "#2a3f5f"
          },
          "geo": {
           "bgcolor": "white",
           "lakecolor": "white",
           "landcolor": "#E5ECF6",
           "showlakes": true,
           "showland": true,
           "subunitcolor": "white"
          },
          "hoverlabel": {
           "align": "left"
          },
          "hovermode": "closest",
          "mapbox": {
           "style": "light"
          },
          "paper_bgcolor": "white",
          "plot_bgcolor": "#E5ECF6",
          "polar": {
           "angularaxis": {
            "gridcolor": "white",
            "linecolor": "white",
            "ticks": ""
           },
           "bgcolor": "#E5ECF6",
           "radialaxis": {
            "gridcolor": "white",
            "linecolor": "white",
            "ticks": ""
           }
          },
          "scene": {
           "xaxis": {
            "backgroundcolor": "#E5ECF6",
            "gridcolor": "white",
            "gridwidth": 2,
            "linecolor": "white",
            "showbackground": true,
            "ticks": "",
            "zerolinecolor": "white"
           },
           "yaxis": {
            "backgroundcolor": "#E5ECF6",
            "gridcolor": "white",
            "gridwidth": 2,
            "linecolor": "white",
            "showbackground": true,
            "ticks": "",
            "zerolinecolor": "white"
           },
           "zaxis": {
            "backgroundcolor": "#E5ECF6",
            "gridcolor": "white",
            "gridwidth": 2,
            "linecolor": "white",
            "showbackground": true,
            "ticks": "",
            "zerolinecolor": "white"
           }
          },
          "shapedefaults": {
           "line": {
            "color": "#2a3f5f"
           }
          },
          "ternary": {
           "aaxis": {
            "gridcolor": "white",
            "linecolor": "white",
            "ticks": ""
           },
           "baxis": {
            "gridcolor": "white",
            "linecolor": "white",
            "ticks": ""
           },
           "bgcolor": "#E5ECF6",
           "caxis": {
            "gridcolor": "white",
            "linecolor": "white",
            "ticks": ""
           }
          },
          "title": {
           "x": 0.05
          },
          "xaxis": {
           "automargin": true,
           "gridcolor": "white",
           "linecolor": "white",
           "ticks": "",
           "title": {
            "standoff": 15
           },
           "zerolinecolor": "white",
           "zerolinewidth": 2
          },
          "yaxis": {
           "automargin": true,
           "gridcolor": "white",
           "linecolor": "white",
           "ticks": "",
           "title": {
            "standoff": 15
           },
           "zerolinecolor": "white",
           "zerolinewidth": 2
          }
         }
        },
        "title": {
         "text": "Vendas por País (em geral de 2011 a 2014)"
        },
        "updatemenus": [
         {
          "buttons": [
           {
            "args": [
             null,
             {
              "frame": {
               "duration": 500,
               "redraw": true
              },
              "fromcurrent": true,
              "mode": "immediate",
              "transition": {
               "duration": 500,
               "easing": "linear"
              }
             }
            ],
            "label": "&#9654;",
            "method": "animate"
           },
           {
            "args": [
             [
              null
             ],
             {
              "frame": {
               "duration": 0,
               "redraw": true
              },
              "fromcurrent": true,
              "mode": "immediate",
              "transition": {
               "duration": 0,
               "easing": "linear"
              }
             }
            ],
            "label": "&#9724;",
            "method": "animate"
           }
          ],
          "direction": "left",
          "pad": {
           "r": 10,
           "t": 70
          },
          "showactive": false,
          "type": "buttons",
          "x": 0.1,
          "xanchor": "right",
          "y": 0,
          "yanchor": "top"
         }
        ]
       }
      },
      "text/html": [
       "<div>\n",
       "        \n",
       "        \n",
       "            <div id=\"19f9cd5b-6be7-42d4-9b15-090115252b73\" class=\"plotly-graph-div\" style=\"height:600px; width:100%;\"></div>\n",
       "            <script type=\"text/javascript\">\n",
       "                require([\"plotly\"], function(Plotly) {\n",
       "                    window.PLOTLYENV=window.PLOTLYENV || {};\n",
       "                    \n",
       "                if (document.getElementById(\"19f9cd5b-6be7-42d4-9b15-090115252b73\")) {\n",
       "                    Plotly.newPlot(\n",
       "                        '19f9cd5b-6be7-42d4-9b15-090115252b73',\n",
       "                        [{\"coloraxis\": \"coloraxis\", \"geo\": \"geo\", \"hoverlabel\": {\"namelength\": 0}, \"hovertemplate\": \"<b>%{hovertext}</b><br><br>Ano=2011<br>Sigla=%{location}<br>Sales=%{z}\", \"hovertext\": [\"Afghanistan\", \"Angola\", \"Albania\", \"United Arab Emirates\", \"Argentina\", \"Armenia\", \"Australia\", \"Austria\", \"Azerbaijan\", \"Burundi\", \"Belgium\", \"Benin\", \"Bangladesh\", \"Bulgaria\", \"Bosnia and Herzegovina\", \"Belarus\", \"Brazil\", \"Barbados\", \"Central African Republic\", \"Canada\", \"Switzerland\", \"Chile\", \"China\", \"Cameroon\", \"Colombia\", \"Cuba\", \"Germany\", \"Djibouti\", \"Denmark\", \"Dominican Republic\", \"Algeria\", \"Bolivia\", \"Cote d'Ivoire\", \"Czech Republic\", \"Democratic Republic of the Congo\", \"Iran\", \"Moldova\", \"Myanmar (Burma)\", \"Republic of the Congo\", \"Russia\", \"South Korea\", \"Swaziland\", \"Syria\", \"Taiwan\", \"Tanzania\", \"Venezuela\", \"Vietnam\", \"Ecuador\", \"Egypt\", \"Spain\", \"Estonia\", \"Ethiopia\", \"Finland\", \"France\", \"United Kingdom\", \"Georgia\", \"Ghana\", \"Guinea\", \"Guinea-Bissau\", \"Guatemala\", \"Hong Kong\", \"Honduras\", \"Croatia\", \"Haiti\", \"Hungary\", \"Indonesia\", \"India\", \"Ireland\", \"Iraq\", \"Israel\", \"Italy\", \"Jamaica\", \"Jordan\", \"Japan\", \"Kazakhstan\", \"Kenya\", \"Kyrgyzstan\", \"Cambodia\", \"Lebanon\", \"Liberia\", \"Libya\", \"Lesotho\", \"Lithuania\", \"Morocco\", \"Madagascar\", \"Mexico\", \"Mali\", \"Mongolia\", \"Mozambique\", \"Martinique\", \"Malaysia\", \"Niger\", \"Nigeria\", \"Nicaragua\", \"Netherlands\", \"Norway\", \"New Zealand\", \"Pakistan\", \"Panama\", \"Peru\", \"Philippines\", \"Papua New Guinea\", \"Poland\", \"Portugal\", \"Paraguay\", \"Qatar\", \"Romania\", \"Rwanda\", \"Saudi Arabia\", \"Sudan\", \"Senegal\", \"Singapore\", \"Sierra Leone\", \"El Salvador\", \"Somalia\", \"South Sudan\", \"Slovakia\", \"Sweden\", \"Togo\", \"Thailand\", \"Tajikistan\", \"Turkmenistan\", \"Tunisia\", \"Turkey\", \"Uganda\", \"Ukraine\", \"Uruguay\", \"United States\", \"Uzbekistan\", \"Yemen\", \"South Africa\", \"Zambia\", \"Zimbabwe\"], \"locations\": [\"AFG\", \"AGO\", \"ALB\", \"ARE\", \"ARG\", \"ARM\", \"AUS\", \"AUT\", \"AZE\", \"BDI\", \"BEL\", \"BEN\", \"BGD\", \"BGR\", \"BIH\", \"BLR\", \"BRA\", \"BRB\", \"CAF\", \"CAN\", \"CHE\", \"CHL\", \"CHN\", \"CMR\", \"COL\", \"CUB\", \"DEU\", \"DJI\", \"DNK\", \"DOM\", \"DZA\", \"Desconhecido\", \"Desconhecido\", \"Desconhecido\", \"Desconhecido\", \"Desconhecido\", \"Desconhecido\", \"Desconhecido\", \"Desconhecido\", \"Desconhecido\", \"Desconhecido\", \"Desconhecido\", \"Desconhecido\", \"Desconhecido\", \"Desconhecido\", \"Desconhecido\", \"Desconhecido\", \"ECU\", \"EGY\", \"ESP\", \"EST\", \"ETH\", \"FIN\", \"FRA\", \"GBR\", \"GEO\", \"GHA\", \"GIN\", \"GNB\", \"GTM\", \"HKG\", \"HND\", \"HRV\", \"HTI\", \"HUN\", \"IDN\", \"IND\", \"IRL\", \"IRQ\", \"ISR\", \"ITA\", \"JAM\", \"JOR\", \"JPN\", \"KAZ\", \"KEN\", \"KGZ\", \"KHM\", \"LBN\", \"LBR\", \"LBY\", \"LSO\", \"LTU\", \"MAR\", \"MDG\", \"MEX\", \"MLI\", \"MNG\", \"MOZ\", \"MTQ\", \"MYS\", \"NER\", \"NGA\", \"NIC\", \"NLD\", \"NOR\", \"NZL\", \"PAK\", \"PAN\", \"PER\", \"PHL\", \"PNG\", \"POL\", \"PRT\", \"PRY\", \"QAT\", \"ROU\", \"RWA\", \"SAU\", \"SDN\", \"SEN\", \"SGP\", \"SLE\", \"SLV\", \"SOM\", \"SSD\", \"SVK\", \"SWE\", \"TGO\", \"THA\", \"TJK\", \"TKM\", \"TUN\", \"TUR\", \"UGA\", \"UKR\", \"URY\", \"USA\", \"UZB\", \"YEM\", \"ZAF\", \"ZMB\", \"ZWE\"], \"name\": \"\", \"type\": \"choropleth\", \"z\": [1729.41, 6416.91, 1707.5400000000004, 161.08200000000005, 8739.305120000006, 136.26, 137580.06000000014, 21734.489999999994, 802.9200000000001, 50.699999999999996, 12002.520000000004, 2656.8300000000004, 22899.329999999998, 2704.3499999999995, 349.20000000000005, 318.9, 57019.661, 931.8999200000001, 76.26, 8509.109999999999, 2929.17, 2363.2400000000002, 155693.61300000016, 4927.170000000001, 10469.530920000001, 23260.208199999997, 110006.78099999994, 418.10999999999996, 1233.0600000000002, 28948.79884, 8539.800000000001, 2775.5399999999995, 8245.23, 1185.24, 13927.409999999994, 13594.13999999999, 808.95, 4027.9746, 2339.2799999999997, 17981.40000000001, 13387.650000000009, 204.36, 81.75599999999999, 6817.71, 4047.9989999999993, 7056.59604, 12856.6923, 1202.8999999999999, 11744.550000000007, 41864.954999999965, 1996.8600000000001, 428.15999999999997, 4096.08, 128194.51500000012, 86188.551, 331.5, 1580.46, 792.6899999999999, 72.17999999999999, 22772.805920000013, 650.4, 15097.091120000005, 25.29, 2113.662, 1761.33, 62253.48209999998, 91396.00499999993, 4857.899999999999, 9018.419999999998, 2501.9700000000003, 41266.52699999999, 1608.0599999999993, 628.56, 17977.290000000008, 1392.3630000000003, 2831.2799999999993, 34.440000000000005, 2419.7699999999995, 714.8099999999997, 680.8799999999999, 230.09999999999997, 2912.9100000000003, 435.88800000000003, 13276.170000000004, 440.67, 111361.04819999998, 55.35000000000001, 2409.7799999999997, 2988.0, 180.79999999999998, 11781.12, 1353.66, 10423.458000000004, 38582.52132000001, 17647.365000000013, 1380.3300000000004, 33786.539999999964, 7213.281, 8677.079759999999, 4050.1874399999997, 35093.31300000001, 51.96, 6482.910000000001, 3266.0699999999997, 60.56, 187.31999999999996, 9357.66, 886.1400000000001, 20173.499999999993, 1715.7, 2864.1599999999994, 8311.919999999998, 284.88, 37765.38023999998, 754.3799999999999, 667.3199999999999, 699.4799999999999, 3820.9079999999994, 64.14000000000001, 13317.734399999996, 3.0240000000000005, 493.6320000000001, 25.139999999999997, 21363.815999999977, 368.2440000000001, 14446.410000000003, 61.279999999999994, 484247.4981000023, 345.15000000000003, 38.528999999999996, 12655.889999999998, 4355.849999999999, 884.8530000000001]}],\n",
       "                        {\"coloraxis\": {\"cmax\": 400000, \"cmin\": 0, \"colorbar\": {\"title\": {\"text\": \"Sales\"}}, \"colorscale\": [[0.0, \"rgb(165,0,38)\"], [0.1, \"rgb(215,48,39)\"], [0.2, \"rgb(244,109,67)\"], [0.3, \"rgb(253,174,97)\"], [0.4, \"rgb(254,224,139)\"], [0.5, \"rgb(255,255,191)\"], [0.6, \"rgb(217,239,139)\"], [0.7, \"rgb(166,217,106)\"], [0.8, \"rgb(102,189,99)\"], [0.9, \"rgb(26,152,80)\"], [1.0, \"rgb(0,104,55)\"]]}, \"geo\": {\"center\": {}, \"domain\": {\"x\": [0.0, 1.0], \"y\": [0.0, 1.0]}}, \"height\": 600, \"legend\": {\"tracegroupgap\": 0}, \"margin\": {\"t\": 60}, \"sliders\": [{\"active\": 0, \"currentvalue\": {\"prefix\": \"Ano=\"}, \"len\": 0.9, \"pad\": {\"b\": 10, \"t\": 60}, \"steps\": [{\"args\": [[\"2011\"], {\"frame\": {\"duration\": 0, \"redraw\": true}, \"fromcurrent\": true, \"mode\": \"immediate\", \"transition\": {\"duration\": 0, \"easing\": \"linear\"}}], \"label\": \"2011\", \"method\": \"animate\"}, {\"args\": [[\"2012\"], {\"frame\": {\"duration\": 0, \"redraw\": true}, \"fromcurrent\": true, \"mode\": \"immediate\", \"transition\": {\"duration\": 0, \"easing\": \"linear\"}}], \"label\": \"2012\", \"method\": \"animate\"}, {\"args\": [[\"2013\"], {\"frame\": {\"duration\": 0, \"redraw\": true}, \"fromcurrent\": true, \"mode\": \"immediate\", \"transition\": {\"duration\": 0, \"easing\": \"linear\"}}], \"label\": \"2013\", \"method\": \"animate\"}, {\"args\": [[\"2014\"], {\"frame\": {\"duration\": 0, \"redraw\": true}, \"fromcurrent\": true, \"mode\": \"immediate\", \"transition\": {\"duration\": 0, \"easing\": \"linear\"}}], \"label\": \"2014\", \"method\": \"animate\"}], \"x\": 0.1, \"xanchor\": \"left\", \"y\": 0, \"yanchor\": \"top\"}], \"template\": {\"data\": {\"bar\": [{\"error_x\": {\"color\": \"#2a3f5f\"}, \"error_y\": {\"color\": \"#2a3f5f\"}, \"marker\": {\"line\": {\"color\": \"#E5ECF6\", \"width\": 0.5}}, \"type\": \"bar\"}], \"barpolar\": [{\"marker\": {\"line\": {\"color\": \"#E5ECF6\", \"width\": 0.5}}, \"type\": \"barpolar\"}], \"carpet\": [{\"aaxis\": {\"endlinecolor\": \"#2a3f5f\", \"gridcolor\": \"white\", \"linecolor\": \"white\", \"minorgridcolor\": \"white\", \"startlinecolor\": \"#2a3f5f\"}, \"baxis\": {\"endlinecolor\": \"#2a3f5f\", \"gridcolor\": \"white\", \"linecolor\": \"white\", \"minorgridcolor\": \"white\", \"startlinecolor\": \"#2a3f5f\"}, \"type\": \"carpet\"}], \"choropleth\": [{\"colorbar\": {\"outlinewidth\": 0, \"ticks\": \"\"}, \"type\": \"choropleth\"}], \"contour\": [{\"colorbar\": {\"outlinewidth\": 0, \"ticks\": \"\"}, \"colorscale\": [[0.0, \"#0d0887\"], [0.1111111111111111, \"#46039f\"], [0.2222222222222222, \"#7201a8\"], [0.3333333333333333, \"#9c179e\"], [0.4444444444444444, \"#bd3786\"], [0.5555555555555556, \"#d8576b\"], [0.6666666666666666, \"#ed7953\"], [0.7777777777777778, \"#fb9f3a\"], [0.8888888888888888, \"#fdca26\"], [1.0, \"#f0f921\"]], \"type\": \"contour\"}], \"contourcarpet\": [{\"colorbar\": {\"outlinewidth\": 0, \"ticks\": \"\"}, \"type\": \"contourcarpet\"}], \"heatmap\": [{\"colorbar\": {\"outlinewidth\": 0, \"ticks\": \"\"}, \"colorscale\": [[0.0, \"#0d0887\"], [0.1111111111111111, \"#46039f\"], [0.2222222222222222, \"#7201a8\"], [0.3333333333333333, \"#9c179e\"], [0.4444444444444444, \"#bd3786\"], [0.5555555555555556, \"#d8576b\"], [0.6666666666666666, \"#ed7953\"], [0.7777777777777778, \"#fb9f3a\"], [0.8888888888888888, \"#fdca26\"], [1.0, \"#f0f921\"]], \"type\": \"heatmap\"}], \"heatmapgl\": [{\"colorbar\": {\"outlinewidth\": 0, \"ticks\": \"\"}, \"colorscale\": [[0.0, \"#0d0887\"], [0.1111111111111111, \"#46039f\"], [0.2222222222222222, \"#7201a8\"], [0.3333333333333333, \"#9c179e\"], [0.4444444444444444, \"#bd3786\"], [0.5555555555555556, \"#d8576b\"], [0.6666666666666666, \"#ed7953\"], [0.7777777777777778, \"#fb9f3a\"], [0.8888888888888888, \"#fdca26\"], [1.0, \"#f0f921\"]], \"type\": \"heatmapgl\"}], \"histogram\": [{\"marker\": {\"colorbar\": {\"outlinewidth\": 0, \"ticks\": \"\"}}, \"type\": \"histogram\"}], \"histogram2d\": [{\"colorbar\": {\"outlinewidth\": 0, \"ticks\": \"\"}, \"colorscale\": [[0.0, \"#0d0887\"], [0.1111111111111111, \"#46039f\"], [0.2222222222222222, \"#7201a8\"], [0.3333333333333333, \"#9c179e\"], [0.4444444444444444, \"#bd3786\"], [0.5555555555555556, \"#d8576b\"], [0.6666666666666666, \"#ed7953\"], [0.7777777777777778, \"#fb9f3a\"], [0.8888888888888888, \"#fdca26\"], [1.0, \"#f0f921\"]], \"type\": \"histogram2d\"}], \"histogram2dcontour\": [{\"colorbar\": {\"outlinewidth\": 0, \"ticks\": \"\"}, \"colorscale\": [[0.0, \"#0d0887\"], [0.1111111111111111, \"#46039f\"], [0.2222222222222222, \"#7201a8\"], [0.3333333333333333, \"#9c179e\"], [0.4444444444444444, \"#bd3786\"], [0.5555555555555556, \"#d8576b\"], [0.6666666666666666, \"#ed7953\"], [0.7777777777777778, \"#fb9f3a\"], [0.8888888888888888, \"#fdca26\"], [1.0, \"#f0f921\"]], \"type\": \"histogram2dcontour\"}], \"mesh3d\": [{\"colorbar\": {\"outlinewidth\": 0, \"ticks\": \"\"}, \"type\": \"mesh3d\"}], \"parcoords\": [{\"line\": {\"colorbar\": {\"outlinewidth\": 0, \"ticks\": \"\"}}, \"type\": \"parcoords\"}], \"pie\": [{\"automargin\": true, \"type\": \"pie\"}], \"scatter\": [{\"marker\": {\"colorbar\": {\"outlinewidth\": 0, \"ticks\": \"\"}}, \"type\": \"scatter\"}], \"scatter3d\": [{\"line\": {\"colorbar\": {\"outlinewidth\": 0, \"ticks\": \"\"}}, \"marker\": {\"colorbar\": {\"outlinewidth\": 0, \"ticks\": \"\"}}, \"type\": \"scatter3d\"}], \"scattercarpet\": [{\"marker\": {\"colorbar\": {\"outlinewidth\": 0, \"ticks\": \"\"}}, \"type\": \"scattercarpet\"}], \"scattergeo\": [{\"marker\": {\"colorbar\": {\"outlinewidth\": 0, \"ticks\": \"\"}}, \"type\": \"scattergeo\"}], \"scattergl\": [{\"marker\": {\"colorbar\": {\"outlinewidth\": 0, \"ticks\": \"\"}}, \"type\": \"scattergl\"}], \"scattermapbox\": [{\"marker\": {\"colorbar\": {\"outlinewidth\": 0, \"ticks\": \"\"}}, \"type\": \"scattermapbox\"}], \"scatterpolar\": [{\"marker\": {\"colorbar\": {\"outlinewidth\": 0, \"ticks\": \"\"}}, \"type\": \"scatterpolar\"}], \"scatterpolargl\": [{\"marker\": {\"colorbar\": {\"outlinewidth\": 0, \"ticks\": \"\"}}, \"type\": \"scatterpolargl\"}], \"scatterternary\": [{\"marker\": {\"colorbar\": {\"outlinewidth\": 0, \"ticks\": \"\"}}, \"type\": \"scatterternary\"}], \"surface\": [{\"colorbar\": {\"outlinewidth\": 0, \"ticks\": \"\"}, \"colorscale\": [[0.0, \"#0d0887\"], [0.1111111111111111, \"#46039f\"], [0.2222222222222222, \"#7201a8\"], [0.3333333333333333, \"#9c179e\"], [0.4444444444444444, \"#bd3786\"], [0.5555555555555556, \"#d8576b\"], [0.6666666666666666, \"#ed7953\"], [0.7777777777777778, \"#fb9f3a\"], [0.8888888888888888, \"#fdca26\"], [1.0, \"#f0f921\"]], \"type\": \"surface\"}], \"table\": [{\"cells\": {\"fill\": {\"color\": \"#EBF0F8\"}, \"line\": {\"color\": \"white\"}}, \"header\": {\"fill\": {\"color\": \"#C8D4E3\"}, \"line\": {\"color\": \"white\"}}, \"type\": \"table\"}]}, \"layout\": {\"annotationdefaults\": {\"arrowcolor\": \"#2a3f5f\", \"arrowhead\": 0, \"arrowwidth\": 1}, \"coloraxis\": {\"colorbar\": {\"outlinewidth\": 0, \"ticks\": \"\"}}, \"colorscale\": {\"diverging\": [[0, \"#8e0152\"], [0.1, \"#c51b7d\"], [0.2, \"#de77ae\"], [0.3, \"#f1b6da\"], [0.4, \"#fde0ef\"], [0.5, \"#f7f7f7\"], [0.6, \"#e6f5d0\"], [0.7, \"#b8e186\"], [0.8, \"#7fbc41\"], [0.9, \"#4d9221\"], [1, \"#276419\"]], \"sequential\": [[0.0, \"#0d0887\"], [0.1111111111111111, \"#46039f\"], [0.2222222222222222, \"#7201a8\"], [0.3333333333333333, \"#9c179e\"], [0.4444444444444444, \"#bd3786\"], [0.5555555555555556, \"#d8576b\"], [0.6666666666666666, \"#ed7953\"], [0.7777777777777778, \"#fb9f3a\"], [0.8888888888888888, \"#fdca26\"], [1.0, \"#f0f921\"]], \"sequentialminus\": [[0.0, \"#0d0887\"], [0.1111111111111111, \"#46039f\"], [0.2222222222222222, \"#7201a8\"], [0.3333333333333333, \"#9c179e\"], [0.4444444444444444, \"#bd3786\"], [0.5555555555555556, \"#d8576b\"], [0.6666666666666666, \"#ed7953\"], [0.7777777777777778, \"#fb9f3a\"], [0.8888888888888888, \"#fdca26\"], [1.0, \"#f0f921\"]]}, \"colorway\": [\"#636efa\", \"#EF553B\", \"#00cc96\", \"#ab63fa\", \"#FFA15A\", \"#19d3f3\", \"#FF6692\", \"#B6E880\", \"#FF97FF\", \"#FECB52\"], \"font\": {\"color\": \"#2a3f5f\"}, \"geo\": {\"bgcolor\": \"white\", \"lakecolor\": \"white\", \"landcolor\": \"#E5ECF6\", \"showlakes\": true, \"showland\": true, \"subunitcolor\": \"white\"}, \"hoverlabel\": {\"align\": \"left\"}, \"hovermode\": \"closest\", \"mapbox\": {\"style\": \"light\"}, \"paper_bgcolor\": \"white\", \"plot_bgcolor\": \"#E5ECF6\", \"polar\": {\"angularaxis\": {\"gridcolor\": \"white\", \"linecolor\": \"white\", \"ticks\": \"\"}, \"bgcolor\": \"#E5ECF6\", \"radialaxis\": {\"gridcolor\": \"white\", \"linecolor\": \"white\", \"ticks\": \"\"}}, \"scene\": {\"xaxis\": {\"backgroundcolor\": \"#E5ECF6\", \"gridcolor\": \"white\", \"gridwidth\": 2, \"linecolor\": \"white\", \"showbackground\": true, \"ticks\": \"\", \"zerolinecolor\": \"white\"}, \"yaxis\": {\"backgroundcolor\": \"#E5ECF6\", \"gridcolor\": \"white\", \"gridwidth\": 2, \"linecolor\": \"white\", \"showbackground\": true, \"ticks\": \"\", \"zerolinecolor\": \"white\"}, \"zaxis\": {\"backgroundcolor\": \"#E5ECF6\", \"gridcolor\": \"white\", \"gridwidth\": 2, \"linecolor\": \"white\", \"showbackground\": true, \"ticks\": \"\", \"zerolinecolor\": \"white\"}}, \"shapedefaults\": {\"line\": {\"color\": \"#2a3f5f\"}}, \"ternary\": {\"aaxis\": {\"gridcolor\": \"white\", \"linecolor\": \"white\", \"ticks\": \"\"}, \"baxis\": {\"gridcolor\": \"white\", \"linecolor\": \"white\", \"ticks\": \"\"}, \"bgcolor\": \"#E5ECF6\", \"caxis\": {\"gridcolor\": \"white\", \"linecolor\": \"white\", \"ticks\": \"\"}}, \"title\": {\"x\": 0.05}, \"xaxis\": {\"automargin\": true, \"gridcolor\": \"white\", \"linecolor\": \"white\", \"ticks\": \"\", \"title\": {\"standoff\": 15}, \"zerolinecolor\": \"white\", \"zerolinewidth\": 2}, \"yaxis\": {\"automargin\": true, \"gridcolor\": \"white\", \"linecolor\": \"white\", \"ticks\": \"\", \"title\": {\"standoff\": 15}, \"zerolinecolor\": \"white\", \"zerolinewidth\": 2}}}, \"title\": {\"text\": \"Vendas por Pa\\u00eds (em geral de 2011 a 2014)\"}, \"updatemenus\": [{\"buttons\": [{\"args\": [null, {\"frame\": {\"duration\": 500, \"redraw\": true}, \"fromcurrent\": true, \"mode\": \"immediate\", \"transition\": {\"duration\": 500, \"easing\": \"linear\"}}], \"label\": \"&#9654;\", \"method\": \"animate\"}, {\"args\": [[null], {\"frame\": {\"duration\": 0, \"redraw\": true}, \"fromcurrent\": true, \"mode\": \"immediate\", \"transition\": {\"duration\": 0, \"easing\": \"linear\"}}], \"label\": \"&#9724;\", \"method\": \"animate\"}], \"direction\": \"left\", \"pad\": {\"r\": 10, \"t\": 70}, \"showactive\": false, \"type\": \"buttons\", \"x\": 0.1, \"xanchor\": \"right\", \"y\": 0, \"yanchor\": \"top\"}]},\n",
       "                        {\"responsive\": true}\n",
       "                    ).then(function(){\n",
       "                            Plotly.addFrames('19f9cd5b-6be7-42d4-9b15-090115252b73', [{\"data\": [{\"coloraxis\": \"coloraxis\", \"geo\": \"geo\", \"hoverlabel\": {\"namelength\": 0}, \"hovertemplate\": \"<b>%{hovertext}</b><br><br>Ano=2011<br>Sigla=%{location}<br>Sales=%{z}\", \"hovertext\": [\"Afghanistan\", \"Angola\", \"Albania\", \"United Arab Emirates\", \"Argentina\", \"Armenia\", \"Australia\", \"Austria\", \"Azerbaijan\", \"Burundi\", \"Belgium\", \"Benin\", \"Bangladesh\", \"Bulgaria\", \"Bosnia and Herzegovina\", \"Belarus\", \"Brazil\", \"Barbados\", \"Central African Republic\", \"Canada\", \"Switzerland\", \"Chile\", \"China\", \"Cameroon\", \"Colombia\", \"Cuba\", \"Germany\", \"Djibouti\", \"Denmark\", \"Dominican Republic\", \"Algeria\", \"Bolivia\", \"Cote d'Ivoire\", \"Czech Republic\", \"Democratic Republic of the Congo\", \"Iran\", \"Moldova\", \"Myanmar (Burma)\", \"Republic of the Congo\", \"Russia\", \"South Korea\", \"Swaziland\", \"Syria\", \"Taiwan\", \"Tanzania\", \"Venezuela\", \"Vietnam\", \"Ecuador\", \"Egypt\", \"Spain\", \"Estonia\", \"Ethiopia\", \"Finland\", \"France\", \"United Kingdom\", \"Georgia\", \"Ghana\", \"Guinea\", \"Guinea-Bissau\", \"Guatemala\", \"Hong Kong\", \"Honduras\", \"Croatia\", \"Haiti\", \"Hungary\", \"Indonesia\", \"India\", \"Ireland\", \"Iraq\", \"Israel\", \"Italy\", \"Jamaica\", \"Jordan\", \"Japan\", \"Kazakhstan\", \"Kenya\", \"Kyrgyzstan\", \"Cambodia\", \"Lebanon\", \"Liberia\", \"Libya\", \"Lesotho\", \"Lithuania\", \"Morocco\", \"Madagascar\", \"Mexico\", \"Mali\", \"Mongolia\", \"Mozambique\", \"Martinique\", \"Malaysia\", \"Niger\", \"Nigeria\", \"Nicaragua\", \"Netherlands\", \"Norway\", \"New Zealand\", \"Pakistan\", \"Panama\", \"Peru\", \"Philippines\", \"Papua New Guinea\", \"Poland\", \"Portugal\", \"Paraguay\", \"Qatar\", \"Romania\", \"Rwanda\", \"Saudi Arabia\", \"Sudan\", \"Senegal\", \"Singapore\", \"Sierra Leone\", \"El Salvador\", \"Somalia\", \"South Sudan\", \"Slovakia\", \"Sweden\", \"Togo\", \"Thailand\", \"Tajikistan\", \"Turkmenistan\", \"Tunisia\", \"Turkey\", \"Uganda\", \"Ukraine\", \"Uruguay\", \"United States\", \"Uzbekistan\", \"Yemen\", \"South Africa\", \"Zambia\", \"Zimbabwe\"], \"locations\": [\"AFG\", \"AGO\", \"ALB\", \"ARE\", \"ARG\", \"ARM\", \"AUS\", \"AUT\", \"AZE\", \"BDI\", \"BEL\", \"BEN\", \"BGD\", \"BGR\", \"BIH\", \"BLR\", \"BRA\", \"BRB\", \"CAF\", \"CAN\", \"CHE\", \"CHL\", \"CHN\", \"CMR\", \"COL\", \"CUB\", \"DEU\", \"DJI\", \"DNK\", \"DOM\", \"DZA\", \"Desconhecido\", \"Desconhecido\", \"Desconhecido\", \"Desconhecido\", \"Desconhecido\", \"Desconhecido\", \"Desconhecido\", \"Desconhecido\", \"Desconhecido\", \"Desconhecido\", \"Desconhecido\", \"Desconhecido\", \"Desconhecido\", \"Desconhecido\", \"Desconhecido\", \"Desconhecido\", \"ECU\", \"EGY\", \"ESP\", \"EST\", \"ETH\", \"FIN\", \"FRA\", \"GBR\", \"GEO\", \"GHA\", \"GIN\", \"GNB\", \"GTM\", \"HKG\", \"HND\", \"HRV\", \"HTI\", \"HUN\", \"IDN\", \"IND\", \"IRL\", \"IRQ\", \"ISR\", \"ITA\", \"JAM\", \"JOR\", \"JPN\", \"KAZ\", \"KEN\", \"KGZ\", \"KHM\", \"LBN\", \"LBR\", \"LBY\", \"LSO\", \"LTU\", \"MAR\", \"MDG\", \"MEX\", \"MLI\", \"MNG\", \"MOZ\", \"MTQ\", \"MYS\", \"NER\", \"NGA\", \"NIC\", \"NLD\", \"NOR\", \"NZL\", \"PAK\", \"PAN\", \"PER\", \"PHL\", \"PNG\", \"POL\", \"PRT\", \"PRY\", \"QAT\", \"ROU\", \"RWA\", \"SAU\", \"SDN\", \"SEN\", \"SGP\", \"SLE\", \"SLV\", \"SOM\", \"SSD\", \"SVK\", \"SWE\", \"TGO\", \"THA\", \"TJK\", \"TKM\", \"TUN\", \"TUR\", \"UGA\", \"UKR\", \"URY\", \"USA\", \"UZB\", \"YEM\", \"ZAF\", \"ZMB\", \"ZWE\"], \"name\": \"\", \"z\": [1729.41, 6416.91, 1707.5400000000004, 161.08200000000005, 8739.305120000006, 136.26, 137580.06000000014, 21734.489999999994, 802.9200000000001, 50.699999999999996, 12002.520000000004, 2656.8300000000004, 22899.329999999998, 2704.3499999999995, 349.20000000000005, 318.9, 57019.661, 931.8999200000001, 76.26, 8509.109999999999, 2929.17, 2363.2400000000002, 155693.61300000016, 4927.170000000001, 10469.530920000001, 23260.208199999997, 110006.78099999994, 418.10999999999996, 1233.0600000000002, 28948.79884, 8539.800000000001, 2775.5399999999995, 8245.23, 1185.24, 13927.409999999994, 13594.13999999999, 808.95, 4027.9746, 2339.2799999999997, 17981.40000000001, 13387.650000000009, 204.36, 81.75599999999999, 6817.71, 4047.9989999999993, 7056.59604, 12856.6923, 1202.8999999999999, 11744.550000000007, 41864.954999999965, 1996.8600000000001, 428.15999999999997, 4096.08, 128194.51500000012, 86188.551, 331.5, 1580.46, 792.6899999999999, 72.17999999999999, 22772.805920000013, 650.4, 15097.091120000005, 25.29, 2113.662, 1761.33, 62253.48209999998, 91396.00499999993, 4857.899999999999, 9018.419999999998, 2501.9700000000003, 41266.52699999999, 1608.0599999999993, 628.56, 17977.290000000008, 1392.3630000000003, 2831.2799999999993, 34.440000000000005, 2419.7699999999995, 714.8099999999997, 680.8799999999999, 230.09999999999997, 2912.9100000000003, 435.88800000000003, 13276.170000000004, 440.67, 111361.04819999998, 55.35000000000001, 2409.7799999999997, 2988.0, 180.79999999999998, 11781.12, 1353.66, 10423.458000000004, 38582.52132000001, 17647.365000000013, 1380.3300000000004, 33786.539999999964, 7213.281, 8677.079759999999, 4050.1874399999997, 35093.31300000001, 51.96, 6482.910000000001, 3266.0699999999997, 60.56, 187.31999999999996, 9357.66, 886.1400000000001, 20173.499999999993, 1715.7, 2864.1599999999994, 8311.919999999998, 284.88, 37765.38023999998, 754.3799999999999, 667.3199999999999, 699.4799999999999, 3820.9079999999994, 64.14000000000001, 13317.734399999996, 3.0240000000000005, 493.6320000000001, 25.139999999999997, 21363.815999999977, 368.2440000000001, 14446.410000000003, 61.279999999999994, 484247.4981000023, 345.15000000000003, 38.528999999999996, 12655.889999999998, 4355.849999999999, 884.8530000000001], \"type\": \"choropleth\"}], \"name\": \"2011\"}, {\"data\": [{\"coloraxis\": \"coloraxis\", \"geo\": \"geo\", \"hoverlabel\": {\"namelength\": 0}, \"hovertemplate\": \"<b>%{hovertext}</b><br><br>Ano=2012<br>Sigla=%{location}<br>Sales=%{z}\", \"hovertext\": [\"Afghanistan\", \"Angola\", \"Albania\", \"Argentina\", \"Australia\", \"Austria\", \"Azerbaijan\", \"Burundi\", \"Belgium\", \"Benin\", \"Bangladesh\", \"Bulgaria\", \"Bosnia and Herzegovina\", \"Belarus\", \"Brazil\", \"Barbados\", \"Central African Republic\", \"Canada\", \"Switzerland\", \"Chile\", \"China\", \"Cameroon\", \"Colombia\", \"Cuba\", \"Germany\", \"Denmark\", \"Dominican Republic\", \"Algeria\", \"Bolivia\", \"Cote d'Ivoire\", \"Czech Republic\", \"Democratic Republic of the Congo\", \"Iran\", \"Macedonia\", \"Moldova\", \"Myanmar (Burma)\", \"Russia\", \"South Korea\", \"Syria\", \"Tanzania\", \"Venezuela\", \"Vietnam\", \"Ecuador\", \"Egypt\", \"Spain\", \"Estonia\", \"Finland\", \"France\", \"Gabon\", \"United Kingdom\", \"Georgia\", \"Ghana\", \"Guinea\", \"Guadeloupe\", \"Guatemala\", \"Honduras\", \"Croatia\", \"Haiti\", \"Hungary\", \"Indonesia\", \"India\", \"Ireland\", \"Iraq\", \"Israel\", \"Italy\", \"Jamaica\", \"Jordan\", \"Japan\", \"Kazakhstan\", \"Kenya\", \"Kyrgyzstan\", \"Cambodia\", \"Lebanon\", \"Liberia\", \"Libya\", \"Sri Lanka\", \"Lithuania\", \"Morocco\", \"Madagascar\", \"Mexico\", \"Mali\", \"Mongolia\", \"Mozambique\", \"Mauritania\", \"Martinique\", \"Malaysia\", \"Namibia\", \"Niger\", \"Nigeria\", \"Nicaragua\", \"Netherlands\", \"Norway\", \"Nepal\", \"New Zealand\", \"Pakistan\", \"Panama\", \"Peru\", \"Philippines\", \"Papua New Guinea\", \"Poland\", \"Portugal\", \"Paraguay\", \"Qatar\", \"Romania\", \"Rwanda\", \"Saudi Arabia\", \"Sudan\", \"Senegal\", \"Singapore\", \"Sierra Leone\", \"El Salvador\", \"Somalia\", \"Slovakia\", \"Sweden\", \"Togo\", \"Thailand\", \"Turkmenistan\", \"Trinidad and Tobago\", \"Tunisia\", \"Turkey\", \"Uganda\", \"Ukraine\", \"Uruguay\", \"United States\", \"Uzbekistan\", \"Yemen\", \"South Africa\", \"Zambia\", \"Zimbabwe\"], \"locations\": [\"AFG\", \"AGO\", \"ALB\", \"ARG\", \"AUS\", \"AUT\", \"AZE\", \"BDI\", \"BEL\", \"BEN\", \"BGD\", \"BGR\", \"BIH\", \"BLR\", \"BRA\", \"BRB\", \"CAF\", \"CAN\", \"CHE\", \"CHL\", \"CHN\", \"CMR\", \"COL\", \"CUB\", \"DEU\", \"DNK\", \"DOM\", \"DZA\", \"Desconhecido\", \"Desconhecido\", \"Desconhecido\", \"Desconhecido\", \"Desconhecido\", \"Desconhecido\", \"Desconhecido\", \"Desconhecido\", \"Desconhecido\", \"Desconhecido\", \"Desconhecido\", \"Desconhecido\", \"Desconhecido\", \"Desconhecido\", \"ECU\", \"EGY\", \"ESP\", \"EST\", \"FIN\", \"FRA\", \"GAB\", \"GBR\", \"GEO\", \"GHA\", \"GIN\", \"GLP\", \"GTM\", \"HND\", \"HRV\", \"HTI\", \"HUN\", \"IDN\", \"IND\", \"IRL\", \"IRQ\", \"ISR\", \"ITA\", \"JAM\", \"JOR\", \"JPN\", \"KAZ\", \"KEN\", \"KGZ\", \"KHM\", \"LBN\", \"LBR\", \"LBY\", \"LKA\", \"LTU\", \"MAR\", \"MDG\", \"MEX\", \"MLI\", \"MNG\", \"MOZ\", \"MRT\", \"MTQ\", \"MYS\", \"NAM\", \"NER\", \"NGA\", \"NIC\", \"NLD\", \"NOR\", \"NPL\", \"NZL\", \"PAK\", \"PAN\", \"PER\", \"PHL\", \"PNG\", \"POL\", \"PRT\", \"PRY\", \"QAT\", \"ROU\", \"RWA\", \"SAU\", \"SDN\", \"SEN\", \"SGP\", \"SLE\", \"SLV\", \"SOM\", \"SVK\", \"SWE\", \"TGO\", \"THA\", \"TKM\", \"TTO\", \"TUN\", \"TUR\", \"UGA\", \"UKR\", \"URY\", \"USA\", \"UZB\", \"YEM\", \"ZAF\", \"ZMB\", \"ZWE\"], \"name\": \"\", \"z\": [9071.819999999998, 3172.9799999999996, 948.12, 7037.005000000004, 203950.84199999977, 18104.99999999999, 479.64, 217.02, 12164.729999999998, 139.53, 13089.539999999999, 3817.74, 990.4500000000002, 3303.9300000000007, 91609.38863999999, 2322.57832, 1101.36, 16096.800000000001, 4811.189999999998, 9881.028960000003, 130224.87300000007, 7924.4699999999975, 12675.94176, 30248.448080000002, 154835.14800000025, 947.4479999999999, 24384.222680000017, 9288.99, 2578.5299999999997, 1092.57, 1117.2600000000002, 17312.19, 21720.36, 10.98, 1829.1599999999999, 2444.1740999999997, 9894.149999999998, 5533.383, 2828.124, 2159.781, 4632.174720000002, 14585.607600000005, 3696.9480000000003, 22219.230000000003, 58372.04100000002, 1882.56, 9382.919999999998, 192184.581, 1375.59, 124335.90599999992, 3270.9, 7405.289999999999, 960.8699999999999, 373.4799999999999, 20790.053519999987, 18458.47712, 637.2300000000001, 440.532, 973.2299999999999, 93407.41170000001, 141493.03500000012, 977.805, 20012.76, 3127.9500000000003, 58823.31899999996, 1551.08584, 1296.3600000000001, 16599.075, 568.35, 4872.33, 2425.83, 1419.51, 469.67999999999995, 461.13000000000005, 1445.3999999999999, 95.28, 2313.9990000000003, 12295.470000000001, 1839.8999999999999, 156964.96999999956, 2364.24, 1994.9099999999999, 3402.66, 16.5, 1313.3800000000003, 14132.789999999995, 502.8, 746.49, 11396.672999999995, 23519.59584000001, 15074.766, 2360.9999999999995, 1015.5, 45945.94799999996, 9368.226000000002, 10601.400639999994, 4918.703879999999, 28224.541500000003, 168.882, 7082.939999999999, 1255.71, 19.24, 1060.3799999999999, 7859.250000000002, 1085.0700000000002, 16071.360000000006, 1192.4099999999996, 2027.4300000000003, 13839.029999999995, 1671.66, 32056.76300000003, 235.29000000000002, 60.12, 5260.922999999999, 583.1099999999999, 18109.8615, 641.7450000000001, 3513.850000000001, 522.15, 23184.360000000022, 467.67600000000004, 15997.800000000005, 1145.4999999999998, 470532.50900000177, 318.38999999999993, 1793.5470000000003, 14998.380000000001, 6958.199999999999, 1025.865], \"type\": \"choropleth\"}], \"name\": \"2012\"}, {\"data\": [{\"coloraxis\": \"coloraxis\", \"geo\": \"geo\", \"hoverlabel\": {\"namelength\": 0}, \"hovertemplate\": \"<b>%{hovertext}</b><br><br>Ano=2013<br>Sigla=%{location}<br>Sales=%{z}\", \"hovertext\": [\"Afghanistan\", \"Angola\", \"Albania\", \"United Arab Emirates\", \"Argentina\", \"Armenia\", \"Australia\", \"Austria\", \"Azerbaijan\", \"Belgium\", \"Benin\", \"Bangladesh\", \"Bulgaria\", \"Bahrain\", \"Bosnia and Herzegovina\", \"Belarus\", \"Brazil\", \"Barbados\", \"Central African Republic\", \"Canada\", \"Switzerland\", \"Chile\", \"China\", \"Cameroon\", \"Colombia\", \"Cuba\", \"Germany\", \"Djibouti\", \"Denmark\", \"Dominican Republic\", \"Algeria\", \"Bolivia\", \"Cote d'Ivoire\", \"Czech Republic\", \"Democratic Republic of the Congo\", \"Iran\", \"Macedonia\", \"Moldova\", \"Myanmar (Burma)\", \"Russia\", \"South Korea\", \"Syria\", \"Taiwan\", \"Tanzania\", \"Venezuela\", \"Vietnam\", \"Ecuador\", \"Egypt\", \"Eritrea\", \"Spain\", \"Estonia\", \"Ethiopia\", \"Finland\", \"France\", \"United Kingdom\", \"Georgia\", \"Ghana\", \"Guinea\", \"Guadeloupe\", \"Guinea-Bissau\", \"Equatorial Guinea\", \"Guatemala\", \"Hong Kong\", \"Honduras\", \"Croatia\", \"Haiti\", \"Hungary\", \"Indonesia\", \"India\", \"Ireland\", \"Iraq\", \"Israel\", \"Italy\", \"Jamaica\", \"Jordan\", \"Japan\", \"Kazakhstan\", \"Kenya\", \"Kyrgyzstan\", \"Cambodia\", \"Lebanon\", \"Libya\", \"Sri Lanka\", \"Lesotho\", \"Lithuania\", \"Morocco\", \"Madagascar\", \"Mexico\", \"Mali\", \"Mongolia\", \"Mozambique\", \"Mauritania\", \"Martinique\", \"Malaysia\", \"Namibia\", \"Niger\", \"Nigeria\", \"Nicaragua\", \"Netherlands\", \"Norway\", \"Nepal\", \"New Zealand\", \"Pakistan\", \"Panama\", \"Peru\", \"Philippines\", \"Papua New Guinea\", \"Poland\", \"Portugal\", \"Paraguay\", \"Qatar\", \"Romania\", \"Rwanda\", \"Saudi Arabia\", \"Sudan\", \"Senegal\", \"Singapore\", \"El Salvador\", \"Somalia\", \"Slovenia\", \"Sweden\", \"Chad\", \"Togo\", \"Thailand\", \"Turkmenistan\", \"Trinidad and Tobago\", \"Tunisia\", \"Turkey\", \"Uganda\", \"Ukraine\", \"Uruguay\", \"United States\", \"Uzbekistan\", \"Yemen\", \"South Africa\", \"Zambia\", \"Zimbabwe\"], \"locations\": [\"AFG\", \"AGO\", \"ALB\", \"ARE\", \"ARG\", \"ARM\", \"AUS\", \"AUT\", \"AZE\", \"BEL\", \"BEN\", \"BGD\", \"BGR\", \"BHR\", \"BIH\", \"BLR\", \"BRA\", \"BRB\", \"CAF\", \"CAN\", \"CHE\", \"CHL\", \"CHN\", \"CMR\", \"COL\", \"CUB\", \"DEU\", \"DJI\", \"DNK\", \"DOM\", \"DZA\", \"Desconhecido\", \"Desconhecido\", \"Desconhecido\", \"Desconhecido\", \"Desconhecido\", \"Desconhecido\", \"Desconhecido\", \"Desconhecido\", \"Desconhecido\", \"Desconhecido\", \"Desconhecido\", \"Desconhecido\", \"Desconhecido\", \"Desconhecido\", \"Desconhecido\", \"ECU\", \"EGY\", \"ERI\", \"ESP\", \"EST\", \"ETH\", \"FIN\", \"FRA\", \"GBR\", \"GEO\", \"GHA\", \"GIN\", \"GLP\", \"GNB\", \"GNQ\", \"GTM\", \"HKG\", \"HND\", \"HRV\", \"HTI\", \"HUN\", \"IDN\", \"IND\", \"IRL\", \"IRQ\", \"ISR\", \"ITA\", \"JAM\", \"JOR\", \"JPN\", \"KAZ\", \"KEN\", \"KGZ\", \"KHM\", \"LBN\", \"LBY\", \"LKA\", \"LSO\", \"LTU\", \"MAR\", \"MDG\", \"MEX\", \"MLI\", \"MNG\", \"MOZ\", \"MRT\", \"MTQ\", \"MYS\", \"NAM\", \"NER\", \"NGA\", \"NIC\", \"NLD\", \"NOR\", \"NPL\", \"NZL\", \"PAK\", \"PAN\", \"PER\", \"PHL\", \"PNG\", \"POL\", \"PRT\", \"PRY\", \"QAT\", \"ROU\", \"RWA\", \"SAU\", \"SDN\", \"SEN\", \"SGP\", \"SLV\", \"SOM\", \"SVN\", \"SWE\", \"TCD\", \"TGO\", \"THA\", \"TKM\", \"TTO\", \"TUN\", \"TUR\", \"UGA\", \"UKR\", \"URY\", \"USA\", \"UZB\", \"YEM\", \"ZAF\", \"ZMB\", \"ZWE\"], \"name\": \"\", \"z\": [4242.8099999999995, 7919.549999999998, 821.25, 252.63, 17955.928040000003, 20.49, 268971.8490000001, 23178.000000000004, 2692.98, 7733.039999999999, 1394.3100000000002, 20209.530000000002, 4093.8, 669.1800000000001, 331.08, 906.75, 92705.25599999996, 168.2, 23.459999999999997, 19161.15000000001, 9826.020000000002, 15183.322719999995, 195664.2450000001, 4424.49, 30293.958439999995, 52656.41483999996, 147461.07450000013, 1974.8399999999997, 3610.1820000000007, 33491.40271999998, 5478.599999999998, 4136.599999999999, 5752.619999999998, 1978.0499999999997, 30058.530000000006, 40208.70000000004, 52.85999999999999, 177.18, 8488.773899999997, 22555.07999999999, 3871.4790000000007, 681.3179999999999, 780.42, 7163.777999999998, 4839.455680000002, 19111.035600000003, 3766.5719999999997, 22456.949999999997, 187.74, 87802.09500000007, 394.95000000000005, 251.88000000000002, 6089.969999999998, 230114.6774999999, 124046.80200000004, 353.1, 1912.68, 917.34, 1088.1599999999999, 95.16, 150.51, 42486.02043999999, 2859.1800000000003, 31306.701880000008, 1420.41, 4751.67372, 3040.5600000000004, 103891.82310000004, 151729.08000000016, 3582.6540000000005, 15663.390000000009, 7128.450000000003, 79930.99200000011, 2684.1199999999994, 1586.73, 33649.902, 859.4909999999999, 4390.320000000001, 1431.9600000000003, 4762.53, 1094.64, 3767.94, 703.5000000000001, 3799.0800000000004, 431.09100000000007, 25304.370000000003, 5677.1100000000015, 158784.9037999998, 4376.280000000002, 797.3100000000001, 6945.479999999998, 1512.8999999999999, 1514.9710400000001, 13071.63, 55.35000000000001, 2866.470000000001, 17158.49099999999, 40912.38879999998, 21065.655000000006, 3896.22, 1345.2300000000002, 44741.83199999999, 18084.731999999996, 10880.897879999995, 4031.1571999999996, 42824.01600000001, 2556.813, 14477.28, 8759.04, 415.4, 26.25, 6956.5199999999995, 1184.1000000000001, 10776.3, 2321.4599999999996, 12663.899999999996, 12440.069999999998, 52559.59124000003, 2004.18, 153.42000000000002, 5822.253000000001, 1317.03, 1285.5300000000002, 20540.14529999999, 494.2260000000001, 1243.3570399999999, 989.28, 30338.66399999999, 177.22800000000004, 27961.289999999994, 284.32, 608473.8299999996, 2430.3, 184.92300000000003, 31373.519999999997, 9322.83, 413.50500000000005], \"type\": \"choropleth\"}], \"name\": \"2013\"}, {\"data\": [{\"coloraxis\": \"coloraxis\", \"geo\": \"geo\", \"hoverlabel\": {\"namelength\": 0}, \"hovertemplate\": \"<b>%{hovertext}</b><br><br>Ano=2014<br>Sigla=%{location}<br>Sales=%{z}\", \"hovertext\": [\"Afghanistan\", \"Angola\", \"Albania\", \"United Arab Emirates\", \"Argentina\", \"Australia\", \"Austria\", \"Azerbaijan\", \"Belgium\", \"Benin\", \"Bangladesh\", \"Bulgaria\", \"Bosnia and Herzegovina\", \"Belarus\", \"Brazil\", \"Barbados\", \"Central African Republic\", \"Canada\", \"Switzerland\", \"Chile\", \"China\", \"Cameroon\", \"Colombia\", \"Cuba\", \"Germany\", \"Denmark\", \"Dominican Republic\", \"Algeria\", \"Bolivia\", \"Cote d'Ivoire\", \"Czech Republic\", \"Democratic Republic of the Congo\", \"Iran\", \"Macedonia\", \"Moldova\", \"Myanmar (Burma)\", \"Republic of the Congo\", \"Russia\", \"South Korea\", \"Swaziland\", \"Syria\", \"Taiwan\", \"Tanzania\", \"Venezuela\", \"Vietnam\", \"Ecuador\", \"Egypt\", \"Spain\", \"Estonia\", \"Ethiopia\", \"Finland\", \"France\", \"Gabon\", \"United Kingdom\", \"Georgia\", \"Ghana\", \"Guinea\", \"Guinea-Bissau\", \"Guatemala\", \"Hong Kong\", \"Honduras\", \"Croatia\", \"Haiti\", \"Hungary\", \"Indonesia\", \"India\", \"Ireland\", \"Iraq\", \"Israel\", \"Italy\", \"Jamaica\", \"Jordan\", \"Japan\", \"Kazakhstan\", \"Kenya\", \"Kyrgyzstan\", \"Cambodia\", \"Lebanon\", \"Liberia\", \"Libya\", \"Sri Lanka\", \"Lithuania\", \"Morocco\", \"Madagascar\", \"Mexico\", \"Mali\", \"Montenegro\", \"Mongolia\", \"Mozambique\", \"Mauritania\", \"Martinique\", \"Malaysia\", \"Namibia\", \"Niger\", \"Nigeria\", \"Nicaragua\", \"Netherlands\", \"Norway\", \"Nepal\", \"New Zealand\", \"Pakistan\", \"Panama\", \"Peru\", \"Philippines\", \"Papua New Guinea\", \"Poland\", \"Portugal\", \"Paraguay\", \"Qatar\", \"Romania\", \"Rwanda\", \"Saudi Arabia\", \"Sudan\", \"Senegal\", \"Singapore\", \"Sierra Leone\", \"El Salvador\", \"Somalia\", \"South Sudan\", \"Slovakia\", \"Slovenia\", \"Sweden\", \"Togo\", \"Thailand\", \"Tajikistan\", \"Turkmenistan\", \"Trinidad and Tobago\", \"Tunisia\", \"Turkey\", \"Uganda\", \"Ukraine\", \"Uruguay\", \"United States\", \"Uzbekistan\", \"Yemen\", \"South Africa\", \"Zambia\", \"Zimbabwe\"], \"locations\": [\"AFG\", \"AGO\", \"ALB\", \"ARE\", \"ARG\", \"AUS\", \"AUT\", \"AZE\", \"BEL\", \"BEN\", \"BGD\", \"BGR\", \"BIH\", \"BLR\", \"BRA\", \"BRB\", \"CAF\", \"CAN\", \"CHE\", \"CHL\", \"CHN\", \"CMR\", \"COL\", \"CUB\", \"DEU\", \"DNK\", \"DOM\", \"DZA\", \"Desconhecido\", \"Desconhecido\", \"Desconhecido\", \"Desconhecido\", \"Desconhecido\", \"Desconhecido\", \"Desconhecido\", \"Desconhecido\", \"Desconhecido\", \"Desconhecido\", \"Desconhecido\", \"Desconhecido\", \"Desconhecido\", \"Desconhecido\", \"Desconhecido\", \"Desconhecido\", \"Desconhecido\", \"ECU\", \"EGY\", \"ESP\", \"EST\", \"ETH\", \"FIN\", \"FRA\", \"GAB\", \"GBR\", \"GEO\", \"GHA\", \"GIN\", \"GNB\", \"GTM\", \"HKG\", \"HND\", \"HRV\", \"HTI\", \"HUN\", \"IDN\", \"IND\", \"IRL\", \"IRQ\", \"ISR\", \"ITA\", \"JAM\", \"JOR\", \"JPN\", \"KAZ\", \"KEN\", \"KGZ\", \"KHM\", \"LBN\", \"LBR\", \"LBY\", \"LKA\", \"LTU\", \"MAR\", \"MDG\", \"MEX\", \"MLI\", \"MNE\", \"MNG\", \"MOZ\", \"MRT\", \"MTQ\", \"MYS\", \"NAM\", \"NER\", \"NGA\", \"NIC\", \"NLD\", \"NOR\", \"NPL\", \"NZL\", \"PAK\", \"PAN\", \"PER\", \"PHL\", \"PNG\", \"POL\", \"PRT\", \"PRY\", \"QAT\", \"ROU\", \"RWA\", \"SAU\", \"SDN\", \"SEN\", \"SGP\", \"SLE\", \"SLV\", \"SOM\", \"SSD\", \"SVK\", \"SVN\", \"SWE\", \"TGO\", \"THA\", \"TJK\", \"TKM\", \"TTO\", \"TUN\", \"TUR\", \"UGA\", \"UKR\", \"URY\", \"USA\", \"UZB\", \"YEM\", \"ZAF\", \"ZMB\", \"ZWE\"], \"name\": \"\", \"z\": [6629.280000000001, 8044.560000000001, 411.21000000000004, 330.40799999999996, 23779.54512000002, 314733.10199999966, 29521.55999999999, 1655.97, 17326.410000000003, 2021.3999999999999, 22058.069999999992, 4941.75, 928.53, 8856.51, 119772.11331999997, 3751.5956800000004, 1176.4799999999998, 23161.110000000004, 7311.479999999996, 8019.479039999998, 218979.294, 5073.240000000002, 28063.098639999986, 52689.86435999998, 216537.02699999994, 2847.3630000000007, 39316.15704000002, 12784.199999999999, 2098.2999999999997, 10527.749999999998, 5293.380000000001, 26118.45, 38222.90999999999, 145.8, 2324.64, 19177.949099999987, 373.95000000000005, 32483.249999999993, 10332.866999999998, 83.67, 1719.4320000000002, 49.5, 13444.581000000002, 10059.603120000002, 19246.863900000004, 4676.56036, 27718.590000000015, 99107.58899999999, 205.46999999999997, 170.58, 1135.38, 308437.3095000003, 376.14, 194005.04100000008, 1471.9200000000003, 12373.83, 827.3700000000001, 1898.1000000000001, 45553.586880000024, 2637.4199999999996, 25263.378479999985, 2378.2499999999995, 3732.4612800000004, 8478.929999999997, 145334.78099999996, 205031.98499999972, 7221.15, 26020.229999999985, 6535.709999999997, 109688.81999999999, 918.5200000000001, 3814.5, 32561.250000000007, 1785.2400000000011, 5479.200000000003, 1214.07, 8874.209999999997, 517.5299999999999, 2418.8699999999994, 2364.96, 53.04, 3543.3540000000007, 36201.93000000001, 4659.870000000001, 195479.69551999986, 2118.6000000000004, 4004.37, 1587.84, 7966.739999999999, 2491.5299999999993, 2958.999999999999, 22376.670000000002, 2341.32, 1956.3600000000001, 15371.729999999987, 46672.55860000002, 23727.158999999974, 12887.819999999998, 1161.51, 47546.303999999975, 24206.372999999992, 21380.54924000001, 4833.1352, 77278.29449999999, 150.48, 16185.720000000001, 1824.3000000000004, 2095.1675200000004, 4775.849999999999, 13083.150000000007, 2038.7699999999995, 34991.04000000001, 11109.0, 11293.409999999998, 5695.2300000000005, 491.1300000000001, 55173.16871999995, 5191.200000000002, 378.3, 105.71999999999998, 1316.52, 15587.319, 2213.64, 25084.213799999994, 239.76000000000005, 397.4580000000001, 2123.95744, 224.22, 33621.10799999996, 608.787, 28451.670000000013, 8221.444, 733947.0231999967, 4236.03, 448.713, 36264.48000000001, 5398.62, 1440.882], \"type\": \"choropleth\"}], \"name\": \"2014\"}]);\n",
       "                        }).then(function(){\n",
       "                            \n",
       "var gd = document.getElementById('19f9cd5b-6be7-42d4-9b15-090115252b73');\n",
       "var x = new MutationObserver(function (mutations, observer) {{\n",
       "        var display = window.getComputedStyle(gd).display;\n",
       "        if (!display || display === 'none') {{\n",
       "            console.log([gd, 'removed!']);\n",
       "            Plotly.purge(gd);\n",
       "            observer.disconnect();\n",
       "        }}\n",
       "}});\n",
       "\n",
       "// Listen for the removal of the full notebook cells\n",
       "var notebookContainer = gd.closest('#notebook-container');\n",
       "if (notebookContainer) {{\n",
       "    x.observe(notebookContainer, {childList: true});\n",
       "}}\n",
       "\n",
       "// Listen for the clearing of the current output cell\n",
       "var outputEl = gd.closest('.output');\n",
       "if (outputEl) {{\n",
       "    x.observe(outputEl, {childList: true});\n",
       "}}\n",
       "\n",
       "                        })\n",
       "                };\n",
       "                });\n",
       "            </script>\n",
       "        </div>"
      ]
     },
     "metadata": {},
     "output_type": "display_data"
    }
   ],
   "source": [
    "import plotly.express as px\n",
    "fig = px.choropleth(ordersgroup, locations=\"Sigla\", color=\"Sales\", hover_name=\"Country\", \n",
    "                    animation_frame=\"Ano\", range_color=[0,400000],color_continuous_scale='rdylgn')\n",
    "\n",
    "fig.update_layout(\n",
    "    title_text='Vendas por País (em geral de 2011 a 2014)')\n",
    "fig.show()"
   ]
  },
  {
   "cell_type": "code",
   "execution_count": 31,
   "metadata": {
    "slideshow": {
     "slide_type": "skip"
    }
   },
   "outputs": [],
   "source": [
    "df = pd.read_excel('Global Superstore.xls', sheet_name = 0 )\n",
    "dff = df[(df['Category'] == 'Furniture') & (df['Sub-Category'] == 'Chairs')]\n",
    "sales_cat_subcat = df.groupby(['Category', 'Sub-Category'])['Sales'].sum()\n",
    "grouped_data = dict(tuple(sales_cat_subcat.groupby('Category')))"
   ]
  },
  {
   "cell_type": "code",
   "execution_count": 40,
   "metadata": {
    "slideshow": {
     "slide_type": "subslide"
    }
   },
   "outputs": [
    {
     "data": {
      "text/html": [
       "\n",
       "        <script>\n",
       "            function code_toggle_8300245204774993411() {\n",
       "                $('div.cell.code_cell.rendered.selected').next().find('div.input').toggle();\n",
       "            }\n",
       "\n",
       "            $('div.cell.code_cell.rendered.selected').find(\"div.input\").hide();\n",
       "        </script>\n",
       "\n",
       "        <form action=\"javascript:code_toggle_8300245204774993411()\"><input type=\"submit\" value=\"Mostrar / Esconder\"></form>\n",
       "        \n",
       "    "
      ],
      "text/plain": [
       "<IPython.core.display.HTML object>"
      ]
     },
     "execution_count": 40,
     "metadata": {},
     "output_type": "execute_result"
    }
   ],
   "source": [
    "esconder(next)"
   ]
  },
  {
   "cell_type": "code",
   "execution_count": 41,
   "metadata": {},
   "outputs": [
    {
     "data": {
      "text/html": [
       "<div>\n",
       "  <iframe src=\"/app/endpoints/95d68920a8fa4f0fb587b23fc365c959/\" width=800 height=600 frameborder=\"0\"></iframe>\n",
       "  <hr/><a href=\"/app/endpoints/95d68920a8fa4f0fb587b23fc365c959/\" target=\"_new\">Open in new window</a> for /app/endpoints/95d68920a8fa4f0fb587b23fc365c959/\n",
       "</div>"
      ],
      "text/plain": [
       "<jupyter_plotly_dash.dash_wrapper.JupyterDash at 0x22d57588>"
      ]
     },
     "execution_count": 41,
     "metadata": {},
     "output_type": "execute_result"
    }
   ],
   "source": [
    "\n",
    "app = JupyterDash('Trabalho')\n",
    "all_options = grouped_data\n",
    "\n",
    "app.layout = html.Div([\n",
    "    html.H1(\"Sales By Category and Sub-Category\", style={\"textAlign\": \"center\"}),\n",
    "    html.Div([\n",
    "        html.Div([dcc.Dropdown(id='category',\n",
    "            options=[{'label': k, 'value': k} for k in all_options.keys()],\n",
    "            value=list(all_options.keys())[0])], className=\"six columns\",\n",
    "                       style={\"width\": \"40%\", \"float\": \"left\"}),\n",
    "        html.Div([dcc.Dropdown(id='sub_category')], className=\"six columns\", style={\"width\": \"40%\", \"float\": \"right\"}),\n",
    "    ], className=\"row\", style={\"padding\": 5, \"width\": \"60%\", \"margin-left\": \"auto\", \"margin-right\": \"auto\"}),\n",
    "    html.Div(id='output'),\n",
    "    html.Div([\n",
    "        html.Div([dcc.Graph(id='g1')], className=\"six columns\",\n",
    "                       style={\"width\": \"50%\",\"float\": \"left\"}),\n",
    "        html.Div([dcc.Graph(id='g2')], className=\"six columns\", style={\"width\": \"50%\",\"float\": \"right\"}),\n",
    "    ], className=\"row\", style={\"padding\": 2,\"margin-left\": \"auto\", \"margin-right\": \"auto\"})\n",
    "       \n",
    "])\n",
    "\n",
    "\n",
    "@app.callback(\n",
    "    dash.dependencies.Output('sub_category', 'options'),\n",
    "    [dash.dependencies.Input('category', 'value')])\n",
    "def update_output(value):\n",
    "    sub_categ = [{'label': k[1], 'value': k[1]} for k in all_options[value].keys()]\n",
    "    return sub_categ\n",
    "\n",
    "@app.callback(\n",
    "    Output('sub_category', 'value'),\n",
    "    [Input('sub_category', 'options')])\n",
    "\n",
    "def set_category_value(available_options):\n",
    "    return available_options[0]['value']\n",
    "\n",
    "@app.callback(\n",
    "    dash.dependencies.Output('g2', 'figure'),\n",
    "    [dash.dependencies.Input('category', 'value'),\n",
    "     dash.dependencies.Input('sub_category', 'value')])\n",
    "\n",
    "def update_graph2(selected_cat, selected_sub):\n",
    "    dff = df[(df['Category'] == selected_cat) & (df['Sub-Category'] == selected_sub)]\n",
    "    dff['Year'] = pd.to_datetime(dff['Order Date'], format='%d/%m/%Y').dt.year\n",
    "\n",
    "    trace2 = go.Bar(x=dff['Year'], y=dff['Sales'], name=selected_sub.title(), )\n",
    "    \n",
    "    return {\n",
    "        'data': [trace2],\n",
    "        'layout': go.Layout(title=f'Sales by Sub-Category: {selected_sub.title()}',\n",
    "                            colorway=[\"#EF963B\", \"#EF533B\"], hovermode=\"closest\")}\n",
    "\n",
    "@app.callback(\n",
    "    dash.dependencies.Output('g1', 'figure'),\n",
    "    [dash.dependencies.Input('category', 'value'),\n",
    "     dash.dependencies.Input('sub_category', 'value')])\n",
    "def update_graph(selected_cat, selected_sub):\n",
    "    dff = df[(df['Category'] == selected_cat)]\n",
    "    dff['Year'] = pd.to_datetime(dff['Order Date'], format='%d/%m/%Y').dt.year\n",
    "    trace1 = go.Bar(x=dff['Year'], y=dff['Sales'], name=selected_cat.title(), )\n",
    "    #trace1 = go.Scatter(x=dff['Year'], y=dff['Sales'], mode = 'markers')\n",
    "    return {\n",
    "        'data': [trace1],\n",
    "        'layout': go.Layout(title=f'Sales by Category: {selected_cat.title()}',\n",
    "                            colorway=[\"#17A589\", \"#A3E4D7\"], hovermode=\"closest\")}\n",
    "\n",
    "app\n"
   ]
  },
  {
   "cell_type": "code",
   "execution_count": null,
   "metadata": {},
   "outputs": [],
   "source": []
  }
 ],
 "metadata": {
  "celltoolbar": "Slideshow",
  "kernelspec": {
   "display_name": "Python 3",
   "language": "python",
   "name": "python3"
  },
  "language_info": {
   "codemirror_mode": {
    "name": "ipython",
    "version": 3
   },
   "file_extension": ".py",
   "mimetype": "text/x-python",
   "name": "python",
   "nbconvert_exporter": "python",
   "pygments_lexer": "ipython3",
   "version": "3.7.3"
  }
 },
 "nbformat": 4,
 "nbformat_minor": 2
}
